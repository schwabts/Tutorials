{
 "cells": [
  {
   "cell_type": "markdown",
   "id": "66ee1345",
   "metadata": {},
   "source": [
    "# [Pandas cheat sheet](https://morphocode.com/pandas-cheat-sheet/)"
   ]
  },
  {
   "cell_type": "markdown",
   "id": "41628ddc",
   "metadata": {},
   "source": [
    "Data can be messy: it often comes from various sources, doesn’t have structure or contains errors and missing fields. Working with data requires to clean, refine and filter the dataset before making use of it.\n",
    "\n",
    "[Pandas](http://pandas.pydata.org/) is one of the most popular tools to perform such data transformations. It is an open source library for Python offering a simple way to aggregate, filter and analyze data. The library is often used together with Jupyter notebooks to empower data exploration in various research and data visualization projects.\n",
    "\n",
    "Pandas introduces the concept of a [DataFrame](http://pandas.pydata.org/pandas-docs/stable/dsintro.html)\n",
    " – a table-like data structure similar to a spreadsheet. You can import data in a data frame, join frames together, filter rows and columns and export the results in various file formats. Here is a pandas cheat sheet of the most common data operations:"
   ]
  },
  {
   "cell_type": "markdown",
   "id": "f39b380d",
   "metadata": {},
   "source": [
    "# Getting Started"
   ]
  },
  {
   "cell_type": "markdown",
   "id": "a9467b45",
   "metadata": {},
   "source": [
    "Import Pandas & Numpy"
   ]
  },
  {
   "cell_type": "code",
   "execution_count": 1,
   "id": "0a444903",
   "metadata": {},
   "outputs": [],
   "source": [
    "import numpy as np\n",
    "import pandas as pd"
   ]
  },
  {
   "cell_type": "code",
   "execution_count": 14,
   "id": "46389b94",
   "metadata": {},
   "outputs": [
    {
     "name": "stdout",
     "output_type": "stream",
     "text": [
      "df.size== 750 , df.shape:  (150, 5)\n"
     ]
    },
    {
     "data": {
      "text/html": [
       "<div>\n",
       "<style scoped>\n",
       "    .dataframe tbody tr th:only-of-type {\n",
       "        vertical-align: middle;\n",
       "    }\n",
       "\n",
       "    .dataframe tbody tr th {\n",
       "        vertical-align: top;\n",
       "    }\n",
       "\n",
       "    .dataframe thead th {\n",
       "        text-align: right;\n",
       "    }\n",
       "</style>\n",
       "<table border=\"1\" class=\"dataframe\">\n",
       "  <thead>\n",
       "    <tr style=\"text-align: right;\">\n",
       "      <th></th>\n",
       "      <th>sepal_length</th>\n",
       "      <th>sepal_width</th>\n",
       "      <th>petal_length</th>\n",
       "      <th>petal_width</th>\n",
       "      <th>species</th>\n",
       "    </tr>\n",
       "  </thead>\n",
       "  <tbody>\n",
       "    <tr>\n",
       "      <th>0</th>\n",
       "      <td>5.1</td>\n",
       "      <td>3.5</td>\n",
       "      <td>1.4</td>\n",
       "      <td>0.2</td>\n",
       "      <td>setosa</td>\n",
       "    </tr>\n",
       "    <tr>\n",
       "      <th>1</th>\n",
       "      <td>4.9</td>\n",
       "      <td>3.0</td>\n",
       "      <td>1.4</td>\n",
       "      <td>0.2</td>\n",
       "      <td>setosa</td>\n",
       "    </tr>\n",
       "    <tr>\n",
       "      <th>2</th>\n",
       "      <td>4.7</td>\n",
       "      <td>3.2</td>\n",
       "      <td>1.3</td>\n",
       "      <td>0.2</td>\n",
       "      <td>setosa</td>\n",
       "    </tr>\n",
       "    <tr>\n",
       "      <th>3</th>\n",
       "      <td>4.6</td>\n",
       "      <td>3.1</td>\n",
       "      <td>1.5</td>\n",
       "      <td>0.2</td>\n",
       "      <td>setosa</td>\n",
       "    </tr>\n",
       "    <tr>\n",
       "      <th>4</th>\n",
       "      <td>5.0</td>\n",
       "      <td>3.6</td>\n",
       "      <td>1.4</td>\n",
       "      <td>0.2</td>\n",
       "      <td>setosa</td>\n",
       "    </tr>\n",
       "  </tbody>\n",
       "</table>\n",
       "</div>"
      ],
      "text/plain": [
       "   sepal_length  sepal_width  petal_length  petal_width species\n",
       "0           5.1          3.5           1.4          0.2  setosa\n",
       "1           4.9          3.0           1.4          0.2  setosa\n",
       "2           4.7          3.2           1.3          0.2  setosa\n",
       "3           4.6          3.1           1.5          0.2  setosa\n",
       "4           5.0          3.6           1.4          0.2  setosa"
      ]
     },
     "execution_count": 14,
     "metadata": {},
     "output_type": "execute_result"
    }
   ],
   "source": [
    "import seaborn as sns\n",
    "\n",
    "df = sns.load_dataset('iris')\n",
    "print(\"df.size==\",df.size,\", df.shape: \",df.shape)\n",
    "df.head()"
   ]
  },
  {
   "cell_type": "markdown",
   "id": "931fa7ec",
   "metadata": {},
   "source": [
    "Get the first 5 rows in a dataframe:"
   ]
  },
  {
   "cell_type": "code",
   "execution_count": 6,
   "id": "215e6f48",
   "metadata": {},
   "outputs": [
    {
     "data": {
      "text/html": [
       "<div>\n",
       "<style scoped>\n",
       "    .dataframe tbody tr th:only-of-type {\n",
       "        vertical-align: middle;\n",
       "    }\n",
       "\n",
       "    .dataframe tbody tr th {\n",
       "        vertical-align: top;\n",
       "    }\n",
       "\n",
       "    .dataframe thead th {\n",
       "        text-align: right;\n",
       "    }\n",
       "</style>\n",
       "<table border=\"1\" class=\"dataframe\">\n",
       "  <thead>\n",
       "    <tr style=\"text-align: right;\">\n",
       "      <th></th>\n",
       "      <th>sepal_length</th>\n",
       "      <th>sepal_width</th>\n",
       "      <th>petal_length</th>\n",
       "      <th>petal_width</th>\n",
       "      <th>species</th>\n",
       "    </tr>\n",
       "  </thead>\n",
       "  <tbody>\n",
       "    <tr>\n",
       "      <th>0</th>\n",
       "      <td>5.1</td>\n",
       "      <td>3.5</td>\n",
       "      <td>1.4</td>\n",
       "      <td>0.2</td>\n",
       "      <td>setosa</td>\n",
       "    </tr>\n",
       "    <tr>\n",
       "      <th>1</th>\n",
       "      <td>4.9</td>\n",
       "      <td>3.0</td>\n",
       "      <td>1.4</td>\n",
       "      <td>0.2</td>\n",
       "      <td>setosa</td>\n",
       "    </tr>\n",
       "    <tr>\n",
       "      <th>2</th>\n",
       "      <td>4.7</td>\n",
       "      <td>3.2</td>\n",
       "      <td>1.3</td>\n",
       "      <td>0.2</td>\n",
       "      <td>setosa</td>\n",
       "    </tr>\n",
       "  </tbody>\n",
       "</table>\n",
       "</div>"
      ],
      "text/plain": [
       "   sepal_length  sepal_width  petal_length  petal_width species\n",
       "0           5.1          3.5           1.4          0.2  setosa\n",
       "1           4.9          3.0           1.4          0.2  setosa\n",
       "2           4.7          3.2           1.3          0.2  setosa"
      ]
     },
     "execution_count": 6,
     "metadata": {},
     "output_type": "execute_result"
    }
   ],
   "source": [
    "df.head(3)"
   ]
  },
  {
   "cell_type": "markdown",
   "id": "92ab596b",
   "metadata": {},
   "source": [
    "Get the last 5 rows in a dataframe:"
   ]
  },
  {
   "cell_type": "code",
   "execution_count": 7,
   "id": "8e60a8ae",
   "metadata": {},
   "outputs": [
    {
     "data": {
      "text/html": [
       "<div>\n",
       "<style scoped>\n",
       "    .dataframe tbody tr th:only-of-type {\n",
       "        vertical-align: middle;\n",
       "    }\n",
       "\n",
       "    .dataframe tbody tr th {\n",
       "        vertical-align: top;\n",
       "    }\n",
       "\n",
       "    .dataframe thead th {\n",
       "        text-align: right;\n",
       "    }\n",
       "</style>\n",
       "<table border=\"1\" class=\"dataframe\">\n",
       "  <thead>\n",
       "    <tr style=\"text-align: right;\">\n",
       "      <th></th>\n",
       "      <th>sepal_length</th>\n",
       "      <th>sepal_width</th>\n",
       "      <th>petal_length</th>\n",
       "      <th>petal_width</th>\n",
       "      <th>species</th>\n",
       "    </tr>\n",
       "  </thead>\n",
       "  <tbody>\n",
       "    <tr>\n",
       "      <th>145</th>\n",
       "      <td>6.7</td>\n",
       "      <td>3.0</td>\n",
       "      <td>5.2</td>\n",
       "      <td>2.3</td>\n",
       "      <td>virginica</td>\n",
       "    </tr>\n",
       "    <tr>\n",
       "      <th>146</th>\n",
       "      <td>6.3</td>\n",
       "      <td>2.5</td>\n",
       "      <td>5.0</td>\n",
       "      <td>1.9</td>\n",
       "      <td>virginica</td>\n",
       "    </tr>\n",
       "    <tr>\n",
       "      <th>147</th>\n",
       "      <td>6.5</td>\n",
       "      <td>3.0</td>\n",
       "      <td>5.2</td>\n",
       "      <td>2.0</td>\n",
       "      <td>virginica</td>\n",
       "    </tr>\n",
       "    <tr>\n",
       "      <th>148</th>\n",
       "      <td>6.2</td>\n",
       "      <td>3.4</td>\n",
       "      <td>5.4</td>\n",
       "      <td>2.3</td>\n",
       "      <td>virginica</td>\n",
       "    </tr>\n",
       "    <tr>\n",
       "      <th>149</th>\n",
       "      <td>5.9</td>\n",
       "      <td>3.0</td>\n",
       "      <td>5.1</td>\n",
       "      <td>1.8</td>\n",
       "      <td>virginica</td>\n",
       "    </tr>\n",
       "  </tbody>\n",
       "</table>\n",
       "</div>"
      ],
      "text/plain": [
       "     sepal_length  sepal_width  petal_length  petal_width    species\n",
       "145           6.7          3.0           5.2          2.3  virginica\n",
       "146           6.3          2.5           5.0          1.9  virginica\n",
       "147           6.5          3.0           5.2          2.0  virginica\n",
       "148           6.2          3.4           5.4          2.3  virginica\n",
       "149           5.9          3.0           5.1          1.8  virginica"
      ]
     },
     "execution_count": 7,
     "metadata": {},
     "output_type": "execute_result"
    }
   ],
   "source": [
    "df.tail(5)"
   ]
  },
  {
   "cell_type": "markdown",
   "id": "e214739a",
   "metadata": {},
   "source": [
    "# Create DataFrame from columns (in dictionary):"
   ]
  },
  {
   "cell_type": "code",
   "execution_count": 19,
   "id": "6d79fb93",
   "metadata": {},
   "outputs": [
    {
     "data": {
      "text/html": [
       "<div>\n",
       "<style scoped>\n",
       "    .dataframe tbody tr th:only-of-type {\n",
       "        vertical-align: middle;\n",
       "    }\n",
       "\n",
       "    .dataframe tbody tr th {\n",
       "        vertical-align: top;\n",
       "    }\n",
       "\n",
       "    .dataframe thead th {\n",
       "        text-align: right;\n",
       "    }\n",
       "</style>\n",
       "<table border=\"1\" class=\"dataframe\">\n",
       "  <thead>\n",
       "    <tr style=\"text-align: right;\">\n",
       "      <th></th>\n",
       "      <th>company</th>\n",
       "      <th>metrics</th>\n",
       "    </tr>\n",
       "  </thead>\n",
       "  <tbody>\n",
       "    <tr>\n",
       "      <th>0</th>\n",
       "      <td>Pandology</td>\n",
       "      <td>[{'score': 10}, {'score': 20}, {'score': 35}]</td>\n",
       "    </tr>\n",
       "  </tbody>\n",
       "</table>\n",
       "</div>"
      ],
      "text/plain": [
       "     company                                        metrics\n",
       "0  Pandology  [{'score': 10}, {'score': 20}, {'score': 35}]"
      ]
     },
     "execution_count": 19,
     "metadata": {},
     "output_type": "execute_result"
    }
   ],
   "source": [
    "df = pd.DataFrame.from_dict({\n",
    "    'company': 'Pandology', \n",
    "    'metrics': [[{'score': 10}, {'score': 20}, {'score': 35}]]\n",
    "})\n",
    "df"
   ]
  },
  {
   "cell_type": "markdown",
   "id": "5a043b4a",
   "metadata": {},
   "source": [
    "# Export Data"
   ]
  },
  {
   "cell_type": "markdown",
   "id": "96081181",
   "metadata": {},
   "source": [
    "Export as an Excel Spreadsheet:"
   ]
  },
  {
   "cell_type": "code",
   "execution_count": null,
   "id": "ff7989af",
   "metadata": {},
   "outputs": [],
   "source": [
    "df[['name_company', 'name_candidate']].to_excel('./output/companies.xls')"
   ]
  },
  {
   "cell_type": "markdown",
   "id": "eb566ecb",
   "metadata": {},
   "source": [
    "Export to a CSV file:"
   ]
  },
  {
   "cell_type": "code",
   "execution_count": null,
   "id": "0a8c1531",
   "metadata": {},
   "outputs": [],
   "source": [
    "df.to_csv('data-output/my-data.csv')"
   ]
  },
  {
   "cell_type": "markdown",
   "id": "c44da451",
   "metadata": {},
   "source": [
    "Export created DataFrame to a CSV file (just for importing it below):"
   ]
  },
  {
   "cell_type": "code",
   "execution_count": 30,
   "id": "5ce5a919",
   "metadata": {
    "scrolled": true
   },
   "outputs": [
    {
     "name": "stdout",
     "output_type": "stream",
     "text": [
      "df.to_csv('my-data.csv'):\n"
     ]
    }
   ],
   "source": [
    "file_name='my-data.csv'\n",
    "\n",
    "print(\"df.to_csv('{}'):\".format(file_name))\n",
    "df.to_csv(file_name) # , sep='\\t')"
   ]
  },
  {
   "cell_type": "markdown",
   "id": "89017213",
   "metadata": {},
   "source": [
    "# Import Data"
   ]
  },
  {
   "cell_type": "markdown",
   "id": "eb689da3",
   "metadata": {},
   "source": [
    "Import data from a CSV file:"
   ]
  },
  {
   "cell_type": "code",
   "execution_count": 29,
   "id": "1fe74f53",
   "metadata": {},
   "outputs": [
    {
     "data": {
      "text/html": [
       "<div>\n",
       "<style scoped>\n",
       "    .dataframe tbody tr th:only-of-type {\n",
       "        vertical-align: middle;\n",
       "    }\n",
       "\n",
       "    .dataframe tbody tr th {\n",
       "        vertical-align: top;\n",
       "    }\n",
       "\n",
       "    .dataframe thead th {\n",
       "        text-align: right;\n",
       "    }\n",
       "</style>\n",
       "<table border=\"1\" class=\"dataframe\">\n",
       "  <thead>\n",
       "    <tr style=\"text-align: right;\">\n",
       "      <th></th>\n",
       "      <th>Unnamed: 0</th>\n",
       "      <th>company</th>\n",
       "      <th>metrics</th>\n",
       "    </tr>\n",
       "  </thead>\n",
       "  <tbody>\n",
       "    <tr>\n",
       "      <th>0</th>\n",
       "      <td>0</td>\n",
       "      <td>Pandology</td>\n",
       "      <td>[{'score': 10}, {'score': 20}, {'score': 35}]</td>\n",
       "    </tr>\n",
       "  </tbody>\n",
       "</table>\n",
       "</div>"
      ],
      "text/plain": [
       "   Unnamed: 0    company                                        metrics\n",
       "0           0  Pandology  [{'score': 10}, {'score': 20}, {'score': 35}]"
      ]
     },
     "execution_count": 29,
     "metadata": {},
     "output_type": "execute_result"
    }
   ],
   "source": [
    "other_df = pd.read_csv(file_name)\n",
    "other_df"
   ]
  },
  {
   "cell_type": "markdown",
   "id": "c07bcfb5",
   "metadata": {},
   "source": [
    "Import data from an Excel Spreadsheet:"
   ]
  },
  {
   "cell_type": "code",
   "execution_count": null,
   "id": "bcccb441",
   "metadata": {},
   "outputs": [],
   "source": [
    "df_excel = pd.read_excel('./data/spreadsheet.xls',\n",
    "    sheetname='sheet1',\n",
    "    skiprows=[1] # header data\n",
    ")"
   ]
  },
  {
   "cell_type": "markdown",
   "id": "ec36d1ca",
   "metadata": {},
   "source": [
    "Import data from an Excel Spreadsheet without the header:"
   ]
  },
  {
   "cell_type": "code",
   "execution_count": null,
   "id": "19c48fa0",
   "metadata": {},
   "outputs": [],
   "source": [
    "df_names = pd.read_excel('./data/names_all.xls', header=None)"
   ]
  },
  {
   "cell_type": "markdown",
   "id": "47388dcb",
   "metadata": {},
   "source": [
    "# Convert Data Types"
   ]
  },
  {
   "cell_type": "markdown",
   "id": "00e380fb",
   "metadata": {},
   "source": [
    "Convert column data to string:"
   ]
  },
  {
   "cell_type": "code",
   "execution_count": null,
   "id": "68943a99",
   "metadata": {},
   "outputs": [],
   "source": [
    "df['name'] = df['name'].astype('str')"
   ]
  },
  {
   "cell_type": "markdown",
   "id": "12c89304",
   "metadata": {},
   "source": [
    "Convert column data to integer (nan values are set to -1):"
   ]
  },
  {
   "cell_type": "code",
   "execution_count": null,
   "id": "e51df968",
   "metadata": {},
   "outputs": [],
   "source": [
    "df['col'] = df['col'].fillna(-1).astype(int)"
   ]
  },
  {
   "cell_type": "markdown",
   "id": "830db4b2",
   "metadata": {},
   "source": [
    "Convert column data to numeric type:"
   ]
  },
  {
   "cell_type": "code",
   "execution_count": null,
   "id": "690e5a39",
   "metadata": {},
   "outputs": [],
   "source": [
    "df['col'] = pd.to_numeric(df['col'])"
   ]
  },
  {
   "cell_type": "markdown",
   "id": "940da243",
   "metadata": {},
   "source": [
    "# Get / Set Values"
   ]
  },
  {
   "cell_type": "markdown",
   "id": "aea92c82",
   "metadata": {},
   "source": [
    "Get the value of a column on a row with index $idx$:"
   ]
  },
  {
   "cell_type": "code",
   "execution_count": null,
   "id": "69264e37",
   "metadata": {},
   "outputs": [],
   "source": [
    "df.get_value(idx, 'col_name')"
   ]
  },
  {
   "cell_type": "markdown",
   "id": "d929fe99",
   "metadata": {},
   "source": [
    "Set column value on a given row:"
   ]
  },
  {
   "cell_type": "code",
   "execution_count": null,
   "id": "0b0b548a",
   "metadata": {},
   "outputs": [],
   "source": [
    "idx = df[df['address'] == '4th Avenue'].index\n",
    "df.set_value(idx, 'id', '502')"
   ]
  },
  {
   "cell_type": "markdown",
   "id": "35bc09d2",
   "metadata": {},
   "source": [
    "# Count\n"
   ]
  },
  {
   "cell_type": "markdown",
   "id": "42d14d11",
   "metadata": {},
   "source": [
    "Number of rows in a DataFrame:"
   ]
  },
  {
   "cell_type": "code",
   "execution_count": null,
   "id": "278b4a3d",
   "metadata": {},
   "outputs": [],
   "source": [
    "len(df)"
   ]
  },
  {
   "cell_type": "markdown",
   "id": "efe511b4",
   "metadata": {},
   "source": [
    "Count rows where column is equal to a value:"
   ]
  },
  {
   "cell_type": "code",
   "execution_count": null,
   "id": "ebf22d8d",
   "metadata": {},
   "outputs": [],
   "source": [
    "len(df[df['score'] == 1.0])"
   ]
  },
  {
   "cell_type": "markdown",
   "id": "ebeafb88",
   "metadata": {},
   "source": [
    "Count unique values in a column:"
   ]
  },
  {
   "cell_type": "code",
   "execution_count": null,
   "id": "0966a680",
   "metadata": {},
   "outputs": [],
   "source": [
    "df['name'].nunique()"
   ]
  },
  {
   "cell_type": "markdown",
   "id": "f09da02a",
   "metadata": {},
   "source": [
    "Count rows based on a value:"
   ]
  },
  {
   "cell_type": "code",
   "execution_count": null,
   "id": "42481de5",
   "metadata": {},
   "outputs": [],
   "source": [
    "df['is_removed'].value_counts()\n",
    "\n",
    "# Count null values as well:\n",
    "df['is_removed'].value_counts(dropna=False)"
   ]
  },
  {
   "cell_type": "markdown",
   "id": "0758d4dd",
   "metadata": {},
   "source": [
    "# Filter Data"
   ]
  },
  {
   "cell_type": "markdown",
   "id": "f1b9de7d",
   "metadata": {},
   "source": [
    "Filter rows based on a value:\n"
   ]
  },
  {
   "cell_type": "code",
   "execution_count": null,
   "id": "ab46c32a",
   "metadata": {},
   "outputs": [],
   "source": [
    "df[df['id'] == '48']"
   ]
  },
  {
   "cell_type": "markdown",
   "id": "463eb9eb",
   "metadata": {},
   "source": [
    "Filter rows based on multiple values:"
   ]
  },
  {
   "cell_type": "code",
   "execution_count": null,
   "id": "e76f15b4",
   "metadata": {},
   "outputs": [],
   "source": [
    "df[(df['category'] == 'national') & (df['is_removed'] == '1')]"
   ]
  },
  {
   "cell_type": "markdown",
   "id": "ec6f071b",
   "metadata": {},
   "source": [
    "Filter rows that contain a string:"
   ]
  },
  {
   "cell_type": "code",
   "execution_count": null,
   "id": "501be9c8",
   "metadata": {},
   "outputs": [],
   "source": [
    "df[df['category'].str.contains('national')]"
   ]
  },
  {
   "cell_type": "markdown",
   "id": "18b48ca5",
   "metadata": {},
   "source": [
    "Filter rows containing some of the strings:"
   ]
  },
  {
   "cell_type": "code",
   "execution_count": null,
   "id": "31e5d39a",
   "metadata": {},
   "outputs": [],
   "source": [
    "df['address'].str.contains('|'.join(['4th Avenue', 'Broadway']))"
   ]
  },
  {
   "cell_type": "markdown",
   "id": "e7e39da2",
   "metadata": {},
   "source": [
    "Filter rows where value is in a list:"
   ]
  },
  {
   "cell_type": "code",
   "execution_count": null,
   "id": "71ac3730",
   "metadata": {},
   "outputs": [],
   "source": [
    "df[df['id'].isin(['109', '673'])]"
   ]
  },
  {
   "cell_type": "markdown",
   "id": "004c7115",
   "metadata": {},
   "source": [
    "Filter rows where value is **_not_** in a list:"
   ]
  },
  {
   "cell_type": "code",
   "execution_count": null,
   "id": "4d2149e0",
   "metadata": {},
   "outputs": [],
   "source": [
    "df = df[~df['id'].isin(['1', '2', '3'])]"
   ]
  },
  {
   "cell_type": "markdown",
   "id": "58581ab9",
   "metadata": {},
   "source": [
    "Filter all rows that have valid values (not null):"
   ]
  },
  {
   "cell_type": "code",
   "execution_count": null,
   "id": "bb73d67e",
   "metadata": {},
   "outputs": [],
   "source": [
    "df = df[pd.notnull(df['latitude'])]"
   ]
  },
  {
   "cell_type": "markdown",
   "id": "f5b03d17",
   "metadata": {},
   "source": [
    "# Sort Data"
   ]
  },
  {
   "cell_type": "markdown",
   "id": "f70e6d32",
   "metadata": {},
   "source": [
    "Sort rows by value:"
   ]
  },
  {
   "cell_type": "code",
   "execution_count": null,
   "id": "bb5e343c",
   "metadata": {},
   "outputs": [],
   "source": [
    "df.sort_values('nom', inplace=True)"
   ]
  },
  {
   "cell_type": "markdown",
   "id": "9e66e127",
   "metadata": {},
   "source": [
    "Sort Columns By Name:"
   ]
  },
  {
   "cell_type": "code",
   "execution_count": null,
   "id": "989baf4c",
   "metadata": {},
   "outputs": [],
   "source": [
    "df = df.reindex_axis(sorted(df.columns), axis=1)"
   ]
  },
  {
   "cell_type": "markdown",
   "id": "b5e828a7",
   "metadata": {},
   "source": [
    "# Rename columns"
   ]
  },
  {
   "cell_type": "markdown",
   "id": "ca44bee9",
   "metadata": {},
   "source": [
    "Rename particular columns:"
   ]
  },
  {
   "cell_type": "code",
   "execution_count": null,
   "id": "6867be24",
   "metadata": {},
   "outputs": [],
   "source": [
    "df.rename(columns={'id': 'id_new', 'object': 'object_new'}, inplace=True)"
   ]
  },
  {
   "cell_type": "markdown",
   "id": "299f05cf",
   "metadata": {},
   "source": [
    "Rename all columns:"
   ]
  },
  {
   "cell_type": "code",
   "execution_count": null,
   "id": "a9810acc",
   "metadata": {},
   "outputs": [],
   "source": [
    "df.columns = ['id', 'object', 'address', 'type', 'category']"
   ]
  },
  {
   "cell_type": "markdown",
   "id": "d12b6cf0",
   "metadata": {},
   "source": [
    "Make all columns lowercase:"
   ]
  },
  {
   "cell_type": "code",
   "execution_count": null,
   "id": "a25ff794",
   "metadata": {},
   "outputs": [],
   "source": [
    "df.columns = map(str.lower, df.columns)"
   ]
  },
  {
   "cell_type": "markdown",
   "id": "66548165",
   "metadata": {},
   "source": [
    "# Drop data"
   ]
  },
  {
   "cell_type": "markdown",
   "id": "e4b7049a",
   "metadata": {},
   "source": [
    "Drop column named $col$"
   ]
  },
  {
   "cell_type": "code",
   "execution_count": null,
   "id": "ddb17607",
   "metadata": {},
   "outputs": [],
   "source": [
    "df = df.drop('col', axis=1)"
   ]
  },
  {
   "cell_type": "markdown",
   "id": "36e7864f",
   "metadata": {},
   "source": [
    "Drop all rows with *null* index:"
   ]
  },
  {
   "cell_type": "code",
   "execution_count": null,
   "id": "e6ceff5d",
   "metadata": {},
   "outputs": [],
   "source": [
    "df[pd.notnull(df.index)]"
   ]
  },
  {
   "cell_type": "markdown",
   "id": "df7d64bc",
   "metadata": {},
   "source": [
    "Drop rows that have missing values in some columns:"
   ]
  },
  {
   "cell_type": "code",
   "execution_count": null,
   "id": "4ffe4d20",
   "metadata": {},
   "outputs": [],
   "source": [
    "df.dropna(subset=['plsnkv', 'plsnnum'])"
   ]
  },
  {
   "cell_type": "markdown",
   "id": "abf10ef7",
   "metadata": {},
   "source": [
    "Drop duplicate rows:"
   ]
  },
  {
   "cell_type": "code",
   "execution_count": null,
   "id": "45c51fe2",
   "metadata": {},
   "outputs": [],
   "source": [
    "df = df.drop_duplicates(subset='id', keep='first')"
   ]
  },
  {
   "cell_type": "markdown",
   "id": "60f38967",
   "metadata": {},
   "source": [
    "# Create columns"
   ]
  },
  {
   "cell_type": "markdown",
   "id": "3b02b50c",
   "metadata": {},
   "source": [
    "Create a new column based on row data:"
   ]
  },
  {
   "cell_type": "code",
   "execution_count": null,
   "id": "775b2ad6",
   "metadata": {},
   "outputs": [],
   "source": [
    "def cad_id(row):    \n",
    "    return row['region'] + '.' + row['lot'] + '.' + row['building']\n",
    "      \n",
    "df['cad_id'] = df.apply(cad_id, axis=1)"
   ]
  },
  {
   "cell_type": "markdown",
   "id": "b2d504b8",
   "metadata": {},
   "source": [
    "Create a new column based on another column:"
   ]
  },
  {
   "cell_type": "code",
   "execution_count": null,
   "id": "c134607f",
   "metadata": {},
   "outputs": [],
   "source": [
    "df['is_removed'] = df['object'].map(lambda x: 1 if 'removed' in x else 0)"
   ]
  },
  {
   "cell_type": "markdown",
   "id": "9508f5f3",
   "metadata": {},
   "source": [
    "Create multiple new columns based on row data:"
   ]
  },
  {
   "cell_type": "code",
   "execution_count": null,
   "id": "79746507",
   "metadata": {},
   "outputs": [],
   "source": [
    "def geocode(row):\n",
    "    address = api_geocode(street=row['street'], house_number=row['building'], zip_code=row['zip'])   \n",
    "    return pd.Series([address.get('lat'), address.get('lon'), address.get('borough')])\n",
    "     \n",
    "df[['lat', 'lon', 'borough']] = df.apply(geocode, axis=1)"
   ]
  },
  {
   "cell_type": "markdown",
   "id": "5054baef",
   "metadata": {},
   "source": [
    "Match id to label:"
   ]
  },
  {
   "cell_type": "code",
   "execution_count": null,
   "id": "e7714030",
   "metadata": {},
   "outputs": [],
   "source": [
    "def zone_label(zone_id):\n",
    "    return {\n",
    "        'C': 'City Center',\n",
    "        'S': 'Suburbs',       \n",
    "        'R': 'Residential District'\n",
    "    }.get(zone_id, zone_id)   \n",
    "df['zone_label'] = df['zone_id'].map(zone_label)"
   ]
  },
  {
   "cell_type": "markdown",
   "id": "cd3dcc19",
   "metadata": {},
   "source": [
    "# Data Joins"
   ]
  },
  {
   "cell_type": "markdown",
   "id": "a6e767de",
   "metadata": {},
   "source": [
    "Join data frames by columns:"
   ]
  },
  {
   "cell_type": "code",
   "execution_count": null,
   "id": "84bb4afa",
   "metadata": {},
   "outputs": [],
   "source": [
    "df_lots.merge(df_buildings, on=['lot_id', 'mun_id'], suffixes=('_lot', '_building'))"
   ]
  },
  {
   "cell_type": "markdown",
   "id": "02af62aa",
   "metadata": {},
   "source": [
    "Concatenate two data frames (one after the other):"
   ]
  },
  {
   "cell_type": "code",
   "execution_count": null,
   "id": "0bf01a71",
   "metadata": {},
   "outputs": [],
   "source": [
    "df_all = pd.concat([df_first, df_second])"
   ]
  },
  {
   "cell_type": "markdown",
   "id": "cf506f74",
   "metadata": {},
   "source": [
    "# Utilities"
   ]
  },
  {
   "cell_type": "markdown",
   "id": "285e047e",
   "metadata": {},
   "source": [
    "Increase the number of table rows & columns shown:"
   ]
  },
  {
   "cell_type": "code",
   "execution_count": null,
   "id": "08cdc118",
   "metadata": {},
   "outputs": [],
   "source": [
    "pd.options.display.max_rows = 999 \n",
    "pd.options.display.max_columns = 999"
   ]
  },
  {
   "cell_type": "markdown",
   "id": "a11f4c57",
   "metadata": {},
   "source": [
    "# Learn More"
   ]
  },
  {
   "cell_type": "markdown",
   "id": "aeb57fbb",
   "metadata": {},
   "source": [
    "We are covering data analysis and visualization in our upcoming course\n",
    "[“Data & the City”](http://morphocode.com/academy/).\n",
    "The course will discuss how to collect, store and visualize urban data in a useful way. Subscribe bellow and we’ll notify you when the course becomes available.\n"
   ]
  },
  {
   "cell_type": "code",
   "execution_count": null,
   "id": "d1277a70",
   "metadata": {},
   "outputs": [],
   "source": []
  }
 ],
 "metadata": {
  "kernelspec": {
   "display_name": "Python 3",
   "language": "python",
   "name": "python3"
  },
  "language_info": {
   "codemirror_mode": {
    "name": "ipython",
    "version": 3
   },
   "file_extension": ".py",
   "mimetype": "text/x-python",
   "name": "python",
   "nbconvert_exporter": "python",
   "pygments_lexer": "ipython3",
   "version": "3.8.8"
  }
 },
 "nbformat": 4,
 "nbformat_minor": 5
}
