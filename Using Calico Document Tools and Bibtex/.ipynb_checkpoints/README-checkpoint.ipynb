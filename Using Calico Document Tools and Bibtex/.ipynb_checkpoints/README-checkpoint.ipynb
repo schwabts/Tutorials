{
 "cells": [
  {
   "cell_type": "markdown",
   "id": "a012678b",
   "metadata": {},
   "source": [
    "<!--bibtex\n",
    "\n",
    "@Article{PER-GRA:2007,\n",
    "  Author    = {P\\'erez, Fernando and Granger, Brian E.},\n",
    "  Title     = {{IP}ython: a System for Interactive Scientific Computing},\n",
    "  Journal   = {Computing in Science and Engineering},\n",
    "  Volume    = {9},\n",
    "  Number    = {3},\n",
    "  Pages     = {21--29},\n",
    "  month     = may,\n",
    "  year      = 2007,\n",
    "  url       = \"http://ipython.org\",\n",
    "  ISSN      = \"1521-9615\",\n",
    "  doi       = {10.1109/MCSE.2007.53},\n",
    "  publisher = {IEEE Computer Society},\n",
    "}\n",
    "\n",
    "-->"
   ]
  },
  {
   "cell_type": "markdown",
   "id": "f2542549",
   "metadata": {},
   "source": [
    "# Using Calico Document Tools and Bibtex"
   ]
  },
  {
   "cell_type": "markdown",
   "id": "93786fd6",
   "metadata": {},
   "source": [
    "This document `Usage.ipynb` is **must not be modified**."
   ]
  },
  {
   "cell_type": "markdown",
   "id": "a6957397",
   "metadata": {},
   "source": [
    "## For Testing"
   ]
  },
  {
   "cell_type": "markdown",
   "id": "0ab11d4c",
   "metadata": {},
   "source": [
    "First duplicate this example and modify the duplicate.\n",
    "\n",
    "<img src=\"images/2022-05-15 Testing Calico Document Tools and Bibtex.png\"/>\n",
    "\n",
    "<img src=\"images/2022-05-15 Duplicating.png\"/>\n",
    "\n",
    "<img src=\"images/2022-05-15 Only Test With Duplicate.png\"/>"
   ]
  },
  {
   "cell_type": "markdown",
   "id": "6bd2b35e",
   "metadata": {},
   "source": [
    "## Generating References"
   ]
  },
  {
   "cell_type": "markdown",
   "id": "9ef0060b",
   "metadata": {},
   "source": [
    "Format your citations as links like `[cite](#cite-BIBTEX_LABEL)`, i.e. `[cite](#cite-PER-GRA:2007)` in the following example."
   ]
  },
  {
   "cell_type": "markdown",
   "id": "78c11397",
   "metadata": {},
   "source": [
    "Thus, if you want to cite IPython, then you could use that \n",
    "citation [cite](#cite-PER-GRA:2007)"
   ]
  },
  {
   "cell_type": "markdown",
   "id": "5361c852",
   "metadata": {},
   "source": [
    "Prepared like this simply click on the button:\n",
    "\n",
    "<img src=\"images/2022-05-15 Generating References.png\"/>"
   ]
  },
  {
   "cell_type": "code",
   "execution_count": null,
   "id": "311d876a",
   "metadata": {},
   "outputs": [],
   "source": []
  }
 ],
 "metadata": {
  "kernelspec": {
   "display_name": "Python 3",
   "language": "python",
   "name": "python3"
  },
  "language_info": {
   "codemirror_mode": {
    "name": "ipython",
    "version": 3
   },
   "file_extension": ".py",
   "mimetype": "text/x-python",
   "name": "python",
   "nbconvert_exporter": "python",
   "pygments_lexer": "ipython3",
   "version": "3.8.8"
  },
  "toc": {
   "base_numbering": 1,
   "nav_menu": {},
   "number_sections": true,
   "sideBar": true,
   "skip_h1_title": true,
   "title_cell": "Table of Contents",
   "title_sidebar": "Contents",
   "toc_cell": false,
   "toc_position": {},
   "toc_section_display": true,
   "toc_window_display": true
  },
  "varInspector": {
   "cols": {
    "lenName": 16,
    "lenType": 16,
    "lenVar": 40
   },
   "kernels_config": {
    "python": {
     "delete_cmd_postfix": "",
     "delete_cmd_prefix": "del ",
     "library": "var_list.py",
     "varRefreshCmd": "print(var_dic_list())"
    },
    "r": {
     "delete_cmd_postfix": ") ",
     "delete_cmd_prefix": "rm(",
     "library": "var_list.r",
     "varRefreshCmd": "cat(var_dic_list()) "
    }
   },
   "types_to_exclude": [
    "module",
    "function",
    "builtin_function_or_method",
    "instance",
    "_Feature"
   ],
   "window_display": false
  }
 },
 "nbformat": 4,
 "nbformat_minor": 5
}
