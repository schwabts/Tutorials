{
 "cells": [
  {
   "cell_type": "markdown",
   "id": "0bdc7b21",
   "metadata": {},
   "source": [
    "# Using BibTex in Jupyter"
   ]
  },
  {
   "cell_type": "markdown",
   "id": "a451c67c",
   "metadata": {},
   "source": [
    "Following [How to add automatically extension to Jupyter (ipython) notebook?](https://stackoverflow.com/questions/32046241/how-to-add-automatically-extension-to-jupyter-ipython-notebook)\n",
    "we make Calico Document Tools for using BibTex available as follows."
   ]
  },
  {
   "cell_type": "code",
   "execution_count": 1,
   "id": "853ca217",
   "metadata": {},
   "outputs": [],
   "source": [
    "#!jupyter nbextension install https://bitbucket.org/ipre/calico/downloads/calico-document-tools-1.0.zip"
   ]
  },
  {
   "cell_type": "markdown",
   "id": "dd67050c",
   "metadata": {},
   "source": [
    "instead of `sudo ipython install-nbextension` and"
   ]
  },
  {
   "cell_type": "code",
   "execution_count": null,
   "id": "54aeb1a1",
   "metadata": {},
   "outputs": [],
   "source": [
    "!jupyter nbextension enable calico-document-tools"
   ]
  },
  {
   "cell_type": "markdown",
   "id": "a69baa57",
   "metadata": {},
   "source": [
    "instead of `IPython.load_extensions('calico-document-tools');`."
   ]
  },
  {
   "cell_type": "code",
   "execution_count": null,
   "id": "def5f34d",
   "metadata": {},
   "outputs": [],
   "source": []
  }
 ],
 "metadata": {
  "jupytext": {
   "formats": "ipynb,auto:light,md"
  },
  "kernelspec": {
   "display_name": "Python 3",
   "language": "python",
   "name": "python3"
  },
  "language_info": {
   "codemirror_mode": {
    "name": "ipython",
    "version": 3
   },
   "file_extension": ".py",
   "mimetype": "text/x-python",
   "name": "python",
   "nbconvert_exporter": "python",
   "pygments_lexer": "ipython3",
   "version": "3.8.8"
  },
  "toc": {
   "base_numbering": 1,
   "nav_menu": {},
   "number_sections": true,
   "sideBar": true,
   "skip_h1_title": true,
   "title_cell": "Table of Contents",
   "title_sidebar": "Contents",
   "toc_cell": false,
   "toc_position": {},
   "toc_section_display": true,
   "toc_window_display": true
  },
  "varInspector": {
   "cols": {
    "lenName": 16,
    "lenType": 16,
    "lenVar": 40
   },
   "kernels_config": {
    "python": {
     "delete_cmd_postfix": "",
     "delete_cmd_prefix": "del ",
     "library": "var_list.py",
     "varRefreshCmd": "print(var_dic_list())"
    },
    "r": {
     "delete_cmd_postfix": ") ",
     "delete_cmd_prefix": "rm(",
     "library": "var_list.r",
     "varRefreshCmd": "cat(var_dic_list()) "
    }
   },
   "types_to_exclude": [
    "module",
    "function",
    "builtin_function_or_method",
    "instance",
    "_Feature"
   ],
   "window_display": false
  }
 },
 "nbformat": 4,
 "nbformat_minor": 5
}
