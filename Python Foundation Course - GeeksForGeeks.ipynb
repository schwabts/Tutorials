{
 "cells": [
  {
   "cell_type": "markdown",
   "id": "1bbfc756",
   "metadata": {},
   "source": [
    "# [Python Programming Foundation Course](https://practice.geeksforgeeks.org/courses/Python-Foundation?utm_source=geeksforgeeks&utm_medium=article&utm_campaign=GFG_Article_Bottom_Python_Foundation) <a class=\"tocSkip\">"
   ]
  },
  {
   "cell_type": "markdown",
   "id": "712b21aa",
   "metadata": {},
   "source": [
    "by GeeksForGeeks "
   ]
  },
  {
   "cell_type": "markdown",
   "id": "e921397e",
   "metadata": {
    "heading_collapsed": true
   },
   "source": [
    "# [Python | Pandas DataFrame](https://www.geeksforgeeks.org/python-pandas-dataframe/)"
   ]
  },
  {
   "cell_type": "markdown",
   "id": "43a36fde",
   "metadata": {
    "hidden": true
   },
   "source": [
    "**Pandas DataFrame** is two-dimensional size-mutable, potentially heterogeneous tabular data structure with labeled axes (rows and columns). A Data frame is a two-dimensional data structure, i.e., data is aligned in a tabular fashion in rows and columns. Pandas DataFrame consists of three principal components, the **data**, **rows**, and **columns**."
   ]
  },
  {
   "cell_type": "markdown",
   "id": "9c74f9b9",
   "metadata": {
    "hidden": true
   },
   "source": [
    "<img src=\"https://media.geeksforgeeks.org/wp-content/uploads/finallpandas.png\" />"
   ]
  },
  {
   "cell_type": "markdown",
   "id": "ffb114e5",
   "metadata": {
    "hidden": true
   },
   "source": [
    "We will get a brief insight on all these basic operation which can be performed on Pandas DataFrame :\n",
    "\n",
    "* [Creating a DataFrame](#Creating-a-Pandas-DataFrame)\n",
    "* [Dealing with Rows and Columns](#Dealing-with-Rows-and-Columns)\n",
    "* [Indexing and Selecting Data](#Indexing-and-Selecting-Data)\n",
    "* [Working with Missing Data](#Selecting-a-single-columns)\n",
    "* [Iterating over rows and columns](#Iterating-over-rows-and-columns)"
   ]
  },
  {
   "cell_type": "markdown",
   "id": "55763637",
   "metadata": {
    "heading_collapsed": true,
    "hidden": true
   },
   "source": [
    "## Creating a DataFrame"
   ]
  },
  {
   "cell_type": "markdown",
   "id": "f69cc42a",
   "metadata": {
    "hidden": true
   },
   "source": [
    "In the real world, a Pandas DataFrame will be created by loading the datasets from existing storage, storage can be SQL Database, CSV file, and Excel file. Pandas DataFrame can be created from the lists, dictionary, and from a list of dictionary etc. Dataframe can be created in different ways here are some ways by which we create a dataframe:"
   ]
  },
  {
   "cell_type": "markdown",
   "id": "c887f498",
   "metadata": {
    "hidden": true
   },
   "source": [
    "**Creating a dataframe using List:** DataFrame can be created using a single list or a list of lists."
   ]
  },
  {
   "cell_type": "code",
   "execution_count": 25,
   "id": "b3e50203",
   "metadata": {
    "hidden": true
   },
   "outputs": [
    {
     "name": "stdout",
     "output_type": "stream",
     "text": [
      "        0\n",
      "0   Geeks\n",
      "1     For\n",
      "2   Geeks\n",
      "3      is\n",
      "4  portal\n",
      "5     for\n",
      "6   Geeks\n"
     ]
    }
   ],
   "source": [
    "# import pandas as pd\n",
    "import pandas as pd\n",
    " \n",
    "# list of strings\n",
    "lst = ['Geeks', 'For', 'Geeks', 'is', \n",
    "            'portal', 'for', 'Geeks']\n",
    " \n",
    "# Calling DataFrame constructor on list\n",
    "df = pd.DataFrame(lst)\n",
    "print(df)"
   ]
  },
  {
   "cell_type": "markdown",
   "id": "41f4ce12",
   "metadata": {
    "hidden": true
   },
   "source": [
    "**Creating DataFrame from dict of ndarray/lists:** To create DataFrame from dict of narray/list, all the narray must be of same length. If index is passed then the length index should be equal to the length of arrays. If no index is passed, then by default, index will be range(n) where n is the array length."
   ]
  },
  {
   "cell_type": "code",
   "execution_count": 26,
   "id": "0123ee80",
   "metadata": {
    "hidden": true
   },
   "outputs": [
    {
     "name": "stdout",
     "output_type": "stream",
     "text": [
      "    Name  Age\n",
      "0    Tom   20\n",
      "1   nick   21\n",
      "2  krish   19\n",
      "3   jack   18\n"
     ]
    }
   ],
   "source": [
    "# Python code demonstrate creating \n",
    "# DataFrame from dict narray / lists \n",
    "# By default addresses.\n",
    " \n",
    "import pandas as pd\n",
    " \n",
    "# intialise data of lists.\n",
    "data = {'Name':['Tom', 'nick', 'krish', 'jack'],\n",
    "        'Age':[20, 21, 19, 18]}\n",
    " \n",
    "# Create DataFrame\n",
    "df = pd.DataFrame(data)\n",
    " \n",
    "# Print the output.\n",
    "print(df)"
   ]
  },
  {
   "cell_type": "markdown",
   "id": "18ca396b",
   "metadata": {
    "heading_collapsed": true,
    "hidden": true
   },
   "source": [
    "## Dealing with Rows and Columns"
   ]
  },
  {
   "cell_type": "markdown",
   "id": "53cc87bd",
   "metadata": {
    "hidden": true
   },
   "source": [
    "A Data frame is a two-dimensional data structure, i.e., data is aligned in a tabular fashion in rows and columns. We can perform basic operations on rows/columns like selecting, deleting, adding, and renaming."
   ]
  },
  {
   "cell_type": "markdown",
   "id": "5f66fc5b",
   "metadata": {
    "hidden": true
   },
   "source": [
    "**Column Selection:** In Order to select a column in Pandas DataFrame, we can either access the columns by calling them by their columns name."
   ]
  },
  {
   "cell_type": "code",
   "execution_count": 27,
   "id": "0e4a821c",
   "metadata": {
    "hidden": true
   },
   "outputs": [
    {
     "name": "stdout",
     "output_type": "stream",
     "text": [
      "     Name Qualification\n",
      "0     Jai           Msc\n",
      "1  Princi            MA\n",
      "2  Gaurav           MCA\n",
      "3    Anuj           Phd\n"
     ]
    }
   ],
   "source": [
    "# Import pandas package\n",
    "import pandas as pd\n",
    " \n",
    "# Define a dictionary containing employee data\n",
    "data = {'Name':['Jai', 'Princi', 'Gaurav', 'Anuj'],\n",
    "        'Age':[27, 24, 22, 32],\n",
    "        'Address':['Delhi', 'Kanpur', 'Allahabad', 'Kannauj'],\n",
    "        'Qualification':['Msc', 'MA', 'MCA', 'Phd']}\n",
    " \n",
    "# Convert the dictionary into DataFrame \n",
    "df = pd.DataFrame(data)\n",
    " \n",
    "# select two columns\n",
    "print(df[['Name', 'Qualification']])"
   ]
  },
  {
   "cell_type": "markdown",
   "id": "31ba7f7a",
   "metadata": {
    "hidden": true
   },
   "source": [
    "**Row Selection:** Pandas provide a unique method to retrieve rows from a Data frame.[DataFrame.loc\\[\\]](https://www.geeksforgeeks.org/python-pandas-extracting-rows-using-loc/) method is used to retrieve rows from Pandas DataFrame. Rows can also be selected by passing integer location to an [iloc\\[\\]](https://www.geeksforgeeks.org/python-extracting-rows-using-pandas-iloc/) function."
   ]
  },
  {
   "cell_type": "markdown",
   "id": "3659dd2a",
   "metadata": {
    "hidden": true
   },
   "source": [
    "**Note:** We’ll be using [nba.csv](https://media.geeksforgeeks.org/wp-content/uploads/nba.csv) file in below examples."
   ]
  },
  {
   "cell_type": "code",
   "execution_count": 28,
   "id": "1ed6ad99",
   "metadata": {
    "hidden": true
   },
   "outputs": [
    {
     "name": "stdout",
     "output_type": "stream",
     "text": [
      "Team        Boston Celtics\n",
      "Number                 0.0\n",
      "Position                PG\n",
      "Age                   25.0\n",
      "Height                 6-2\n",
      "Weight               180.0\n",
      "College              Texas\n",
      "Salary           7730337.0\n",
      "Name: Avery Bradley, dtype: object \n",
      "\n",
      "\n",
      " Team        Boston Celtics\n",
      "Number                28.0\n",
      "Position                SG\n",
      "Age                   22.0\n",
      "Height                 6-5\n",
      "Weight               185.0\n",
      "College      Georgia State\n",
      "Salary           1148640.0\n",
      "Name: R.J. Hunter, dtype: object\n"
     ]
    }
   ],
   "source": [
    "# importing pandas package\n",
    "import pandas as pd\n",
    " \n",
    "# making data frame from csv file\n",
    "data = pd.read_csv(\"https://media.geeksforgeeks.org/wp-content/uploads/nba.csv\", index_col =\"Name\")\n",
    " \n",
    "# retrieving row by loc method\n",
    "first = data.loc[\"Avery Bradley\"]\n",
    "second = data.loc[\"R.J. Hunter\"]\n",
    "\n",
    "print(first, \"\\n\\n\\n\", second)"
   ]
  },
  {
   "cell_type": "markdown",
   "id": "67294dc7",
   "metadata": {
    "hidden": true
   },
   "source": [
    "For more Details refer to [Dealing with Rows and Columns](https://www.geeksforgeeks.org/dealing-with-rows-and-columns-in-pandas-dataframe/)"
   ]
  },
  {
   "cell_type": "markdown",
   "id": "de79b39e",
   "metadata": {
    "heading_collapsed": true,
    "hidden": true
   },
   "source": [
    "## Indexing and Selecting Data"
   ]
  },
  {
   "cell_type": "markdown",
   "id": "263c96e2",
   "metadata": {
    "hidden": true
   },
   "source": [
    "Indexing in pandas means simply selecting particular rows and columns of data from a DataFrame. Indexing could mean selecting all the rows and some of the columns, some of the rows and all of the columns, or some of each of the rows and columns. Indexing can also be known as **Subset Selection**."
   ]
  },
  {
   "cell_type": "markdown",
   "id": "1a949190",
   "metadata": {
    "heading_collapsed": true,
    "hidden": true
   },
   "source": [
    "#### Indexing a Dataframe using indexing operator [] : <a class=\"tocSkip\">"
   ]
  },
  {
   "cell_type": "markdown",
   "id": "81b0efec",
   "metadata": {
    "hidden": true
   },
   "source": [
    "Indexing operator is used to refer to the square brackets following an object. The [.loc](https://www.geeksforgeeks.org/python-pandas-extracting-rows-using-loc/) and [.iloc](https://www.geeksforgeeks.org/python-extracting-rows-using-pandas-iloc/) indexers also use the indexing operator to make selections. In this indexing operator to refer to `df[]`."
   ]
  },
  {
   "cell_type": "markdown",
   "id": "9bd2b5df",
   "metadata": {
    "heading_collapsed": true,
    "hidden": true
   },
   "source": [
    "### Selecting a single columns"
   ]
  },
  {
   "cell_type": "markdown",
   "id": "4b19ab69",
   "metadata": {
    "hidden": true
   },
   "source": [
    "In order to select a single column, we simply put the name of the column in-between the brackets"
   ]
  },
  {
   "cell_type": "code",
   "execution_count": 29,
   "id": "ec05fdaa",
   "metadata": {
    "hidden": true
   },
   "outputs": [
    {
     "name": "stdout",
     "output_type": "stream",
     "text": [
      "Name\n",
      "Avery Bradley    25.0\n",
      "Jae Crowder      25.0\n",
      "John Holland     27.0\n",
      "R.J. Hunter      22.0\n",
      "Jonas Jerebko    29.0\n",
      "                 ... \n",
      "Shelvin Mack     26.0\n",
      "Raul Neto        24.0\n",
      "Tibor Pleiss     26.0\n",
      "Jeff Withey      26.0\n",
      "NaN               NaN\n",
      "Name: Age, Length: 458, dtype: float64\n"
     ]
    }
   ],
   "source": [
    "# importing pandas package\n",
    "import pandas as pd\n",
    " \n",
    "# making data frame from csv file\n",
    "data = pd.read_csv(\"https://media.geeksforgeeks.org/wp-content/uploads/nba.csv\", index_col =\"Name\")\n",
    " \n",
    "# retrieving columns by indexing operator\n",
    "first = data[\"Age\"]\n",
    "\n",
    "print(first)"
   ]
  },
  {
   "cell_type": "markdown",
   "id": "bf2134c9",
   "metadata": {
    "heading_collapsed": true,
    "hidden": true
   },
   "source": [
    "#### Indexing a DataFrame using [.loc\\[\\]](https://www.geeksforgeeks.org/python-pandas-extracting-rows-using-loc/) :  <a class=\"tocSkip\">"
   ]
  },
  {
   "cell_type": "markdown",
   "id": "e5d9ccef",
   "metadata": {
    "hidden": true
   },
   "source": [
    "This function selects data by the **label** of the rows and columns. The `df.loc` indexer selects data in a different way than just the indexing operator. It can select subsets of rows or columns. It can also simultaneously select subsets of rows and columns."
   ]
  },
  {
   "cell_type": "markdown",
   "id": "e9c6b83b",
   "metadata": {
    "heading_collapsed": true,
    "hidden": true
   },
   "source": [
    "### Selecting a single row"
   ]
  },
  {
   "cell_type": "markdown",
   "id": "9a2b56ae",
   "metadata": {
    "hidden": true
   },
   "source": [
    "In order to select a single row using `.loc[]`, we put a single row label in a `.loc` function."
   ]
  },
  {
   "cell_type": "code",
   "execution_count": 30,
   "id": "fefd26eb",
   "metadata": {
    "hidden": true
   },
   "outputs": [
    {
     "name": "stdout",
     "output_type": "stream",
     "text": [
      "Team        Boston Celtics\n",
      "Number                 0.0\n",
      "Position                PG\n",
      "Age                   25.0\n",
      "Height                 6-2\n",
      "Weight               180.0\n",
      "College              Texas\n",
      "Salary           7730337.0\n",
      "Name: Avery Bradley, dtype: object \n",
      "\n",
      "\n",
      " Team        Boston Celtics\n",
      "Number                28.0\n",
      "Position                SG\n",
      "Age                   22.0\n",
      "Height                 6-5\n",
      "Weight               185.0\n",
      "College      Georgia State\n",
      "Salary           1148640.0\n",
      "Name: R.J. Hunter, dtype: object\n"
     ]
    }
   ],
   "source": [
    "# importing pandas package\n",
    "import pandas as pd\n",
    " \n",
    "# making data frame from csv file\n",
    "data = pd.read_csv(\"https://media.geeksforgeeks.org/wp-content/uploads/nba.csv\", index_col =\"Name\")\n",
    " \n",
    "# retrieving row by loc method\n",
    "first = data.loc[\"Avery Bradley\"]\n",
    "second = data.loc[\"R.J. Hunter\"]\n",
    " \n",
    " \n",
    "print(first, \"\\n\\n\\n\", second)"
   ]
  },
  {
   "cell_type": "markdown",
   "id": "3b7bc761",
   "metadata": {
    "heading_collapsed": true,
    "hidden": true
   },
   "source": [
    "#### Indexing a DataFrame using [.iloc\\[\\]](https://www.geeksforgeeks.org/python-extracting-rows-using-pandas-iloc/) :  <a class=\"tocSkip\">"
   ]
  },
  {
   "cell_type": "markdown",
   "id": "3b1688b7",
   "metadata": {
    "hidden": true
   },
   "source": [
    "This function allows us to retrieve rows and columns by position. In order to do that, we’ll need to specify the positions of the rows that we want, and the positions of the columns that we want as well. The `df.iloc` indexer is very similar to `df.loc` but only uses integer locations to make its selections."
   ]
  },
  {
   "cell_type": "markdown",
   "id": "4e0ed11f",
   "metadata": {
    "hidden": true
   },
   "source": [
    "In order to select a single row using `.iloc[]`, we can pass a single integer to `.iloc[]` function."
   ]
  },
  {
   "cell_type": "code",
   "execution_count": 31,
   "id": "7bf75feb",
   "metadata": {
    "hidden": true
   },
   "outputs": [
    {
     "name": "stdout",
     "output_type": "stream",
     "text": [
      "Team        Boston Celtics\n",
      "Number                28.0\n",
      "Position                SG\n",
      "Age                   22.0\n",
      "Height                 6-5\n",
      "Weight               185.0\n",
      "College      Georgia State\n",
      "Salary           1148640.0\n",
      "Name: R.J. Hunter, dtype: object\n"
     ]
    }
   ],
   "source": [
    "import pandas as pd\n",
    " \n",
    "# making data frame from csv file\n",
    "data = pd.read_csv(\"https://media.geeksforgeeks.org/wp-content/uploads/nba.csv\", index_col =\"Name\")\n",
    "\n",
    "# retrieving rows by iloc method \n",
    "row2 = data.iloc[3] \n",
    "\n",
    "print(row2)"
   ]
  },
  {
   "cell_type": "markdown",
   "id": "14c4254f",
   "metadata": {
    "hidden": true
   },
   "source": [
    "For more Details refer\n",
    "\n",
    "* [Indexing and Selecting Data with Pandas](https://www.geeksforgeeks.org/indexing-and-selecting-data-with-pandas/)\n",
    "* [Boolean Indexing in Pandas](https://www.geeksforgeeks.org/boolean-indexing-in-pandas/)"
   ]
  },
  {
   "cell_type": "markdown",
   "id": "085fe23e",
   "metadata": {
    "heading_collapsed": true,
    "hidden": true
   },
   "source": [
    "## Working with Missing Data"
   ]
  },
  {
   "cell_type": "markdown",
   "id": "d90b00f7",
   "metadata": {
    "hidden": true
   },
   "source": [
    "Missing Data can occur when no information is provided for one or more items or for a whole unit. Missing Data is a very big problem in real life scenario. Missing Data can also refer to as NA(Not Available) values in pandas."
   ]
  },
  {
   "cell_type": "markdown",
   "id": "92dec9b4",
   "metadata": {
    "heading_collapsed": true,
    "hidden": true
   },
   "source": [
    "#### Checking for missing values using isnull() and notnull() : <a class=\"tocSkip\">"
   ]
  },
  {
   "cell_type": "markdown",
   "id": "69c14b23",
   "metadata": {
    "hidden": true
   },
   "source": [
    "In order to check missing values in Pandas DataFrame, we use a function `isnull()` and `notnull()`. Both function help in checking whether a value is `NaN` or not. These function can also be used in Pandas Series in order to find null values in a series."
   ]
  },
  {
   "cell_type": "code",
   "execution_count": 32,
   "id": "f595364d",
   "metadata": {
    "hidden": true
   },
   "outputs": [
    {
     "data": {
      "text/html": [
       "<div>\n",
       "<style scoped>\n",
       "    .dataframe tbody tr th:only-of-type {\n",
       "        vertical-align: middle;\n",
       "    }\n",
       "\n",
       "    .dataframe tbody tr th {\n",
       "        vertical-align: top;\n",
       "    }\n",
       "\n",
       "    .dataframe thead th {\n",
       "        text-align: right;\n",
       "    }\n",
       "</style>\n",
       "<table border=\"1\" class=\"dataframe\">\n",
       "  <thead>\n",
       "    <tr style=\"text-align: right;\">\n",
       "      <th></th>\n",
       "      <th>First Score</th>\n",
       "      <th>Second Score</th>\n",
       "      <th>Third Score</th>\n",
       "    </tr>\n",
       "  </thead>\n",
       "  <tbody>\n",
       "    <tr>\n",
       "      <th>0</th>\n",
       "      <td>False</td>\n",
       "      <td>False</td>\n",
       "      <td>True</td>\n",
       "    </tr>\n",
       "    <tr>\n",
       "      <th>1</th>\n",
       "      <td>False</td>\n",
       "      <td>False</td>\n",
       "      <td>False</td>\n",
       "    </tr>\n",
       "    <tr>\n",
       "      <th>2</th>\n",
       "      <td>True</td>\n",
       "      <td>False</td>\n",
       "      <td>False</td>\n",
       "    </tr>\n",
       "    <tr>\n",
       "      <th>3</th>\n",
       "      <td>False</td>\n",
       "      <td>True</td>\n",
       "      <td>False</td>\n",
       "    </tr>\n",
       "  </tbody>\n",
       "</table>\n",
       "</div>"
      ],
      "text/plain": [
       "   First Score  Second Score  Third Score\n",
       "0        False         False         True\n",
       "1        False         False        False\n",
       "2         True         False        False\n",
       "3        False          True        False"
      ]
     },
     "execution_count": 32,
     "metadata": {},
     "output_type": "execute_result"
    }
   ],
   "source": [
    "# importing pandas as pd\n",
    "import pandas as pd\n",
    " \n",
    "# importing numpy as np\n",
    "import numpy as np\n",
    " \n",
    "# dictionary of lists\n",
    "dict = {'First Score':[100, 90, np.nan, 95],\n",
    "        'Second Score': [30, 45, 56, np.nan],\n",
    "        'Third Score':[np.nan, 40, 80, 98]}\n",
    " \n",
    "# creating a dataframe from list\n",
    "df = pd.DataFrame(dict)\n",
    " \n",
    "# using isnull() function  \n",
    "df.isnull()"
   ]
  },
  {
   "cell_type": "markdown",
   "id": "e413b2ff",
   "metadata": {
    "heading_collapsed": true,
    "hidden": true
   },
   "source": [
    "#### Filling missing values using `fillna()`, `replace()` and `interpolate()` : <a class=\"tocSkip\">"
   ]
  },
  {
   "cell_type": "markdown",
   "id": "32deae19",
   "metadata": {
    "hidden": true
   },
   "source": [
    "In order to fill null values in a datasets, we use `fillna()`, `replace()` and `interpolate()` function these function replace NaN values with some value of their own. All these function help in filling a null values in datasets of a DataFrame. Interpolate() function is basically used to fill NA values in the dataframe but it uses various interpolation technique to fill the missing values rather than hard-coding the value."
   ]
  },
  {
   "cell_type": "code",
   "execution_count": 33,
   "id": "85383b86",
   "metadata": {
    "hidden": true
   },
   "outputs": [
    {
     "data": {
      "text/html": [
       "<div>\n",
       "<style scoped>\n",
       "    .dataframe tbody tr th:only-of-type {\n",
       "        vertical-align: middle;\n",
       "    }\n",
       "\n",
       "    .dataframe tbody tr th {\n",
       "        vertical-align: top;\n",
       "    }\n",
       "\n",
       "    .dataframe thead th {\n",
       "        text-align: right;\n",
       "    }\n",
       "</style>\n",
       "<table border=\"1\" class=\"dataframe\">\n",
       "  <thead>\n",
       "    <tr style=\"text-align: right;\">\n",
       "      <th></th>\n",
       "      <th>First Score</th>\n",
       "      <th>Second Score</th>\n",
       "      <th>Third Score</th>\n",
       "    </tr>\n",
       "  </thead>\n",
       "  <tbody>\n",
       "    <tr>\n",
       "      <th>0</th>\n",
       "      <td>100.0</td>\n",
       "      <td>30.0</td>\n",
       "      <td>0.0</td>\n",
       "    </tr>\n",
       "    <tr>\n",
       "      <th>1</th>\n",
       "      <td>90.0</td>\n",
       "      <td>45.0</td>\n",
       "      <td>40.0</td>\n",
       "    </tr>\n",
       "    <tr>\n",
       "      <th>2</th>\n",
       "      <td>0.0</td>\n",
       "      <td>56.0</td>\n",
       "      <td>80.0</td>\n",
       "    </tr>\n",
       "    <tr>\n",
       "      <th>3</th>\n",
       "      <td>95.0</td>\n",
       "      <td>0.0</td>\n",
       "      <td>98.0</td>\n",
       "    </tr>\n",
       "  </tbody>\n",
       "</table>\n",
       "</div>"
      ],
      "text/plain": [
       "   First Score  Second Score  Third Score\n",
       "0        100.0          30.0          0.0\n",
       "1         90.0          45.0         40.0\n",
       "2          0.0          56.0         80.0\n",
       "3         95.0           0.0         98.0"
      ]
     },
     "execution_count": 33,
     "metadata": {},
     "output_type": "execute_result"
    }
   ],
   "source": [
    "# importing pandas as pd\n",
    "import pandas as pd\n",
    " \n",
    "# importing numpy as np\n",
    "import numpy as np\n",
    " \n",
    "# dictionary of lists\n",
    "dict = {'First Score':[100, 90, np.nan, 95],\n",
    "        'Second Score': [30, 45, 56, np.nan],\n",
    "        'Third Score':[np.nan, 40, 80, 98]}\n",
    " \n",
    "# creating a dataframe from dictionary\n",
    "df = pd.DataFrame(dict)\n",
    " \n",
    "# filling missing value using fillna()  \n",
    "df.fillna(0)"
   ]
  },
  {
   "cell_type": "markdown",
   "id": "22e6cb90",
   "metadata": {
    "heading_collapsed": true,
    "hidden": true
   },
   "source": [
    "#### Dropping missing values using `dropna()` : <a class=\"tocSkip\">"
   ]
  },
  {
   "cell_type": "markdown",
   "id": "e699f0a9",
   "metadata": {
    "hidden": true
   },
   "source": [
    "In order to drop a null values from a dataframe, we used `dropna()` function this fuction drop Rows/Columns of datasets with Null values in different ways."
   ]
  },
  {
   "cell_type": "code",
   "execution_count": 34,
   "id": "b0d7486b",
   "metadata": {
    "hidden": true
   },
   "outputs": [
    {
     "data": {
      "text/html": [
       "<div>\n",
       "<style scoped>\n",
       "    .dataframe tbody tr th:only-of-type {\n",
       "        vertical-align: middle;\n",
       "    }\n",
       "\n",
       "    .dataframe tbody tr th {\n",
       "        vertical-align: top;\n",
       "    }\n",
       "\n",
       "    .dataframe thead th {\n",
       "        text-align: right;\n",
       "    }\n",
       "</style>\n",
       "<table border=\"1\" class=\"dataframe\">\n",
       "  <thead>\n",
       "    <tr style=\"text-align: right;\">\n",
       "      <th></th>\n",
       "      <th>First Score</th>\n",
       "      <th>Second Score</th>\n",
       "      <th>Third Score</th>\n",
       "      <th>Fourth Score</th>\n",
       "    </tr>\n",
       "  </thead>\n",
       "  <tbody>\n",
       "    <tr>\n",
       "      <th>0</th>\n",
       "      <td>100.0</td>\n",
       "      <td>30.0</td>\n",
       "      <td>52</td>\n",
       "      <td>NaN</td>\n",
       "    </tr>\n",
       "    <tr>\n",
       "      <th>1</th>\n",
       "      <td>90.0</td>\n",
       "      <td>NaN</td>\n",
       "      <td>40</td>\n",
       "      <td>NaN</td>\n",
       "    </tr>\n",
       "    <tr>\n",
       "      <th>2</th>\n",
       "      <td>NaN</td>\n",
       "      <td>45.0</td>\n",
       "      <td>80</td>\n",
       "      <td>NaN</td>\n",
       "    </tr>\n",
       "    <tr>\n",
       "      <th>3</th>\n",
       "      <td>95.0</td>\n",
       "      <td>56.0</td>\n",
       "      <td>98</td>\n",
       "      <td>65.0</td>\n",
       "    </tr>\n",
       "  </tbody>\n",
       "</table>\n",
       "</div>"
      ],
      "text/plain": [
       "   First Score  Second Score  Third Score  Fourth Score\n",
       "0        100.0          30.0           52           NaN\n",
       "1         90.0           NaN           40           NaN\n",
       "2          NaN          45.0           80           NaN\n",
       "3         95.0          56.0           98          65.0"
      ]
     },
     "execution_count": 34,
     "metadata": {},
     "output_type": "execute_result"
    }
   ],
   "source": [
    "# importing pandas as pd\n",
    "import pandas as pd\n",
    " \n",
    "# importing numpy as np\n",
    "import numpy as np\n",
    " \n",
    "# dictionary of lists\n",
    "dict = {'First Score':[100, 90, np.nan, 95],\n",
    "        'Second Score': [30, np.nan, 45, 56],\n",
    "        'Third Score':[52, 40, 80, 98],\n",
    "        'Fourth Score':[np.nan, np.nan, np.nan, 65]}\n",
    " \n",
    "# creating a dataframe from dictionary\n",
    "df = pd.DataFrame(dict)\n",
    "   \n",
    "df"
   ]
  },
  {
   "cell_type": "markdown",
   "id": "7dd6ada9",
   "metadata": {
    "hidden": true
   },
   "source": [
    "Now we drop rows with at least one Nan value (Null value)"
   ]
  },
  {
   "cell_type": "code",
   "execution_count": 35,
   "id": "26914d6b",
   "metadata": {
    "hidden": true
   },
   "outputs": [
    {
     "data": {
      "text/html": [
       "<div>\n",
       "<style scoped>\n",
       "    .dataframe tbody tr th:only-of-type {\n",
       "        vertical-align: middle;\n",
       "    }\n",
       "\n",
       "    .dataframe tbody tr th {\n",
       "        vertical-align: top;\n",
       "    }\n",
       "\n",
       "    .dataframe thead th {\n",
       "        text-align: right;\n",
       "    }\n",
       "</style>\n",
       "<table border=\"1\" class=\"dataframe\">\n",
       "  <thead>\n",
       "    <tr style=\"text-align: right;\">\n",
       "      <th></th>\n",
       "      <th>First Score</th>\n",
       "      <th>Second Score</th>\n",
       "      <th>Third Score</th>\n",
       "      <th>Fourth Score</th>\n",
       "    </tr>\n",
       "  </thead>\n",
       "  <tbody>\n",
       "    <tr>\n",
       "      <th>3</th>\n",
       "      <td>95.0</td>\n",
       "      <td>56.0</td>\n",
       "      <td>98</td>\n",
       "      <td>65.0</td>\n",
       "    </tr>\n",
       "  </tbody>\n",
       "</table>\n",
       "</div>"
      ],
      "text/plain": [
       "   First Score  Second Score  Third Score  Fourth Score\n",
       "3         95.0          56.0           98          65.0"
      ]
     },
     "execution_count": 35,
     "metadata": {},
     "output_type": "execute_result"
    }
   ],
   "source": [
    "# importing pandas as pd\n",
    "import pandas as pd\n",
    " \n",
    "# importing numpy as np\n",
    "import numpy as np\n",
    " \n",
    "# dictionary of lists\n",
    "dict = {'First Score':[100, 90, np.nan, 95],\n",
    "        'Second Score': [30, np.nan, 45, 56],\n",
    "        'Third Score':[52, 40, 80, 98],\n",
    "        'Fourth Score':[np.nan, np.nan, np.nan, 65]}\n",
    " \n",
    "# creating a dataframe from dictionary\n",
    "df = pd.DataFrame(dict)\n",
    " \n",
    "# using dropna() function  \n",
    "df.dropna()"
   ]
  },
  {
   "cell_type": "markdown",
   "id": "1c8e892f",
   "metadata": {
    "hidden": true
   },
   "source": [
    "For more Details refer to [Working with Missing Data in Pandas](https://www.geeksforgeeks.org/working-with-missing-data-in-pandas/)"
   ]
  },
  {
   "cell_type": "markdown",
   "id": "2163d119",
   "metadata": {
    "heading_collapsed": true,
    "hidden": true
   },
   "source": [
    "## Iterating over rows and columns"
   ]
  },
  {
   "cell_type": "markdown",
   "id": "013e90bd",
   "metadata": {
    "hidden": true
   },
   "source": [
    "Iteration is a general term for taking each item of something, one after another. Pandas DataFrame consists of rows and columns so, in order to iterate over dataframe, we have to iterate a dataframe like a dictionary."
   ]
  },
  {
   "cell_type": "markdown",
   "id": "e1f74641",
   "metadata": {
    "heading_collapsed": true,
    "hidden": true
   },
   "source": [
    "#### Iterating over rows : <a class=\"tocSkip\">"
   ]
  },
  {
   "cell_type": "markdown",
   "id": "97afe7fb",
   "metadata": {
    "hidden": true
   },
   "source": [
    "In order to iterate over rows, we can use three function `iteritems()`, `iterrows()`, `itertuples()`. These three function will help in iteration over rows."
   ]
  },
  {
   "cell_type": "code",
   "execution_count": 36,
   "id": "8f69ceb5",
   "metadata": {
    "hidden": true
   },
   "outputs": [
    {
     "name": "stdout",
     "output_type": "stream",
     "text": [
      "     name  degree  score\n",
      "0  aparna     MBA     90\n",
      "1  pankaj     BCA     40\n",
      "2  sudhir  M.Tech     80\n",
      "3   Geeku     MBA     98\n"
     ]
    }
   ],
   "source": [
    "# importing pandas as pd\n",
    "import pandas as pd\n",
    "  \n",
    "# dictionary of lists\n",
    "dict = {'name':[\"aparna\", \"pankaj\", \"sudhir\", \"Geeku\"],\n",
    "        'degree': [\"MBA\", \"BCA\", \"M.Tech\", \"MBA\"],\n",
    "        'score':[90, 40, 80, 98]}\n",
    " \n",
    "# creating a dataframe from a dictionary \n",
    "df = pd.DataFrame(dict)\n",
    " \n",
    "print(df)"
   ]
  },
  {
   "cell_type": "markdown",
   "id": "46b98a8e",
   "metadata": {
    "hidden": true
   },
   "source": [
    "Now we apply `iterrows()` function in order to get a each element of rows."
   ]
  },
  {
   "cell_type": "code",
   "execution_count": 37,
   "id": "cedca01b",
   "metadata": {
    "hidden": true
   },
   "outputs": [
    {
     "name": "stdout",
     "output_type": "stream",
     "text": [
      "0 name      aparna\n",
      "degree       MBA\n",
      "score         90\n",
      "Name: 0, dtype: object\n",
      "\n",
      "1 name      pankaj\n",
      "degree       BCA\n",
      "score         40\n",
      "Name: 1, dtype: object\n",
      "\n",
      "2 name      sudhir\n",
      "degree    M.Tech\n",
      "score         80\n",
      "Name: 2, dtype: object\n",
      "\n",
      "3 name      Geeku\n",
      "degree      MBA\n",
      "score        98\n",
      "Name: 3, dtype: object\n",
      "\n"
     ]
    }
   ],
   "source": [
    "# importing pandas as pd\n",
    "import pandas as pd\n",
    "  \n",
    "# dictionary of lists\n",
    "dict = {'name':[\"aparna\", \"pankaj\", \"sudhir\", \"Geeku\"],\n",
    "        'degree': [\"MBA\", \"BCA\", \"M.Tech\", \"MBA\"],\n",
    "        'score':[90, 40, 80, 98]}\n",
    " \n",
    "# creating a dataframe from a dictionary \n",
    "df = pd.DataFrame(dict)\n",
    " \n",
    "# iterating over rows using iterrows() function \n",
    "for i, j in df.iterrows():\n",
    "    print(i, j)\n",
    "    print()"
   ]
  },
  {
   "cell_type": "markdown",
   "id": "b4a8e392",
   "metadata": {
    "heading_collapsed": true,
    "hidden": true
   },
   "source": [
    "#### Iterating over Columns : <a class=\"tocSkip\">"
   ]
  },
  {
   "cell_type": "markdown",
   "id": "3cf5e15c",
   "metadata": {
    "hidden": true
   },
   "source": [
    "In order to iterate over columns, we need to create a list of dataframe columns and then iterating through that list to pull out the dataframe columns."
   ]
  },
  {
   "cell_type": "code",
   "execution_count": 38,
   "id": "f876d028",
   "metadata": {
    "hidden": true
   },
   "outputs": [
    {
     "name": "stdout",
     "output_type": "stream",
     "text": [
      "     name  degree  score\n",
      "0  aparna     MBA     90\n",
      "1  pankaj     BCA     40\n",
      "2  sudhir  M.Tech     80\n",
      "3   Geeku     MBA     98\n"
     ]
    }
   ],
   "source": [
    "# importing pandas as pd\n",
    "import pandas as pd\n",
    "   \n",
    "# dictionary of lists\n",
    "dict = {'name':[\"aparna\", \"pankaj\", \"sudhir\", \"Geeku\"],\n",
    "        'degree': [\"MBA\", \"BCA\", \"M.Tech\", \"MBA\"],\n",
    "        'score':[90, 40, 80, 98]}\n",
    "  \n",
    "# creating a dataframe from a dictionary \n",
    "df = pd.DataFrame(dict)\n",
    " \n",
    "print(df)"
   ]
  },
  {
   "cell_type": "markdown",
   "id": "6e785564",
   "metadata": {
    "hidden": true
   },
   "source": [
    "Now we iterate through columns in order to iterate through columns we first create a list of dataframe columns and then iterate through list."
   ]
  },
  {
   "cell_type": "code",
   "execution_count": 39,
   "id": "de0dbfa5",
   "metadata": {
    "hidden": true
   },
   "outputs": [
    {
     "name": "stdout",
     "output_type": "stream",
     "text": [
      "sudhir\n",
      "M.Tech\n",
      "80\n"
     ]
    }
   ],
   "source": [
    "# creating a list of dataframe columns\n",
    "columns = list(df)\n",
    " \n",
    "for i in columns:\n",
    " \n",
    "    # printing the third element of the column\n",
    "    print (df[i][2])"
   ]
  },
  {
   "cell_type": "markdown",
   "id": "87cd6730",
   "metadata": {
    "hidden": true
   },
   "source": [
    "For more Details refer to [Iterating over rows and columns in Pandas DataFrame](https://www.geeksforgeeks.org/iterating-over-rows-and-columns-in-pandas-dataframe/)"
   ]
  },
  {
   "cell_type": "markdown",
   "id": "82459659",
   "metadata": {
    "heading_collapsed": true,
    "hidden": true
   },
   "source": [
    "#### DataFrame Methods:  <a class=\"tocSkip\">"
   ]
  },
  {
   "cell_type": "markdown",
   "id": "49b1a3e5",
   "metadata": {
    "hidden": true
   },
   "source": [
    "| FUNCTION | DESCRIPTION |\n",
    "| --- | --- |\n",
    "| index() | Method returns index (row labels) of the DataFrame |\n",
    "| insert() | Method inserts a column into a DataFrame |\n",
    "| add() | Method returns addition of dataframe and other, element-wise (binary operator add) |\n",
    "| sub() | Method returns subtraction of dataframe and other, element-wise (binary operator sub) |\n",
    "| mul() | Method returns multiplication of dataframe and other, element-wise (binary operator mul) |\n",
    "| div() | Method returns floating division of dataframe and other, element-wise (binary operator truediv) |\n",
    "| unique() | Method extracts the unique values in the dataframe |\n",
    "| nunique() | Method returns count of the unique values in the dataframe |\n",
    "| value_counts() | Method counts the number of times each unique value occurs within the Series |\n",
    "| columns() | Method returns the column labels of the DataFrame |\n",
    "| axes() | Method returns a list representing the axes of the DataFrame |\n",
    "| isnull() | Method creates a Boolean Series for extracting rows with null values |\n",
    "| notnull() | Method creates a Boolean Series for extracting rows with non-null values |\n",
    "| between() | Method extracts rows where a column value falls in between a predefined range |\n",
    "| isin() | Method extracts rows from a DataFrame where a column value exists in a predefined collection |\n",
    "| dtypes() | Method returns a Series with the data type of each column. The result’s index is the original DataFrame’s columns |\n",
    "| astype() | Method converts the data types in a Series |\n",
    "| values() | Method returns a Numpy representation of the DataFrame i.e. only the values in the DataFrame will be returned, the axes labels will be removed |\n",
    "| sort_values() | Set1, Set2\tMethod sorts a data frame in Ascending or Descending order of passed Column |\n",
    "| sort_index() | Method sorts the values in a DataFrame based on their index positions or labels instead of their values but  sometimes a data frame is made out of two or more data frames and hence later index can be changed using this method |\n",
    "| loc[] | Method retrieves rows based on index label |\n",
    "| iloc[] | Method retrieves rows based on index position |\n",
    "| ix[] | Method retrieves DataFrame rows based on either index label or index position. This method combines the best features of the .loc[] and .iloc[] methods |\n",
    "| rename() | Method is called on a DataFrame to change the names of the index labels or column names |\n",
    "| columns() | Method is an alternative attribute to change the coloumn name |\n",
    "| drop() | Method is used to delete rows or columns from a DataFrame |\n",
    "| pop() | Method is used to delete rows or columns from a DataFrame |\n",
    "| sample() | Method pulls out a random sample of rows or columns from a DataFrame |\n",
    "| nsmallest() | Method pulls out the rows with the smallest values in a column |\n",
    "| nlargest() | Method pulls out the rows with the largest values in a column |\n",
    "| shape() | Method returns a tuple representing the dimensionality of the DataFrame |\n",
    "| ndim() | Method returns an ‘int’ representing the number of axes / array dimensions.\n",
    "Returns 1 if Series, otherwise returns 2 if DataFrame |\n",
    "| dropna() | Method allows the user to analyze and drop Rows/Columns with Null values in different ways |\n",
    "| fillna() | Method manages and let the user replace NaN values with some value of their own |\n",
    "| rank() | Values in a Series can be ranked in order with this method |\n",
    "| query() | Method is an alternate string-based syntax for extracting a subset from a DataFrame |\n",
    "| copy() | Method creates an independent copy of a pandas object |\n",
    "| duplicated() | Method creates a Boolean Series and uses it to extract rows that have duplicate values |\n",
    "| drop_duplicates() | Method is an alternative option to identifying duplicate rows and removing them through filtering |\n",
    "| set_index() | Method sets the DataFrame index (row labels) using one or more existing columns |\n",
    "| reset_index() | Method resets index of a Data Frame. This method sets a list of integer ranging from 0 to length of data as index |\n",
    "| where() | Method is used to check a Data Frame for one or more condition and return the result accordingly. By default, the rows not satisfying the condition are filled with NaN value |\n",
    " "
   ]
  },
  {
   "cell_type": "markdown",
   "id": "c153c897",
   "metadata": {
    "heading_collapsed": true,
    "hidden": true
   },
   "source": [
    "#### More on Pandas:  <a class=\"tocSkip\">"
   ]
  },
  {
   "cell_type": "markdown",
   "id": "26eab9c6",
   "metadata": {
    "hidden": true
   },
   "source": [
    "* [Python | Pandas Series](https://www.geeksforgeeks.org/python-pandas-series/)\n",
    "* [Python | Pandas Working With Text Data](https://www.geeksforgeeks.org/python-pandas-working-with-text-data/)\n",
    "* [Python | Pandas Working with Dates and Times](https://www.geeksforgeeks.org/python-pandas-working-with-dates-and-times/)\n",
    "* [Python | Pandas Merging, Joining, and Concatenating](https://www.geeksforgeeks.org/python-pandas-merging-joining-and-concatenating/)\n"
   ]
  },
  {
   "cell_type": "markdown",
   "id": "5519e6b8",
   "metadata": {
    "heading_collapsed": true
   },
   "source": [
    "# [Python | Pandas dataframe.aggregate()](https://www.geeksforgeeks.org/python-pandas-dataframe-aggregate/)"
   ]
  },
  {
   "cell_type": "markdown",
   "id": "ab25a008",
   "metadata": {
    "hidden": true
   },
   "source": [
    "Python is a great language for doing data analysis, primarily because of the fantastic ecosystem of data-centric Python packages. Pandas is one of those packages and makes importing and analyzing data much easier.\n",
    "\n",
    "Dataframe.aggregate() function is used to apply some aggregation across one or more column. Aggregate using callable, string, dict, or list of string/callables. Most frequently used aggregations are:\n",
    "\n",
    "| | |\n",
    "| --- | --- |\n",
    "| **sum:** | Return the sum of the values for the requested axis |\n",
    "| **min:** | Return the minimum of the values for the requested axis |\n",
    "| **max:** | Return the maximum of the values for the requested axis |\n",
    "\n",
    "\n",
    "\n",
    "| **Syntax:** | `DataFrame.aggregate(func, axis=0, *args, **kwargs)`  |\n",
    "| --- | --- |\n",
    "| **Parameters :** | |\n",
    "| **func :** | callable, string, dictionary, or list of string/callables. Function to use for aggregating the data. |\n",
    "| | If a function, must either work when passed a DataFrame or when passed to DataFrame.apply. |\n",
    "| | For a DataFrame, can pass a dict, if the keys are DataFrame column names. |\n",
    "| **axis :** {0 or ‘index’ (default), 1 or ‘columns’} | 0 or ‘index’:   apply function to each column. |\n",
    "|                                                     | 1 or ‘columns’: apply function to each row.    |\n",
    "| **Returns :** | Aggregated DataFrame |\n",
    "\n",
    "\n"
   ]
  },
  {
   "cell_type": "markdown",
   "id": "b733a2ae",
   "metadata": {
    "hidden": true
   },
   "source": [
    "For link to CSV file Used in Code, click [here](https://media.geeksforgeeks.org/wp-content/uploads/nba.csv)\n",
    "\n",
    "**Example #1:** Aggregate ‘sum’ and ‘min’ function across all the columns in data frame."
   ]
  },
  {
   "cell_type": "code",
   "execution_count": 40,
   "id": "dd2f86a8",
   "metadata": {
    "hidden": true
   },
   "outputs": [
    {
     "data": {
      "text/html": [
       "<div>\n",
       "<style scoped>\n",
       "    .dataframe tbody tr th:only-of-type {\n",
       "        vertical-align: middle;\n",
       "    }\n",
       "\n",
       "    .dataframe tbody tr th {\n",
       "        vertical-align: top;\n",
       "    }\n",
       "\n",
       "    .dataframe thead th {\n",
       "        text-align: right;\n",
       "    }\n",
       "</style>\n",
       "<table border=\"1\" class=\"dataframe\">\n",
       "  <thead>\n",
       "    <tr style=\"text-align: right;\">\n",
       "      <th></th>\n",
       "      <th>Name</th>\n",
       "      <th>Team</th>\n",
       "      <th>Number</th>\n",
       "      <th>Position</th>\n",
       "      <th>Age</th>\n",
       "      <th>Height</th>\n",
       "      <th>Weight</th>\n",
       "      <th>College</th>\n",
       "      <th>Salary</th>\n",
       "    </tr>\n",
       "  </thead>\n",
       "  <tbody>\n",
       "    <tr>\n",
       "      <th>0</th>\n",
       "      <td>Avery Bradley</td>\n",
       "      <td>Boston Celtics</td>\n",
       "      <td>0.0</td>\n",
       "      <td>PG</td>\n",
       "      <td>25.0</td>\n",
       "      <td>6-2</td>\n",
       "      <td>180.0</td>\n",
       "      <td>Texas</td>\n",
       "      <td>7730337.0</td>\n",
       "    </tr>\n",
       "    <tr>\n",
       "      <th>1</th>\n",
       "      <td>Jae Crowder</td>\n",
       "      <td>Boston Celtics</td>\n",
       "      <td>99.0</td>\n",
       "      <td>SF</td>\n",
       "      <td>25.0</td>\n",
       "      <td>6-6</td>\n",
       "      <td>235.0</td>\n",
       "      <td>Marquette</td>\n",
       "      <td>6796117.0</td>\n",
       "    </tr>\n",
       "    <tr>\n",
       "      <th>2</th>\n",
       "      <td>John Holland</td>\n",
       "      <td>Boston Celtics</td>\n",
       "      <td>30.0</td>\n",
       "      <td>SG</td>\n",
       "      <td>27.0</td>\n",
       "      <td>6-5</td>\n",
       "      <td>205.0</td>\n",
       "      <td>Boston University</td>\n",
       "      <td>NaN</td>\n",
       "    </tr>\n",
       "    <tr>\n",
       "      <th>3</th>\n",
       "      <td>R.J. Hunter</td>\n",
       "      <td>Boston Celtics</td>\n",
       "      <td>28.0</td>\n",
       "      <td>SG</td>\n",
       "      <td>22.0</td>\n",
       "      <td>6-5</td>\n",
       "      <td>185.0</td>\n",
       "      <td>Georgia State</td>\n",
       "      <td>1148640.0</td>\n",
       "    </tr>\n",
       "    <tr>\n",
       "      <th>4</th>\n",
       "      <td>Jonas Jerebko</td>\n",
       "      <td>Boston Celtics</td>\n",
       "      <td>8.0</td>\n",
       "      <td>PF</td>\n",
       "      <td>29.0</td>\n",
       "      <td>6-10</td>\n",
       "      <td>231.0</td>\n",
       "      <td>NaN</td>\n",
       "      <td>5000000.0</td>\n",
       "    </tr>\n",
       "    <tr>\n",
       "      <th>5</th>\n",
       "      <td>Amir Johnson</td>\n",
       "      <td>Boston Celtics</td>\n",
       "      <td>90.0</td>\n",
       "      <td>PF</td>\n",
       "      <td>29.0</td>\n",
       "      <td>6-9</td>\n",
       "      <td>240.0</td>\n",
       "      <td>NaN</td>\n",
       "      <td>12000000.0</td>\n",
       "    </tr>\n",
       "    <tr>\n",
       "      <th>6</th>\n",
       "      <td>Jordan Mickey</td>\n",
       "      <td>Boston Celtics</td>\n",
       "      <td>55.0</td>\n",
       "      <td>PF</td>\n",
       "      <td>21.0</td>\n",
       "      <td>6-8</td>\n",
       "      <td>235.0</td>\n",
       "      <td>LSU</td>\n",
       "      <td>1170960.0</td>\n",
       "    </tr>\n",
       "    <tr>\n",
       "      <th>7</th>\n",
       "      <td>Kelly Olynyk</td>\n",
       "      <td>Boston Celtics</td>\n",
       "      <td>41.0</td>\n",
       "      <td>C</td>\n",
       "      <td>25.0</td>\n",
       "      <td>7-0</td>\n",
       "      <td>238.0</td>\n",
       "      <td>Gonzaga</td>\n",
       "      <td>2165160.0</td>\n",
       "    </tr>\n",
       "    <tr>\n",
       "      <th>8</th>\n",
       "      <td>Terry Rozier</td>\n",
       "      <td>Boston Celtics</td>\n",
       "      <td>12.0</td>\n",
       "      <td>PG</td>\n",
       "      <td>22.0</td>\n",
       "      <td>6-2</td>\n",
       "      <td>190.0</td>\n",
       "      <td>Louisville</td>\n",
       "      <td>1824360.0</td>\n",
       "    </tr>\n",
       "    <tr>\n",
       "      <th>9</th>\n",
       "      <td>Marcus Smart</td>\n",
       "      <td>Boston Celtics</td>\n",
       "      <td>36.0</td>\n",
       "      <td>PG</td>\n",
       "      <td>22.0</td>\n",
       "      <td>6-4</td>\n",
       "      <td>220.0</td>\n",
       "      <td>Oklahoma State</td>\n",
       "      <td>3431040.0</td>\n",
       "    </tr>\n",
       "  </tbody>\n",
       "</table>\n",
       "</div>"
      ],
      "text/plain": [
       "            Name            Team  Number Position   Age Height  Weight  \\\n",
       "0  Avery Bradley  Boston Celtics     0.0       PG  25.0    6-2   180.0   \n",
       "1    Jae Crowder  Boston Celtics    99.0       SF  25.0    6-6   235.0   \n",
       "2   John Holland  Boston Celtics    30.0       SG  27.0    6-5   205.0   \n",
       "3    R.J. Hunter  Boston Celtics    28.0       SG  22.0    6-5   185.0   \n",
       "4  Jonas Jerebko  Boston Celtics     8.0       PF  29.0   6-10   231.0   \n",
       "5   Amir Johnson  Boston Celtics    90.0       PF  29.0    6-9   240.0   \n",
       "6  Jordan Mickey  Boston Celtics    55.0       PF  21.0    6-8   235.0   \n",
       "7   Kelly Olynyk  Boston Celtics    41.0        C  25.0    7-0   238.0   \n",
       "8   Terry Rozier  Boston Celtics    12.0       PG  22.0    6-2   190.0   \n",
       "9   Marcus Smart  Boston Celtics    36.0       PG  22.0    6-4   220.0   \n",
       "\n",
       "             College      Salary  \n",
       "0              Texas   7730337.0  \n",
       "1          Marquette   6796117.0  \n",
       "2  Boston University         NaN  \n",
       "3      Georgia State   1148640.0  \n",
       "4                NaN   5000000.0  \n",
       "5                NaN  12000000.0  \n",
       "6                LSU   1170960.0  \n",
       "7            Gonzaga   2165160.0  \n",
       "8         Louisville   1824360.0  \n",
       "9     Oklahoma State   3431040.0  "
      ]
     },
     "execution_count": 40,
     "metadata": {},
     "output_type": "execute_result"
    }
   ],
   "source": [
    "# importing pandas package\n",
    "import pandas as pd\n",
    "  \n",
    "# making data frame from csv file\n",
    "df = pd.read_csv(\"https://media.geeksforgeeks.org/wp-content/uploads/nba.csv\")\n",
    "  \n",
    "# printing the first 10 rows of the dataframe\n",
    "df[:10]"
   ]
  },
  {
   "cell_type": "markdown",
   "id": "d056a80d",
   "metadata": {
    "hidden": true
   },
   "source": [
    "Aggregation works with only numeric type columns.\n",
    "\n",
    "**Output of following code:**\n",
    "\n",
    "For each column which are having numeric values, minimum and sum of all values has been found. For dataframe df , we have four such columns Number, Age, Weight, Salary."
   ]
  },
  {
   "cell_type": "code",
   "execution_count": 41,
   "id": "c16d6f6a",
   "metadata": {
    "hidden": true
   },
   "outputs": [
    {
     "data": {
      "text/html": [
       "<div>\n",
       "<style scoped>\n",
       "    .dataframe tbody tr th:only-of-type {\n",
       "        vertical-align: middle;\n",
       "    }\n",
       "\n",
       "    .dataframe tbody tr th {\n",
       "        vertical-align: top;\n",
       "    }\n",
       "\n",
       "    .dataframe thead th {\n",
       "        text-align: right;\n",
       "    }\n",
       "</style>\n",
       "<table border=\"1\" class=\"dataframe\">\n",
       "  <thead>\n",
       "    <tr style=\"text-align: right;\">\n",
       "      <th></th>\n",
       "      <th>Number</th>\n",
       "      <th>Age</th>\n",
       "      <th>Weight</th>\n",
       "      <th>Salary</th>\n",
       "    </tr>\n",
       "  </thead>\n",
       "  <tbody>\n",
       "    <tr>\n",
       "      <th>sum</th>\n",
       "      <td>8079.0</td>\n",
       "      <td>12311.0</td>\n",
       "      <td>101236.0</td>\n",
       "      <td>2.159837e+09</td>\n",
       "    </tr>\n",
       "    <tr>\n",
       "      <th>min</th>\n",
       "      <td>0.0</td>\n",
       "      <td>19.0</td>\n",
       "      <td>161.0</td>\n",
       "      <td>3.088800e+04</td>\n",
       "    </tr>\n",
       "  </tbody>\n",
       "</table>\n",
       "</div>"
      ],
      "text/plain": [
       "     Number      Age    Weight        Salary\n",
       "sum  8079.0  12311.0  101236.0  2.159837e+09\n",
       "min     0.0     19.0     161.0  3.088800e+04"
      ]
     },
     "execution_count": 41,
     "metadata": {},
     "output_type": "execute_result"
    }
   ],
   "source": [
    "# Applying aggregation across all the columns \n",
    "# sum and min will be found for each \n",
    "# numeric type column in df dataframe\n",
    "  \n",
    "df.aggregate(['sum', 'min'])"
   ]
  },
  {
   "cell_type": "markdown",
   "id": "63712984",
   "metadata": {
    "hidden": true
   },
   "source": [
    "**Example #2:** \n",
    "\n",
    "In Pandas, we can also apply different aggregation functions across different columns. For that, we need to pass a dictionary with key containing the column names and values containing the list of aggregation functions for any specific column.\n",
    "\n",
    "**Output of following code:**\n",
    "\n",
    "Separate aggregation has been applied to each column, if any specific aggregation is not applied on a column then it has NaN value corresponding to it."
   ]
  },
  {
   "cell_type": "code",
   "execution_count": 42,
   "id": "2ae196f7",
   "metadata": {
    "hidden": true
   },
   "outputs": [
    {
     "data": {
      "text/html": [
       "<div>\n",
       "<style scoped>\n",
       "    .dataframe tbody tr th:only-of-type {\n",
       "        vertical-align: middle;\n",
       "    }\n",
       "\n",
       "    .dataframe tbody tr th {\n",
       "        vertical-align: top;\n",
       "    }\n",
       "\n",
       "    .dataframe thead th {\n",
       "        text-align: right;\n",
       "    }\n",
       "</style>\n",
       "<table border=\"1\" class=\"dataframe\">\n",
       "  <thead>\n",
       "    <tr style=\"text-align: right;\">\n",
       "      <th></th>\n",
       "      <th>Number</th>\n",
       "      <th>Age</th>\n",
       "      <th>Weight</th>\n",
       "      <th>Salary</th>\n",
       "    </tr>\n",
       "  </thead>\n",
       "  <tbody>\n",
       "    <tr>\n",
       "      <th>sum</th>\n",
       "      <td>8079.0</td>\n",
       "      <td>NaN</td>\n",
       "      <td>101236.0</td>\n",
       "      <td>2.159837e+09</td>\n",
       "    </tr>\n",
       "    <tr>\n",
       "      <th>min</th>\n",
       "      <td>0.0</td>\n",
       "      <td>19.0</td>\n",
       "      <td>161.0</td>\n",
       "      <td>NaN</td>\n",
       "    </tr>\n",
       "    <tr>\n",
       "      <th>max</th>\n",
       "      <td>NaN</td>\n",
       "      <td>40.0</td>\n",
       "      <td>NaN</td>\n",
       "      <td>NaN</td>\n",
       "    </tr>\n",
       "  </tbody>\n",
       "</table>\n",
       "</div>"
      ],
      "text/plain": [
       "     Number   Age    Weight        Salary\n",
       "sum  8079.0   NaN  101236.0  2.159837e+09\n",
       "min     0.0  19.0     161.0           NaN\n",
       "max     NaN  40.0       NaN           NaN"
      ]
     },
     "execution_count": 42,
     "metadata": {},
     "output_type": "execute_result"
    }
   ],
   "source": [
    "# importing pandas package\n",
    "import pandas as pd\n",
    "  \n",
    "# making data frame from csv file\n",
    "df = pd.read_csv(\"https://media.geeksforgeeks.org/wp-content/uploads/nba.csv\")\n",
    "  \n",
    "# We are going to find aggregation for these columns\n",
    "df.aggregate({\"Number\":['sum', 'min'],\n",
    "              \"Age\":['max', 'min'],\n",
    "              \"Weight\":['min', 'sum'], \n",
    "              \"Salary\":['sum']})"
   ]
  },
  {
   "cell_type": "markdown",
   "id": "60373a76",
   "metadata": {
    "heading_collapsed": true
   },
   "source": [
    "# [Pandas GroupBy](https://www.geeksforgeeks.org/pandas-groupby/?ref=lbp)"
   ]
  },
  {
   "cell_type": "markdown",
   "id": "8cb63ddd",
   "metadata": {
    "hidden": true
   },
   "source": [
    "Groupby is a pretty simple concept. We can create a grouping of categories and apply a function to the categories. It’s a simple concept but it’s an extremely valuable technique that’s widely used in data science. In real data science projects, you’ll be dealing with large amounts of data and trying things over and over, so for efficiency, we use Groupby concept. Groupby concept is really important because it’s ability to aggregate data efficiently, both in performance and the amount code is magnificent. Groupby mainly refers to a process involving one or more of the following steps they are:\n",
    "\n",
    "* Splitting : It is a process in which we split data into group by applying some conditions on datasets.\n",
    "* Applying : It is a process in which we apply a function to each group independently\n",
    "* Combining : It is a process in which we combine different datasets after applying groupby and results into a data structure"
   ]
  },
  {
   "cell_type": "markdown",
   "id": "4e40b28a",
   "metadata": {
    "hidden": true
   },
   "source": [
    "The following image will help in understanding a process involve in Groupby concept.\n",
    "1. Group the unique values from the Team column <img src=\"https://media.geeksforgeeks.org/wp-content/uploads/groupby1.png\" alt=\"\" width=\"1000\" height=\"484\" class=\"alignnone size-full wp-image-873011\">\n",
    "1. Now there’s a bucket for each group <img src=\"https://media.geeksforgeeks.org/wp-content/uploads/groupby3.png\" alt=\"\" width=\"1000\" height=\"717\" class=\"alignnone size-full wp-image-873014\">\n",
    "1. Toss the other data into the buckets <img src=\"https://media.geeksforgeeks.org/wp-content/uploads/groupby2.png\" alt=\"\" width=\"1000\" height=\"458\" class=\"alignnone size-full wp-image-873013\">\n",
    "1.  Apply a function on the weight column of each bucket. <img src=\"https://media.geeksforgeeks.org/wp-content/uploads/groupby4.png\" alt=\"\" width=\"1000\" height=\"779\" class=\"alignnone size-full wp-image-873021\">"
   ]
  },
  {
   "cell_type": "markdown",
   "id": "07b8e609",
   "metadata": {
    "heading_collapsed": true,
    "hidden": true
   },
   "source": [
    "## Splitting Data into Groups"
   ]
  },
  {
   "cell_type": "markdown",
   "id": "8ba8d6dc",
   "metadata": {
    "hidden": true
   },
   "source": [
    "Splitting is a process in which we split data into a group by applying some conditions on datasets. In order to split the data, we apply certain conditions on datasets. In order to split the data, we use `groupby()` function this function is used to split the data into groups based on some criteria. Pandas objects can be split on any of their axes. The abstract definition of grouping is to provide a mapping of labels to group names. Pandas datasets can be split into any of their objects. There are multiple ways to split data like:\n",
    "\n",
    "* `obj.groupby(key)`\n",
    "* `obj.groupby(key, axis=1)`\n",
    "* `obj.groupby([key1, key2])`\n",
    "\n",
    "**Note :** In this we refer to the grouping objects as the keys."
   ]
  },
  {
   "cell_type": "markdown",
   "id": "e83b8337",
   "metadata": {
    "heading_collapsed": true,
    "hidden": true
   },
   "source": [
    "## Grouping data with one key:\n"
   ]
  },
  {
   "cell_type": "markdown",
   "id": "0d0ebe0f",
   "metadata": {
    "hidden": true
   },
   "source": [
    "In order to group data with one key, we pass only one key as an argument in groupby function."
   ]
  },
  {
   "cell_type": "code",
   "execution_count": 43,
   "id": "a2368421",
   "metadata": {
    "hidden": true
   },
   "outputs": [
    {
     "name": "stdout",
     "output_type": "stream",
     "text": [
      "     Name  Age    Address Qualification\n",
      "0     Jai   27     Nagpur           Msc\n",
      "1    Anuj   24     Kanpur            MA\n",
      "2     Jai   22  Allahabad           MCA\n",
      "3  Princi   32    Kannuaj           Phd\n",
      "4  Gaurav   33    Jaunpur        B.Tech\n",
      "5    Anuj   36     Kanpur         B.com\n",
      "6  Princi   27  Allahabad           Msc\n",
      "7    Abhi   32    Aligarh            MA\n"
     ]
    }
   ],
   "source": [
    "# importing pandas module\n",
    "import pandas as pd \n",
    "   \n",
    "# Define a dictionary containing employee data \n",
    "data1 = {'Name':['Jai', 'Anuj', 'Jai', 'Princi', \n",
    "                 'Gaurav', 'Anuj', 'Princi', 'Abhi'], \n",
    "        'Age':[27, 24, 22, 32, \n",
    "               33, 36, 27, 32], \n",
    "        'Address':['Nagpur', 'Kanpur', 'Allahabad', 'Kannuaj',\n",
    "                   'Jaunpur', 'Kanpur', 'Allahabad', 'Aligarh'], \n",
    "        'Qualification':['Msc', 'MA', 'MCA', 'Phd',\n",
    "                         'B.Tech', 'B.com', 'Msc', 'MA']} \n",
    "     \n",
    "   \n",
    "# Convert the dictionary into DataFrame  \n",
    "df = pd.DataFrame(data1)\n",
    "   \n",
    "print(df) "
   ]
  },
  {
   "cell_type": "markdown",
   "id": "aec29676",
   "metadata": {
    "hidden": true
   },
   "source": [
    "Now we group a data of `Name` using `groupby()` function."
   ]
  },
  {
   "cell_type": "code",
   "execution_count": 44,
   "id": "04ecdeb4",
   "metadata": {
    "hidden": true
   },
   "outputs": [
    {
     "name": "stdout",
     "output_type": "stream",
     "text": [
      "{'Abhi': [7], 'Anuj': [1, 5], 'Gaurav': [4], 'Jai': [0, 2], 'Princi': [3, 6]}\n"
     ]
    }
   ],
   "source": [
    "# using groupby function\n",
    "# with one key\n",
    "  \n",
    "df.groupby('Name')\n",
    "print(df.groupby('Name').groups)"
   ]
  },
  {
   "cell_type": "markdown",
   "id": "bc3ec355",
   "metadata": {
    "hidden": true
   },
   "source": [
    "**Output :**\n",
    "\n",
    "<img src=\"https://media.geeksforgeeks.org/wp-content/uploads/ser23.jpg\" alt=\"\" width=\"982\" height=\"41\" class=\"alignnone size-full wp-image-840328\">"
   ]
  },
  {
   "cell_type": "markdown",
   "id": "cad69c20",
   "metadata": {
    "hidden": true
   },
   "source": [
    "Now we print the first entries in all the groups formed."
   ]
  },
  {
   "cell_type": "code",
   "execution_count": 45,
   "id": "12f0c57e",
   "metadata": {
    "hidden": true
   },
   "outputs": [
    {
     "data": {
      "text/html": [
       "<div>\n",
       "<style scoped>\n",
       "    .dataframe tbody tr th:only-of-type {\n",
       "        vertical-align: middle;\n",
       "    }\n",
       "\n",
       "    .dataframe tbody tr th {\n",
       "        vertical-align: top;\n",
       "    }\n",
       "\n",
       "    .dataframe thead th {\n",
       "        text-align: right;\n",
       "    }\n",
       "</style>\n",
       "<table border=\"1\" class=\"dataframe\">\n",
       "  <thead>\n",
       "    <tr style=\"text-align: right;\">\n",
       "      <th></th>\n",
       "      <th>Age</th>\n",
       "      <th>Address</th>\n",
       "      <th>Qualification</th>\n",
       "    </tr>\n",
       "    <tr>\n",
       "      <th>Name</th>\n",
       "      <th></th>\n",
       "      <th></th>\n",
       "      <th></th>\n",
       "    </tr>\n",
       "  </thead>\n",
       "  <tbody>\n",
       "    <tr>\n",
       "      <th>Abhi</th>\n",
       "      <td>32</td>\n",
       "      <td>Aligarh</td>\n",
       "      <td>MA</td>\n",
       "    </tr>\n",
       "    <tr>\n",
       "      <th>Anuj</th>\n",
       "      <td>24</td>\n",
       "      <td>Kanpur</td>\n",
       "      <td>MA</td>\n",
       "    </tr>\n",
       "    <tr>\n",
       "      <th>Gaurav</th>\n",
       "      <td>33</td>\n",
       "      <td>Jaunpur</td>\n",
       "      <td>B.Tech</td>\n",
       "    </tr>\n",
       "    <tr>\n",
       "      <th>Jai</th>\n",
       "      <td>27</td>\n",
       "      <td>Nagpur</td>\n",
       "      <td>Msc</td>\n",
       "    </tr>\n",
       "    <tr>\n",
       "      <th>Princi</th>\n",
       "      <td>32</td>\n",
       "      <td>Kannuaj</td>\n",
       "      <td>Phd</td>\n",
       "    </tr>\n",
       "  </tbody>\n",
       "</table>\n",
       "</div>"
      ],
      "text/plain": [
       "        Age  Address Qualification\n",
       "Name                              \n",
       "Abhi     32  Aligarh            MA\n",
       "Anuj     24   Kanpur            MA\n",
       "Gaurav   33  Jaunpur        B.Tech\n",
       "Jai      27   Nagpur           Msc\n",
       "Princi   32  Kannuaj           Phd"
      ]
     },
     "execution_count": 45,
     "metadata": {},
     "output_type": "execute_result"
    }
   ],
   "source": [
    "# applying groupby() function to \n",
    "# group the data on Name value. \n",
    "gk = df.groupby('Name') \n",
    "    \n",
    "# Let's print the first entries \n",
    "# in all the groups formed. \n",
    "gk.first() "
   ]
  },
  {
   "cell_type": "markdown",
   "id": "826eaf23",
   "metadata": {
    "heading_collapsed": true,
    "hidden": true
   },
   "source": [
    "## Grouping data with multiple keys :"
   ]
  },
  {
   "cell_type": "markdown",
   "id": "90e93058",
   "metadata": {
    "hidden": true
   },
   "source": [
    "In order to group data with multiple keys, we pass multiple keys in `groupby` function."
   ]
  },
  {
   "cell_type": "code",
   "execution_count": 46,
   "id": "3f0da272",
   "metadata": {
    "hidden": true
   },
   "outputs": [
    {
     "name": "stdout",
     "output_type": "stream",
     "text": [
      "     Name  Age    Address Qualification\n",
      "0     Jai   27     Nagpur           Msc\n",
      "1    Anuj   24     Kanpur            MA\n",
      "2     Jai   22  Allahabad           MCA\n",
      "3  Princi   32    Kannuaj           Phd\n",
      "4  Gaurav   33    Jaunpur        B.Tech\n",
      "5    Anuj   36     Kanpur         B.com\n",
      "6  Princi   27  Allahabad           Msc\n",
      "7    Abhi   32    Aligarh            MA\n"
     ]
    }
   ],
   "source": [
    "# importing pandas module\n",
    "import pandas as pd \n",
    "   \n",
    "# Define a dictionary containing employee data \n",
    "data1 = {'Name':['Jai', 'Anuj', 'Jai', 'Princi', \n",
    "                 'Gaurav', 'Anuj', 'Princi', 'Abhi'], \n",
    "        'Age':[27, 24, 22, 32, \n",
    "               33, 36, 27, 32], \n",
    "        'Address':['Nagpur', 'Kanpur', 'Allahabad', 'Kannuaj',\n",
    "                   'Jaunpur', 'Kanpur', 'Allahabad', 'Aligarh'], \n",
    "        'Qualification':['Msc', 'MA', 'MCA', 'Phd',\n",
    "                         'B.Tech', 'B.com', 'Msc', 'MA']} \n",
    "     \n",
    "   \n",
    "# Convert the dictionary into DataFrame  \n",
    "df = pd.DataFrame(data1)\n",
    "   \n",
    "print(df) "
   ]
  },
  {
   "cell_type": "markdown",
   "id": "5668e939",
   "metadata": {
    "hidden": true
   },
   "source": [
    "Now we group a data of “Name” and “Qualification” together using multiple keys in groupby function."
   ]
  },
  {
   "cell_type": "code",
   "execution_count": 47,
   "id": "205ef73c",
   "metadata": {
    "hidden": true
   },
   "outputs": [
    {
     "name": "stdout",
     "output_type": "stream",
     "text": [
      "{('Abhi', 'MA'): [7], ('Anuj', 'B.com'): [5], ('Anuj', 'MA'): [1], ('Gaurav', 'B.Tech'): [4], ('Jai', 'MCA'): [2], ('Jai', 'Msc'): [0], ('Princi', 'Msc'): [6], ('Princi', 'Phd'): [3]}\n"
     ]
    }
   ],
   "source": [
    "# Using multiple keys in\n",
    "# groupby() function\n",
    "df.groupby(['Name', 'Qualification'])\n",
    "\n",
    "print(df.groupby(['Name', 'Qualification']).groups)"
   ]
  },
  {
   "cell_type": "markdown",
   "id": "7cfe06b2",
   "metadata": {
    "heading_collapsed": true,
    "hidden": true
   },
   "source": [
    "## Grouping data by sorting keys :"
   ]
  },
  {
   "cell_type": "markdown",
   "id": "bd44bd2d",
   "metadata": {
    "hidden": true
   },
   "source": [
    "Group keys are sorted by default uring the groupby operation. User can pass `sort=False` for potential speedups."
   ]
  },
  {
   "cell_type": "code",
   "execution_count": 48,
   "id": "1c49c360",
   "metadata": {
    "hidden": true
   },
   "outputs": [
    {
     "name": "stdout",
     "output_type": "stream",
     "text": [
      "     Name  Age\n",
      "0     Jai   27\n",
      "1    Anuj   24\n",
      "2     Jai   22\n",
      "3  Princi   32\n",
      "4  Gaurav   33\n",
      "5    Anuj   36\n",
      "6  Princi   27\n",
      "7    Abhi   32\n"
     ]
    }
   ],
   "source": [
    "# importing pandas module\n",
    "import pandas as pd \n",
    "\n",
    "# Define a dictionary containing employee data \n",
    "data1 = {'Name':['Jai', 'Anuj', 'Jai', 'Princi', \n",
    "                 'Gaurav', 'Anuj', 'Princi', 'Abhi'], \n",
    "        'Age':[27, 24, 22, 32, \n",
    "               33, 36, 27, 32], } \n",
    "\n",
    "\n",
    "# Convert the dictionary into DataFrame  \n",
    "df = pd.DataFrame(data1)\n",
    "\n",
    "print(df) "
   ]
  },
  {
   "cell_type": "markdown",
   "id": "effb6e0d",
   "metadata": {
    "hidden": true
   },
   "source": [
    "Now we apply `groupby()` without `sort`"
   ]
  },
  {
   "cell_type": "code",
   "execution_count": 49,
   "id": "b9ae1a13",
   "metadata": {
    "hidden": true
   },
   "outputs": [
    {
     "data": {
      "text/html": [
       "<div>\n",
       "<style scoped>\n",
       "    .dataframe tbody tr th:only-of-type {\n",
       "        vertical-align: middle;\n",
       "    }\n",
       "\n",
       "    .dataframe tbody tr th {\n",
       "        vertical-align: top;\n",
       "    }\n",
       "\n",
       "    .dataframe thead th {\n",
       "        text-align: right;\n",
       "    }\n",
       "</style>\n",
       "<table border=\"1\" class=\"dataframe\">\n",
       "  <thead>\n",
       "    <tr style=\"text-align: right;\">\n",
       "      <th></th>\n",
       "      <th>Age</th>\n",
       "    </tr>\n",
       "    <tr>\n",
       "      <th>Name</th>\n",
       "      <th></th>\n",
       "    </tr>\n",
       "  </thead>\n",
       "  <tbody>\n",
       "    <tr>\n",
       "      <th>Abhi</th>\n",
       "      <td>32</td>\n",
       "    </tr>\n",
       "    <tr>\n",
       "      <th>Anuj</th>\n",
       "      <td>60</td>\n",
       "    </tr>\n",
       "    <tr>\n",
       "      <th>Gaurav</th>\n",
       "      <td>33</td>\n",
       "    </tr>\n",
       "    <tr>\n",
       "      <th>Jai</th>\n",
       "      <td>49</td>\n",
       "    </tr>\n",
       "    <tr>\n",
       "      <th>Princi</th>\n",
       "      <td>59</td>\n",
       "    </tr>\n",
       "  </tbody>\n",
       "</table>\n",
       "</div>"
      ],
      "text/plain": [
       "        Age\n",
       "Name       \n",
       "Abhi     32\n",
       "Anuj     60\n",
       "Gaurav   33\n",
       "Jai      49\n",
       "Princi   59"
      ]
     },
     "execution_count": 49,
     "metadata": {},
     "output_type": "execute_result"
    }
   ],
   "source": [
    "# using groupby function\n",
    "# without using sort\n",
    "  \n",
    "df.groupby(['Name']).sum()"
   ]
  },
  {
   "cell_type": "markdown",
   "id": "dfbd8c91",
   "metadata": {
    "hidden": true
   },
   "source": [
    "Now we apply `groupby()` using sort in order to attain potential speedups"
   ]
  },
  {
   "cell_type": "code",
   "execution_count": 50,
   "id": "f944faab",
   "metadata": {
    "hidden": true
   },
   "outputs": [
    {
     "data": {
      "text/html": [
       "<div>\n",
       "<style scoped>\n",
       "    .dataframe tbody tr th:only-of-type {\n",
       "        vertical-align: middle;\n",
       "    }\n",
       "\n",
       "    .dataframe tbody tr th {\n",
       "        vertical-align: top;\n",
       "    }\n",
       "\n",
       "    .dataframe thead th {\n",
       "        text-align: right;\n",
       "    }\n",
       "</style>\n",
       "<table border=\"1\" class=\"dataframe\">\n",
       "  <thead>\n",
       "    <tr style=\"text-align: right;\">\n",
       "      <th></th>\n",
       "      <th>Age</th>\n",
       "    </tr>\n",
       "    <tr>\n",
       "      <th>Name</th>\n",
       "      <th></th>\n",
       "    </tr>\n",
       "  </thead>\n",
       "  <tbody>\n",
       "    <tr>\n",
       "      <th>Jai</th>\n",
       "      <td>49</td>\n",
       "    </tr>\n",
       "    <tr>\n",
       "      <th>Anuj</th>\n",
       "      <td>60</td>\n",
       "    </tr>\n",
       "    <tr>\n",
       "      <th>Princi</th>\n",
       "      <td>59</td>\n",
       "    </tr>\n",
       "    <tr>\n",
       "      <th>Gaurav</th>\n",
       "      <td>33</td>\n",
       "    </tr>\n",
       "    <tr>\n",
       "      <th>Abhi</th>\n",
       "      <td>32</td>\n",
       "    </tr>\n",
       "  </tbody>\n",
       "</table>\n",
       "</div>"
      ],
      "text/plain": [
       "        Age\n",
       "Name       \n",
       "Jai      49\n",
       "Anuj     60\n",
       "Princi   59\n",
       "Gaurav   33\n",
       "Abhi     32"
      ]
     },
     "execution_count": 50,
     "metadata": {},
     "output_type": "execute_result"
    }
   ],
   "source": [
    "# using groupby function\n",
    "# with sort\n",
    "  \n",
    "df.groupby(['Name'], sort = False).sum()"
   ]
  },
  {
   "cell_type": "markdown",
   "id": "1f48b4fe",
   "metadata": {
    "heading_collapsed": true,
    "hidden": true
   },
   "source": [
    "## Grouping data with object attributes :"
   ]
  },
  {
   "cell_type": "markdown",
   "id": "77f6d7e7",
   "metadata": {
    "hidden": true
   },
   "source": [
    "Groups attribute is like dictionary whose keys are the computed unique groups and corresponding values being the axis labels belonging to each group."
   ]
  },
  {
   "cell_type": "code",
   "execution_count": 51,
   "id": "f3f4af78",
   "metadata": {
    "hidden": true
   },
   "outputs": [
    {
     "name": "stdout",
     "output_type": "stream",
     "text": [
      "     Name  Age    Address Qualification\n",
      "0     Jai   27     Nagpur           Msc\n",
      "1    Anuj   24     Kanpur            MA\n",
      "2     Jai   22  Allahabad           MCA\n",
      "3  Princi   32    Kannuaj           Phd\n",
      "4  Gaurav   33    Jaunpur        B.Tech\n",
      "5    Anuj   36     Kanpur         B.com\n",
      "6  Princi   27  Allahabad           Msc\n",
      "7    Abhi   32    Aligarh            MA\n"
     ]
    }
   ],
   "source": [
    "# importing pandas module\n",
    "import pandas as pd \n",
    "   \n",
    "# Define a dictionary containing employee data \n",
    "data1 = {'Name':['Jai', 'Anuj', 'Jai', 'Princi', \n",
    "                 'Gaurav', 'Anuj', 'Princi', 'Abhi'], \n",
    "        'Age':[27, 24, 22, 32, \n",
    "               33, 36, 27, 32], \n",
    "        'Address':['Nagpur', 'Kanpur', 'Allahabad', 'Kannuaj',\n",
    "                   'Jaunpur', 'Kanpur', 'Allahabad', 'Aligarh'], \n",
    "        'Qualification':['Msc', 'MA', 'MCA', 'Phd',\n",
    "                         'B.Tech', 'B.com', 'Msc', 'MA']} \n",
    "     \n",
    "   \n",
    "# Convert the dictionary into DataFrame  \n",
    "df = pd.DataFrame(data1)\n",
    "   \n",
    "print(df) "
   ]
  },
  {
   "cell_type": "markdown",
   "id": "3c4439af",
   "metadata": {
    "hidden": true
   },
   "source": [
    "Now we group data like we do in a dictionary using keys."
   ]
  },
  {
   "cell_type": "code",
   "execution_count": 52,
   "id": "b8bd8a1a",
   "metadata": {
    "hidden": true
   },
   "outputs": [
    {
     "data": {
      "text/plain": [
       "{'Abhi': [7], 'Anuj': [1, 5], 'Gaurav': [4], 'Jai': [0, 2], 'Princi': [3, 6]}"
      ]
     },
     "execution_count": 52,
     "metadata": {},
     "output_type": "execute_result"
    }
   ],
   "source": [
    "# using keys for grouping\n",
    "# data\n",
    "  \n",
    "df.groupby('Name').groups"
   ]
  },
  {
   "cell_type": "markdown",
   "id": "9958589c",
   "metadata": {
    "heading_collapsed": true,
    "hidden": true
   },
   "source": [
    "## Iterating through groups"
   ]
  },
  {
   "cell_type": "markdown",
   "id": "e25e779d",
   "metadata": {
    "hidden": true
   },
   "source": [
    "In order to iterate an element of groups, we can iterate through the object similar to `itertools.obj`."
   ]
  },
  {
   "cell_type": "code",
   "execution_count": 53,
   "id": "da4e3055",
   "metadata": {
    "hidden": true
   },
   "outputs": [
    {
     "name": "stdout",
     "output_type": "stream",
     "text": [
      "     Name  Age    Address Qualification\n",
      "0     Jai   27     Nagpur           Msc\n",
      "1    Anuj   24     Kanpur            MA\n",
      "2     Jai   22  Allahabad           MCA\n",
      "3  Princi   32    Kannuaj           Phd\n",
      "4  Gaurav   33    Jaunpur        B.Tech\n",
      "5    Anuj   36     Kanpur         B.com\n",
      "6  Princi   27  Allahabad           Msc\n",
      "7    Abhi   32    Aligarh            MA\n"
     ]
    }
   ],
   "source": [
    "# importing pandas module\n",
    "import pandas as pd \n",
    "   \n",
    "# Define a dictionary containing employee data \n",
    "data1 = {'Name':['Jai', 'Anuj', 'Jai', 'Princi', \n",
    "                 'Gaurav', 'Anuj', 'Princi', 'Abhi'], \n",
    "        'Age':[27, 24, 22, 32, \n",
    "               33, 36, 27, 32], \n",
    "        'Address':['Nagpur', 'Kanpur', 'Allahabad', 'Kannuaj',\n",
    "                   'Jaunpur', 'Kanpur', 'Allahabad', 'Aligarh'], \n",
    "        'Qualification':['Msc', 'MA', 'MCA', 'Phd',\n",
    "                         'B.Tech', 'B.com', 'Msc', 'MA']} \n",
    "     \n",
    "   \n",
    "# Convert the dictionary into DataFrame  \n",
    "df = pd.DataFrame(data1)\n",
    "   \n",
    "print(df) "
   ]
  },
  {
   "cell_type": "markdown",
   "id": "f41601af",
   "metadata": {
    "hidden": true
   },
   "source": [
    "Now we iterate an element of group in a similar way we do in itertools.obj."
   ]
  },
  {
   "cell_type": "code",
   "execution_count": 54,
   "id": "3500304a",
   "metadata": {
    "hidden": true
   },
   "outputs": [
    {
     "name": "stdout",
     "output_type": "stream",
     "text": [
      "Abhi\n",
      "   Name  Age  Address Qualification\n",
      "7  Abhi   32  Aligarh            MA\n",
      "\n",
      "Anuj\n",
      "   Name  Age Address Qualification\n",
      "1  Anuj   24  Kanpur            MA\n",
      "5  Anuj   36  Kanpur         B.com\n",
      "\n",
      "Gaurav\n",
      "     Name  Age  Address Qualification\n",
      "4  Gaurav   33  Jaunpur        B.Tech\n",
      "\n",
      "Jai\n",
      "  Name  Age    Address Qualification\n",
      "0  Jai   27     Nagpur           Msc\n",
      "2  Jai   22  Allahabad           MCA\n",
      "\n",
      "Princi\n",
      "     Name  Age    Address Qualification\n",
      "3  Princi   32    Kannuaj           Phd\n",
      "6  Princi   27  Allahabad           Msc\n",
      "\n"
     ]
    }
   ],
   "source": [
    "# iterating an element\n",
    "# of group\n",
    "  \n",
    "grp = df.groupby('Name')\n",
    "for name, group in grp:\n",
    "    print(name)\n",
    "    print(group)\n",
    "    print()"
   ]
  },
  {
   "cell_type": "markdown",
   "id": "2651aceb",
   "metadata": {
    "hidden": true
   },
   "source": [
    "Now we iterate an element of group containing multiple keys"
   ]
  },
  {
   "cell_type": "code",
   "execution_count": 55,
   "id": "b3a2e647",
   "metadata": {
    "hidden": true
   },
   "outputs": [
    {
     "name": "stdout",
     "output_type": "stream",
     "text": [
      "('Abhi', 'MA')\n",
      "   Name  Age  Address Qualification\n",
      "7  Abhi   32  Aligarh            MA\n",
      "\n",
      "('Anuj', 'B.com')\n",
      "   Name  Age Address Qualification\n",
      "5  Anuj   36  Kanpur         B.com\n",
      "\n",
      "('Anuj', 'MA')\n",
      "   Name  Age Address Qualification\n",
      "1  Anuj   24  Kanpur            MA\n",
      "\n",
      "('Gaurav', 'B.Tech')\n",
      "     Name  Age  Address Qualification\n",
      "4  Gaurav   33  Jaunpur        B.Tech\n",
      "\n",
      "('Jai', 'MCA')\n",
      "  Name  Age    Address Qualification\n",
      "2  Jai   22  Allahabad           MCA\n",
      "\n",
      "('Jai', 'Msc')\n",
      "  Name  Age Address Qualification\n",
      "0  Jai   27  Nagpur           Msc\n",
      "\n",
      "('Princi', 'Msc')\n",
      "     Name  Age    Address Qualification\n",
      "6  Princi   27  Allahabad           Msc\n",
      "\n",
      "('Princi', 'Phd')\n",
      "     Name  Age  Address Qualification\n",
      "3  Princi   32  Kannuaj           Phd\n",
      "\n"
     ]
    }
   ],
   "source": [
    "# iterating an element\n",
    "# of group containing \n",
    "# multiple keys\n",
    "  \n",
    "grp = df.groupby(['Name', 'Qualification'])\n",
    "for name, group in grp:\n",
    "    print(name)\n",
    "    print(group)\n",
    "    print()"
   ]
  },
  {
   "cell_type": "markdown",
   "id": "03ceacdd",
   "metadata": {
    "heading_collapsed": true,
    "hidden": true
   },
   "source": [
    "## Selecting a groups"
   ]
  },
  {
   "cell_type": "markdown",
   "id": "4703284f",
   "metadata": {
    "hidden": true
   },
   "source": [
    "In order to select a group, we can select group using `GroupBy.get_group()`. We can select a group by applying a function `GroupBy.get_group` this function select a single group."
   ]
  },
  {
   "cell_type": "code",
   "execution_count": 56,
   "id": "b5abdc86",
   "metadata": {
    "hidden": true
   },
   "outputs": [
    {
     "name": "stdout",
     "output_type": "stream",
     "text": [
      "     Name  Age    Address Qualification\n",
      "0     Jai   27     Nagpur           Msc\n",
      "1    Anuj   24     Kanpur            MA\n",
      "2     Jai   22  Allahabad           MCA\n",
      "3  Princi   32    Kannuaj           Phd\n",
      "4  Gaurav   33    Jaunpur        B.Tech\n",
      "5    Anuj   36     Kanpur         B.com\n",
      "6  Princi   27  Allahabad           Msc\n",
      "7    Abhi   32    Aligarh            MA\n"
     ]
    }
   ],
   "source": [
    "# importing pandas module\n",
    "import pandas as pd \n",
    "   \n",
    "# Define a dictionary containing employee data \n",
    "data1 = {'Name':['Jai', 'Anuj', 'Jai', 'Princi', \n",
    "                 'Gaurav', 'Anuj', 'Princi', 'Abhi'], \n",
    "        'Age':[27, 24, 22, 32, \n",
    "               33, 36, 27, 32], \n",
    "        'Address':['Nagpur', 'Kanpur', 'Allahabad', 'Kannuaj',\n",
    "                   'Jaunpur', 'Kanpur', 'Allahabad', 'Aligarh'], \n",
    "        'Qualification':['Msc', 'MA', 'MCA', 'Phd',\n",
    "                         'B.Tech', 'B.com', 'Msc', 'MA']} \n",
    "     \n",
    "   \n",
    "# Convert the dictionary into DataFrame  \n",
    "df = pd.DataFrame(data1)\n",
    "   \n",
    "print(df)"
   ]
  },
  {
   "cell_type": "markdown",
   "id": "568384bb",
   "metadata": {
    "hidden": true
   },
   "source": [
    "Now we select a single group using `Groupby.get_group`."
   ]
  },
  {
   "cell_type": "code",
   "execution_count": 57,
   "id": "883597e3",
   "metadata": {
    "hidden": true
   },
   "outputs": [
    {
     "data": {
      "text/html": [
       "<div>\n",
       "<style scoped>\n",
       "    .dataframe tbody tr th:only-of-type {\n",
       "        vertical-align: middle;\n",
       "    }\n",
       "\n",
       "    .dataframe tbody tr th {\n",
       "        vertical-align: top;\n",
       "    }\n",
       "\n",
       "    .dataframe thead th {\n",
       "        text-align: right;\n",
       "    }\n",
       "</style>\n",
       "<table border=\"1\" class=\"dataframe\">\n",
       "  <thead>\n",
       "    <tr style=\"text-align: right;\">\n",
       "      <th></th>\n",
       "      <th>Name</th>\n",
       "      <th>Age</th>\n",
       "      <th>Address</th>\n",
       "      <th>Qualification</th>\n",
       "    </tr>\n",
       "  </thead>\n",
       "  <tbody>\n",
       "    <tr>\n",
       "      <th>0</th>\n",
       "      <td>Jai</td>\n",
       "      <td>27</td>\n",
       "      <td>Nagpur</td>\n",
       "      <td>Msc</td>\n",
       "    </tr>\n",
       "    <tr>\n",
       "      <th>2</th>\n",
       "      <td>Jai</td>\n",
       "      <td>22</td>\n",
       "      <td>Allahabad</td>\n",
       "      <td>MCA</td>\n",
       "    </tr>\n",
       "  </tbody>\n",
       "</table>\n",
       "</div>"
      ],
      "text/plain": [
       "  Name  Age    Address Qualification\n",
       "0  Jai   27     Nagpur           Msc\n",
       "2  Jai   22  Allahabad           MCA"
      ]
     },
     "execution_count": 57,
     "metadata": {},
     "output_type": "execute_result"
    }
   ],
   "source": [
    "# selecting a single group\n",
    "  \n",
    "grp = df.groupby('Name')\n",
    "grp.get_group('Jai')"
   ]
  },
  {
   "cell_type": "markdown",
   "id": "85a4e190",
   "metadata": {
    "hidden": true
   },
   "source": [
    "Now we select an object grouped on multiple columns"
   ]
  },
  {
   "cell_type": "code",
   "execution_count": 58,
   "id": "1ce52f31",
   "metadata": {
    "hidden": true
   },
   "outputs": [
    {
     "data": {
      "text/html": [
       "<div>\n",
       "<style scoped>\n",
       "    .dataframe tbody tr th:only-of-type {\n",
       "        vertical-align: middle;\n",
       "    }\n",
       "\n",
       "    .dataframe tbody tr th {\n",
       "        vertical-align: top;\n",
       "    }\n",
       "\n",
       "    .dataframe thead th {\n",
       "        text-align: right;\n",
       "    }\n",
       "</style>\n",
       "<table border=\"1\" class=\"dataframe\">\n",
       "  <thead>\n",
       "    <tr style=\"text-align: right;\">\n",
       "      <th></th>\n",
       "      <th>Name</th>\n",
       "      <th>Age</th>\n",
       "      <th>Address</th>\n",
       "      <th>Qualification</th>\n",
       "    </tr>\n",
       "  </thead>\n",
       "  <tbody>\n",
       "    <tr>\n",
       "      <th>0</th>\n",
       "      <td>Jai</td>\n",
       "      <td>27</td>\n",
       "      <td>Nagpur</td>\n",
       "      <td>Msc</td>\n",
       "    </tr>\n",
       "  </tbody>\n",
       "</table>\n",
       "</div>"
      ],
      "text/plain": [
       "  Name  Age Address Qualification\n",
       "0  Jai   27  Nagpur           Msc"
      ]
     },
     "execution_count": 58,
     "metadata": {},
     "output_type": "execute_result"
    }
   ],
   "source": [
    "# selecting object grouped\n",
    "# on multiple columns\n",
    "  \n",
    "grp = df.groupby(['Name', 'Qualification'])\n",
    "grp.get_group(('Jai', 'Msc'))"
   ]
  },
  {
   "cell_type": "markdown",
   "id": "e7b27641",
   "metadata": {
    "heading_collapsed": true,
    "hidden": true
   },
   "source": [
    "## Applying function to group"
   ]
  },
  {
   "cell_type": "markdown",
   "id": "591a65f1",
   "metadata": {
    "hidden": true
   },
   "source": [
    "After splitting a data into a group, we apply a function to each group in order to do that we perform some operation they are:\n",
    "\n",
    "* **Aggregation :** It is a process in which we compute a summary statistic (or statistics) about each group. For Example, Compute group sums ormeans\n",
    "* **Transformation :** It is a process in which we perform some group-specific computations and return a like-indexed. For Example, Filling NAs within groups with a value derived from each group\n",
    "* **Filtration :** It is a process in which we discard some groups, according to a group-wise computation that evaluates True or False. For Example, Filtering out data based on the group sum or mean"
   ]
  },
  {
   "cell_type": "markdown",
   "id": "f856afef",
   "metadata": {
    "hidden": true
   },
   "source": [
    "**Aggregation :**\n",
    "\n",
    "Aggregation is a process in which we compute a summary statistic about each group. Aggregated function returns a single aggregated value for each group. After splitting a data into groups using `groupby` function, several aggregation operations can be performed on the grouped data.\n",
    "\n",
    "**Code #1:** Using aggregation via the aggregate method"
   ]
  },
  {
   "cell_type": "code",
   "execution_count": 59,
   "id": "72249794",
   "metadata": {
    "hidden": true
   },
   "outputs": [
    {
     "name": "stdout",
     "output_type": "stream",
     "text": [
      "     Name  Age    Address Qualification\n",
      "0     Jai   27     Nagpur           Msc\n",
      "1    Anuj   24     Kanpur            MA\n",
      "2     Jai   22  Allahabad           MCA\n",
      "3  Princi   32    Kannuaj           Phd\n",
      "4  Gaurav   33    Jaunpur        B.Tech\n",
      "5    Anuj   36     Kanpur         B.com\n",
      "6  Princi   27  Allahabad           Msc\n",
      "7    Abhi   32    Aligarh            MA\n"
     ]
    }
   ],
   "source": [
    "# importing pandas module\n",
    "import pandas as pd \n",
    "  \n",
    "# importing numpy as np\n",
    "import numpy as np\n",
    "   \n",
    "# Define a dictionary containing employee data \n",
    "data1 = {'Name':['Jai', 'Anuj', 'Jai', 'Princi', \n",
    "                 'Gaurav', 'Anuj', 'Princi', 'Abhi'], \n",
    "        'Age':[27, 24, 22, 32, \n",
    "               33, 36, 27, 32], \n",
    "        'Address':['Nagpur', 'Kanpur', 'Allahabad', 'Kannuaj',\n",
    "                   'Jaunpur', 'Kanpur', 'Allahabad', 'Aligarh'], \n",
    "        'Qualification':['Msc', 'MA', 'MCA', 'Phd',\n",
    "                         'B.Tech', 'B.com', 'Msc', 'MA']} \n",
    "     \n",
    "   \n",
    "# Convert the dictionary into DataFrame  \n",
    "df = pd.DataFrame(data1)\n",
    "   \n",
    "print(df) "
   ]
  },
  {
   "cell_type": "markdown",
   "id": "4a5192fe",
   "metadata": {
    "hidden": true
   },
   "source": [
    "Now we perform aggregation using aggregate method"
   ]
  },
  {
   "cell_type": "code",
   "execution_count": 60,
   "id": "45a5584f",
   "metadata": {
    "hidden": true
   },
   "outputs": [
    {
     "data": {
      "text/html": [
       "<div>\n",
       "<style scoped>\n",
       "    .dataframe tbody tr th:only-of-type {\n",
       "        vertical-align: middle;\n",
       "    }\n",
       "\n",
       "    .dataframe tbody tr th {\n",
       "        vertical-align: top;\n",
       "    }\n",
       "\n",
       "    .dataframe thead th {\n",
       "        text-align: right;\n",
       "    }\n",
       "</style>\n",
       "<table border=\"1\" class=\"dataframe\">\n",
       "  <thead>\n",
       "    <tr style=\"text-align: right;\">\n",
       "      <th></th>\n",
       "      <th>Age</th>\n",
       "    </tr>\n",
       "    <tr>\n",
       "      <th>Name</th>\n",
       "      <th></th>\n",
       "    </tr>\n",
       "  </thead>\n",
       "  <tbody>\n",
       "    <tr>\n",
       "      <th>Abhi</th>\n",
       "      <td>32</td>\n",
       "    </tr>\n",
       "    <tr>\n",
       "      <th>Anuj</th>\n",
       "      <td>60</td>\n",
       "    </tr>\n",
       "    <tr>\n",
       "      <th>Gaurav</th>\n",
       "      <td>33</td>\n",
       "    </tr>\n",
       "    <tr>\n",
       "      <th>Jai</th>\n",
       "      <td>49</td>\n",
       "    </tr>\n",
       "    <tr>\n",
       "      <th>Princi</th>\n",
       "      <td>59</td>\n",
       "    </tr>\n",
       "  </tbody>\n",
       "</table>\n",
       "</div>"
      ],
      "text/plain": [
       "        Age\n",
       "Name       \n",
       "Abhi     32\n",
       "Anuj     60\n",
       "Gaurav   33\n",
       "Jai      49\n",
       "Princi   59"
      ]
     },
     "execution_count": 60,
     "metadata": {},
     "output_type": "execute_result"
    }
   ],
   "source": [
    "# performing aggregation using\n",
    "# aggregate method\n",
    "  \n",
    "grp1 = df.groupby('Name')\n",
    "  \n",
    "grp1.aggregate(np.sum)"
   ]
  },
  {
   "cell_type": "markdown",
   "id": "1207da36",
   "metadata": {
    "hidden": true
   },
   "source": [
    "Now we perform aggregation on agroup containing multiple keys"
   ]
  },
  {
   "cell_type": "code",
   "execution_count": 61,
   "id": "0630d850",
   "metadata": {
    "hidden": true
   },
   "outputs": [
    {
     "data": {
      "text/html": [
       "<div>\n",
       "<style scoped>\n",
       "    .dataframe tbody tr th:only-of-type {\n",
       "        vertical-align: middle;\n",
       "    }\n",
       "\n",
       "    .dataframe tbody tr th {\n",
       "        vertical-align: top;\n",
       "    }\n",
       "\n",
       "    .dataframe thead th {\n",
       "        text-align: right;\n",
       "    }\n",
       "</style>\n",
       "<table border=\"1\" class=\"dataframe\">\n",
       "  <thead>\n",
       "    <tr style=\"text-align: right;\">\n",
       "      <th></th>\n",
       "      <th></th>\n",
       "      <th>Age</th>\n",
       "    </tr>\n",
       "    <tr>\n",
       "      <th>Name</th>\n",
       "      <th>Qualification</th>\n",
       "      <th></th>\n",
       "    </tr>\n",
       "  </thead>\n",
       "  <tbody>\n",
       "    <tr>\n",
       "      <th>Abhi</th>\n",
       "      <th>MA</th>\n",
       "      <td>32</td>\n",
       "    </tr>\n",
       "    <tr>\n",
       "      <th rowspan=\"2\" valign=\"top\">Anuj</th>\n",
       "      <th>B.com</th>\n",
       "      <td>36</td>\n",
       "    </tr>\n",
       "    <tr>\n",
       "      <th>MA</th>\n",
       "      <td>24</td>\n",
       "    </tr>\n",
       "    <tr>\n",
       "      <th>Gaurav</th>\n",
       "      <th>B.Tech</th>\n",
       "      <td>33</td>\n",
       "    </tr>\n",
       "    <tr>\n",
       "      <th rowspan=\"2\" valign=\"top\">Jai</th>\n",
       "      <th>MCA</th>\n",
       "      <td>22</td>\n",
       "    </tr>\n",
       "    <tr>\n",
       "      <th>Msc</th>\n",
       "      <td>27</td>\n",
       "    </tr>\n",
       "    <tr>\n",
       "      <th rowspan=\"2\" valign=\"top\">Princi</th>\n",
       "      <th>Msc</th>\n",
       "      <td>27</td>\n",
       "    </tr>\n",
       "    <tr>\n",
       "      <th>Phd</th>\n",
       "      <td>32</td>\n",
       "    </tr>\n",
       "  </tbody>\n",
       "</table>\n",
       "</div>"
      ],
      "text/plain": [
       "                      Age\n",
       "Name   Qualification     \n",
       "Abhi   MA              32\n",
       "Anuj   B.com           36\n",
       "       MA              24\n",
       "Gaurav B.Tech          33\n",
       "Jai    MCA             22\n",
       "       Msc             27\n",
       "Princi Msc             27\n",
       "       Phd             32"
      ]
     },
     "execution_count": 61,
     "metadata": {},
     "output_type": "execute_result"
    }
   ],
   "source": [
    "# performing aggregation on\n",
    "# group containing multiple\n",
    "# keys\n",
    "grp1 = df.groupby(['Name', 'Qualification'])\n",
    "  \n",
    "grp1.aggregate(np.sum)"
   ]
  },
  {
   "cell_type": "markdown",
   "id": "d7859bdd",
   "metadata": {
    "heading_collapsed": true,
    "hidden": true
   },
   "source": [
    "## Applying multiple functions at once :"
   ]
  },
  {
   "cell_type": "markdown",
   "id": "266318ad",
   "metadata": {
    "hidden": true
   },
   "source": [
    "We can apply a multiple functions at once by passing a list or dictionary of functions to do aggregation with, outputting a DataFrame."
   ]
  },
  {
   "cell_type": "code",
   "execution_count": 62,
   "id": "cfd3e617",
   "metadata": {
    "hidden": true
   },
   "outputs": [
    {
     "name": "stdout",
     "output_type": "stream",
     "text": [
      "     Name  Age    Address Qualification\n",
      "0     Jai   27     Nagpur           Msc\n",
      "1    Anuj   24     Kanpur            MA\n",
      "2     Jai   22  Allahabad           MCA\n",
      "3  Princi   32    Kannuaj           Phd\n",
      "4  Gaurav   33    Jaunpur        B.Tech\n",
      "5    Anuj   36     Kanpur         B.com\n",
      "6  Princi   27  Allahabad           Msc\n",
      "7    Abhi   32    Aligarh            MA\n"
     ]
    }
   ],
   "source": [
    "\n",
    "# importing pandas module\n",
    "import pandas as pd \n",
    "  \n",
    "# importing numpy as np\n",
    "import numpy as np\n",
    "   \n",
    "# Define a dictionary containing employee data \n",
    "data1 = {'Name':['Jai', 'Anuj', 'Jai', 'Princi', \n",
    "                 'Gaurav', 'Anuj', 'Princi', 'Abhi'], \n",
    "        'Age':[27, 24, 22, 32, \n",
    "               33, 36, 27, 32], \n",
    "        'Address':['Nagpur', 'Kanpur', 'Allahabad', 'Kannuaj',\n",
    "                   'Jaunpur', 'Kanpur', 'Allahabad', 'Aligarh'], \n",
    "        'Qualification':['Msc', 'MA', 'MCA', 'Phd',\n",
    "                         'B.Tech', 'B.com', 'Msc', 'MA']} \n",
    "     \n",
    "   \n",
    "# Convert the dictionary into DataFrame  \n",
    "df = pd.DataFrame(data1)\n",
    "   \n",
    "print(df) "
   ]
  },
  {
   "cell_type": "markdown",
   "id": "f95996e6",
   "metadata": {
    "hidden": true
   },
   "source": [
    "Now we apply a multiple functions by passing a list of functions."
   ]
  },
  {
   "cell_type": "code",
   "execution_count": 63,
   "id": "3b144fe8",
   "metadata": {
    "hidden": true
   },
   "outputs": [
    {
     "data": {
      "text/html": [
       "<div>\n",
       "<style scoped>\n",
       "    .dataframe tbody tr th:only-of-type {\n",
       "        vertical-align: middle;\n",
       "    }\n",
       "\n",
       "    .dataframe tbody tr th {\n",
       "        vertical-align: top;\n",
       "    }\n",
       "\n",
       "    .dataframe thead th {\n",
       "        text-align: right;\n",
       "    }\n",
       "</style>\n",
       "<table border=\"1\" class=\"dataframe\">\n",
       "  <thead>\n",
       "    <tr style=\"text-align: right;\">\n",
       "      <th></th>\n",
       "      <th>sum</th>\n",
       "      <th>mean</th>\n",
       "      <th>std</th>\n",
       "    </tr>\n",
       "    <tr>\n",
       "      <th>Name</th>\n",
       "      <th></th>\n",
       "      <th></th>\n",
       "      <th></th>\n",
       "    </tr>\n",
       "  </thead>\n",
       "  <tbody>\n",
       "    <tr>\n",
       "      <th>Abhi</th>\n",
       "      <td>32</td>\n",
       "      <td>32.0</td>\n",
       "      <td>NaN</td>\n",
       "    </tr>\n",
       "    <tr>\n",
       "      <th>Anuj</th>\n",
       "      <td>60</td>\n",
       "      <td>30.0</td>\n",
       "      <td>8.485281</td>\n",
       "    </tr>\n",
       "    <tr>\n",
       "      <th>Gaurav</th>\n",
       "      <td>33</td>\n",
       "      <td>33.0</td>\n",
       "      <td>NaN</td>\n",
       "    </tr>\n",
       "    <tr>\n",
       "      <th>Jai</th>\n",
       "      <td>49</td>\n",
       "      <td>24.5</td>\n",
       "      <td>3.535534</td>\n",
       "    </tr>\n",
       "    <tr>\n",
       "      <th>Princi</th>\n",
       "      <td>59</td>\n",
       "      <td>29.5</td>\n",
       "      <td>3.535534</td>\n",
       "    </tr>\n",
       "  </tbody>\n",
       "</table>\n",
       "</div>"
      ],
      "text/plain": [
       "        sum  mean       std\n",
       "Name                       \n",
       "Abhi     32  32.0       NaN\n",
       "Anuj     60  30.0  8.485281\n",
       "Gaurav   33  33.0       NaN\n",
       "Jai      49  24.5  3.535534\n",
       "Princi   59  29.5  3.535534"
      ]
     },
     "execution_count": 63,
     "metadata": {},
     "output_type": "execute_result"
    }
   ],
   "source": [
    "# applying a function by passing\n",
    "# a list of functions\n",
    "  \n",
    "grp = df.groupby('Name')\n",
    "  \n",
    "grp['Age'].agg([np.sum, np.mean, np.std])"
   ]
  },
  {
   "cell_type": "markdown",
   "id": "03a59e34",
   "metadata": {
    "heading_collapsed": true,
    "hidden": true
   },
   "source": [
    "## Applying different functions to DataFrame columns :"
   ]
  },
  {
   "cell_type": "markdown",
   "id": "7b0602f5",
   "metadata": {
    "hidden": true
   },
   "source": [
    "In order to apply a different aggregation to the columns of a DataFrame, we can pass a dictionary to aggregate ."
   ]
  },
  {
   "cell_type": "code",
   "execution_count": 64,
   "id": "15483261",
   "metadata": {
    "hidden": true
   },
   "outputs": [
    {
     "name": "stdout",
     "output_type": "stream",
     "text": [
      "     Name  Age    Address Qualification  Score\n",
      "0     Jai   27     Nagpur           Msc     23\n",
      "1    Anuj   24     Kanpur            MA     34\n",
      "2     Jai   22  Allahabad           MCA     35\n",
      "3  Princi   32    Kannuaj           Phd     45\n",
      "4  Gaurav   33    Jaunpur        B.Tech     47\n",
      "5    Anuj   36     Kanpur         B.com     50\n",
      "6  Princi   27  Allahabad           Msc     52\n",
      "7    Abhi   32    Aligarh            MA     53\n"
     ]
    }
   ],
   "source": [
    "# importing pandas module\n",
    "import pandas as pd \n",
    "  \n",
    "# importing numpy as np\n",
    "import numpy as np\n",
    "   \n",
    "# Define a dictionary containing employee data \n",
    "data1 = {'Name':['Jai', 'Anuj', 'Jai', 'Princi', \n",
    "                 'Gaurav', 'Anuj', 'Princi', 'Abhi'], \n",
    "        'Age':[27, 24, 22, 32, \n",
    "               33, 36, 27, 32], \n",
    "        'Address':['Nagpur', 'Kanpur', 'Allahabad', 'Kannuaj',\n",
    "                   'Jaunpur', 'Kanpur', 'Allahabad', 'Aligarh'], \n",
    "        'Qualification':['Msc', 'MA', 'MCA', 'Phd',\n",
    "                         'B.Tech', 'B.com', 'Msc', 'MA'],\n",
    "        'Score': [23, 34, 35, 45, 47, 50, 52, 53]} \n",
    "     \n",
    "   \n",
    "# Convert the dictionary into DataFrame  \n",
    "df = pd.DataFrame(data1)\n",
    "   \n",
    "print(df) "
   ]
  },
  {
   "cell_type": "markdown",
   "id": "093e146a",
   "metadata": {
    "hidden": true
   },
   "source": [
    "Now we apply a different aggregation to the columns of a dataframe."
   ]
  },
  {
   "cell_type": "code",
   "execution_count": 65,
   "id": "96823100",
   "metadata": {
    "hidden": true
   },
   "outputs": [
    {
     "data": {
      "text/html": [
       "<div>\n",
       "<style scoped>\n",
       "    .dataframe tbody tr th:only-of-type {\n",
       "        vertical-align: middle;\n",
       "    }\n",
       "\n",
       "    .dataframe tbody tr th {\n",
       "        vertical-align: top;\n",
       "    }\n",
       "\n",
       "    .dataframe thead th {\n",
       "        text-align: right;\n",
       "    }\n",
       "</style>\n",
       "<table border=\"1\" class=\"dataframe\">\n",
       "  <thead>\n",
       "    <tr style=\"text-align: right;\">\n",
       "      <th></th>\n",
       "      <th>Age</th>\n",
       "      <th>Score</th>\n",
       "    </tr>\n",
       "    <tr>\n",
       "      <th>Name</th>\n",
       "      <th></th>\n",
       "      <th></th>\n",
       "    </tr>\n",
       "  </thead>\n",
       "  <tbody>\n",
       "    <tr>\n",
       "      <th>Abhi</th>\n",
       "      <td>32</td>\n",
       "      <td>NaN</td>\n",
       "    </tr>\n",
       "    <tr>\n",
       "      <th>Anuj</th>\n",
       "      <td>60</td>\n",
       "      <td>11.313708</td>\n",
       "    </tr>\n",
       "    <tr>\n",
       "      <th>Gaurav</th>\n",
       "      <td>33</td>\n",
       "      <td>NaN</td>\n",
       "    </tr>\n",
       "    <tr>\n",
       "      <th>Jai</th>\n",
       "      <td>49</td>\n",
       "      <td>8.485281</td>\n",
       "    </tr>\n",
       "    <tr>\n",
       "      <th>Princi</th>\n",
       "      <td>59</td>\n",
       "      <td>4.949747</td>\n",
       "    </tr>\n",
       "  </tbody>\n",
       "</table>\n",
       "</div>"
      ],
      "text/plain": [
       "        Age      Score\n",
       "Name                  \n",
       "Abhi     32        NaN\n",
       "Anuj     60  11.313708\n",
       "Gaurav   33        NaN\n",
       "Jai      49   8.485281\n",
       "Princi   59   4.949747"
      ]
     },
     "execution_count": 65,
     "metadata": {},
     "output_type": "execute_result"
    }
   ],
   "source": [
    "# using different aggregation\n",
    "# function by passing dictionary\n",
    "# to aggregate\n",
    "grp = df.groupby('Name')\n",
    "  \n",
    "grp.agg({'Age' : 'sum', 'Score' : 'std'})"
   ]
  },
  {
   "cell_type": "markdown",
   "id": "de5367ef",
   "metadata": {
    "heading_collapsed": true,
    "hidden": true
   },
   "source": [
    "## Transformation :"
   ]
  },
  {
   "cell_type": "markdown",
   "id": "f22358cd",
   "metadata": {
    "hidden": true
   },
   "source": [
    "Transformation is a process in which we perform some group-specific computations and return a like-indexed. Transform method returns an object that is indexed the same (same size) as the one being grouped. The transform function must:\n",
    "\n",
    "* Return a result that is either the same size as the group chunk\n",
    "* Operate column-by-column on the group chunk\n",
    "* Not perform in-place operations on the group chunk."
   ]
  },
  {
   "cell_type": "code",
   "execution_count": 66,
   "id": "88859214",
   "metadata": {
    "hidden": true
   },
   "outputs": [
    {
     "name": "stdout",
     "output_type": "stream",
     "text": [
      "     Name  Age    Address Qualification  Score\n",
      "0     Jai   27     Nagpur           Msc     23\n",
      "1    Anuj   24     Kanpur            MA     34\n",
      "2     Jai   22  Allahabad           MCA     35\n",
      "3  Princi   32    Kannuaj           Phd     45\n",
      "4  Gaurav   33    Jaunpur        B.Tech     47\n",
      "5    Anuj   36     Kanpur         B.com     50\n",
      "6  Princi   27  Allahabad           Msc     52\n",
      "7    Abhi   32    Aligarh            MA     53\n"
     ]
    }
   ],
   "source": [
    "\n",
    "# importing pandas module\n",
    "import pandas as pd \n",
    "  \n",
    "# importing numpy as np\n",
    "import numpy as np\n",
    "   \n",
    "# Define a dictionary containing employee data \n",
    "data1 = {'Name':['Jai', 'Anuj', 'Jai', 'Princi', \n",
    "                 'Gaurav', 'Anuj', 'Princi', 'Abhi'], \n",
    "        'Age':[27, 24, 22, 32, \n",
    "               33, 36, 27, 32], \n",
    "        'Address':['Nagpur', 'Kanpur', 'Allahabad', 'Kannuaj',\n",
    "                   'Jaunpur', 'Kanpur', 'Allahabad', 'Aligarh'], \n",
    "        'Qualification':['Msc', 'MA', 'MCA', 'Phd',\n",
    "                         'B.Tech', 'B.com', 'Msc', 'MA'],\n",
    "        'Score': [23, 34, 35, 45, 47, 50, 52, 53]} \n",
    "     \n",
    "   \n",
    "# Convert the dictionary into DataFrame  \n",
    "df = pd.DataFrame(data1)\n",
    "   \n",
    "print(df) "
   ]
  },
  {
   "cell_type": "markdown",
   "id": "7542487c",
   "metadata": {
    "hidden": true
   },
   "source": [
    "Now we perform some group-specific computations and return a like-indexed."
   ]
  },
  {
   "cell_type": "code",
   "execution_count": 67,
   "id": "a8940a95",
   "metadata": {
    "hidden": true
   },
   "outputs": [
    {
     "data": {
      "text/html": [
       "<div>\n",
       "<style scoped>\n",
       "    .dataframe tbody tr th:only-of-type {\n",
       "        vertical-align: middle;\n",
       "    }\n",
       "\n",
       "    .dataframe tbody tr th {\n",
       "        vertical-align: top;\n",
       "    }\n",
       "\n",
       "    .dataframe thead th {\n",
       "        text-align: right;\n",
       "    }\n",
       "</style>\n",
       "<table border=\"1\" class=\"dataframe\">\n",
       "  <thead>\n",
       "    <tr style=\"text-align: right;\">\n",
       "      <th></th>\n",
       "      <th>Age</th>\n",
       "      <th>Score</th>\n",
       "    </tr>\n",
       "  </thead>\n",
       "  <tbody>\n",
       "    <tr>\n",
       "      <th>0</th>\n",
       "      <td>7.071068</td>\n",
       "      <td>-7.071068</td>\n",
       "    </tr>\n",
       "    <tr>\n",
       "      <th>1</th>\n",
       "      <td>-7.071068</td>\n",
       "      <td>-7.071068</td>\n",
       "    </tr>\n",
       "    <tr>\n",
       "      <th>2</th>\n",
       "      <td>-7.071068</td>\n",
       "      <td>7.071068</td>\n",
       "    </tr>\n",
       "    <tr>\n",
       "      <th>3</th>\n",
       "      <td>7.071068</td>\n",
       "      <td>-7.071068</td>\n",
       "    </tr>\n",
       "    <tr>\n",
       "      <th>4</th>\n",
       "      <td>NaN</td>\n",
       "      <td>NaN</td>\n",
       "    </tr>\n",
       "    <tr>\n",
       "      <th>5</th>\n",
       "      <td>7.071068</td>\n",
       "      <td>7.071068</td>\n",
       "    </tr>\n",
       "    <tr>\n",
       "      <th>6</th>\n",
       "      <td>-7.071068</td>\n",
       "      <td>7.071068</td>\n",
       "    </tr>\n",
       "    <tr>\n",
       "      <th>7</th>\n",
       "      <td>NaN</td>\n",
       "      <td>NaN</td>\n",
       "    </tr>\n",
       "  </tbody>\n",
       "</table>\n",
       "</div>"
      ],
      "text/plain": [
       "        Age     Score\n",
       "0  7.071068 -7.071068\n",
       "1 -7.071068 -7.071068\n",
       "2 -7.071068  7.071068\n",
       "3  7.071068 -7.071068\n",
       "4       NaN       NaN\n",
       "5  7.071068  7.071068\n",
       "6 -7.071068  7.071068\n",
       "7       NaN       NaN"
      ]
     },
     "execution_count": 67,
     "metadata": {},
     "output_type": "execute_result"
    }
   ],
   "source": [
    "## using transform function\n",
    "grp = df.groupby('Name')\n",
    "sc = lambda x: (x - x.mean()) / x.std()*10\n",
    "grp.transform(sc)"
   ]
  },
  {
   "cell_type": "markdown",
   "id": "a400bac2",
   "metadata": {
    "heading_collapsed": true,
    "hidden": true
   },
   "source": [
    "## Filtration :"
   ]
  },
  {
   "cell_type": "markdown",
   "id": "cd211874",
   "metadata": {
    "hidden": true
   },
   "source": [
    "Filtration is a process in which we discard some groups, according to a group-wise computation that evaluates `True` or `False`. In order to filter a group, we use filter method and apply some condition by which we filter group."
   ]
  },
  {
   "cell_type": "code",
   "execution_count": 68,
   "id": "798ae7dc",
   "metadata": {
    "hidden": true
   },
   "outputs": [
    {
     "name": "stdout",
     "output_type": "stream",
     "text": [
      "     Name  Age    Address Qualification  Score\n",
      "0     Jai   27     Nagpur           Msc     23\n",
      "1    Anuj   24     Kanpur            MA     34\n",
      "2     Jai   22  Allahabad           MCA     35\n",
      "3  Princi   32    Kannuaj           Phd     45\n",
      "4  Gaurav   33    Jaunpur        B.Tech     47\n",
      "5    Anuj   36     Kanpur         B.com     50\n",
      "6  Princi   27  Allahabad           Msc     52\n",
      "7    Abhi   32    Aligarh            MA     53\n"
     ]
    }
   ],
   "source": [
    "# importing pandas module\n",
    "import pandas as pd \n",
    "  \n",
    "# importing numpy as np\n",
    "import numpy as np\n",
    "   \n",
    "# Define a dictionary containing employee data \n",
    "data1 = {'Name':['Jai', 'Anuj', 'Jai', 'Princi', \n",
    "                 'Gaurav', 'Anuj', 'Princi', 'Abhi'], \n",
    "        'Age':[27, 24, 22, 32, \n",
    "               33, 36, 27, 32], \n",
    "        'Address':['Nagpur', 'Kanpur', 'Allahabad', 'Kannuaj',\n",
    "                   'Jaunpur', 'Kanpur', 'Allahabad', 'Aligarh'], \n",
    "        'Qualification':['Msc', 'MA', 'MCA', 'Phd',\n",
    "                         'B.Tech', 'B.com', 'Msc', 'MA'],\n",
    "        'Score': [23, 34, 35, 45, 47, 50, 52, 53]} \n",
    "     \n",
    "   \n",
    "# Convert the dictionary into DataFrame  \n",
    "df = pd.DataFrame(data1)\n",
    "   \n",
    "print(df) "
   ]
  },
  {
   "cell_type": "markdown",
   "id": "8bf79e68",
   "metadata": {
    "hidden": true
   },
   "source": [
    "Now we filter data that to return the Name which have lived two or more times ."
   ]
  },
  {
   "cell_type": "code",
   "execution_count": 69,
   "id": "fe8699f8",
   "metadata": {
    "hidden": true
   },
   "outputs": [
    {
     "data": {
      "text/html": [
       "<div>\n",
       "<style scoped>\n",
       "    .dataframe tbody tr th:only-of-type {\n",
       "        vertical-align: middle;\n",
       "    }\n",
       "\n",
       "    .dataframe tbody tr th {\n",
       "        vertical-align: top;\n",
       "    }\n",
       "\n",
       "    .dataframe thead th {\n",
       "        text-align: right;\n",
       "    }\n",
       "</style>\n",
       "<table border=\"1\" class=\"dataframe\">\n",
       "  <thead>\n",
       "    <tr style=\"text-align: right;\">\n",
       "      <th></th>\n",
       "      <th>Name</th>\n",
       "      <th>Age</th>\n",
       "      <th>Address</th>\n",
       "      <th>Qualification</th>\n",
       "      <th>Score</th>\n",
       "    </tr>\n",
       "  </thead>\n",
       "  <tbody>\n",
       "    <tr>\n",
       "      <th>0</th>\n",
       "      <td>Jai</td>\n",
       "      <td>27</td>\n",
       "      <td>Nagpur</td>\n",
       "      <td>Msc</td>\n",
       "      <td>23</td>\n",
       "    </tr>\n",
       "    <tr>\n",
       "      <th>1</th>\n",
       "      <td>Anuj</td>\n",
       "      <td>24</td>\n",
       "      <td>Kanpur</td>\n",
       "      <td>MA</td>\n",
       "      <td>34</td>\n",
       "    </tr>\n",
       "    <tr>\n",
       "      <th>2</th>\n",
       "      <td>Jai</td>\n",
       "      <td>22</td>\n",
       "      <td>Allahabad</td>\n",
       "      <td>MCA</td>\n",
       "      <td>35</td>\n",
       "    </tr>\n",
       "    <tr>\n",
       "      <th>3</th>\n",
       "      <td>Princi</td>\n",
       "      <td>32</td>\n",
       "      <td>Kannuaj</td>\n",
       "      <td>Phd</td>\n",
       "      <td>45</td>\n",
       "    </tr>\n",
       "    <tr>\n",
       "      <th>5</th>\n",
       "      <td>Anuj</td>\n",
       "      <td>36</td>\n",
       "      <td>Kanpur</td>\n",
       "      <td>B.com</td>\n",
       "      <td>50</td>\n",
       "    </tr>\n",
       "    <tr>\n",
       "      <th>6</th>\n",
       "      <td>Princi</td>\n",
       "      <td>27</td>\n",
       "      <td>Allahabad</td>\n",
       "      <td>Msc</td>\n",
       "      <td>52</td>\n",
       "    </tr>\n",
       "  </tbody>\n",
       "</table>\n",
       "</div>"
      ],
      "text/plain": [
       "     Name  Age    Address Qualification  Score\n",
       "0     Jai   27     Nagpur           Msc     23\n",
       "1    Anuj   24     Kanpur            MA     34\n",
       "2     Jai   22  Allahabad           MCA     35\n",
       "3  Princi   32    Kannuaj           Phd     45\n",
       "5    Anuj   36     Kanpur         B.com     50\n",
       "6  Princi   27  Allahabad           Msc     52"
      ]
     },
     "execution_count": 69,
     "metadata": {},
     "output_type": "execute_result"
    }
   ],
   "source": [
    "# filtering data using\n",
    "# filter data\n",
    "grp = df.groupby('Name')\n",
    "grp.filter(lambda x: len(x) >= 2)\n"
   ]
  },
  {
   "cell_type": "markdown",
   "id": "ddfc8443",
   "metadata": {
    "heading_collapsed": true
   },
   "source": [
    "# [Combining multiple columns in Pandas groupby with dictionary](https://www.geeksforgeeks.org/combining-multiple-columns-in-pandas-groupby-with-dictionary/?ref=lbp)"
   ]
  },
  {
   "cell_type": "markdown",
   "id": "3c904d97",
   "metadata": {
    "hidden": true
   },
   "source": [
    "Let’ see how to combine multiple columns in Pandas using groupby with dictionary with the help of different examples.\n",
    "\n",
    "**Example #1:**"
   ]
  },
  {
   "cell_type": "code",
   "execution_count": 70,
   "id": "b5928064",
   "metadata": {
    "hidden": true
   },
   "outputs": [
    {
     "name": "stdout",
     "output_type": "stream",
     "text": [
      "  id  Column 1.1  Column 1.2  Column 1.3  Column 2.1  Column 2.2\n",
      "0  1          14          10           1           1          10\n",
      "1  2          15          10           4           2          10\n",
      "2  3          16          10           5           3          10\n"
     ]
    }
   ],
   "source": [
    "# importing pandas as pd \n",
    "import pandas as pd \n",
    "  \n",
    "# Creating a dictionary \n",
    "d = {'id':['1', '2', '3'],\n",
    "     'Column 1.1':[14, 15, 16],\n",
    "     'Column 1.2':[10, 10, 10],\n",
    "     'Column 1.3':[1, 4, 5],\n",
    "     'Column 2.1':[1, 2, 3],\n",
    "     'Column 2.2':[10, 10, 10], }\n",
    "  \n",
    "# Converting dictionary into a data-frame \n",
    "df = pd.DataFrame(d)\n",
    "print(df)"
   ]
  },
  {
   "cell_type": "code",
   "execution_count": 71,
   "id": "06d6a311",
   "metadata": {
    "hidden": true
   },
   "outputs": [
    {
     "name": "stdout",
     "output_type": "stream",
     "text": [
      "    Column 1  Column 2\n",
      "id                    \n",
      "1          1         1\n",
      "2          4         2\n",
      "3          5         3\n"
     ]
    }
   ],
   "source": [
    "# Creating the groupby dictionary \n",
    "groupby_dict = {'Column 1.1':'Column 1',\n",
    "                'Column 1.2':'Column 1',\n",
    "                'Column 1.3':'Column 1',\n",
    "                'Column 2.1':'Column 2',\n",
    "                'Column 2.2':'Column 2' }\n",
    "  \n",
    "# Set the index of df as Column 'id'\n",
    "df = df.set_index('id')\n",
    "  \n",
    "# Groupby the groupby_dict created above \n",
    "df = df.groupby(groupby_dict, axis = 1).min()\n",
    "print(df)"
   ]
  },
  {
   "cell_type": "markdown",
   "id": "d43332f2",
   "metadata": {
    "hidden": true
   },
   "source": [
    "**Explanation**\n",
    "\n",
    "Here we have grouped Column 1.1, Column 1.2 and Column 1.3 into Column 1 and Column 2.1, Column 2.2 into Column 2.\n",
    "Notice that the output in each column is the min value of each row of the columns grouped together. i.e in Column 1, value of first row is the minimum value of Column 1.1 Row 1, Column 1.2 Row 1 and Column 1.3 Row 1.\n",
    " \n",
    "**Example #2:**"
   ]
  },
  {
   "cell_type": "code",
   "execution_count": 72,
   "id": "5a5ff29b",
   "metadata": {
    "hidden": true
   },
   "outputs": [
    {
     "name": "stdout",
     "output_type": "stream",
     "text": [
      "   ID         Movies  Week_1_Viewers  Week_2_Viewers  Week_3_Viewers\n",
      "0   1  The Godfather              30              60              40\n",
      "1   2     Fight Club              30              40              20\n",
      "2   3     Casablanca              40              80              20\n"
     ]
    }
   ],
   "source": [
    "# importing pandas as pd \n",
    "import pandas as pd \n",
    "  \n",
    "# Create dictionary with data \n",
    "dict = {\n",
    "    \"ID\":[1, 2, 3],\n",
    "    \"Movies\":[\"The Godfather\", \"Fight Club\", \"Casablanca\"],\n",
    "    \"Week_1_Viewers\":[30, 30, 40],\n",
    "    \"Week_2_Viewers\":[60, 40, 80],\n",
    "    \"Week_3_Viewers\":[40, 20, 20] };\n",
    "  \n",
    "# Convert dictionary to dataframe\n",
    "df = pd.DataFrame(dict);\n",
    "print(df)"
   ]
  },
  {
   "cell_type": "code",
   "execution_count": 73,
   "id": "749c1e49",
   "metadata": {
    "hidden": true
   },
   "outputs": [
    {
     "name": "stdout",
     "output_type": "stream",
     "text": [
      "           Movies  Total_Viewers\n",
      "ID                              \n",
      "1   The Godfather            130\n",
      "2      Fight Club             90\n",
      "3      Casablanca            140\n"
     ]
    }
   ],
   "source": [
    "# Create the groupby_dict \n",
    "groupby_dict = {\n",
    "    \"Week_1_Viewers\":\"Total_Viewers\",\n",
    "    \"Week_2_Viewers\":\"Total_Viewers\",\n",
    "    \"Week_3_Viewers\":\"Total_Viewers\",\n",
    "    \"Movies\":\"Movies\"\n",
    "}\n",
    "  \n",
    "df = df.set_index('ID')\n",
    "df = df.groupby(groupby_dict, axis = 1).sum()\n",
    "print(df)"
   ]
  },
  {
   "cell_type": "markdown",
   "id": "7f6b699a",
   "metadata": {
    "hidden": true
   },
   "source": [
    "**Explanation**\n",
    "\n",
    "Explanation:\n",
    "\n",
    "* Here, notice that even though ‘Movies’ isn’t being merged into another column it still has to be present in the groupby_dict, else it won’t be in the final dataframe.\n",
    "* To calculate the Total_Viewers we have used the .sum() function which sums up all the values of the respective rows.\n",
    "\n"
   ]
  },
  {
   "cell_type": "markdown",
   "id": "02dc45a4",
   "metadata": {
    "heading_collapsed": true
   },
   "source": [
    "# [How to combine Groupby and Multiple Aggregate Functions in Pandas?](https://www.geeksforgeeks.org/how-to-combine-groupby-and-multiple-aggregate-functions-in-pandas/?ref=lbp)"
   ]
  },
  {
   "cell_type": "markdown",
   "id": "a6de5eee",
   "metadata": {
    "hidden": true
   },
   "source": [
    "Pandas is a Python package that offers various data structures and operations for manipulating numerical data and time series. It is mainly popular for importing and analyzing data much easier. It is an open-source library that is built on top of NumPy library.\n",
    "\n",
    "**Groupby()**\n",
    "\n",
    "Pandas [`dataframe.groupby()`](#section1) function is used to split the data in dataframe into groups based on a given condition.\n",
    "\n",
    "**Example 1:**"
   ]
  },
  {
   "cell_type": "code",
   "execution_count": 74,
   "id": "392bee32",
   "metadata": {
    "hidden": true
   },
   "outputs": [
    {
     "data": {
      "text/html": [
       "<div>\n",
       "<style scoped>\n",
       "    .dataframe tbody tr th:only-of-type {\n",
       "        vertical-align: middle;\n",
       "    }\n",
       "\n",
       "    .dataframe tbody tr th {\n",
       "        vertical-align: top;\n",
       "    }\n",
       "\n",
       "    .dataframe thead th {\n",
       "        text-align: right;\n",
       "    }\n",
       "</style>\n",
       "<table border=\"1\" class=\"dataframe\">\n",
       "  <thead>\n",
       "    <tr style=\"text-align: right;\">\n",
       "      <th></th>\n",
       "      <th>country</th>\n",
       "      <th>beer_servings</th>\n",
       "      <th>spirit_servings</th>\n",
       "      <th>wine_servings</th>\n",
       "      <th>total_litres_of_pure_alcohol</th>\n",
       "      <th>continent</th>\n",
       "    </tr>\n",
       "  </thead>\n",
       "  <tbody>\n",
       "    <tr>\n",
       "      <th>0</th>\n",
       "      <td>Afghanistan</td>\n",
       "      <td>0</td>\n",
       "      <td>0</td>\n",
       "      <td>0</td>\n",
       "      <td>0.0</td>\n",
       "      <td>Asia</td>\n",
       "    </tr>\n",
       "    <tr>\n",
       "      <th>1</th>\n",
       "      <td>Albania</td>\n",
       "      <td>89</td>\n",
       "      <td>132</td>\n",
       "      <td>54</td>\n",
       "      <td>4.9</td>\n",
       "      <td>Europe</td>\n",
       "    </tr>\n",
       "    <tr>\n",
       "      <th>2</th>\n",
       "      <td>Algeria</td>\n",
       "      <td>25</td>\n",
       "      <td>0</td>\n",
       "      <td>14</td>\n",
       "      <td>0.7</td>\n",
       "      <td>Africa</td>\n",
       "    </tr>\n",
       "    <tr>\n",
       "      <th>3</th>\n",
       "      <td>Andorra</td>\n",
       "      <td>245</td>\n",
       "      <td>138</td>\n",
       "      <td>312</td>\n",
       "      <td>12.4</td>\n",
       "      <td>Europe</td>\n",
       "    </tr>\n",
       "    <tr>\n",
       "      <th>4</th>\n",
       "      <td>Angola</td>\n",
       "      <td>217</td>\n",
       "      <td>57</td>\n",
       "      <td>45</td>\n",
       "      <td>5.9</td>\n",
       "      <td>Africa</td>\n",
       "    </tr>\n",
       "  </tbody>\n",
       "</table>\n",
       "</div>"
      ],
      "text/plain": [
       "       country  beer_servings  spirit_servings  wine_servings  \\\n",
       "0  Afghanistan              0                0              0   \n",
       "1      Albania             89              132             54   \n",
       "2      Algeria             25                0             14   \n",
       "3      Andorra            245              138            312   \n",
       "4       Angola            217               57             45   \n",
       "\n",
       "   total_litres_of_pure_alcohol continent  \n",
       "0                           0.0      Asia  \n",
       "1                           4.9    Europe  \n",
       "2                           0.7    Africa  \n",
       "3                          12.4    Europe  \n",
       "4                           5.9    Africa  "
      ]
     },
     "execution_count": 74,
     "metadata": {},
     "output_type": "execute_result"
    }
   ],
   "source": [
    "# import library\n",
    "import pandas as pd\n",
    "  \n",
    "# import csv file\n",
    "df = pd.read_csv(\"https://bit.ly/drinksbycountry\")\n",
    "  \n",
    "df.head()"
   ]
  },
  {
   "cell_type": "markdown",
   "id": "e6e530b0",
   "metadata": {
    "hidden": true
   },
   "source": [
    "\n",
    "**Example 2:**"
   ]
  },
  {
   "cell_type": "code",
   "execution_count": 75,
   "id": "52795b71",
   "metadata": {
    "hidden": true
   },
   "outputs": [
    {
     "data": {
      "text/html": [
       "<div>\n",
       "<style scoped>\n",
       "    .dataframe tbody tr th:only-of-type {\n",
       "        vertical-align: middle;\n",
       "    }\n",
       "\n",
       "    .dataframe tbody tr th {\n",
       "        vertical-align: top;\n",
       "    }\n",
       "\n",
       "    .dataframe thead th {\n",
       "        text-align: right;\n",
       "    }\n",
       "</style>\n",
       "<table border=\"1\" class=\"dataframe\">\n",
       "  <thead>\n",
       "    <tr style=\"text-align: right;\">\n",
       "      <th></th>\n",
       "      <th>beer_servings</th>\n",
       "      <th>spirit_servings</th>\n",
       "      <th>wine_servings</th>\n",
       "      <th>total_litres_of_pure_alcohol</th>\n",
       "    </tr>\n",
       "    <tr>\n",
       "      <th>continent</th>\n",
       "      <th></th>\n",
       "      <th></th>\n",
       "      <th></th>\n",
       "      <th></th>\n",
       "    </tr>\n",
       "  </thead>\n",
       "  <tbody>\n",
       "    <tr>\n",
       "      <th>Africa</th>\n",
       "      <td>61.471698</td>\n",
       "      <td>16.339623</td>\n",
       "      <td>16.264151</td>\n",
       "      <td>3.007547</td>\n",
       "    </tr>\n",
       "    <tr>\n",
       "      <th>Asia</th>\n",
       "      <td>37.045455</td>\n",
       "      <td>60.840909</td>\n",
       "      <td>9.068182</td>\n",
       "      <td>2.170455</td>\n",
       "    </tr>\n",
       "    <tr>\n",
       "      <th>Europe</th>\n",
       "      <td>193.777778</td>\n",
       "      <td>132.555556</td>\n",
       "      <td>142.222222</td>\n",
       "      <td>8.617778</td>\n",
       "    </tr>\n",
       "    <tr>\n",
       "      <th>North America</th>\n",
       "      <td>145.434783</td>\n",
       "      <td>165.739130</td>\n",
       "      <td>24.521739</td>\n",
       "      <td>5.995652</td>\n",
       "    </tr>\n",
       "    <tr>\n",
       "      <th>Oceania</th>\n",
       "      <td>89.687500</td>\n",
       "      <td>58.437500</td>\n",
       "      <td>35.625000</td>\n",
       "      <td>3.381250</td>\n",
       "    </tr>\n",
       "    <tr>\n",
       "      <th>South America</th>\n",
       "      <td>175.083333</td>\n",
       "      <td>114.750000</td>\n",
       "      <td>62.416667</td>\n",
       "      <td>6.308333</td>\n",
       "    </tr>\n",
       "  </tbody>\n",
       "</table>\n",
       "</div>"
      ],
      "text/plain": [
       "               beer_servings  spirit_servings  wine_servings  \\\n",
       "continent                                                      \n",
       "Africa             61.471698        16.339623      16.264151   \n",
       "Asia               37.045455        60.840909       9.068182   \n",
       "Europe            193.777778       132.555556     142.222222   \n",
       "North America     145.434783       165.739130      24.521739   \n",
       "Oceania            89.687500        58.437500      35.625000   \n",
       "South America     175.083333       114.750000      62.416667   \n",
       "\n",
       "               total_litres_of_pure_alcohol  \n",
       "continent                                    \n",
       "Africa                             3.007547  \n",
       "Asia                               2.170455  \n",
       "Europe                             8.617778  \n",
       "North America                      5.995652  \n",
       "Oceania                            3.381250  \n",
       "South America                      6.308333  "
      ]
     },
     "execution_count": 75,
     "metadata": {},
     "output_type": "execute_result"
    }
   ],
   "source": [
    "# Find the average of each continent\n",
    "# by grouping the data  \n",
    "# based on the \"continent\".\n",
    "df.groupby([\"continent\"]).mean()"
   ]
  },
  {
   "cell_type": "markdown",
   "id": "4abd17a7",
   "metadata": {
    "hidden": true
   },
   "source": [
    "**`Aggregate()`**\n",
    "\n",
    "Pandas `dataframe.agg()` function is used to do one or more operations on data based on specified axis\n",
    "\n",
    "**Example:**"
   ]
  },
  {
   "cell_type": "code",
   "execution_count": 76,
   "id": "66039def",
   "metadata": {
    "hidden": true
   },
   "outputs": [
    {
     "data": {
      "text/plain": [
       "sum    20489\n",
       "min        0\n",
       "max      376\n",
       "Name: beer_servings, dtype: int64"
      ]
     },
     "execution_count": 76,
     "metadata": {},
     "output_type": "execute_result"
    }
   ],
   "source": [
    "# here sum, minimum and maximum of column \n",
    "# beer_servings is calculatad\n",
    "df.beer_servings.agg([\"sum\", \"min\", \"max\"])"
   ]
  },
  {
   "cell_type": "markdown",
   "id": "d2c6928d",
   "metadata": {
    "hidden": true
   },
   "source": [
    "**Using These two functions together:**\n",
    "\n",
    "We can find multiple aggregation functions of a particular column grouped by another column\n",
    "\n",
    "**Example:**"
   ]
  },
  {
   "cell_type": "code",
   "execution_count": 77,
   "id": "a62f7d75",
   "metadata": {
    "hidden": true
   },
   "outputs": [
    {
     "data": {
      "text/html": [
       "<div>\n",
       "<style scoped>\n",
       "    .dataframe tbody tr th:only-of-type {\n",
       "        vertical-align: middle;\n",
       "    }\n",
       "\n",
       "    .dataframe tbody tr th {\n",
       "        vertical-align: top;\n",
       "    }\n",
       "\n",
       "    .dataframe thead th {\n",
       "        text-align: right;\n",
       "    }\n",
       "</style>\n",
       "<table border=\"1\" class=\"dataframe\">\n",
       "  <thead>\n",
       "    <tr style=\"text-align: right;\">\n",
       "      <th></th>\n",
       "      <th>min</th>\n",
       "      <th>max</th>\n",
       "      <th>sum</th>\n",
       "      <th>count</th>\n",
       "      <th>mean</th>\n",
       "    </tr>\n",
       "    <tr>\n",
       "      <th>continent</th>\n",
       "      <th></th>\n",
       "      <th></th>\n",
       "      <th></th>\n",
       "      <th></th>\n",
       "      <th></th>\n",
       "    </tr>\n",
       "  </thead>\n",
       "  <tbody>\n",
       "    <tr>\n",
       "      <th>Africa</th>\n",
       "      <td>0</td>\n",
       "      <td>376</td>\n",
       "      <td>3258</td>\n",
       "      <td>53</td>\n",
       "      <td>61.471698</td>\n",
       "    </tr>\n",
       "    <tr>\n",
       "      <th>Asia</th>\n",
       "      <td>0</td>\n",
       "      <td>247</td>\n",
       "      <td>1630</td>\n",
       "      <td>44</td>\n",
       "      <td>37.045455</td>\n",
       "    </tr>\n",
       "    <tr>\n",
       "      <th>Europe</th>\n",
       "      <td>0</td>\n",
       "      <td>361</td>\n",
       "      <td>8720</td>\n",
       "      <td>45</td>\n",
       "      <td>193.777778</td>\n",
       "    </tr>\n",
       "    <tr>\n",
       "      <th>North America</th>\n",
       "      <td>1</td>\n",
       "      <td>285</td>\n",
       "      <td>3345</td>\n",
       "      <td>23</td>\n",
       "      <td>145.434783</td>\n",
       "    </tr>\n",
       "    <tr>\n",
       "      <th>Oceania</th>\n",
       "      <td>0</td>\n",
       "      <td>306</td>\n",
       "      <td>1435</td>\n",
       "      <td>16</td>\n",
       "      <td>89.687500</td>\n",
       "    </tr>\n",
       "    <tr>\n",
       "      <th>South America</th>\n",
       "      <td>93</td>\n",
       "      <td>333</td>\n",
       "      <td>2101</td>\n",
       "      <td>12</td>\n",
       "      <td>175.083333</td>\n",
       "    </tr>\n",
       "  </tbody>\n",
       "</table>\n",
       "</div>"
      ],
      "text/plain": [
       "               min  max   sum  count        mean\n",
       "continent                                       \n",
       "Africa           0  376  3258     53   61.471698\n",
       "Asia             0  247  1630     44   37.045455\n",
       "Europe           0  361  8720     45  193.777778\n",
       "North America    1  285  3345     23  145.434783\n",
       "Oceania          0  306  1435     16   89.687500\n",
       "South America   93  333  2101     12  175.083333"
      ]
     },
     "execution_count": 77,
     "metadata": {},
     "output_type": "execute_result"
    }
   ],
   "source": [
    "# find an aggregation of column \"beer_servings\"\n",
    "# by grouping the \"continent\" column.\n",
    "df.groupby(df[\"continent\"]).beer_servings.agg([\"min\",\n",
    "                                               \"max\",\n",
    "                                               \"sum\",\n",
    "                                               \"count\",\n",
    "                                               \"mean\"])"
   ]
  },
  {
   "cell_type": "markdown",
   "id": "726116ee",
   "metadata": {
    "heading_collapsed": true
   },
   "source": [
    "# [Pandas – Groupby multiple values and plotting results](https://www.geeksforgeeks.org/pandas-groupby-multiple-values-and-plotting-results/?ref=lbp)"
   ]
  },
  {
   "cell_type": "markdown",
   "id": "95e8d3da",
   "metadata": {
    "hidden": true
   },
   "source": [
    "In this article, we will learn how to groupby multiple values and plotting the results in one go. Here, we take “excercise.csv” file of a dataset from [seaborn](https://www.geeksforgeeks.org/introduction-to-seaborn-python/) library then formed different groupby data and visualize the result. \n",
    "\n",
    "For this procedure, the steps required are given below:\n",
    "\n",
    "* Import libraries for data and its visualization.\n",
    "* Create and import the data with multiple columns.\n",
    "* Form a grouby object by grouping multiple values.\n",
    "* Visualize the grouped data.\n",
    "\n",
    "Below is the implementation with some examples : \n",
    "\n",
    "**Example 1 :**\n",
    "\n",
    "In this example, we take the “excercise.csv” file of a dataset from the seaborn library then formed groupby data by grouping two columns “pulse” and “diet” together on the basis of a column “time” and at last visualize the result."
   ]
  },
  {
   "cell_type": "code",
   "execution_count": 78,
   "id": "04bebb86",
   "metadata": {
    "hidden": true
   },
   "outputs": [
    {
     "name": "stdout",
     "output_type": "stream",
     "text": [
      "    Unnamed: 0  id     diet  pulse    time     kind\n",
      "0            0   1  low fat     85   1 min     rest\n",
      "1            1   1  low fat     85  15 min     rest\n",
      "2            2   1  low fat     88  30 min     rest\n",
      "3            3   2  low fat     90   1 min     rest\n",
      "4            4   2  low fat     92  15 min     rest\n",
      "..         ...  ..      ...    ...     ...      ...\n",
      "85          85  29   no fat    135  15 min  running\n",
      "86          86  29   no fat    130  30 min  running\n",
      "87          87  30   no fat     99   1 min  running\n",
      "88          88  30   no fat    111  15 min  running\n",
      "89          89  30   no fat    150  30 min  running\n",
      "\n",
      "[90 rows x 6 columns]\n",
      "pulse  diet   \n",
      "80     no fat     0\n",
      "       low fat    1\n",
      "82     no fat     0\n",
      "       low fat    1\n",
      "83     no fat     2\n",
      "                 ..\n",
      "140    low fat    0\n",
      "143    no fat     1\n",
      "       low fat    0\n",
      "150    no fat     1\n",
      "       low fat    0\n",
      "Name: time, Length: 78, dtype: int64\n"
     ]
    },
    {
     "data": {
      "image/png": "[encoded data removed]",
      "text/plain": [
       "<Figure size 432x288 with 1 Axes>"
      ]
     },
     "metadata": {
      "needs_background": "light"
     },
     "output_type": "display_data"
    }
   ],
   "source": [
    "# importing packages\n",
    "import seaborn\n",
    "import matplotlib.pyplot as plt\n",
    "  \n",
    "# load dataset and view\n",
    "data = seaborn.load_dataset('exercise')\n",
    "print(data)\n",
    "  \n",
    "# multiple groupby (pulse and diet both)\n",
    "df = data.groupby(['pulse', 'diet']).count()['time']\n",
    "print(df)\n",
    "  \n",
    "# plot the result\n",
    "df.plot()\n",
    "plt.xticks(rotation=45)\n",
    "plt.show()"
   ]
  },
  {
   "cell_type": "markdown",
   "id": "bf35da07",
   "metadata": {
    "hidden": true
   },
   "source": [
    "**Example 2:**\n",
    "\n",
    "This example is the modification of the above example for better visualization."
   ]
  },
  {
   "cell_type": "code",
   "execution_count": 79,
   "id": "fd150c23",
   "metadata": {
    "hidden": true
   },
   "outputs": [
    {
     "name": "stdout",
     "output_type": "stream",
     "text": [
      "pulse  diet   \n",
      "80     no fat     0\n",
      "       low fat    1\n",
      "82     no fat     0\n",
      "       low fat    1\n",
      "83     no fat     2\n",
      "                 ..\n",
      "140    low fat    0\n",
      "143    no fat     1\n",
      "       low fat    0\n",
      "150    no fat     1\n",
      "       low fat    0\n",
      "Name: time, Length: 78, dtype: int64\n"
     ]
    },
    {
     "data": {
      "image/png": "[encoded data removed]",
      "text/plain": [
       "<Figure size 432x288 with 1 Axes>"
      ]
     },
     "metadata": {
      "needs_background": "light"
     },
     "output_type": "display_data"
    }
   ],
   "source": [
    "# importing packages\n",
    "import seaborn\n",
    "import matplotlib.pyplot as plt\n",
    "  \n",
    "# load dataset\n",
    "data = seaborn.load_dataset('exercise')\n",
    "  \n",
    "# multiple groupby (pulse and diet both)\n",
    "df = data.groupby(['pulse', 'diet']).count()['time']\n",
    "\n",
    "print(df)\n",
    "\n",
    "# plot the result\n",
    "df.unstack().plot()\n",
    "plt.xticks(rotation=45)\n",
    "plt.show()"
   ]
  },
  {
   "cell_type": "markdown",
   "id": "52a9e932",
   "metadata": {
    "hidden": true
   },
   "source": [
    "**Example 3:**\n",
    "\n",
    "In this example, we take “excercise.csv” file of a dataset from seaborn library then formed groupby data by grouping three columns “pulse”, “diet” , and “time” together on the basis of a column “kind” and at last visualize the result."
   ]
  },
  {
   "cell_type": "code",
   "execution_count": 80,
   "id": "6c2f2d2f",
   "metadata": {
    "hidden": true
   },
   "outputs": [
    {
     "name": "stdout",
     "output_type": "stream",
     "text": [
      "    Unnamed: 0  id     diet  pulse    time     kind\n",
      "0            0   1  low fat     85   1 min     rest\n",
      "1            1   1  low fat     85  15 min     rest\n",
      "2            2   1  low fat     88  30 min     rest\n",
      "3            3   2  low fat     90   1 min     rest\n",
      "4            4   2  low fat     92  15 min     rest\n",
      "..         ...  ..      ...    ...     ...      ...\n",
      "85          85  29   no fat    135  15 min  running\n",
      "86          86  29   no fat    130  30 min  running\n",
      "87          87  30   no fat     99   1 min  running\n",
      "88          88  30   no fat    111  15 min  running\n",
      "89          89  30   no fat    150  30 min  running\n",
      "\n",
      "[90 rows x 6 columns]\n",
      "pulse  diet     time  \n",
      "80     no fat   1 min     0\n",
      "                15 min    0\n",
      "                30 min    0\n",
      "       low fat  1 min     1\n",
      "                15 min    0\n",
      "                         ..\n",
      "150    no fat   15 min    0\n",
      "                30 min    1\n",
      "       low fat  1 min     0\n",
      "                15 min    0\n",
      "                30 min    0\n",
      "Name: kind, Length: 234, dtype: int64\n"
     ]
    },
    {
     "data": {
      "image/png": "[encoded data removed]",
      "text/plain": [
       "<Figure size 432x288 with 1 Axes>"
      ]
     },
     "metadata": {
      "needs_background": "light"
     },
     "output_type": "display_data"
    }
   ],
   "source": [
    "# importing packages\n",
    "import seaborn\n",
    "import matplotlib.pyplot as plt\n",
    "\n",
    "# load dataset and view\n",
    "data = seaborn.load_dataset('exercise')\n",
    "print(data)\n",
    "  \n",
    "# multiple groupby (pulse, diet and time)\n",
    "df = data.groupby(['pulse', 'diet', 'time']).count()['kind']\n",
    "print(df)\n",
    "  \n",
    "# plot the result\n",
    "df.plot()\n",
    "plt.xticks(rotation=30)\n",
    "plt.show()"
   ]
  },
  {
   "cell_type": "markdown",
   "id": "d14ea1c5",
   "metadata": {
    "hidden": true
   },
   "source": [
    "\n",
    "**Example 4:**\n",
    "\n",
    "This example is the modification of the above example for better visualization."
   ]
  },
  {
   "cell_type": "code",
   "execution_count": 81,
   "id": "1258974b",
   "metadata": {
    "hidden": true
   },
   "outputs": [
    {
     "name": "stdout",
     "output_type": "stream",
     "text": [
      "pulse  diet     time  \n",
      "80     no fat   1 min     0\n",
      "                15 min    0\n",
      "                30 min    0\n",
      "       low fat  1 min     1\n",
      "                15 min    0\n",
      "                         ..\n",
      "150    no fat   15 min    0\n",
      "                30 min    1\n",
      "       low fat  1 min     0\n",
      "                15 min    0\n",
      "                30 min    0\n",
      "Name: kind, Length: 234, dtype: int64\n"
     ]
    },
    {
     "data": {
      "image/png": "[encoded data removed]",
      "text/plain": [
       "<Figure size 432x288 with 1 Axes>"
      ]
     },
     "metadata": {
      "needs_background": "light"
     },
     "output_type": "display_data"
    }
   ],
   "source": [
    "# importing packages\n",
    "import seaborn\n",
    "import matplotlib.pyplot as plt\n",
    "\n",
    "# load dataset\n",
    "data = seaborn.load_dataset('exercise')\n",
    "  \n",
    "# multiple groupby (pulse, diet, and time)\n",
    "df = data.groupby(['pulse', 'diet', 'time']).count()['kind']\n",
    "\n",
    "print(df)\n",
    "\n",
    "# plot the result\n",
    "df.unstack().plot()\n",
    "plt.xticks(rotation=30)\n",
    "plt.show()"
   ]
  },
  {
   "cell_type": "markdown",
   "id": "74386b13",
   "metadata": {
    "heading_collapsed": true
   },
   "source": [
    "# [Pandas – GroupBy One Column and Get Mean, Min, and Max values](https://www.geeksforgeeks.org/pandas-groupby-one-column-and-get-mean-min-and-max-values/?ref=lbp)"
   ]
  },
  {
   "cell_type": "markdown",
   "id": "37f85316",
   "metadata": {
    "hidden": true
   },
   "source": [
    "We can use Groupby function to split dataframe into groups and apply different operations on it. One of them is Aggregation. Aggregation i.e. computing statistical parameters for each group created example – mean, min, max, or sums.\n",
    "\n",
    "Let’s have a look at how we can group a dataframe by one column and get their mean, min, and max values.\n",
    "\n",
    "**Example 1 :**"
   ]
  },
  {
   "cell_type": "code",
   "execution_count": 82,
   "id": "0f87bceb",
   "metadata": {
    "hidden": true
   },
   "outputs": [
    {
     "data": {
      "text/html": [
       "<div>\n",
       "<style scoped>\n",
       "    .dataframe tbody tr th:only-of-type {\n",
       "        vertical-align: middle;\n",
       "    }\n",
       "\n",
       "    .dataframe tbody tr th {\n",
       "        vertical-align: top;\n",
       "    }\n",
       "\n",
       "    .dataframe thead th {\n",
       "        text-align: right;\n",
       "    }\n",
       "</style>\n",
       "<table border=\"1\" class=\"dataframe\">\n",
       "  <thead>\n",
       "    <tr style=\"text-align: right;\">\n",
       "      <th></th>\n",
       "      <th>Type</th>\n",
       "      <th>Name</th>\n",
       "      <th>top_speed(mph)</th>\n",
       "    </tr>\n",
       "  </thead>\n",
       "  <tbody>\n",
       "    <tr>\n",
       "      <th>0</th>\n",
       "      <td>Bike</td>\n",
       "      <td>Kawasaki</td>\n",
       "      <td>186</td>\n",
       "    </tr>\n",
       "    <tr>\n",
       "      <th>1</th>\n",
       "      <td>Bike</td>\n",
       "      <td>Ducati Panigale</td>\n",
       "      <td>202</td>\n",
       "    </tr>\n",
       "    <tr>\n",
       "      <th>2</th>\n",
       "      <td>Car</td>\n",
       "      <td>Bugatti Chiron</td>\n",
       "      <td>304</td>\n",
       "    </tr>\n",
       "    <tr>\n",
       "      <th>3</th>\n",
       "      <td>Car</td>\n",
       "      <td>Jaguar XJ220</td>\n",
       "      <td>210</td>\n",
       "    </tr>\n",
       "    <tr>\n",
       "      <th>4</th>\n",
       "      <td>Bike</td>\n",
       "      <td>Lightning LS-218</td>\n",
       "      <td>218</td>\n",
       "    </tr>\n",
       "    <tr>\n",
       "      <th>5</th>\n",
       "      <td>Car</td>\n",
       "      <td>Hennessey Venom GT</td>\n",
       "      <td>270</td>\n",
       "    </tr>\n",
       "    <tr>\n",
       "      <th>6</th>\n",
       "      <td>Bike</td>\n",
       "      <td>BMW S1000RR</td>\n",
       "      <td>188</td>\n",
       "    </tr>\n",
       "  </tbody>\n",
       "</table>\n",
       "</div>"
      ],
      "text/plain": [
       "   Type                Name  top_speed(mph)\n",
       "0  Bike            Kawasaki             186\n",
       "1  Bike     Ducati Panigale             202\n",
       "2   Car      Bugatti Chiron             304\n",
       "3   Car        Jaguar XJ220             210\n",
       "4  Bike    Lightning LS-218             218\n",
       "5   Car  Hennessey Venom GT             270\n",
       "6  Bike         BMW S1000RR             188"
      ]
     },
     "execution_count": 82,
     "metadata": {},
     "output_type": "execute_result"
    }
   ],
   "source": [
    "import pandas as pd\n",
    "  \n",
    "  \n",
    "# creating a dataframe\n",
    "df = pd.DataFrame([('Bike', 'Kawasaki', 186),\n",
    "                   ('Bike', 'Ducati Panigale', 202),\n",
    "                   ('Car', 'Bugatti Chiron', 304), \n",
    "                   ('Car', 'Jaguar XJ220', 210),\n",
    "                   ('Bike', 'Lightning LS-218', 218), \n",
    "                   ('Car', 'Hennessey Venom GT', 270),\n",
    "                   ('Bike', 'BMW S1000RR', 188)],\n",
    "                  columns =('Type', 'Name', 'top_speed(mph)'))\n",
    "  \n",
    "df"
   ]
  },
  {
   "cell_type": "markdown",
   "id": "4d543e79",
   "metadata": {
    "hidden": true
   },
   "source": [
    "Finding `mean`, `min` and `max` values."
   ]
  },
  {
   "cell_type": "code",
   "execution_count": 83,
   "id": "cf589aa4",
   "metadata": {
    "hidden": true
   },
   "outputs": [
    {
     "name": "stdout",
     "output_type": "stream",
     "text": [
      "Mean, min, and max values of Top Speed grouped by Vehicle Type\n",
      "     top_speed(mph)          \n",
      "               mean  min  max\n",
      "Type                         \n",
      "Bike     198.500000  186  218\n",
      "Car      261.333333  210  304\n"
     ]
    }
   ],
   "source": [
    "# using groupby function with aggregation\n",
    "# to get mean, min and max values\n",
    "result = df.groupby('Type').agg({'top_speed(mph)': ['mean', 'min', 'max']})\n",
    "  \n",
    "print(\"Mean, min, and max values of Top Speed grouped by Vehicle Type\")\n",
    "print(result)"
   ]
  },
  {
   "cell_type": "markdown",
   "id": "675c8ef5",
   "metadata": {
    "hidden": true
   },
   "source": [
    "**Example 2 :**"
   ]
  },
  {
   "cell_type": "code",
   "execution_count": 84,
   "id": "d4980e7f",
   "metadata": {
    "hidden": true
   },
   "outputs": [
    {
     "data": {
      "text/html": [
       "<div>\n",
       "<style scoped>\n",
       "    .dataframe tbody tr th:only-of-type {\n",
       "        vertical-align: middle;\n",
       "    }\n",
       "\n",
       "    .dataframe tbody tr th {\n",
       "        vertical-align: top;\n",
       "    }\n",
       "\n",
       "    .dataframe thead th {\n",
       "        text-align: right;\n",
       "    }\n",
       "</style>\n",
       "<table border=\"1\" class=\"dataframe\">\n",
       "  <thead>\n",
       "    <tr style=\"text-align: right;\">\n",
       "      <th></th>\n",
       "      <th>customer_id</th>\n",
       "      <th>salesman_id</th>\n",
       "      <th>purchase_amt</th>\n",
       "    </tr>\n",
       "  </thead>\n",
       "  <tbody>\n",
       "    <tr>\n",
       "      <th>0</th>\n",
       "      <td>3005</td>\n",
       "      <td>102</td>\n",
       "      <td>1500</td>\n",
       "    </tr>\n",
       "    <tr>\n",
       "      <th>1</th>\n",
       "      <td>3001</td>\n",
       "      <td>105</td>\n",
       "      <td>2700</td>\n",
       "    </tr>\n",
       "    <tr>\n",
       "      <th>2</th>\n",
       "      <td>3002</td>\n",
       "      <td>101</td>\n",
       "      <td>1525</td>\n",
       "    </tr>\n",
       "    <tr>\n",
       "      <th>3</th>\n",
       "      <td>3009</td>\n",
       "      <td>103</td>\n",
       "      <td>1100</td>\n",
       "    </tr>\n",
       "    <tr>\n",
       "      <th>4</th>\n",
       "      <td>3005</td>\n",
       "      <td>102</td>\n",
       "      <td>948</td>\n",
       "    </tr>\n",
       "    <tr>\n",
       "      <th>5</th>\n",
       "      <td>3007</td>\n",
       "      <td>101</td>\n",
       "      <td>2400</td>\n",
       "    </tr>\n",
       "    <tr>\n",
       "      <th>6</th>\n",
       "      <td>3002</td>\n",
       "      <td>101</td>\n",
       "      <td>5700</td>\n",
       "    </tr>\n",
       "    <tr>\n",
       "      <th>7</th>\n",
       "      <td>3004</td>\n",
       "      <td>106</td>\n",
       "      <td>2000</td>\n",
       "    </tr>\n",
       "    <tr>\n",
       "      <th>8</th>\n",
       "      <td>3009</td>\n",
       "      <td>103</td>\n",
       "      <td>1280</td>\n",
       "    </tr>\n",
       "    <tr>\n",
       "      <th>9</th>\n",
       "      <td>3008</td>\n",
       "      <td>102</td>\n",
       "      <td>2500</td>\n",
       "    </tr>\n",
       "    <tr>\n",
       "      <th>10</th>\n",
       "      <td>3003</td>\n",
       "      <td>107</td>\n",
       "      <td>750</td>\n",
       "    </tr>\n",
       "    <tr>\n",
       "      <th>11</th>\n",
       "      <td>3002</td>\n",
       "      <td>101</td>\n",
       "      <td>5050</td>\n",
       "    </tr>\n",
       "  </tbody>\n",
       "</table>\n",
       "</div>"
      ],
      "text/plain": [
       "    customer_id  salesman_id  purchase_amt\n",
       "0          3005          102          1500\n",
       "1          3001          105          2700\n",
       "2          3002          101          1525\n",
       "3          3009          103          1100\n",
       "4          3005          102           948\n",
       "5          3007          101          2400\n",
       "6          3002          101          5700\n",
       "7          3004          106          2000\n",
       "8          3009          103          1280\n",
       "9          3008          102          2500\n",
       "10         3003          107           750\n",
       "11         3002          101          5050"
      ]
     },
     "execution_count": 84,
     "metadata": {},
     "output_type": "execute_result"
    }
   ],
   "source": [
    "import pandas as pd\n",
    "  \n",
    "  \n",
    "# creating a dataframe\n",
    "sales_data = pd.DataFrame({\n",
    "'customer_id':[3005, 3001, 3002, 3009, 3005, 3007,\n",
    "               3002, 3004, 3009, 3008, 3003, 3002],\n",
    "      \n",
    "'salesman_id': [102, 105, 101, 103, 102, 101, 101,\n",
    "                106, 103, 102, 107, 101],\n",
    "  \n",
    "'purchase_amt':[1500, 2700, 1525, 1100, 948, 2400,\n",
    "                5700, 2000, 1280, 2500, 750, 5050]})\n",
    "  \n",
    "sales_data"
   ]
  },
  {
   "cell_type": "markdown",
   "id": "d906648f",
   "metadata": {
    "hidden": true
   },
   "source": [
    "Finding `mean`, `min` and `max` values."
   ]
  },
  {
   "cell_type": "code",
   "execution_count": 85,
   "id": "be043a12",
   "metadata": {
    "hidden": true
   },
   "outputs": [
    {
     "name": "stdout",
     "output_type": "stream",
     "text": [
      "Mean, min, and max values of Purchase Amount grouped by Salesman id\n",
      "            purchase_amt            \n",
      "                    mean   min   max\n",
      "salesman_id                         \n",
      "101          3668.750000  1525  5700\n",
      "102          1649.333333   948  2500\n",
      "103          1190.000000  1100  1280\n",
      "105          2700.000000  2700  2700\n",
      "106          2000.000000  2000  2000\n",
      "107           750.000000   750   750\n"
     ]
    }
   ],
   "source": [
    "# using groupby function with aggregation \n",
    "# to get mean, min and max values\n",
    "result = sales_data.groupby('salesman_id').agg({'purchase_amt': ['mean', 'min', 'max']})\n",
    "  \n",
    "print(\"Mean, min, and max values of Purchase Amount grouped by Salesman id\")\n",
    "print(result)"
   ]
  },
  {
   "cell_type": "markdown",
   "id": "de6d24c1",
   "metadata": {
    "hidden": true
   },
   "source": [
    "**Example 3 :**"
   ]
  },
  {
   "cell_type": "code",
   "execution_count": 86,
   "id": "d65abbc2",
   "metadata": {
    "hidden": true
   },
   "outputs": [
    {
     "data": {
      "text/html": [
       "<div>\n",
       "<style scoped>\n",
       "    .dataframe tbody tr th:only-of-type {\n",
       "        vertical-align: middle;\n",
       "    }\n",
       "\n",
       "    .dataframe tbody tr th {\n",
       "        vertical-align: top;\n",
       "    }\n",
       "\n",
       "    .dataframe thead th {\n",
       "        text-align: right;\n",
       "    }\n",
       "</style>\n",
       "<table border=\"1\" class=\"dataframe\">\n",
       "  <thead>\n",
       "    <tr style=\"text-align: right;\">\n",
       "      <th></th>\n",
       "      <th>Team</th>\n",
       "      <th>Position</th>\n",
       "      <th>Age</th>\n",
       "    </tr>\n",
       "  </thead>\n",
       "  <tbody>\n",
       "    <tr>\n",
       "      <th>0</th>\n",
       "      <td>Radisson</td>\n",
       "      <td>Player</td>\n",
       "      <td>22</td>\n",
       "    </tr>\n",
       "    <tr>\n",
       "      <th>1</th>\n",
       "      <td>Radisson</td>\n",
       "      <td>Extras</td>\n",
       "      <td>24</td>\n",
       "    </tr>\n",
       "    <tr>\n",
       "      <th>2</th>\n",
       "      <td>Gladiators</td>\n",
       "      <td>Player</td>\n",
       "      <td>21</td>\n",
       "    </tr>\n",
       "    <tr>\n",
       "      <th>3</th>\n",
       "      <td>Blues</td>\n",
       "      <td>Extras</td>\n",
       "      <td>29</td>\n",
       "    </tr>\n",
       "    <tr>\n",
       "      <th>4</th>\n",
       "      <td>Gladiators</td>\n",
       "      <td>Extras</td>\n",
       "      <td>32</td>\n",
       "    </tr>\n",
       "    <tr>\n",
       "      <th>5</th>\n",
       "      <td>Blues</td>\n",
       "      <td>Player</td>\n",
       "      <td>20</td>\n",
       "    </tr>\n",
       "    <tr>\n",
       "      <th>6</th>\n",
       "      <td>Gladiators</td>\n",
       "      <td>Player</td>\n",
       "      <td>21</td>\n",
       "    </tr>\n",
       "    <tr>\n",
       "      <th>7</th>\n",
       "      <td>Gladiators</td>\n",
       "      <td>Player</td>\n",
       "      <td>23</td>\n",
       "    </tr>\n",
       "    <tr>\n",
       "      <th>8</th>\n",
       "      <td>Blues</td>\n",
       "      <td>Extras</td>\n",
       "      <td>30</td>\n",
       "    </tr>\n",
       "    <tr>\n",
       "      <th>9</th>\n",
       "      <td>Blues</td>\n",
       "      <td>Player</td>\n",
       "      <td>26</td>\n",
       "    </tr>\n",
       "    <tr>\n",
       "      <th>10</th>\n",
       "      <td>Radisson</td>\n",
       "      <td>Player</td>\n",
       "      <td>20</td>\n",
       "    </tr>\n",
       "    <tr>\n",
       "      <th>11</th>\n",
       "      <td>Radisson</td>\n",
       "      <td>Extras</td>\n",
       "      <td>31</td>\n",
       "    </tr>\n",
       "  </tbody>\n",
       "</table>\n",
       "</div>"
      ],
      "text/plain": [
       "          Team Position  Age\n",
       "0     Radisson   Player   22\n",
       "1     Radisson   Extras   24\n",
       "2   Gladiators   Player   21\n",
       "3        Blues   Extras   29\n",
       "4   Gladiators   Extras   32\n",
       "5        Blues   Player   20\n",
       "6   Gladiators   Player   21\n",
       "7   Gladiators   Player   23\n",
       "8        Blues   Extras   30\n",
       "9        Blues   Player   26\n",
       "10    Radisson   Player   20\n",
       "11    Radisson   Extras   31"
      ]
     },
     "execution_count": 86,
     "metadata": {},
     "output_type": "execute_result"
    }
   ],
   "source": [
    "import pandas as pd\n",
    "  \n",
    "  \n",
    "# creating a dataframe\n",
    "df = pd.DataFrame({\"Team\": [\"Radisson\", \"Radisson\", \"Gladiators\",\n",
    "                            \"Blues\", \"Gladiators\", \"Blues\", \n",
    "                            \"Gladiators\", \"Gladiators\", \"Blues\", \n",
    "                            \"Blues\", \"Radisson\", \"Radisson\"],\n",
    "                     \n",
    "        \"Position\": [\"Player\", \"Extras\", \"Player\", \"Extras\",\n",
    "                     \"Extras\", \"Player\", \"Player\", \"Player\",\n",
    "                     \"Extras\", \"Player\", \"Player\", \"Extras\"],\n",
    "                     \n",
    "        \"Age\": [22, 24, 21, 29, 32, 20, 21, 23, 30, 26, 20, 31]})\n",
    "df"
   ]
  },
  {
   "cell_type": "markdown",
   "id": "ba82daef",
   "metadata": {
    "hidden": true
   },
   "source": [
    "Finding `mean`, `min` and `max` values."
   ]
  },
  {
   "cell_type": "code",
   "execution_count": 87,
   "id": "60ef3e81",
   "metadata": {
    "hidden": true
   },
   "outputs": [
    {
     "name": "stdout",
     "output_type": "stream",
     "text": [
      "Mean, min, and max values of Age grouped by Team\n",
      "              Age        \n",
      "             mean min max\n",
      "Team                     \n",
      "Blues       26.25  20  30\n",
      "Gladiators  24.25  21  32\n",
      "Radisson    24.25  20  31\n"
     ]
    }
   ],
   "source": [
    "# using groupby function with aggregation \n",
    "# to get mean, min and max values\n",
    "result = df.groupby('Team').agg({'Age': ['mean', 'min', 'max']})\n",
    "  \n",
    "print(\"Mean, min, and max values of Age grouped by Team\")\n",
    "print(result)"
   ]
  },
  {
   "cell_type": "markdown",
   "id": "18f44078",
   "metadata": {
    "heading_collapsed": true
   },
   "source": [
    "# [Select row with maximum and minimum value in Pandas dataframe](https://www.geeksforgeeks.org/select-row-with-maximum-and-minimum-value-in-pandas-dataframe/?ref=lbp)"
   ]
  },
  {
   "cell_type": "markdown",
   "id": "e14e4a5d",
   "metadata": {
    "hidden": true
   },
   "source": [
    "Let’s see how can we select row with maximum and minimum value in Pandas dataframe with help of different examples.\n",
    "\n",
    "Consider this dataset."
   ]
  },
  {
   "cell_type": "code",
   "execution_count": 88,
   "id": "3165e396",
   "metadata": {
    "hidden": true
   },
   "outputs": [
    {
     "name": "stdout",
     "output_type": "stream",
     "text": [
      "       Driver  Points  Age\n",
      "0    Hamilton     408   33\n",
      "1      Vettel     320   31\n",
      "2   Raikkonen     251   39\n",
      "3  Verstappen     249   21\n",
      "4      Bottas     247   29\n",
      "5   Ricciardo     170   29\n",
      "6  Hulkenberg      69   31\n",
      "7       Perez      62   28\n",
      "8   Magnussen      56   26\n",
      "9       Sainz      53   24\n"
     ]
    }
   ],
   "source": [
    "# importing pandas and numpy\n",
    "import pandas as pd\n",
    "import numpy as np\n",
    "  \n",
    "# data of 2018 drivers world championship\n",
    "dict1 ={'Driver':['Hamilton', 'Vettel', 'Raikkonen',\n",
    "                  'Verstappen', 'Bottas', 'Ricciardo',\n",
    "                  'Hulkenberg', 'Perez', 'Magnussen', \n",
    "                  'Sainz', 'Alonso', 'Ocon', 'Leclerc',\n",
    "                  'Grosjean', 'Gasly', 'Vandoorne',\n",
    "                  'Ericsson', 'Stroll', 'Hartley', 'Sirotkin'],\n",
    "                    \n",
    "        'Points':[408, 320, 251, 249, 247, 170, 69, 62, 56,\n",
    "                   53, 50, 49, 39, 37, 29, 12, 9, 6, 4, 1],\n",
    "                     \n",
    "        'Age':[33, 31, 39, 21, 29, 29, 31, 28, 26, 24, 37,\n",
    "                      22, 21, 32, 22, 26, 28, 20, 29, 23]}\n",
    "                        \n",
    "# creating dataframe using DataFrame constructor\n",
    "df = pd.DataFrame(dict1)\n",
    "print(df.head(10))"
   ]
  },
  {
   "cell_type": "markdown",
   "id": "1c0bff37",
   "metadata": {
    "hidden": true
   },
   "source": [
    "**Using `max` on Dataframe –**\n",
    "\n",
    "**Code #1:** Shows max on Driver, Points, Age columns."
   ]
  },
  {
   "cell_type": "code",
   "execution_count": 89,
   "id": "27dafb2e",
   "metadata": {
    "hidden": true
   },
   "outputs": [
    {
     "name": "stdout",
     "output_type": "stream",
     "text": [
      "Driver    Vettel\n",
      "Points       408\n",
      "Age           39\n",
      "dtype: object\n"
     ]
    }
   ],
   "source": [
    "# importing pandas and numpy\n",
    "import pandas as pd\n",
    "import numpy as np\n",
    "  \n",
    "# data of 2018 drivers world championship\n",
    "dict1 ={'Driver':['Hamilton', 'Vettel', 'Raikkonen',\n",
    "                  'Verstappen', 'Bottas', 'Ricciardo',\n",
    "                  'Hulkenberg', 'Perez', 'Magnussen', \n",
    "                  'Sainz', 'Alonso', 'Ocon', 'Leclerc',\n",
    "                  'Grosjean', 'Gasly', 'Vandoorne',\n",
    "                  'Ericsson', 'Stroll', 'Hartley', 'Sirotkin'],\n",
    "                    \n",
    "        'Points':[408, 320, 251, 249, 247, 170, 69, 62, 56,\n",
    "                   53, 50, 49, 39, 37, 29, 12, 9, 6, 4, 1],\n",
    "                     \n",
    "        'Age':[33, 31, 39, 21, 29, 29, 31, 28, 26, 24, 37,\n",
    "                      22, 21, 32, 22, 26, 28, 20, 29, 23]}\n",
    "                        \n",
    "# creating dataframe using DataFrame constructor\n",
    "df = pd.DataFrame(dict1)\n",
    "  \n",
    "# the result shows max on\n",
    "# Driver, Points, Age columns.\n",
    "print(df.max())"
   ]
  },
  {
   "cell_type": "markdown",
   "id": "979d3037",
   "metadata": {
    "hidden": true
   },
   "source": [
    "**Code #2:** Who scored max points"
   ]
  },
  {
   "cell_type": "code",
   "execution_count": 90,
   "id": "00b9f5e5",
   "metadata": {
    "hidden": true
   },
   "outputs": [
    {
     "name": "stdout",
     "output_type": "stream",
     "text": [
      "     Driver  Points  Age\n",
      "0  Hamilton     408   33\n"
     ]
    }
   ],
   "source": [
    "# importing pandas and numpy\n",
    "import pandas as pd\n",
    "import numpy as np\n",
    "  \n",
    "# data of 2018 drivers world championship\n",
    "dict1 ={'Driver':['Hamilton', 'Vettel', 'Raikkonen',\n",
    "                  'Verstappen', 'Bottas', 'Ricciardo',\n",
    "                  'Hulkenberg', 'Perez', 'Magnussen', \n",
    "                  'Sainz', 'Alonso', 'Ocon', 'Leclerc',\n",
    "                  'Grosjean', 'Gasly', 'Vandoorne',\n",
    "                  'Ericsson', 'Stroll', 'Hartley', 'Sirotkin'],\n",
    "                    \n",
    "        'Points':[408, 320, 251, 249, 247, 170, 69, 62, 56,\n",
    "                   53, 50, 49, 39, 37, 29, 12, 9, 6, 4, 1],\n",
    "                     \n",
    "        'Age':[33, 31, 39, 21, 29, 29, 31, 28, 26, 24, 37,\n",
    "                      22, 21, 32, 22, 26, 28, 20, 29, 23]}\n",
    "                        \n",
    "# creating dataframe using DataFrame constructor\n",
    "df = pd.DataFrame(dict1)\n",
    "  \n",
    "# Who scored more points ?\n",
    "print(df[df.Points == df.Points.max()])"
   ]
  },
  {
   "cell_type": "markdown",
   "id": "db6c63b5",
   "metadata": {
    "hidden": true
   },
   "source": [
    "**Code #3:**  What is the maximum age"
   ]
  },
  {
   "cell_type": "code",
   "execution_count": 91,
   "id": "734358bb",
   "metadata": {
    "hidden": true
   },
   "outputs": [
    {
     "name": "stdout",
     "output_type": "stream",
     "text": [
      "39\n"
     ]
    }
   ],
   "source": [
    "# importing pandas and numpy\n",
    "import pandas as pd\n",
    "import numpy as np\n",
    "  \n",
    "# data of 2018 drivers world championship\n",
    "dict1 ={'Driver':['Hamilton', 'Vettel', 'Raikkonen',\n",
    "                  'Verstappen', 'Bottas', 'Ricciardo',\n",
    "                  'Hulkenberg', 'Perez', 'Magnussen', \n",
    "                  'Sainz', 'Alonso', 'Ocon', 'Leclerc',\n",
    "                  'Grosjean', 'Gasly', 'Vandoorne',\n",
    "                  'Ericsson', 'Stroll', 'Hartley', 'Sirotkin'],\n",
    "                    \n",
    "        'Points':[408, 320, 251, 249, 247, 170, 69, 62, 56,\n",
    "                   53, 50, 49, 39, 37, 29, 12, 9, 6, 4, 1],\n",
    "                     \n",
    "        'Age':[33, 31, 39, 21, 29, 29, 31, 28, 26, 24, 37,\n",
    "                      22, 21, 32, 22, 26, 28, 20, 29, 23]}\n",
    "                        \n",
    "# creating dataframe using DataFrame constructor\n",
    "df = pd.DataFrame(dict1)\n",
    "  \n",
    "# what is the maximum age ?\n",
    "print(df.Age.max())"
   ]
  },
  {
   "cell_type": "markdown",
   "id": "b7d369cd",
   "metadata": {
    "hidden": true
   },
   "source": [
    "**Code #4:**  Which row has maximum age in the dataframe | who is the oldest driver ?\n"
   ]
  },
  {
   "cell_type": "code",
   "execution_count": 92,
   "id": "d661df08",
   "metadata": {
    "hidden": true
   },
   "outputs": [
    {
     "name": "stdout",
     "output_type": "stream",
     "text": [
      "      Driver  Points  Age\n",
      "2  Raikkonen     251   39\n"
     ]
    }
   ],
   "source": [
    "# importing pandas and numpy\n",
    "import pandas as pd\n",
    "import numpy as np\n",
    "  \n",
    "# data of 2018 drivers world championship\n",
    "dict1 ={'Driver':['Hamilton', 'Vettel', 'Raikkonen',\n",
    "                  'Verstappen', 'Bottas', 'Ricciardo',\n",
    "                  'Hulkenberg', 'Perez', 'Magnussen', \n",
    "                  'Sainz', 'Alonso', 'Ocon', 'Leclerc',\n",
    "                  'Grosjean', 'Gasly', 'Vandoorne',\n",
    "                  'Ericsson', 'Stroll', 'Hartley', 'Sirotkin'],\n",
    "                    \n",
    "        'Points':[408, 320, 251, 249, 247, 170, 69, 62, 56,\n",
    "                   53, 50, 49, 39, 37, 29, 12, 9, 6, 4, 1],\n",
    "                     \n",
    "        'Age':[33, 31, 39, 21, 29, 29, 31, 28, 26, 24, 37,\n",
    "                      22, 21, 32, 22, 26, 28, 20, 29, 23]}\n",
    "                        \n",
    "# creating dataframe using DataFrame constructor\n",
    "df = pd.DataFrame(dict1)\n",
    "  \n",
    "# Which row has maximum age |\n",
    "# who is the oldest driver ?\n",
    "print(df[df.Age == df.Age.max()])"
   ]
  },
  {
   "cell_type": "markdown",
   "id": "fd18a778",
   "metadata": {
    "hidden": true
   },
   "source": [
    "**Using max on Dataframe –**\n",
    "\n",
    "**Code #1:** Shows min on Driver, Points, Age columns."
   ]
  },
  {
   "cell_type": "code",
   "execution_count": 93,
   "id": "cbc683c3",
   "metadata": {
    "hidden": true
   },
   "outputs": [
    {
     "name": "stdout",
     "output_type": "stream",
     "text": [
      "Driver    Alonso\n",
      "Points         1\n",
      "Age           20\n",
      "dtype: object\n"
     ]
    }
   ],
   "source": [
    "# importing pandas and numpy\n",
    "import pandas as pd\n",
    "import numpy as np\n",
    "  \n",
    "# data of 2018 drivers world championship\n",
    "dict1 ={'Driver':['Hamilton', 'Vettel', 'Raikkonen',\n",
    "                  'Verstappen', 'Bottas', 'Ricciardo',\n",
    "                  'Hulkenberg', 'Perez', 'Magnussen', \n",
    "                  'Sainz', 'Alonso', 'Ocon', 'Leclerc',\n",
    "                  'Grosjean', 'Gasly', 'Vandoorne',\n",
    "                  'Ericsson', 'Stroll', 'Hartley', 'Sirotkin'],\n",
    "                    \n",
    "        'Points':[408, 320, 251, 249, 247, 170, 69, 62, 56,\n",
    "                   53, 50, 49, 39, 37, 29, 12, 9, 6, 4, 1],\n",
    "                     \n",
    "        'Age':[33, 31, 39, 21, 29, 29, 31, 28, 26, 24, 37,\n",
    "                      22, 21, 32, 22, 26, 28, 20, 29, 23]}\n",
    "                        \n",
    "# creating dataframe using DataFrame constructor\n",
    "df = pd.DataFrame(dict1)\n",
    "  \n",
    "# the result shows min on \n",
    "# Driver, Points, Age columns.\n",
    "print(df.min())"
   ]
  },
  {
   "cell_type": "markdown",
   "id": "0c31a827",
   "metadata": {
    "hidden": true
   },
   "source": [
    "**Code #2:** Who scored less points"
   ]
  },
  {
   "cell_type": "code",
   "execution_count": 94,
   "id": "950db20e",
   "metadata": {
    "hidden": true
   },
   "outputs": [
    {
     "name": "stdout",
     "output_type": "stream",
     "text": [
      "      Driver  Points  Age\n",
      "19  Sirotkin       1   23\n"
     ]
    }
   ],
   "source": [
    "# importing pandas and numpy\n",
    "import pandas as pd\n",
    "import numpy as np\n",
    "  \n",
    "# data of 2018 drivers world championship\n",
    "dict1 ={'Driver':['Hamilton', 'Vettel', 'Raikkonen',\n",
    "                  'Verstappen', 'Bottas', 'Ricciardo',\n",
    "                  'Hulkenberg', 'Perez', 'Magnussen', \n",
    "                  'Sainz', 'Alonso', 'Ocon', 'Leclerc',\n",
    "                  'Grosjean', 'Gasly', 'Vandoorne',\n",
    "                  'Ericsson', 'Stroll', 'Hartley', 'Sirotkin'],\n",
    "                    \n",
    "        'Points':[408, 320, 251, 249, 247, 170, 69, 62, 56,\n",
    "                   53, 50, 49, 39, 37, 29, 12, 9, 6, 4, 1],\n",
    "                     \n",
    "        'Age':[33, 31, 39, 21, 29, 29, 31, 28, 26, 24, 37,\n",
    "                      22, 21, 32, 22, 26, 28, 20, 29, 23]}\n",
    "                        \n",
    "# creating dataframe using DataFrame constructor\n",
    "df = pd.DataFrame(dict1)\n",
    "  \n",
    "# Who scored less points ?\n",
    "print(df[df.Points == df.Points.min()])"
   ]
  },
  {
   "cell_type": "markdown",
   "id": "da1eac07",
   "metadata": {
    "hidden": true
   },
   "source": [
    "**Code #3:** Which row has minimum age in the dataframe | who is the youngest driver"
   ]
  },
  {
   "cell_type": "code",
   "execution_count": 95,
   "id": "95850b30",
   "metadata": {
    "hidden": true
   },
   "outputs": [
    {
     "name": "stdout",
     "output_type": "stream",
     "text": [
      "    Driver  Points  Age\n",
      "17  Stroll       6   20\n"
     ]
    }
   ],
   "source": [
    "# importing pandas and numpy\n",
    "import pandas as pd\n",
    "import numpy as np\n",
    "  \n",
    "# data of 2018 drivers world championship\n",
    "dict1 ={'Driver':['Hamilton', 'Vettel', 'Raikkonen',\n",
    "                  'Verstappen', 'Bottas', 'Ricciardo',\n",
    "                  'Hulkenberg', 'Perez', 'Magnussen', \n",
    "                  'Sainz', 'Alonso', 'Ocon', 'Leclerc',\n",
    "                  'Grosjean', 'Gasly', 'Vandoorne',\n",
    "                  'Ericsson', 'Stroll', 'Hartley', 'Sirotkin'],\n",
    "                    \n",
    "        'Points':[408, 320, 251, 249, 247, 170, 69, 62, 56,\n",
    "                   53, 50, 49, 39, 37, 29, 12, 9, 6, 4, 1],\n",
    "                     \n",
    "        'Age':[33, 31, 39, 21, 29, 29, 31, 28, 26, 24, 37,\n",
    "                      22, 21, 32, 22, 26, 28, 20, 29, 23]}\n",
    "                        \n",
    "# creating dataframe using DataFrame constructor\n",
    "df = pd.DataFrame(dict1)\n",
    "  \n",
    "# Which row has maximum age | \n",
    "# who is the youngest driver ?\n",
    "print(df[df.Age == df.Age.min()])"
   ]
  },
  {
   "cell_type": "markdown",
   "id": "dee6ade3",
   "metadata": {
    "heading_collapsed": true
   },
   "source": [
    "# [Find maximum values & position in columns and rows of a Dataframe in Pandas](https://www.geeksforgeeks.org/find-maximum-values-position-in-columns-and-rows-of-a-dataframe-in-pandas/)"
   ]
  },
  {
   "cell_type": "markdown",
   "id": "8b0d4520",
   "metadata": {
    "hidden": true
   },
   "source": [
    "In this article, we are going to discuss how to find maximum value and its index position in columns and rows of a Dataframe.\n",
    "\n",
    "**DataFrame.max()**\n",
    "\n",
    "Pandas `dataframe.max()` method finds the maximum of the values in the object and returns it. If the input is a series, the method will return a scalar which will be the maximum of the values in the series. If the input is a dataframe, then the method will return a series with maximum of values over the specified axis in the dataframe. The index axis is the default axis taken by this method.\n",
    "\n",
    "| **Syntax:** | `DataFrame.max(axis=None, skipna=None, level=None, numeric_only=None, **kwargs)`  |\n",
    "| --- | --- |\n",
    "| **Parameters :** | |\n",
    "| **axis :** | { index (0), columns (1) }  |\n",
    "| **skipna :** | Exclude NA/null values when computing the result  |\n",
    "| **level :** | If the axis is a MultiIndex (hierarchical), count along a particular level, collapsing into a Series  |\n",
    "| **numeric_only :** | Include only float, int, boolean columns. If None, will attempt to use everything, then use only numeric data. Not implemented for Series. |\n",
    "| **Returns :** | max : Series or DataFrame (if level specified) |\n",
    "\n",
    "\n",
    "Let’s take an example of how to use this function. Let’s suppose we have a Dataframe "
   ]
  },
  {
   "cell_type": "code",
   "execution_count": 96,
   "id": "232266d3",
   "metadata": {
    "hidden": true
   },
   "outputs": [
    {
     "data": {
      "text/html": [
       "<div>\n",
       "<style scoped>\n",
       "    .dataframe tbody tr th:only-of-type {\n",
       "        vertical-align: middle;\n",
       "    }\n",
       "\n",
       "    .dataframe tbody tr th {\n",
       "        vertical-align: top;\n",
       "    }\n",
       "\n",
       "    .dataframe thead th {\n",
       "        text-align: right;\n",
       "    }\n",
       "</style>\n",
       "<table border=\"1\" class=\"dataframe\">\n",
       "  <thead>\n",
       "    <tr style=\"text-align: right;\">\n",
       "      <th></th>\n",
       "      <th>x</th>\n",
       "      <th>y</th>\n",
       "      <th>z</th>\n",
       "    </tr>\n",
       "  </thead>\n",
       "  <tbody>\n",
       "    <tr>\n",
       "      <th>a</th>\n",
       "      <td>10.0</td>\n",
       "      <td>56.0</td>\n",
       "      <td>17</td>\n",
       "    </tr>\n",
       "    <tr>\n",
       "      <th>b</th>\n",
       "      <td>NaN</td>\n",
       "      <td>23.0</td>\n",
       "      <td>11</td>\n",
       "    </tr>\n",
       "    <tr>\n",
       "      <th>c</th>\n",
       "      <td>49.0</td>\n",
       "      <td>36.0</td>\n",
       "      <td>55</td>\n",
       "    </tr>\n",
       "    <tr>\n",
       "      <th>d</th>\n",
       "      <td>75.0</td>\n",
       "      <td>NaN</td>\n",
       "      <td>34</td>\n",
       "    </tr>\n",
       "    <tr>\n",
       "      <th>e</th>\n",
       "      <td>89.0</td>\n",
       "      <td>21.0</td>\n",
       "      <td>44</td>\n",
       "    </tr>\n",
       "  </tbody>\n",
       "</table>\n",
       "</div>"
      ],
      "text/plain": [
       "      x     y   z\n",
       "a  10.0  56.0  17\n",
       "b   NaN  23.0  11\n",
       "c  49.0  36.0  55\n",
       "d  75.0   NaN  34\n",
       "e  89.0  21.0  44"
      ]
     },
     "execution_count": 96,
     "metadata": {},
     "output_type": "execute_result"
    }
   ],
   "source": [
    "import numpy as np\n",
    "import pandas as pd\n",
    "\n",
    "# List of Tuples\n",
    "matrix = [(10, 56, 17),\n",
    "          (np.NaN, 23, 11),\n",
    "          (49, 36, 55),\n",
    "          (75, np.NaN, 34),\n",
    "          (89, 21, 44)\n",
    "          ]\n",
    "\n",
    "# Create a DataFrame\n",
    "abc = pd.DataFrame(matrix, index = list('abcde'), columns = list('xyz'))\n",
    " \n",
    "# output\n",
    "abc"
   ]
  },
  {
   "cell_type": "markdown",
   "id": "1d3e3f60",
   "metadata": {
    "heading_collapsed": true,
    "hidden": true
   },
   "source": [
    "## How to find Maximum values of every column?"
   ]
  },
  {
   "cell_type": "markdown",
   "id": "e41b8441",
   "metadata": {
    "hidden": true
   },
   "source": [
    "To find the maximum value of each column, call max() method on the Dataframe object without taking any argument. "
   ]
  },
  {
   "cell_type": "code",
   "execution_count": 97,
   "id": "88906d5e",
   "metadata": {
    "hidden": true
   },
   "outputs": [
    {
     "name": "stdout",
     "output_type": "stream",
     "text": [
      "x    89.0\n",
      "y    56.0\n",
      "z    55.0\n",
      "dtype: float64\n"
     ]
    }
   ],
   "source": [
    "# find the maximum of each column\n",
    "maxValues = abc.max()\n",
    " \n",
    "print(maxValues)"
   ]
  },
  {
   "cell_type": "markdown",
   "id": "085ec5b2",
   "metadata": {
    "hidden": true
   },
   "source": [
    "We can see that it returned a series of maximum values where the index is column name and values are the maxima from each column."
   ]
  },
  {
   "cell_type": "markdown",
   "id": "4c82f2b0",
   "metadata": {
    "heading_collapsed": true,
    "hidden": true
   },
   "source": [
    "## How to find maximum values of every row? "
   ]
  },
  {
   "cell_type": "markdown",
   "id": "853e488c",
   "metadata": {
    "hidden": true
   },
   "source": [
    "To find the maximum value of each row, call max() method on the Dataframe object with an argument axis = 1.  "
   ]
  },
  {
   "cell_type": "code",
   "execution_count": 98,
   "id": "a81a1da5",
   "metadata": {
    "hidden": true
   },
   "outputs": [
    {
     "name": "stdout",
     "output_type": "stream",
     "text": [
      "a    56.0\n",
      "b    23.0\n",
      "c    55.0\n",
      "d    75.0\n",
      "e    89.0\n",
      "dtype: float64\n"
     ]
    }
   ],
   "source": [
    "# find the maximum values of each row\n",
    "maxValues = abc.max(axis = 1)\n",
    "print(maxValues)"
   ]
  },
  {
   "cell_type": "markdown",
   "id": "79844fa3",
   "metadata": {
    "hidden": true
   },
   "source": [
    "\n",
    "We can see that it returned a series of maximum values where the index is row name and values are the maxima from each row. We can see that in the above examples NaN values are skipped while finding the maximum values in any axis. We can include NaN values as well if we want.\n",
    "\n"
   ]
  },
  {
   "cell_type": "markdown",
   "id": "8e9d36b6",
   "metadata": {
    "heading_collapsed": true,
    "hidden": true
   },
   "source": [
    "##  How to find maximum values of every column without skipping NaN?"
   ]
  },
  {
   "cell_type": "code",
   "execution_count": 99,
   "id": "9c3a4921",
   "metadata": {
    "hidden": true
   },
   "outputs": [
    {
     "name": "stdout",
     "output_type": "stream",
     "text": [
      "x     NaN\n",
      "y     NaN\n",
      "z    55.0\n",
      "dtype: float64\n"
     ]
    }
   ],
   "source": [
    "# find maximum value of each\n",
    "# column without skipping NaN\n",
    "maxValues = abc.max(skipna = False)\n",
    " \n",
    "print(maxValues)"
   ]
  },
  {
   "cell_type": "markdown",
   "id": "e41e0d57",
   "metadata": {
    "hidden": true
   },
   "source": [
    "By putting skipna=False we can include NaN values also. If any NaN value exists it will be considered as the maximum value."
   ]
  },
  {
   "cell_type": "markdown",
   "id": "643d0c7e",
   "metadata": {
    "heading_collapsed": true,
    "hidden": true
   },
   "source": [
    "## How to find maximum values of a single column or selected columns?"
   ]
  },
  {
   "cell_type": "markdown",
   "id": "8a3aaf2e",
   "metadata": {
    "hidden": true
   },
   "source": [
    "To get the maximum value of a single column see the following example "
   ]
  },
  {
   "cell_type": "code",
   "execution_count": 100,
   "id": "5bec3d4b",
   "metadata": {
    "hidden": true
   },
   "outputs": [
    {
     "name": "stdout",
     "output_type": "stream",
     "text": [
      "Maximum value in column 'x': \n",
      "89.0\n"
     ]
    }
   ],
   "source": [
    "# find maximum value of a\n",
    "# single column 'x'\n",
    "maxClm = abc['x'].max()\n",
    " \n",
    "print(\"Maximum value in column 'x': \" )\n",
    "print(maxClm)"
   ]
  },
  {
   "cell_type": "markdown",
   "id": "99ad52ff",
   "metadata": {
    "hidden": true
   },
   "source": [
    "We have another way to find maximum value of a column : "
   ]
  },
  {
   "cell_type": "code",
   "execution_count": 101,
   "id": "d1685e7d",
   "metadata": {
    "hidden": true
   },
   "outputs": [
    {
     "data": {
      "text/plain": [
       "89.0"
      ]
     },
     "execution_count": 101,
     "metadata": {},
     "output_type": "execute_result"
    }
   ],
   "source": [
    "# find maximum value of a\n",
    "# single column 'x'\n",
    "maxClm = abc.max()['x']\n",
    "maxClm"
   ]
  },
  {
   "cell_type": "markdown",
   "id": "fe8e3ccc",
   "metadata": {
    "hidden": true
   },
   "source": [
    "\n",
    "The result will be same as above. "
   ]
  },
  {
   "cell_type": "markdown",
   "id": "062fbdc4",
   "metadata": {
    "hidden": true
   },
   "source": [
    "A list of columns can also be passed instead of a single column to find the maximum values of specified columns "
   ]
  },
  {
   "cell_type": "code",
   "execution_count": 102,
   "id": "6214dc0e",
   "metadata": {
    "hidden": true
   },
   "outputs": [
    {
     "name": "stdout",
     "output_type": "stream",
     "text": [
      "Maximum value in column 'x' & 'z': \n",
      "x    89.0\n",
      "z    55.0\n",
      "dtype: float64\n"
     ]
    }
   ],
   "source": [
    "maxValues = abc[['x', 'z']].max()\n",
    " \n",
    "print(\"Maximum value in column 'x' & 'z': \")\n",
    "print(maxValues)"
   ]
  },
  {
   "cell_type": "markdown",
   "id": "471d7394",
   "metadata": {
    "heading_collapsed": true,
    "hidden": true
   },
   "source": [
    "## How to get position of maximum values of every column?"
   ]
  },
  {
   "cell_type": "markdown",
   "id": "2d46b1c8",
   "metadata": {
    "hidden": true
   },
   "source": [
    "**DataFrame.idxmax()**: Pandas **dataframe.idxmax()** method returns index of first occurrence of maximum over requested axis. While finding the index of the maximum value across any index, all NA/null values are excluded. \n",
    "\n",
    "| Syntax | DataFrame.idxmax(axis=0, skipna=True) |\n",
    "| --- | --- |\n",
    "| **Parameters :** |  |\n",
    "| **axis :** | **0** or `‘index’` for **row-wise**, **1** or `‘columns’` for **column-wise**  |\n",
    "| **skipna :** | Exclude NA/null values. If an entire row/column is NA, the result will be NA |\n",
    "| **Returns :** | idxmax : Series |\n",
    " \n",
    "\n",
    "Let’s take some examples to understand how to use it :"
   ]
  },
  {
   "cell_type": "markdown",
   "id": "61adac5a",
   "metadata": {
    "heading_collapsed": true,
    "hidden": true
   },
   "source": [
    "## How to get row index label of Maximum value in every column "
   ]
  },
  {
   "cell_type": "code",
   "execution_count": 103,
   "id": "755a7304",
   "metadata": {
    "hidden": true
   },
   "outputs": [
    {
     "name": "stdout",
     "output_type": "stream",
     "text": [
      "Maximum values of columns are at row index position :\n",
      "x    e\n",
      "y    a\n",
      "z    c\n",
      "dtype: object\n"
     ]
    }
   ],
   "source": [
    "# find the index position of maximum\n",
    "# values in every column\n",
    "maxValueIndex = abc.idxmax()\n",
    " \n",
    "print(\"Maximum values of columns are at row index position :\")\n",
    "print(maxValueIndex)"
   ]
  },
  {
   "cell_type": "markdown",
   "id": "93216072",
   "metadata": {
    "hidden": true
   },
   "source": [
    "It returns a series containing the column names as index and row as index labels where the maximum value exists in that column."
   ]
  },
  {
   "cell_type": "markdown",
   "id": "0759be17",
   "metadata": {
    "heading_collapsed": true,
    "hidden": true
   },
   "source": [
    "## How to find Column names of Maximum value in every row?"
   ]
  },
  {
   "cell_type": "code",
   "execution_count": 104,
   "id": "76eceb3c",
   "metadata": {
    "hidden": true
   },
   "outputs": [
    {
     "name": "stdout",
     "output_type": "stream",
     "text": [
      "Max values of row are at following columns :\n",
      "a    y\n",
      "b    y\n",
      "c    z\n",
      "d    x\n",
      "e    x\n",
      "dtype: object\n"
     ]
    }
   ],
   "source": [
    "# find the column name of maximum\n",
    "# values in every row\n",
    "maxValueIndex = abc.idxmax(axis = 1)\n",
    " \n",
    "print(\"Max values of row are at following columns :\")\n",
    "print(maxValueIndex)"
   ]
  },
  {
   "cell_type": "markdown",
   "id": "7a95ce48",
   "metadata": {
    "hidden": true
   },
   "source": [
    "It returns a series containing the rows index labels as index and column names as values where the maximum value exists in that row."
   ]
  },
  {
   "cell_type": "markdown",
   "id": "c6b494af",
   "metadata": {
    "heading_collapsed": true
   },
   "source": [
    "# [Python | Pandas dataframe.max()](https://www.geeksforgeeks.org/python-pandas-dataframe-max/?ref=lbp)"
   ]
  },
  {
   "cell_type": "markdown",
   "id": "8691d223",
   "metadata": {
    "hidden": true
   },
   "source": [
    "Python is a great language for doing data analysis, primarily because of the fantastic ecosystem of data-centric python packages. _**Pandas**_ is one of those packages and makes importing and analyzing data much easier.\n",
    "\n",
    "Pandas **dataframe.max()** function returns the maximum of the values in the given object. If the input is a series, the method will return a scalar which will be the maximum of the values in the series. If the input is a dataframe, then the method will return a series with maximum of values over the specified axis in the dataframe. By default the axis is the index axis."
   ]
  },
  {
   "cell_type": "markdown",
   "id": "caa1eb8f",
   "metadata": {
    "hidden": true
   },
   "source": [
    "\n",
    "| **Syntax:** | `DataFrame.max(axis=None, skipna=None, level=None, numeric_only=None, **kwargs)`  |\n",
    "| --- | --- |\n",
    "| **Parameters :** | |\n",
    "| **axis :** | { index (0), columns (1) }  |\n",
    "| **skipna :** | Exclude NA/null values when computing the result  |\n",
    "| **level :** | If the axis is a MultiIndex (hierarchical), count along a particular level, collapsing into a Series  |\n",
    "| **numeric_only :** | Include only float, int, boolean columns. If None, will attempt to use everything, then use only numeric data. Not implemented for Series. |\n",
    "| **Returns :** | max : Series or DataFrame (if level specified) |\n"
   ]
  },
  {
   "cell_type": "markdown",
   "id": "13dcbdf0",
   "metadata": {
    "hidden": true
   },
   "source": [
    "**Example #1:** Use `max()` function to find the maximum value over the index axis."
   ]
  },
  {
   "cell_type": "code",
   "execution_count": 105,
   "id": "029532e8",
   "metadata": {
    "hidden": true
   },
   "outputs": [
    {
     "data": {
      "text/html": [
       "<div>\n",
       "<style scoped>\n",
       "    .dataframe tbody tr th:only-of-type {\n",
       "        vertical-align: middle;\n",
       "    }\n",
       "\n",
       "    .dataframe tbody tr th {\n",
       "        vertical-align: top;\n",
       "    }\n",
       "\n",
       "    .dataframe thead th {\n",
       "        text-align: right;\n",
       "    }\n",
       "</style>\n",
       "<table border=\"1\" class=\"dataframe\">\n",
       "  <thead>\n",
       "    <tr style=\"text-align: right;\">\n",
       "      <th></th>\n",
       "      <th>A</th>\n",
       "      <th>B</th>\n",
       "      <th>C</th>\n",
       "      <th>D</th>\n",
       "    </tr>\n",
       "  </thead>\n",
       "  <tbody>\n",
       "    <tr>\n",
       "      <th>0</th>\n",
       "      <td>12</td>\n",
       "      <td>5</td>\n",
       "      <td>20</td>\n",
       "      <td>14</td>\n",
       "    </tr>\n",
       "    <tr>\n",
       "      <th>1</th>\n",
       "      <td>4</td>\n",
       "      <td>2</td>\n",
       "      <td>16</td>\n",
       "      <td>3</td>\n",
       "    </tr>\n",
       "    <tr>\n",
       "      <th>2</th>\n",
       "      <td>5</td>\n",
       "      <td>54</td>\n",
       "      <td>7</td>\n",
       "      <td>17</td>\n",
       "    </tr>\n",
       "    <tr>\n",
       "      <th>3</th>\n",
       "      <td>44</td>\n",
       "      <td>3</td>\n",
       "      <td>3</td>\n",
       "      <td>2</td>\n",
       "    </tr>\n",
       "    <tr>\n",
       "      <th>4</th>\n",
       "      <td>1</td>\n",
       "      <td>2</td>\n",
       "      <td>8</td>\n",
       "      <td>6</td>\n",
       "    </tr>\n",
       "  </tbody>\n",
       "</table>\n",
       "</div>"
      ],
      "text/plain": [
       "    A   B   C   D\n",
       "0  12   5  20  14\n",
       "1   4   2  16   3\n",
       "2   5  54   7  17\n",
       "3  44   3   3   2\n",
       "4   1   2   8   6"
      ]
     },
     "execution_count": 105,
     "metadata": {},
     "output_type": "execute_result"
    }
   ],
   "source": [
    "# importing pandas as pd\n",
    "import pandas as pd\n",
    "  \n",
    "# Creating the dataframe \n",
    "df = pd.DataFrame({\"A\":[12, 4, 5, 44, 1],\n",
    "                   \"B\":[5, 2, 54, 3, 2],\n",
    "                   \"C\":[20, 16, 7, 3, 8], \n",
    "                   \"D\":[14, 3, 17, 2, 6]})\n",
    "  \n",
    "# Print the dataframe\n",
    "df"
   ]
  },
  {
   "cell_type": "markdown",
   "id": "40434960",
   "metadata": {
    "hidden": true
   },
   "source": [
    "Let’s use the `dataframe.max()` function to find the maximum value over the index axis"
   ]
  },
  {
   "cell_type": "code",
   "execution_count": 106,
   "id": "0b59c5fa",
   "metadata": {
    "hidden": true
   },
   "outputs": [
    {
     "data": {
      "text/plain": [
       "A    44\n",
       "B    54\n",
       "C    20\n",
       "D    17\n",
       "dtype: int64"
      ]
     },
     "execution_count": 106,
     "metadata": {},
     "output_type": "execute_result"
    }
   ],
   "source": [
    "# Even if we do not specify axis = 0, \n",
    "# the method will return the max over\n",
    "# the index axis by default\n",
    "df.max(axis = 0)"
   ]
  },
  {
   "cell_type": "markdown",
   "id": "57f75674",
   "metadata": {
    "hidden": true
   },
   "source": [
    "**Example #2:** Use `max()` function on a dataframe which has Na values. Also find the maximum over the column axis."
   ]
  },
  {
   "cell_type": "code",
   "execution_count": 107,
   "id": "f4b9acff",
   "metadata": {
    "hidden": true
   },
   "outputs": [
    {
     "data": {
      "text/plain": [
       "0    20.0\n",
       "1    16.0\n",
       "2    54.0\n",
       "3     3.0\n",
       "4     8.0\n",
       "dtype: float64"
      ]
     },
     "execution_count": 107,
     "metadata": {},
     "output_type": "execute_result"
    }
   ],
   "source": [
    "# importing pandas as pd\n",
    "import pandas as pd\n",
    "  \n",
    "# Creating the dataframe \n",
    "df = pd.DataFrame({\"A\":[12, 4, 5, None, 1], \n",
    "                   \"B\":[7, 2, 54, 3, None],\n",
    "                   \"C\":[20, 16, 11, 3, 8],\n",
    "                   \"D\":[14, 3, None, 2, 6]})\n",
    "  \n",
    "# skip the Na values while finding the maximum\n",
    "df.max(axis = 1, skipna = True)"
   ]
  },
  {
   "cell_type": "markdown",
   "id": "c88b35b2",
   "metadata": {
    "heading_collapsed": true
   },
   "source": [
    "# [Python | Pandas dataframe.idxmax()](https://www.geeksforgeeks.org/python-pandas-dataframe-idxmax/?ref=lbp)"
   ]
  },
  {
   "cell_type": "markdown",
   "id": "7a949a8d",
   "metadata": {
    "hidden": true
   },
   "source": [
    "Python is a great language for doing data analysis, primarily because of the fantastic ecosystem of data-centric python packages. _**Pandas**_ is one of those packages and makes importing and analyzing data much easier.\n",
    "\n",
    "Pandas **dataframe.idxmax()** function returns index of first occurrence of maximum over requested axis. While finding the index of the maximum value across any index, all NA/null values are excluded."
   ]
  },
  {
   "cell_type": "markdown",
   "id": "36a5df1f",
   "metadata": {
    "hidden": true
   },
   "source": [
    "\n",
    "| **Syntax:** | `DataFrame.idmax(axis=0, skipna=True)`  |\n",
    "| --- | --- |\n",
    "| **Parameters :** | |\n",
    "| **axis :** | 0 or ‘index’ for row-wise, 1 or ‘columns’ for column-wise  |\n",
    "| **skipna :** | Exclude NA/null values. If an entire row/column is NA, the result will be NA |\n",
    "| **Returns :** | idxmax : Series |\n"
   ]
  },
  {
   "cell_type": "markdown",
   "id": "aef7e2c5",
   "metadata": {
    "hidden": true
   },
   "source": [
    "**Example #1:** Use idxmax() function to function to find the index of the maximum value along the index axis."
   ]
  },
  {
   "cell_type": "code",
   "execution_count": 108,
   "id": "ee388b54",
   "metadata": {
    "hidden": true
   },
   "outputs": [
    {
     "data": {
      "text/html": [
       "<div>\n",
       "<style scoped>\n",
       "    .dataframe tbody tr th:only-of-type {\n",
       "        vertical-align: middle;\n",
       "    }\n",
       "\n",
       "    .dataframe tbody tr th {\n",
       "        vertical-align: top;\n",
       "    }\n",
       "\n",
       "    .dataframe thead th {\n",
       "        text-align: right;\n",
       "    }\n",
       "</style>\n",
       "<table border=\"1\" class=\"dataframe\">\n",
       "  <thead>\n",
       "    <tr style=\"text-align: right;\">\n",
       "      <th></th>\n",
       "      <th>A</th>\n",
       "      <th>B</th>\n",
       "      <th>C</th>\n",
       "    </tr>\n",
       "  </thead>\n",
       "  <tbody>\n",
       "    <tr>\n",
       "      <th>0</th>\n",
       "      <td>4</td>\n",
       "      <td>11</td>\n",
       "      <td>1</td>\n",
       "    </tr>\n",
       "    <tr>\n",
       "      <th>1</th>\n",
       "      <td>5</td>\n",
       "      <td>2</td>\n",
       "      <td>8</td>\n",
       "    </tr>\n",
       "    <tr>\n",
       "      <th>2</th>\n",
       "      <td>2</td>\n",
       "      <td>5</td>\n",
       "      <td>66</td>\n",
       "    </tr>\n",
       "    <tr>\n",
       "      <th>3</th>\n",
       "      <td>6</td>\n",
       "      <td>8</td>\n",
       "      <td>4</td>\n",
       "    </tr>\n",
       "  </tbody>\n",
       "</table>\n",
       "</div>"
      ],
      "text/plain": [
       "   A   B   C\n",
       "0  4  11   1\n",
       "1  5   2   8\n",
       "2  2   5  66\n",
       "3  6   8   4"
      ]
     },
     "execution_count": 108,
     "metadata": {},
     "output_type": "execute_result"
    }
   ],
   "source": [
    "# importing pandas as pd\n",
    "import pandas as pd\n",
    "  \n",
    "# Creating the dataframe \n",
    "df = pd.DataFrame({\"A\":[4, 5, 2, 6], \n",
    "                   \"B\":[11, 2, 5, 8],\n",
    "                   \"C\":[1, 8, 66, 4]})\n",
    "  \n",
    "# Print the dataframe\n",
    "df"
   ]
  },
  {
   "cell_type": "markdown",
   "id": "26b736fc",
   "metadata": {
    "hidden": true
   },
   "source": [
    "Now apply the `idxmax()` function along the index axis."
   ]
  },
  {
   "cell_type": "code",
   "execution_count": 109,
   "id": "aa754a0e",
   "metadata": {
    "hidden": true
   },
   "outputs": [
    {
     "data": {
      "text/plain": [
       "A    3\n",
       "B    0\n",
       "C    2\n",
       "dtype: int64"
      ]
     },
     "execution_count": 109,
     "metadata": {},
     "output_type": "execute_result"
    }
   ],
   "source": [
    "# applying idxmax() function.\n",
    "df.idxmax(axis = 0)"
   ]
  },
  {
   "cell_type": "markdown",
   "id": "e662920e",
   "metadata": {
    "hidden": true
   },
   "source": [
    "If we look at the values in the dataframe, we can verify the result returned by the function. The function returned a pandas series object containing the index of maximum value in each column.\n",
    " \n",
    "\n",
    "**Example #2:** Use `idxmax()` function to find the index of the maximum value along the column axis. The dataframe contains NA values."
   ]
  },
  {
   "cell_type": "code",
   "execution_count": 110,
   "id": "7c47f895",
   "metadata": {
    "hidden": true
   },
   "outputs": [
    {
     "data": {
      "text/plain": [
       "0    B\n",
       "1    C\n",
       "2    C\n",
       "3    B\n",
       "dtype: object"
      ]
     },
     "execution_count": 110,
     "metadata": {},
     "output_type": "execute_result"
    }
   ],
   "source": [
    "# importing pandas as pd\n",
    "import pandas as pd\n",
    "  \n",
    "# Creating the dataframe \n",
    "df = pd.DataFrame({\"A\":[4, 5, 2, None],\n",
    "                   \"B\":[11, 2, None, 8], \n",
    "                   \"C\":[1, 8, 66, 4]})\n",
    "  \n",
    "# Skipna = True will skip all the Na values\n",
    "# find maximum along column axis\n",
    "df.idxmax(axis = 1, skipna = True)"
   ]
  },
  {
   "cell_type": "markdown",
   "id": "c9e4a861",
   "metadata": {
    "hidden": true
   },
   "source": [
    "The output is a pandas series containing the column label for each row which has the maximum value."
   ]
  },
  {
   "cell_type": "markdown",
   "id": "58d1fe38",
   "metadata": {
    "heading_collapsed": true
   },
   "source": [
    "# [Get the index of maximum value in DataFrame column](https://www.geeksforgeeks.org/get-the-index-of-maximum-value-in-dataframe-column/?ref=lbp)"
   ]
  },
  {
   "cell_type": "markdown",
   "id": "6b97fc7e",
   "metadata": {
    "hidden": true
   },
   "source": [
    "[Pandas DataFrame](#Python-|-Pandas-DataFrame) is two-dimensional size-mutable, potentially heterogeneous tabular data structure with labeled axes (rows and columns). \n",
    "\n",
    "Let’s see how can we get the index of maximum value in DataFrame column.\n",
    "Observe this dataset first. We’ll use ‘Weight’ and ‘Salary’ columns of this data in order to get the index of maximum values from a particular column in Pandas DataFrame."
   ]
  },
  {
   "cell_type": "code",
   "execution_count": 111,
   "id": "c7c76493",
   "metadata": {
    "hidden": true
   },
   "outputs": [
    {
     "data": {
      "text/html": [
       "<div>\n",
       "<style scoped>\n",
       "    .dataframe tbody tr th:only-of-type {\n",
       "        vertical-align: middle;\n",
       "    }\n",
       "\n",
       "    .dataframe tbody tr th {\n",
       "        vertical-align: top;\n",
       "    }\n",
       "\n",
       "    .dataframe thead th {\n",
       "        text-align: right;\n",
       "    }\n",
       "</style>\n",
       "<table border=\"1\" class=\"dataframe\">\n",
       "  <thead>\n",
       "    <tr style=\"text-align: right;\">\n",
       "      <th></th>\n",
       "      <th>Name</th>\n",
       "      <th>Team</th>\n",
       "      <th>Number</th>\n",
       "      <th>Position</th>\n",
       "      <th>Age</th>\n",
       "      <th>Height</th>\n",
       "      <th>Weight</th>\n",
       "      <th>College</th>\n",
       "      <th>Salary</th>\n",
       "    </tr>\n",
       "  </thead>\n",
       "  <tbody>\n",
       "    <tr>\n",
       "      <th>0</th>\n",
       "      <td>Avery Bradley</td>\n",
       "      <td>Boston Celtics</td>\n",
       "      <td>0.0</td>\n",
       "      <td>PG</td>\n",
       "      <td>25.0</td>\n",
       "      <td>6-2</td>\n",
       "      <td>180.0</td>\n",
       "      <td>Texas</td>\n",
       "      <td>7730337.0</td>\n",
       "    </tr>\n",
       "    <tr>\n",
       "      <th>1</th>\n",
       "      <td>Jae Crowder</td>\n",
       "      <td>Boston Celtics</td>\n",
       "      <td>99.0</td>\n",
       "      <td>SF</td>\n",
       "      <td>25.0</td>\n",
       "      <td>6-6</td>\n",
       "      <td>235.0</td>\n",
       "      <td>Marquette</td>\n",
       "      <td>6796117.0</td>\n",
       "    </tr>\n",
       "    <tr>\n",
       "      <th>2</th>\n",
       "      <td>John Holland</td>\n",
       "      <td>Boston Celtics</td>\n",
       "      <td>30.0</td>\n",
       "      <td>SG</td>\n",
       "      <td>27.0</td>\n",
       "      <td>6-5</td>\n",
       "      <td>205.0</td>\n",
       "      <td>Boston University</td>\n",
       "      <td>NaN</td>\n",
       "    </tr>\n",
       "    <tr>\n",
       "      <th>3</th>\n",
       "      <td>R.J. Hunter</td>\n",
       "      <td>Boston Celtics</td>\n",
       "      <td>28.0</td>\n",
       "      <td>SG</td>\n",
       "      <td>22.0</td>\n",
       "      <td>6-5</td>\n",
       "      <td>185.0</td>\n",
       "      <td>Georgia State</td>\n",
       "      <td>1148640.0</td>\n",
       "    </tr>\n",
       "    <tr>\n",
       "      <th>4</th>\n",
       "      <td>Jonas Jerebko</td>\n",
       "      <td>Boston Celtics</td>\n",
       "      <td>8.0</td>\n",
       "      <td>PF</td>\n",
       "      <td>29.0</td>\n",
       "      <td>6-10</td>\n",
       "      <td>231.0</td>\n",
       "      <td>NaN</td>\n",
       "      <td>5000000.0</td>\n",
       "    </tr>\n",
       "    <tr>\n",
       "      <th>5</th>\n",
       "      <td>Amir Johnson</td>\n",
       "      <td>Boston Celtics</td>\n",
       "      <td>90.0</td>\n",
       "      <td>PF</td>\n",
       "      <td>29.0</td>\n",
       "      <td>6-9</td>\n",
       "      <td>240.0</td>\n",
       "      <td>NaN</td>\n",
       "      <td>12000000.0</td>\n",
       "    </tr>\n",
       "    <tr>\n",
       "      <th>6</th>\n",
       "      <td>Jordan Mickey</td>\n",
       "      <td>Boston Celtics</td>\n",
       "      <td>55.0</td>\n",
       "      <td>PF</td>\n",
       "      <td>21.0</td>\n",
       "      <td>6-8</td>\n",
       "      <td>235.0</td>\n",
       "      <td>LSU</td>\n",
       "      <td>1170960.0</td>\n",
       "    </tr>\n",
       "    <tr>\n",
       "      <th>7</th>\n",
       "      <td>Kelly Olynyk</td>\n",
       "      <td>Boston Celtics</td>\n",
       "      <td>41.0</td>\n",
       "      <td>C</td>\n",
       "      <td>25.0</td>\n",
       "      <td>7-0</td>\n",
       "      <td>238.0</td>\n",
       "      <td>Gonzaga</td>\n",
       "      <td>2165160.0</td>\n",
       "    </tr>\n",
       "    <tr>\n",
       "      <th>8</th>\n",
       "      <td>Terry Rozier</td>\n",
       "      <td>Boston Celtics</td>\n",
       "      <td>12.0</td>\n",
       "      <td>PG</td>\n",
       "      <td>22.0</td>\n",
       "      <td>6-2</td>\n",
       "      <td>190.0</td>\n",
       "      <td>Louisville</td>\n",
       "      <td>1824360.0</td>\n",
       "    </tr>\n",
       "    <tr>\n",
       "      <th>9</th>\n",
       "      <td>Marcus Smart</td>\n",
       "      <td>Boston Celtics</td>\n",
       "      <td>36.0</td>\n",
       "      <td>PG</td>\n",
       "      <td>22.0</td>\n",
       "      <td>6-4</td>\n",
       "      <td>220.0</td>\n",
       "      <td>Oklahoma State</td>\n",
       "      <td>3431040.0</td>\n",
       "    </tr>\n",
       "  </tbody>\n",
       "</table>\n",
       "</div>"
      ],
      "text/plain": [
       "            Name            Team  Number Position   Age Height  Weight  \\\n",
       "0  Avery Bradley  Boston Celtics     0.0       PG  25.0    6-2   180.0   \n",
       "1    Jae Crowder  Boston Celtics    99.0       SF  25.0    6-6   235.0   \n",
       "2   John Holland  Boston Celtics    30.0       SG  27.0    6-5   205.0   \n",
       "3    R.J. Hunter  Boston Celtics    28.0       SG  22.0    6-5   185.0   \n",
       "4  Jonas Jerebko  Boston Celtics     8.0       PF  29.0   6-10   231.0   \n",
       "5   Amir Johnson  Boston Celtics    90.0       PF  29.0    6-9   240.0   \n",
       "6  Jordan Mickey  Boston Celtics    55.0       PF  21.0    6-8   235.0   \n",
       "7   Kelly Olynyk  Boston Celtics    41.0        C  25.0    7-0   238.0   \n",
       "8   Terry Rozier  Boston Celtics    12.0       PG  22.0    6-2   190.0   \n",
       "9   Marcus Smart  Boston Celtics    36.0       PG  22.0    6-4   220.0   \n",
       "\n",
       "             College      Salary  \n",
       "0              Texas   7730337.0  \n",
       "1          Marquette   6796117.0  \n",
       "2  Boston University         NaN  \n",
       "3      Georgia State   1148640.0  \n",
       "4                NaN   5000000.0  \n",
       "5                NaN  12000000.0  \n",
       "6                LSU   1170960.0  \n",
       "7            Gonzaga   2165160.0  \n",
       "8         Louisville   1824360.0  \n",
       "9     Oklahoma State   3431040.0  "
      ]
     },
     "execution_count": 111,
     "metadata": {},
     "output_type": "execute_result"
    }
   ],
   "source": [
    "# importing pandas module\n",
    "import pandas as pd\n",
    "   \n",
    "# making data frame\n",
    "df = pd.read_csv(\"https://media.geeksforgeeks.org/wp-content/uploads/nba.csv\")\n",
    " \n",
    "df.head(10)"
   ]
  },
  {
   "cell_type": "markdown",
   "id": "7e97bb19",
   "metadata": {
    "hidden": true
   },
   "source": [
    "**Code #1:** Check the index at which maximum weight value is present. "
   ]
  },
  {
   "cell_type": "code",
   "execution_count": 112,
   "id": "b790a16d",
   "metadata": {
    "hidden": true
   },
   "outputs": [
    {
     "data": {
      "text/plain": [
       "Weight    405\n",
       "dtype: int64"
      ]
     },
     "execution_count": 112,
     "metadata": {},
     "output_type": "execute_result"
    }
   ],
   "source": [
    "# importing pandas module\n",
    "import pandas as pd\n",
    "   \n",
    "# making data frame\n",
    "df = pd.read_csv(\"https://media.geeksforgeeks.org/wp-content/uploads/nba.csv\")\n",
    " \n",
    "# Returns index of maximum weight\n",
    "df[['Weight']].idxmax()"
   ]
  },
  {
   "cell_type": "markdown",
   "id": "41ed315b",
   "metadata": {
    "hidden": true
   },
   "source": [
    "We can verify whether the maximum value is present in index or not. "
   ]
  },
  {
   "cell_type": "code",
   "execution_count": 113,
   "id": "c763c9b8",
   "metadata": {
    "hidden": true
   },
   "outputs": [
    {
     "data": {
      "text/html": [
       "<div>\n",
       "<style scoped>\n",
       "    .dataframe tbody tr th:only-of-type {\n",
       "        vertical-align: middle;\n",
       "    }\n",
       "\n",
       "    .dataframe tbody tr th {\n",
       "        vertical-align: top;\n",
       "    }\n",
       "\n",
       "    .dataframe thead th {\n",
       "        text-align: right;\n",
       "    }\n",
       "</style>\n",
       "<table border=\"1\" class=\"dataframe\">\n",
       "  <thead>\n",
       "    <tr style=\"text-align: right;\">\n",
       "      <th></th>\n",
       "      <th>Name</th>\n",
       "      <th>Team</th>\n",
       "      <th>Number</th>\n",
       "      <th>Position</th>\n",
       "      <th>Age</th>\n",
       "      <th>Height</th>\n",
       "      <th>Weight</th>\n",
       "      <th>College</th>\n",
       "      <th>Salary</th>\n",
       "    </tr>\n",
       "  </thead>\n",
       "  <tbody>\n",
       "    <tr>\n",
       "      <th>400</th>\n",
       "      <td>Kevin Garnett</td>\n",
       "      <td>Minnesota Timberwolves</td>\n",
       "      <td>21.0</td>\n",
       "      <td>PF</td>\n",
       "      <td>40.0</td>\n",
       "      <td>6-11</td>\n",
       "      <td>240.0</td>\n",
       "      <td>NaN</td>\n",
       "      <td>8500000.0</td>\n",
       "    </tr>\n",
       "    <tr>\n",
       "      <th>401</th>\n",
       "      <td>Tyus Jones</td>\n",
       "      <td>Minnesota Timberwolves</td>\n",
       "      <td>1.0</td>\n",
       "      <td>PG</td>\n",
       "      <td>20.0</td>\n",
       "      <td>6-2</td>\n",
       "      <td>195.0</td>\n",
       "      <td>Duke</td>\n",
       "      <td>1282080.0</td>\n",
       "    </tr>\n",
       "    <tr>\n",
       "      <th>402</th>\n",
       "      <td>Zach LaVine</td>\n",
       "      <td>Minnesota Timberwolves</td>\n",
       "      <td>8.0</td>\n",
       "      <td>PG</td>\n",
       "      <td>21.0</td>\n",
       "      <td>6-5</td>\n",
       "      <td>189.0</td>\n",
       "      <td>UCLA</td>\n",
       "      <td>2148360.0</td>\n",
       "    </tr>\n",
       "    <tr>\n",
       "      <th>403</th>\n",
       "      <td>Shabazz Muhammad</td>\n",
       "      <td>Minnesota Timberwolves</td>\n",
       "      <td>15.0</td>\n",
       "      <td>SF</td>\n",
       "      <td>23.0</td>\n",
       "      <td>6-6</td>\n",
       "      <td>223.0</td>\n",
       "      <td>UCLA</td>\n",
       "      <td>2056920.0</td>\n",
       "    </tr>\n",
       "    <tr>\n",
       "      <th>404</th>\n",
       "      <td>Adreian Payne</td>\n",
       "      <td>Minnesota Timberwolves</td>\n",
       "      <td>33.0</td>\n",
       "      <td>PF</td>\n",
       "      <td>25.0</td>\n",
       "      <td>6-10</td>\n",
       "      <td>237.0</td>\n",
       "      <td>Michigan State</td>\n",
       "      <td>1938840.0</td>\n",
       "    </tr>\n",
       "    <tr>\n",
       "      <th>405</th>\n",
       "      <td>Nikola Pekovic</td>\n",
       "      <td>Minnesota Timberwolves</td>\n",
       "      <td>14.0</td>\n",
       "      <td>C</td>\n",
       "      <td>30.0</td>\n",
       "      <td>6-11</td>\n",
       "      <td>307.0</td>\n",
       "      <td>NaN</td>\n",
       "      <td>12100000.0</td>\n",
       "    </tr>\n",
       "    <tr>\n",
       "      <th>406</th>\n",
       "      <td>Tayshaun Prince</td>\n",
       "      <td>Minnesota Timberwolves</td>\n",
       "      <td>12.0</td>\n",
       "      <td>SF</td>\n",
       "      <td>36.0</td>\n",
       "      <td>6-9</td>\n",
       "      <td>212.0</td>\n",
       "      <td>Kentucky</td>\n",
       "      <td>947276.0</td>\n",
       "    </tr>\n",
       "    <tr>\n",
       "      <th>407</th>\n",
       "      <td>Ricky Rubio</td>\n",
       "      <td>Minnesota Timberwolves</td>\n",
       "      <td>9.0</td>\n",
       "      <td>PG</td>\n",
       "      <td>25.0</td>\n",
       "      <td>6-4</td>\n",
       "      <td>194.0</td>\n",
       "      <td>NaN</td>\n",
       "      <td>12700000.0</td>\n",
       "    </tr>\n",
       "    <tr>\n",
       "      <th>408</th>\n",
       "      <td>Damjan Rudez</td>\n",
       "      <td>Minnesota Timberwolves</td>\n",
       "      <td>10.0</td>\n",
       "      <td>SF</td>\n",
       "      <td>29.0</td>\n",
       "      <td>6-9</td>\n",
       "      <td>230.0</td>\n",
       "      <td>NaN</td>\n",
       "      <td>1149500.0</td>\n",
       "    </tr>\n",
       "    <tr>\n",
       "      <th>409</th>\n",
       "      <td>Greg Smith</td>\n",
       "      <td>Minnesota Timberwolves</td>\n",
       "      <td>4.0</td>\n",
       "      <td>PF</td>\n",
       "      <td>25.0</td>\n",
       "      <td>6-10</td>\n",
       "      <td>250.0</td>\n",
       "      <td>Fresno State</td>\n",
       "      <td>NaN</td>\n",
       "    </tr>\n",
       "  </tbody>\n",
       "</table>\n",
       "</div>"
      ],
      "text/plain": [
       "                 Name                    Team  Number Position   Age Height  \\\n",
       "400     Kevin Garnett  Minnesota Timberwolves    21.0       PF  40.0   6-11   \n",
       "401        Tyus Jones  Minnesota Timberwolves     1.0       PG  20.0    6-2   \n",
       "402       Zach LaVine  Minnesota Timberwolves     8.0       PG  21.0    6-5   \n",
       "403  Shabazz Muhammad  Minnesota Timberwolves    15.0       SF  23.0    6-6   \n",
       "404     Adreian Payne  Minnesota Timberwolves    33.0       PF  25.0   6-10   \n",
       "405    Nikola Pekovic  Minnesota Timberwolves    14.0        C  30.0   6-11   \n",
       "406   Tayshaun Prince  Minnesota Timberwolves    12.0       SF  36.0    6-9   \n",
       "407       Ricky Rubio  Minnesota Timberwolves     9.0       PG  25.0    6-4   \n",
       "408      Damjan Rudez  Minnesota Timberwolves    10.0       SF  29.0    6-9   \n",
       "409        Greg Smith  Minnesota Timberwolves     4.0       PF  25.0   6-10   \n",
       "\n",
       "     Weight         College      Salary  \n",
       "400   240.0             NaN   8500000.0  \n",
       "401   195.0            Duke   1282080.0  \n",
       "402   189.0            UCLA   2148360.0  \n",
       "403   223.0            UCLA   2056920.0  \n",
       "404   237.0  Michigan State   1938840.0  \n",
       "405   307.0             NaN  12100000.0  \n",
       "406   212.0        Kentucky    947276.0  \n",
       "407   194.0             NaN  12700000.0  \n",
       "408   230.0             NaN   1149500.0  \n",
       "409   250.0    Fresno State         NaN  "
      ]
     },
     "execution_count": 113,
     "metadata": {},
     "output_type": "execute_result"
    }
   ],
   "source": [
    "# importing pandas module\n",
    "import pandas as pd\n",
    "    \n",
    "# making data frame\n",
    "df = pd.read_csv(\"https://media.geeksforgeeks.org/wp-content/uploads/nba.csv\")\n",
    "  \n",
    "# from index 400 to 409\n",
    "df.iloc[400:410]"
   ]
  },
  {
   "cell_type": "markdown",
   "id": "04d89a7b",
   "metadata": {
    "hidden": true
   },
   "source": [
    "**Code #2:** Let’s insert a new row at index 0, having maximum salary and then verify. "
   ]
  },
  {
   "cell_type": "code",
   "execution_count": 114,
   "id": "b5b8a19e",
   "metadata": {
    "hidden": true
   },
   "outputs": [
    {
     "data": {
      "text/html": [
       "<div>\n",
       "<style scoped>\n",
       "    .dataframe tbody tr th:only-of-type {\n",
       "        vertical-align: middle;\n",
       "    }\n",
       "\n",
       "    .dataframe tbody tr th {\n",
       "        vertical-align: top;\n",
       "    }\n",
       "\n",
       "    .dataframe thead th {\n",
       "        text-align: right;\n",
       "    }\n",
       "</style>\n",
       "<table border=\"1\" class=\"dataframe\">\n",
       "  <thead>\n",
       "    <tr style=\"text-align: right;\">\n",
       "      <th></th>\n",
       "      <th>Name</th>\n",
       "      <th>Team</th>\n",
       "      <th>Number</th>\n",
       "      <th>Position</th>\n",
       "      <th>Age</th>\n",
       "      <th>Height</th>\n",
       "      <th>Weight</th>\n",
       "      <th>College</th>\n",
       "      <th>Salary</th>\n",
       "    </tr>\n",
       "  </thead>\n",
       "  <tbody>\n",
       "    <tr>\n",
       "      <th>0</th>\n",
       "      <td>Geeks</td>\n",
       "      <td>Boston</td>\n",
       "      <td>3.0</td>\n",
       "      <td>PG</td>\n",
       "      <td>33.0</td>\n",
       "      <td>6-2</td>\n",
       "      <td>189.0</td>\n",
       "      <td>MIT</td>\n",
       "      <td>999999999.0</td>\n",
       "    </tr>\n",
       "    <tr>\n",
       "      <th>1</th>\n",
       "      <td>Avery Bradley</td>\n",
       "      <td>Boston Celtics</td>\n",
       "      <td>0.0</td>\n",
       "      <td>PG</td>\n",
       "      <td>25.0</td>\n",
       "      <td>6-2</td>\n",
       "      <td>180.0</td>\n",
       "      <td>Texas</td>\n",
       "      <td>7730337.0</td>\n",
       "    </tr>\n",
       "    <tr>\n",
       "      <th>2</th>\n",
       "      <td>Jae Crowder</td>\n",
       "      <td>Boston Celtics</td>\n",
       "      <td>99.0</td>\n",
       "      <td>SF</td>\n",
       "      <td>25.0</td>\n",
       "      <td>6-6</td>\n",
       "      <td>235.0</td>\n",
       "      <td>Marquette</td>\n",
       "      <td>6796117.0</td>\n",
       "    </tr>\n",
       "    <tr>\n",
       "      <th>3</th>\n",
       "      <td>John Holland</td>\n",
       "      <td>Boston Celtics</td>\n",
       "      <td>30.0</td>\n",
       "      <td>SG</td>\n",
       "      <td>27.0</td>\n",
       "      <td>6-5</td>\n",
       "      <td>205.0</td>\n",
       "      <td>Boston University</td>\n",
       "      <td>NaN</td>\n",
       "    </tr>\n",
       "    <tr>\n",
       "      <th>4</th>\n",
       "      <td>R.J. Hunter</td>\n",
       "      <td>Boston Celtics</td>\n",
       "      <td>28.0</td>\n",
       "      <td>SG</td>\n",
       "      <td>22.0</td>\n",
       "      <td>6-5</td>\n",
       "      <td>185.0</td>\n",
       "      <td>Georgia State</td>\n",
       "      <td>1148640.0</td>\n",
       "    </tr>\n",
       "  </tbody>\n",
       "</table>\n",
       "</div>"
      ],
      "text/plain": [
       "            Name            Team  Number Position   Age Height  Weight  \\\n",
       "0          Geeks          Boston     3.0       PG  33.0    6-2   189.0   \n",
       "1  Avery Bradley  Boston Celtics     0.0       PG  25.0    6-2   180.0   \n",
       "2    Jae Crowder  Boston Celtics    99.0       SF  25.0    6-6   235.0   \n",
       "3   John Holland  Boston Celtics    30.0       SG  27.0    6-5   205.0   \n",
       "4    R.J. Hunter  Boston Celtics    28.0       SG  22.0    6-5   185.0   \n",
       "\n",
       "             College       Salary  \n",
       "0                MIT  999999999.0  \n",
       "1              Texas    7730337.0  \n",
       "2          Marquette    6796117.0  \n",
       "3  Boston University          NaN  \n",
       "4      Georgia State    1148640.0  "
      ]
     },
     "execution_count": 114,
     "metadata": {},
     "output_type": "execute_result"
    }
   ],
   "source": [
    "# importing pandas module\n",
    "import pandas as pd\n",
    "    \n",
    "# making data frame\n",
    "df = pd.read_csv(\"https://media.geeksforgeeks.org/wp-content/uploads/nba.csv\")\n",
    "  \n",
    "new_row = pd.DataFrame({'Name':'Geeks', 'Team':'Boston', 'Number':3,\n",
    "                        'Position':'PG', 'Age':33, 'Height':'6-2',\n",
    "                        'Weight':189, 'College':'MIT', 'Salary':999999999}\n",
    "                         , index=[0])\n",
    "  \n",
    "df = pd.concat([new_row, df]).reset_index(drop=True)\n",
    "df.head(5)"
   ]
  },
  {
   "cell_type": "markdown",
   "id": "77f25167",
   "metadata": {
    "hidden": true
   },
   "source": [
    "Now, let’s check if the maximum salary is present at index 0 or not. "
   ]
  },
  {
   "cell_type": "code",
   "execution_count": 115,
   "id": "c8aab16d",
   "metadata": {
    "hidden": true
   },
   "outputs": [
    {
     "data": {
      "text/plain": [
       "Salary    0\n",
       "dtype: int64"
      ]
     },
     "execution_count": 115,
     "metadata": {},
     "output_type": "execute_result"
    }
   ],
   "source": [
    "# Returns index of minimum salary\n",
    "df[['Salary']].idxmax()"
   ]
  },
  {
   "cell_type": "markdown",
   "id": "6dbbe7e3",
   "metadata": {
    "heading_collapsed": true
   },
   "source": [
    "# [How to get rows/index names in Pandas dataframe](https://www.geeksforgeeks.org/how-to-get-rows-index-names-in-pandas-dataframe/?ref=lbp)"
   ]
  },
  {
   "cell_type": "markdown",
   "id": "4f8aedbb",
   "metadata": {
    "hidden": true
   },
   "source": [
    "While analyzing the real datasets which are often very huge in size, we might need to get the rows or index names in order to perform some certain operations.\n",
    "\n",
    "Let’s discuss how to get row names in [Pandas dataframe](#Python-|-Pandas-DataFrame).\n",
    "\n",
    "First, let’s create a simple dataframe with [nba.csv](https://media.geeksforgeeks.org/wp-content/uploads/nba.csv)."
   ]
  },
  {
   "cell_type": "code",
   "execution_count": 116,
   "id": "3f10b871",
   "metadata": {
    "hidden": true
   },
   "outputs": [
    {
     "data": {
      "text/html": [
       "<div>\n",
       "<style scoped>\n",
       "    .dataframe tbody tr th:only-of-type {\n",
       "        vertical-align: middle;\n",
       "    }\n",
       "\n",
       "    .dataframe tbody tr th {\n",
       "        vertical-align: top;\n",
       "    }\n",
       "\n",
       "    .dataframe thead th {\n",
       "        text-align: right;\n",
       "    }\n",
       "</style>\n",
       "<table border=\"1\" class=\"dataframe\">\n",
       "  <thead>\n",
       "    <tr style=\"text-align: right;\">\n",
       "      <th></th>\n",
       "      <th>Name</th>\n",
       "      <th>Team</th>\n",
       "      <th>Number</th>\n",
       "      <th>Position</th>\n",
       "      <th>Age</th>\n",
       "      <th>Height</th>\n",
       "      <th>Weight</th>\n",
       "      <th>College</th>\n",
       "      <th>Salary</th>\n",
       "    </tr>\n",
       "  </thead>\n",
       "  <tbody>\n",
       "    <tr>\n",
       "      <th>0</th>\n",
       "      <td>Avery Bradley</td>\n",
       "      <td>Boston Celtics</td>\n",
       "      <td>0.0</td>\n",
       "      <td>PG</td>\n",
       "      <td>25.0</td>\n",
       "      <td>6-2</td>\n",
       "      <td>180.0</td>\n",
       "      <td>Texas</td>\n",
       "      <td>7730337.0</td>\n",
       "    </tr>\n",
       "    <tr>\n",
       "      <th>1</th>\n",
       "      <td>Jae Crowder</td>\n",
       "      <td>Boston Celtics</td>\n",
       "      <td>99.0</td>\n",
       "      <td>SF</td>\n",
       "      <td>25.0</td>\n",
       "      <td>6-6</td>\n",
       "      <td>235.0</td>\n",
       "      <td>Marquette</td>\n",
       "      <td>6796117.0</td>\n",
       "    </tr>\n",
       "    <tr>\n",
       "      <th>2</th>\n",
       "      <td>John Holland</td>\n",
       "      <td>Boston Celtics</td>\n",
       "      <td>30.0</td>\n",
       "      <td>SG</td>\n",
       "      <td>27.0</td>\n",
       "      <td>6-5</td>\n",
       "      <td>205.0</td>\n",
       "      <td>Boston University</td>\n",
       "      <td>NaN</td>\n",
       "    </tr>\n",
       "    <tr>\n",
       "      <th>3</th>\n",
       "      <td>R.J. Hunter</td>\n",
       "      <td>Boston Celtics</td>\n",
       "      <td>28.0</td>\n",
       "      <td>SG</td>\n",
       "      <td>22.0</td>\n",
       "      <td>6-5</td>\n",
       "      <td>185.0</td>\n",
       "      <td>Georgia State</td>\n",
       "      <td>1148640.0</td>\n",
       "    </tr>\n",
       "    <tr>\n",
       "      <th>4</th>\n",
       "      <td>Jonas Jerebko</td>\n",
       "      <td>Boston Celtics</td>\n",
       "      <td>8.0</td>\n",
       "      <td>PF</td>\n",
       "      <td>29.0</td>\n",
       "      <td>6-10</td>\n",
       "      <td>231.0</td>\n",
       "      <td>NaN</td>\n",
       "      <td>5000000.0</td>\n",
       "    </tr>\n",
       "    <tr>\n",
       "      <th>5</th>\n",
       "      <td>Amir Johnson</td>\n",
       "      <td>Boston Celtics</td>\n",
       "      <td>90.0</td>\n",
       "      <td>PF</td>\n",
       "      <td>29.0</td>\n",
       "      <td>6-9</td>\n",
       "      <td>240.0</td>\n",
       "      <td>NaN</td>\n",
       "      <td>12000000.0</td>\n",
       "    </tr>\n",
       "    <tr>\n",
       "      <th>6</th>\n",
       "      <td>Jordan Mickey</td>\n",
       "      <td>Boston Celtics</td>\n",
       "      <td>55.0</td>\n",
       "      <td>PF</td>\n",
       "      <td>21.0</td>\n",
       "      <td>6-8</td>\n",
       "      <td>235.0</td>\n",
       "      <td>LSU</td>\n",
       "      <td>1170960.0</td>\n",
       "    </tr>\n",
       "    <tr>\n",
       "      <th>7</th>\n",
       "      <td>Kelly Olynyk</td>\n",
       "      <td>Boston Celtics</td>\n",
       "      <td>41.0</td>\n",
       "      <td>C</td>\n",
       "      <td>25.0</td>\n",
       "      <td>7-0</td>\n",
       "      <td>238.0</td>\n",
       "      <td>Gonzaga</td>\n",
       "      <td>2165160.0</td>\n",
       "    </tr>\n",
       "    <tr>\n",
       "      <th>8</th>\n",
       "      <td>Terry Rozier</td>\n",
       "      <td>Boston Celtics</td>\n",
       "      <td>12.0</td>\n",
       "      <td>PG</td>\n",
       "      <td>22.0</td>\n",
       "      <td>6-2</td>\n",
       "      <td>190.0</td>\n",
       "      <td>Louisville</td>\n",
       "      <td>1824360.0</td>\n",
       "    </tr>\n",
       "    <tr>\n",
       "      <th>9</th>\n",
       "      <td>Marcus Smart</td>\n",
       "      <td>Boston Celtics</td>\n",
       "      <td>36.0</td>\n",
       "      <td>PG</td>\n",
       "      <td>22.0</td>\n",
       "      <td>6-4</td>\n",
       "      <td>220.0</td>\n",
       "      <td>Oklahoma State</td>\n",
       "      <td>3431040.0</td>\n",
       "    </tr>\n",
       "  </tbody>\n",
       "</table>\n",
       "</div>"
      ],
      "text/plain": [
       "            Name            Team  Number Position   Age Height  Weight  \\\n",
       "0  Avery Bradley  Boston Celtics     0.0       PG  25.0    6-2   180.0   \n",
       "1    Jae Crowder  Boston Celtics    99.0       SF  25.0    6-6   235.0   \n",
       "2   John Holland  Boston Celtics    30.0       SG  27.0    6-5   205.0   \n",
       "3    R.J. Hunter  Boston Celtics    28.0       SG  22.0    6-5   185.0   \n",
       "4  Jonas Jerebko  Boston Celtics     8.0       PF  29.0   6-10   231.0   \n",
       "5   Amir Johnson  Boston Celtics    90.0       PF  29.0    6-9   240.0   \n",
       "6  Jordan Mickey  Boston Celtics    55.0       PF  21.0    6-8   235.0   \n",
       "7   Kelly Olynyk  Boston Celtics    41.0        C  25.0    7-0   238.0   \n",
       "8   Terry Rozier  Boston Celtics    12.0       PG  22.0    6-2   190.0   \n",
       "9   Marcus Smart  Boston Celtics    36.0       PG  22.0    6-4   220.0   \n",
       "\n",
       "             College      Salary  \n",
       "0              Texas   7730337.0  \n",
       "1          Marquette   6796117.0  \n",
       "2  Boston University         NaN  \n",
       "3      Georgia State   1148640.0  \n",
       "4                NaN   5000000.0  \n",
       "5                NaN  12000000.0  \n",
       "6                LSU   1170960.0  \n",
       "7            Gonzaga   2165160.0  \n",
       "8         Louisville   1824360.0  \n",
       "9     Oklahoma State   3431040.0  "
      ]
     },
     "execution_count": 116,
     "metadata": {},
     "output_type": "execute_result"
    }
   ],
   "source": [
    "# Import pandas package \n",
    "import pandas as pd \n",
    "    \n",
    "# making data frame \n",
    "data = pd.read_csv(\"https://media.geeksforgeeks.org/wp-content/uploads/nba.csv\") \n",
    "    \n",
    "# calling head() method  \n",
    "# storing in new variable \n",
    "data_top = data.head(10) \n",
    "    \n",
    "# display \n",
    "data_top "
   ]
  },
  {
   "cell_type": "markdown",
   "id": "d893296d",
   "metadata": {
    "hidden": true
   },
   "source": [
    "Now let’s try to get the row name from above dataset.\n",
    "\n",
    "**Method #1:** Simply iterate over indices"
   ]
  },
  {
   "cell_type": "code",
   "execution_count": 117,
   "id": "fc0f26f9",
   "metadata": {
    "hidden": true
   },
   "outputs": [
    {
     "name": "stdout",
     "output_type": "stream",
     "text": [
      "0 1 2 3 4 5 6 7 8 9 "
     ]
    }
   ],
   "source": [
    "# Import pandas package \n",
    "import pandas as pd \n",
    "    \n",
    "# making data frame \n",
    "data = pd.read_csv(\"https://media.geeksforgeeks.org/wp-content/uploads/nba.csv\") \n",
    "    \n",
    "# calling head() method  \n",
    "# storing in new variable \n",
    "data_top = data.head(10) \n",
    "    \n",
    "# iterating the columns\n",
    "for row in data_top.index:\n",
    "    print(row, end = \" \")"
   ]
  },
  {
   "cell_type": "markdown",
   "id": "e500e9b4",
   "metadata": {
    "hidden": true
   },
   "source": [
    "**Method #2:** Using rows with dataframe object"
   ]
  },
  {
   "cell_type": "code",
   "execution_count": 118,
   "id": "0d703dac",
   "metadata": {
    "hidden": true
   },
   "outputs": [
    {
     "data": {
      "text/plain": [
       "[0, 1, 2, 3, 4, 5, 6, 7, 8, 9]"
      ]
     },
     "execution_count": 118,
     "metadata": {},
     "output_type": "execute_result"
    }
   ],
   "source": [
    "# Import pandas package \n",
    "import pandas as pd \n",
    "    \n",
    "# making data frame \n",
    "data = pd.read_csv(\"https://media.geeksforgeeks.org/wp-content/uploads/nba.csv\") \n",
    "  \n",
    "# calling head() method  \n",
    "# storing in new variable \n",
    "data_top = data.head(10) \n",
    "    \n",
    "# list(data_top) or\n",
    "list(data_top.index)"
   ]
  },
  {
   "cell_type": "markdown",
   "id": "5f313bef",
   "metadata": {
    "hidden": true
   },
   "source": [
    "\n",
    "**Method #3:** `index.values` method returns an array of index."
   ]
  },
  {
   "cell_type": "code",
   "execution_count": 119,
   "id": "7fbb52d8",
   "metadata": {
    "hidden": true
   },
   "outputs": [
    {
     "data": {
      "text/plain": [
       "[0, 1, 2, 3, 4, 5, 6, 7, 8, 9]"
      ]
     },
     "execution_count": 119,
     "metadata": {},
     "output_type": "execute_result"
    }
   ],
   "source": [
    "# Import pandas package \n",
    "import pandas as pd \n",
    "    \n",
    "# making data frame \n",
    "data = pd.read_csv(\"https://media.geeksforgeeks.org/wp-content/uploads/nba.csv\") \n",
    "  \n",
    "# calling head() method  \n",
    "# storing in new variable \n",
    "data_top = data.head(10) \n",
    "    \n",
    "list(data_top.index.values)"
   ]
  },
  {
   "cell_type": "markdown",
   "id": "7c1c1888",
   "metadata": {
    "hidden": true
   },
   "source": [
    "**Method #4:** Using `tolist()` method with values with given the list of index."
   ]
  },
  {
   "cell_type": "code",
   "execution_count": 120,
   "id": "cdfbbbe5",
   "metadata": {
    "hidden": true
   },
   "outputs": [
    {
     "data": {
      "text/plain": [
       "[0, 1, 2, 3, 4, 5, 6, 7, 8, 9]"
      ]
     },
     "execution_count": 120,
     "metadata": {},
     "output_type": "execute_result"
    }
   ],
   "source": [
    "# Import pandas package \n",
    "import pandas as pd \n",
    "    \n",
    "# making data frame \n",
    "data = pd.read_csv(\"https://media.geeksforgeeks.org/wp-content/uploads/nba.csv\") \n",
    "  \n",
    "# calling head() method  \n",
    "# storing in new variable \n",
    "data_top = data.head(10) \n",
    "    \n",
    "list(data_top.index.values.tolist())"
   ]
  },
  {
   "cell_type": "markdown",
   "id": "b72c4591",
   "metadata": {
    "hidden": true
   },
   "source": [
    "**Method #5:** Count number of rows in dataframe\n",
    "\n",
    "Since we have loaded only 10 top rows of dataframe using head() method, let’s verify total number of rows first."
   ]
  },
  {
   "cell_type": "code",
   "execution_count": 121,
   "id": "29b161ab",
   "metadata": {
    "hidden": true
   },
   "outputs": [
    {
     "name": "stdout",
     "output_type": "stream",
     "text": [
      "0 1 2 3 4 5 6 7 8 9 10 11 12 13 14 15 16 17 18 19 20 21 22 23 24 25 26 27 28 29 30 31 32 33 34 35 36 37 38 39 40 41 42 43 44 45 46 47 48 49 50 51 52 53 54 55 56 57 58 59 60 61 62 63 64 65 66 67 68 69 70 71 72 73 74 75 76 77 78 79 80 81 82 83 84 85 86 87 88 89 90 91 92 93 94 95 96 97 98 99 100 101 102 103 104 105 106 107 108 109 110 111 112 113 114 115 116 117 118 119 120 121 122 123 124 125 126 127 128 129 130 131 132 133 134 135 136 137 138 139 140 141 142 143 144 145 146 147 148 149 150 151 152 153 154 155 156 157 158 159 160 161 162 163 164 165 166 167 168 169 170 171 172 173 174 175 176 177 178 179 180 181 182 183 184 185 186 187 188 189 190 191 192 193 194 195 196 197 198 199 200 201 202 203 204 205 206 207 208 209 210 211 212 213 214 215 216 217 218 219 220 221 222 223 224 225 226 227 228 229 230 231 232 233 234 235 236 237 238 239 240 241 242 243 244 245 246 247 248 249 250 251 252 253 254 255 256 257 258 259 260 261 262 263 264 265 266 267 268 269 270 271 272 273 274 275 276 277 278 279 280 281 282 283 284 285 286 287 288 289 290 291 292 293 294 295 296 297 298 299 300 301 302 303 304 305 306 307 308 309 310 311 312 313 314 315 316 317 318 319 320 321 322 323 324 325 326 327 328 329 330 331 332 333 334 335 336 337 338 339 340 341 342 343 344 345 346 347 348 349 350 351 352 353 354 355 356 357 358 359 360 361 362 363 364 365 366 367 368 369 370 371 372 373 374 375 376 377 378 379 380 381 382 383 384 385 386 387 388 389 390 391 392 393 394 395 396 397 398 399 400 401 402 403 404 405 406 407 408 409 410 411 412 413 414 415 416 417 418 419 420 421 422 423 424 425 426 427 428 429 430 431 432 433 434 435 436 437 438 439 440 441 442 443 444 445 446 447 448 449 450 451 452 453 454 455 456 457 "
     ]
    }
   ],
   "source": [
    "# iterate the indices and print each one\n",
    "for row in data.index:\n",
    "    print(row, end= \" \")"
   ]
  },
  {
   "cell_type": "markdown",
   "id": "1313cfc1",
   "metadata": {
    "hidden": true
   },
   "source": [
    "Now, let’s print the total count of index."
   ]
  },
  {
   "cell_type": "code",
   "execution_count": 122,
   "id": "2e3b6eca",
   "metadata": {
    "hidden": true
   },
   "outputs": [
    {
     "name": "stdout",
     "output_type": "stream",
     "text": [
      "458\n"
     ]
    }
   ],
   "source": [
    "# Import pandas package \n",
    "import pandas as pd \n",
    "    \n",
    "# making data frame \n",
    "data = pd.read_csv(\"https://media.geeksforgeeks.org/wp-content/uploads/nba.csv\") \n",
    "  \n",
    "row_count = 0\n",
    "  \n",
    "# iterating over indices\n",
    "for col in data.index:\n",
    "    row_count += 1\n",
    "  \n",
    "# print the row count\n",
    "print(row_count)"
   ]
  },
  {
   "cell_type": "markdown",
   "id": "99c35945",
   "metadata": {
    "heading_collapsed": true
   },
   "source": [
    "# [Decimal Functions in Python | Set 2 (logical_and(), normalize(), quantize(), rotate() … )](https://www.geeksforgeeks.org/decimal-functions-in-python-set-2-logical_and-normalize-quantize-rotate/?ref=lbp)"
   ]
  },
  {
   "cell_type": "markdown",
   "id": "5dd3350b",
   "metadata": {
    "heading_collapsed": true,
    "hidden": true
   },
   "source": [
    "## Logical Functions <a class=\"tocSkip\">"
   ]
  },
  {
   "cell_type": "markdown",
   "id": "34fe6885",
   "metadata": {
    "hidden": true
   },
   "source": [
    "1. **logical_and()** :- This function computes digit-wise **logical “and”** operation of the number. Digits can only have the values 0 or 1.\n",
    "1. **logical_or()** :- This function computes digit-wise **logical “or”** operation of the number. Digits can only have the values 0 or 1.\n",
    "1. **logical_xor()** :- This function computes digit-wise **logical “xor”** operation of the number. Digits can only have the values 0 or 1.\n",
    "1. **logical_invert()** :- This function computes digit-wise **logical “invert”** operation of the number. Digits can only have the values 0 or 1."
   ]
  },
  {
   "cell_type": "code",
   "execution_count": 123,
   "id": "12709ce5",
   "metadata": {
    "hidden": true
   },
   "outputs": [
    {
     "name": "stdout",
     "output_type": "stream",
     "text": [
      "The logical_and() of two numbers is : 1000\n",
      "The logical_or() of two numbers is : 1110\n",
      "The exclusive or of two numbers is : 110\n",
      "The logical inversion of number is : 1111111111111111111111110111\n"
     ]
    }
   ],
   "source": [
    "# Python code to demonstrate the working of\n",
    "# logical_and(), logical_or(), logical_xor()\n",
    "# and logical_invert()\n",
    " \n",
    "# importing \"decimal\" module to use decimal functions\n",
    "import decimal\n",
    " \n",
    "# Initializing decimal number\n",
    "a = decimal.Decimal(1000)\n",
    " \n",
    "# Initializing decimal number\n",
    "b = decimal.Decimal(1110)\n",
    " \n",
    "# printing logical_and of two numbers\n",
    "print (\"The logical_and() of two numbers is : \",end=\"\")\n",
    "print (a.logical_and(b))\n",
    " \n",
    "# printing logical_or of two numbers\n",
    "print (\"The logical_or() of two numbers is : \",end=\"\")\n",
    "print (a.logical_or(b))\n",
    " \n",
    "# printing exclusive or of two numbers\n",
    "print (\"The exclusive or of two numbers is : \",end=\"\")\n",
    "print (a.logical_xor(b))\n",
    " \n",
    "# printing logical inversion of number\n",
    "print (\"The logical inversion of number is : \",end=\"\")\n",
    "print (a.logical_invert())"
   ]
  },
  {
   "cell_type": "markdown",
   "id": "54983fbe",
   "metadata": {
    "heading_collapsed": true,
    "hidden": true
   },
   "source": [
    "## Greatest Lower and Least Upper Bound <a class=\"tocSkip\">"
   ]
  },
  {
   "cell_type": "markdown",
   "id": "96274ce2",
   "metadata": {
    "hidden": true
   },
   "source": [
    "5. **next_plus()** :- This function returns the **smallest number** that can be represented, **larger than the given number**.\n",
    "\n",
    "6. **next_minus()** :- This function returns the **largest number** that can be represented, **smaller than the given number**. "
   ]
  },
  {
   "cell_type": "code",
   "execution_count": 124,
   "id": "3b499293",
   "metadata": {
    "hidden": true
   },
   "outputs": [
    {
     "name": "stdout",
     "output_type": "stream",
     "text": [
      "The original number is : 101.340000000000003410605131648480892181396484375\n",
      "The smallest number larger than current number : 101.3400000000000034106051317\n",
      "The largest number smaller than current number : 101.3400000000000034106051316\n"
     ]
    }
   ],
   "source": [
    "# Python code to demonstrate the working of\n",
    "# next_plus() and next_minus()\n",
    " \n",
    "# importing \"decimal\" module to use decimal functions\n",
    "import decimal\n",
    " \n",
    "# Initializing decimal number\n",
    "a = decimal.Decimal(101.34)\n",
    " \n",
    "# printing the actual decimal number\n",
    "print (\"The original number is : \",end=\"\")\n",
    "print (a)\n",
    " \n",
    "# printing number after using next_plus()\n",
    "print (\"The smallest number larger than current number : \",end=\"\")\n",
    "print (a.next_plus())\n",
    " \n",
    "# printing number after using next_minus()\n",
    "print (\"The largest number smaller than current number : \",end=\"\")\n",
    "print (a.next_minus())"
   ]
  },
  {
   "cell_type": "markdown",
   "id": "323c64d1",
   "metadata": {
    "heading_collapsed": true,
    "hidden": true
   },
   "source": [
    "## Rounding <a class=\"tocSkip\">"
   ]
  },
  {
   "cell_type": "markdown",
   "id": "6bd88ba0",
   "metadata": {
    "hidden": true
   },
   "source": [
    "7. **next_toward()** :- This function returns the **number nearest to the 1st argument in the direction of the second argument.** In case Both the numbers are equal, returns the **2nd number with the sign of first number**.\n",
    "\n",
    "8. **normalize()** :- This function prints the number after **erasing all the rightmost trailing zeroes** in the number. "
   ]
  },
  {
   "cell_type": "code",
   "execution_count": 125,
   "id": "d9d07713",
   "metadata": {
    "hidden": true
   },
   "outputs": [
    {
     "name": "stdout",
     "output_type": "stream",
     "text": [
      "The number closest to 1st number in direction of second number : \n",
      "101.3400000000000034106051316\n",
      "The second number with sign of first number is : -101.3400000000000034106051316\n",
      "Number after erasing rightmost trailing zeroes : 14.00999999999999978683717927\n"
     ]
    }
   ],
   "source": [
    "# Python code to demonstrate the working of\n",
    "# next_toward() and normalize()\n",
    " \n",
    "# importing \"decimal\" module to use decimal functions\n",
    "import decimal\n",
    " \n",
    "# Initializing decimal number\n",
    "a = decimal.Decimal(101.34)\n",
    " \n",
    "# Initializing decimal number\n",
    "b = decimal.Decimal(-101.34)\n",
    " \n",
    "# Initializing decimal number\n",
    "c = decimal.Decimal(-58.68)\n",
    " \n",
    "# Initializing decimal number\n",
    "d = decimal.Decimal(14.010000000)\n",
    " \n",
    "# printing the number using next_toward()\n",
    "print (\"The number closest to 1st number in direction of second number : \")\n",
    "print (a.next_toward(c))\n",
    " \n",
    "# printing the number using next_toward()\n",
    "# when equal\n",
    "print (\"The second number with sign of first number is : \",end=\"\")\n",
    "print (b.next_toward(a))\n",
    " \n",
    "# printing number after erasing rightmost trailing zeroes\n",
    "print (\"Number after erasing rightmost trailing zeroes : \",end=\"\")\n",
    "print (d.normalize())"
   ]
  },
  {
   "cell_type": "markdown",
   "id": "769308c1",
   "metadata": {
    "heading_collapsed": true,
    "hidden": true
   },
   "source": [
    "## Digits <a class=\"tocSkip\">"
   ]
  },
  {
   "cell_type": "markdown",
   "id": "b0f0fdbf",
   "metadata": {
    "hidden": true
   },
   "source": [
    "9. **quantize()** :- This function returns the 1st argument with the number of **digits in decimal part(exponent) shortened** by the **number of digits** in **decimal part(exponent) of 2nd argument**.\n",
    "\n",
    "10. **same_quantum()** :- This function **returns 0 if both the numbers have different exponent and 1 if both numbers have same exponent**. "
   ]
  },
  {
   "cell_type": "code",
   "execution_count": 126,
   "id": "1605ee65",
   "metadata": {
    "hidden": true
   },
   "outputs": [
    {
     "name": "stdout",
     "output_type": "stream",
     "text": [
      "The quantized first number is : 20.77\n",
      "Both the numbers have same exponent\n"
     ]
    }
   ],
   "source": [
    "# Python code to demonstrate the working of\n",
    "# quantize() and same_quantum()\n",
    "  \n",
    "# importing \"decimal\" module to use decimal functions\n",
    "import decimal\n",
    "  \n",
    "# Initializing decimal number\n",
    "a = decimal.Decimal(20.76548)\n",
    "  \n",
    "# Initializing decimal number\n",
    "b = decimal.Decimal(12.25)\n",
    " \n",
    "# Initializing decimal number\n",
    "c = decimal.Decimal(6.25)\n",
    " \n",
    "# printing quantized first number\n",
    "print (\"The quantized first number is : \",end=\"\")\n",
    "print (a.quantize(b))\n",
    "  \n",
    "# checking if both number have same exponent\n",
    "if (b.same_quantum(c)):\n",
    "       print (\"Both the numbers have same exponent\")\n",
    "else : print (\"Both numbers have different exponent\") "
   ]
  },
  {
   "cell_type": "markdown",
   "id": "9f80d530",
   "metadata": {
    "hidden": true
   },
   "source": [
    "11. **rotate()** :- This function **rotates** the first argument by the **amount mentioned in the second argument**. If the sign of second argument is **positive, rotation is towards left, else the rotation is towards right**. The sign of first argument is unchanged.\n",
    "\n",
    "12. **shift()** :- This function **shifts** the first argument by the **amount mentioned in the second argument**. If the sign of second argument is **positive, shifting is towards left, else the shifting is towards right**. The sign of first argument is unchanged. Digit shifted are **replaced by 0**."
   ]
  },
  {
   "cell_type": "code",
   "execution_count": 127,
   "id": "832de8e5",
   "metadata": {
    "hidden": true
   },
   "outputs": [
    {
     "name": "stdout",
     "output_type": "stream",
     "text": [
      "The rotated value is : 6523435093940294242343345634\n",
      "The shifted value is : 4350939402942423433456346500\n"
     ]
    }
   ],
   "source": [
    "# Python code to demonstrate the working of\n",
    "# rotate() and shift()\n",
    "  \n",
    "# importing \"decimal\" module to use decimal functions\n",
    "import decimal\n",
    "  \n",
    "# Initializing decimal number\n",
    "a = decimal.Decimal(2343509394029424234334563465)\n",
    " \n",
    "# using rotate() to rotate the first argument\n",
    "# rotates to right by 2 positions\n",
    "print (\"The rotated value is : \",end=\"\")\n",
    "print (a.rotate(-2))\n",
    "  \n",
    "# using shift() to shift the first argument\n",
    "# rotates to left by 2 positions\n",
    "print (\"The shifted value is : \",end=\"\")\n",
    "print (a.shift(2))"
   ]
  },
  {
   "cell_type": "markdown",
   "id": "e47bc689",
   "metadata": {
    "heading_collapsed": true,
    "hidden": true
   },
   "source": [
    "## Divisibility <a class=\"tocSkip\">"
   ]
  },
  {
   "cell_type": "markdown",
   "id": "cf68e481",
   "metadata": {
    "hidden": true
   },
   "source": [
    "13. **remainder_near()** :- Returns the value “**1st – (n*2nd)**” where **n is the integer value nearest to the result of 1st/2nd**. If 2 integers have **exactly similar proximity, even one is chosen**.\n",
    "\n",
    "14. **scaleb()** :- This function **shifts the exponent** of 1st number by the **value of second argument**. "
   ]
  },
  {
   "cell_type": "code",
   "execution_count": 128,
   "id": "5fa9b37c",
   "metadata": {
    "hidden": true
   },
   "outputs": [
    {
     "name": "stdout",
     "output_type": "stream",
     "text": [
      "The computed value using remainder_near() is : -4\n",
      "The value after shifting exponent : 2376.500000000000056843418861\n"
     ]
    }
   ],
   "source": [
    "# Python code to demonstrate the working of\n",
    "# remainder_near() and scaleb()\n",
    "  \n",
    "# importing \"decimal\" module to use decimal functions\n",
    "import decimal\n",
    "  \n",
    "# Initializing decimal number\n",
    "a = decimal.Decimal(23.765)\n",
    " \n",
    "# Initializing decimal number\n",
    "b = decimal.Decimal(12)\n",
    " \n",
    "# Initializing decimal number\n",
    "c = decimal.Decimal(8)\n",
    " \n",
    "# using remainder_near to compute value\n",
    "print (\"The computed value using remainder_near() is : \",end=\"\")\n",
    "print (b.remainder_near(c))\n",
    "  \n",
    "# using scaleb() to shift exponont\n",
    "print (\"The value after shifting exponent : \",end=\"\")\n",
    "print (a.scaleb(2))"
   ]
  },
  {
   "cell_type": "markdown",
   "id": "0f84ddbe",
   "metadata": {
    "hidden": true
   },
   "source": [
    "\n",
    "This article is contributed by [Manjeet Singh](https://auth.geeksforgeeks.org/profile.php?user=manjeet_04&list=practice). If you like GeeksforGeeks and would like to contribute, you can also write an article using [write.geeksforgeeks.org](http://www.write.geeksforgeeks.org/) or mail your article to [review-team@geeksforgeeks.org](mailto:review-team@geeksforgeeks.org). See your article appearing on the GeeksforGeeks main page and help other Geeks.\n",
    "\n",
    "Please write comments if you find anything incorrect, or you want to share more information about the topic discussed above."
   ]
  },
  {
   "cell_type": "markdown",
   "id": "30c9618d",
   "metadata": {
    "heading_collapsed": true
   },
   "source": [
    "# [NetworkX : Python software package for study of complex networks](https://www.geeksforgeeks.org/networkx-python-software-package-study-complex-networks/?ref=lbp)"
   ]
  },
  {
   "cell_type": "markdown",
   "id": "2486fe8d",
   "metadata": {
    "hidden": true
   },
   "source": [
    "[NetworkX](https://networkx.org/documentation/stable/reference/introduction.html#)\n",
    "is a Python language software package for the creation, manipulation, and study of the structure, dynamics, and function of complex networks. It is used to study large complex networks represented in form of graphs with nodes and edges. Using networkx we can load and store complex networks. We can generate many types of random and classic networks, analyze network structure, build network models, design new network algorithms and draw networks. "
   ]
  },
  {
   "cell_type": "markdown",
   "id": "9e3ce2e2",
   "metadata": {
    "heading_collapsed": true,
    "hidden": true
   },
   "source": [
    "## Installation of the package"
   ]
  },
  {
   "cell_type": "code",
   "execution_count": 129,
   "id": "53aa7329",
   "metadata": {
    "hidden": true
   },
   "outputs": [],
   "source": [
    "# !pip install networkx\n",
    "# !pip show networkx"
   ]
  },
  {
   "cell_type": "markdown",
   "id": "c06b55e8",
   "metadata": {
    "heading_collapsed": true,
    "hidden": true
   },
   "source": [
    "## Creating Nodes"
   ]
  },
  {
   "cell_type": "markdown",
   "id": "4235a60f",
   "metadata": {
    "hidden": true
   },
   "source": [
    "Add one node at a time: "
   ]
  },
  {
   "cell_type": "code",
   "execution_count": 130,
   "id": "fafa04e6",
   "metadata": {
    "hidden": true
   },
   "outputs": [
    {
     "data": {
      "text/plain": [
       "['A', 'B', 'D']"
      ]
     },
     "execution_count": 130,
     "metadata": {},
     "output_type": "execute_result"
    }
   ],
   "source": [
    "import networkx as nx\n",
    "G = nx.Graph()\n",
    "G.add_edge('A', 'B', weight=4)\n",
    "G.add_edge('B', 'D', weight=2)\n",
    "G.add_edge('A', 'C', weight=3)\n",
    "G.add_edge('C', 'D', weight=4)\n",
    "nx.shortest_path(G, 'A', 'D', weight='weight')"
   ]
  },
  {
   "cell_type": "code",
   "execution_count": 131,
   "id": "7019e6a0",
   "metadata": {
    "hidden": true
   },
   "outputs": [],
   "source": [
    "G = nx.Graph()\n",
    "\n",
    "G.add_node(1)"
   ]
  },
  {
   "cell_type": "markdown",
   "id": "9053548d",
   "metadata": {
    "hidden": true
   },
   "source": [
    "Add a list of nodes: "
   ]
  },
  {
   "cell_type": "code",
   "execution_count": 132,
   "id": "f8b6ef95",
   "metadata": {
    "hidden": true
   },
   "outputs": [
    {
     "data": {
      "text/plain": [
       "<networkx.classes.graph.Graph at 0x231f9840d30>"
      ]
     },
     "execution_count": 132,
     "metadata": {},
     "output_type": "execute_result"
    }
   ],
   "source": [
    "G.add_nodes_from([2,3])\n",
    "G"
   ]
  },
  {
   "cell_type": "markdown",
   "id": "34da6edd",
   "metadata": {
    "hidden": true
   },
   "source": [
    "Let us create nodes in the graph G. After adding nodes 1, 2, 3, 4, 7, 9 "
   ]
  },
  {
   "cell_type": "markdown",
   "id": "cba46186",
   "metadata": {
    "heading_collapsed": true,
    "hidden": true
   },
   "source": [
    "## Creating Edges"
   ]
  },
  {
   "cell_type": "markdown",
   "id": "4f138560",
   "metadata": {
    "hidden": true
   },
   "source": [
    "Adding one edge at a time: "
   ]
  },
  {
   "cell_type": "code",
   "execution_count": 133,
   "id": "014a36c8",
   "metadata": {
    "hidden": true
   },
   "outputs": [],
   "source": [
    "G.add_edge(1,2)\n",
    "G.add_edge(3,1)\n",
    "G.add_edge(2,4)\n",
    "G.add_edge(4,1)\n",
    "G.add_edge(9,1)"
   ]
  },
  {
   "cell_type": "markdown",
   "id": "d0f5767a",
   "metadata": {
    "hidden": true
   },
   "source": [
    "Adding a list of edges: "
   ]
  },
  {
   "cell_type": "code",
   "execution_count": 134,
   "id": "44c7cb6e",
   "metadata": {
    "hidden": true
   },
   "outputs": [],
   "source": [
    "G.add_edges_from([(1,2),(1,3)])"
   ]
  },
  {
   "cell_type": "markdown",
   "id": "2c0fcd47",
   "metadata": {
    "hidden": true
   },
   "source": [
    "After adding edges (1,2), (3,1), (2,4), (4,1), (9,1), (1,7), (2,9) "
   ]
  },
  {
   "cell_type": "markdown",
   "id": "3bc226af",
   "metadata": {
    "heading_collapsed": true,
    "hidden": true
   },
   "source": [
    "## Removing Nodes and Edges"
   ]
  },
  {
   "cell_type": "markdown",
   "id": "3580a014",
   "metadata": {
    "hidden": true
   },
   "source": [
    "One can demolish the graph using any of these functions: \n",
    "```\n",
    "Graph.remove_node()\n",
    "Graph.remove_nodes_from()\n",
    "Graph.remove_edge()\n",
    "```\n",
    "and\n",
    "```\n",
    "Graph.remove_edges_from()\n",
    "```"
   ]
  },
  {
   "cell_type": "markdown",
   "id": "4f3d0b21",
   "metadata": {
    "hidden": true
   },
   "source": [
    "After removing node 3 "
   ]
  },
  {
   "cell_type": "markdown",
   "id": "a50976f5",
   "metadata": {
    "hidden": true
   },
   "source": [
    "After removing edge (1,2) "
   ]
  },
  {
   "cell_type": "code",
   "execution_count": 135,
   "id": "631e0e9c",
   "metadata": {
    "hidden": true
   },
   "outputs": [
    {
     "name": "stdout",
     "output_type": "stream",
     "text": [
      "#1: G.nodes()\n",
      "[1, 2, 3, 4, 7, 9]\n",
      "#2: G.edges()\n",
      "[(1, 2), (1, 3), (1, 4), (1, 9), (1, 7), (2, 4), (2, 9)]\n",
      "#3: G.nodes()\n",
      "[1, 2, 4, 7, 9]\n",
      "#4: G.edges()\n",
      "[(1, 4), (1, 9), (1, 7), (2, 4), (2, 9)]\n",
      "#5: G.number_of_nodes()\n",
      "5\n",
      "#6: G.number_of_edges()\n",
      "5\n",
      "#7: G.degree(2)\n",
      "2\n",
      "#8: G.neighbors(2)\n",
      "<dict_keyiterator object at 0x00000231809CE360>\n"
     ]
    }
   ],
   "source": [
    "# Python program to create an undirected\n",
    "# graph and add nodes and edges to a graph\n",
    " \n",
    "# To import package\n",
    "import networkx\n",
    "  \n",
    "# To create an empty undirected graph\n",
    "G = networkx.Graph()\n",
    "  \n",
    "# To add a node\n",
    "G.add_node(1)\n",
    "G.add_node(2)\n",
    "G.add_node(3)\n",
    "G.add_node(4)\n",
    "G.add_node(7)\n",
    "G.add_node(9)\n",
    "  \n",
    "# To add an edge\n",
    "# Note graph is undirected\n",
    "# Hence order of nodes in edge doesn't matter\n",
    "G.add_edge(1,2)\n",
    "G.add_edge(3,1)\n",
    "G.add_edge(2,4)\n",
    "G.add_edge(4,1)\n",
    "G.add_edge(9,1)\n",
    "G.add_edge(1,7)\n",
    "G.add_edge(2,9)\n",
    "  \n",
    "# To get all the nodes of a graph\n",
    "node_list = G.nodes()\n",
    "print(\"#1: G.nodes()\")\n",
    "print(node_list)\n",
    "  \n",
    "# To get all the edges of a graph\n",
    "edge_list = G.edges()\n",
    "print(\"#2: G.edges()\")\n",
    "print(edge_list)\n",
    "  \n",
    "# To remove a node of a graph\n",
    "G.remove_node(3)\n",
    "node_list = G.nodes()\n",
    "print(\"#3: G.nodes()\")\n",
    "print(node_list)\n",
    "  \n",
    "# To remove an edge of a graph\n",
    "G.remove_edge(1,2)\n",
    "edge_list = G.edges()\n",
    "print(\"#4: G.edges()\")\n",
    "print(edge_list)\n",
    "  \n",
    "# To find number of nodes\n",
    "n = G.number_of_nodes()\n",
    "print(\"#5: G.number_of_nodes()\")\n",
    "print(n)\n",
    "  \n",
    "# To find number of edges\n",
    "m = G.number_of_edges()\n",
    "print(\"#6: G.number_of_edges()\")\n",
    "print(m)\n",
    "  \n",
    "# To find degree of a node\n",
    "# d will store degree of node 2\n",
    "d = G.degree(2)\n",
    "print(\"#7: G.degree(2)\")\n",
    "print(d)\n",
    " \n",
    "# To find all the neighbor of a node\n",
    "neighbor_list = G.neighbors(2)\n",
    "print(\"#8: G.neighbors(2)\")\n",
    "print(neighbor_list)\n",
    " \n",
    "#To delete all the nodes and edges\n",
    "G.clear()"
   ]
  },
  {
   "cell_type": "markdown",
   "id": "3897fa92",
   "metadata": {
    "hidden": true
   },
   "source": [
    "In the next post, we’ll be discussing how to create weighted graphs, directed graphs, multi graphs. How to draw graphs. In later posts we’ll see how to use inbuilt functions like Depth first search aka dfs, breadth first search aka BFS, dijkstra’s shortest path algorithm. \n",
    "\n",
    "Reference: [Networxx at Github](https://networkx.github.io/documentation/networkx-1.10/overview.html)"
   ]
  },
  {
   "cell_type": "markdown",
   "id": "f264aade",
   "metadata": {
    "heading_collapsed": true
   },
   "source": [
    "# [Directed Graphs, Multigraphs and Visualization in Networkx](https://www.geeksforgeeks.org/directed-graphs-multigraphs-and-visualization-in-networkx/?ref=lbp)"
   ]
  },
  {
   "cell_type": "markdown",
   "id": "2bdcfeec",
   "metadata": {
    "hidden": true
   },
   "source": [
    "In the [previous article](#section14), we have leaned about the basics of Networkx module and how to create an undirected graph. Note that Networkx module easily outputs the various Graph parameters easily, as shown below with an example."
   ]
  },
  {
   "cell_type": "code",
   "execution_count": 136,
   "id": "ae1ff8c3",
   "metadata": {
    "hidden": true
   },
   "outputs": [
    {
     "ename": "AttributeError",
     "evalue": "module 'matplotlib.cbook' has no attribute 'iterable'",
     "output_type": "error",
     "traceback": [
      "\u001b[1;31m---------------------------------------------------------------------------\u001b[0m",
      "\u001b[1;31mAttributeError\u001b[0m                            Traceback (most recent call last)",
      "\u001b[1;32m<ipython-input-136-d8ef8ffcc275>\u001b[0m in \u001b[0;36m<module>\u001b[1;34m\u001b[0m\n\u001b[0;32m     20\u001b[0m \u001b[1;33m\u001b[0m\u001b[0m\n\u001b[0;32m     21\u001b[0m \u001b[0mG\u001b[0m\u001b[1;33m.\u001b[0m\u001b[0madd_edges_from\u001b[0m\u001b[1;33m(\u001b[0m\u001b[0medges\u001b[0m\u001b[1;33m)\u001b[0m\u001b[1;33m\u001b[0m\u001b[1;33m\u001b[0m\u001b[0m\n\u001b[1;32m---> 22\u001b[1;33m \u001b[0mnx\u001b[0m\u001b[1;33m.\u001b[0m\u001b[0mdraw_networkx\u001b[0m\u001b[1;33m(\u001b[0m\u001b[0mG\u001b[0m\u001b[1;33m,\u001b[0m \u001b[0mwith_labels\u001b[0m \u001b[1;33m=\u001b[0m \u001b[1;32mTrue\u001b[0m\u001b[1;33m)\u001b[0m\u001b[1;33m\u001b[0m\u001b[1;33m\u001b[0m\u001b[0m\n\u001b[0m\u001b[0;32m     23\u001b[0m \u001b[1;33m\u001b[0m\u001b[0m\n\u001b[0;32m     24\u001b[0m \u001b[0mprint\u001b[0m\u001b[1;33m(\u001b[0m\u001b[1;34m\"Total number of nodes: \"\u001b[0m\u001b[1;33m,\u001b[0m \u001b[0mint\u001b[0m\u001b[1;33m(\u001b[0m\u001b[0mG\u001b[0m\u001b[1;33m.\u001b[0m\u001b[0mnumber_of_nodes\u001b[0m\u001b[1;33m(\u001b[0m\u001b[1;33m)\u001b[0m\u001b[1;33m)\u001b[0m\u001b[1;33m)\u001b[0m\u001b[1;33m\u001b[0m\u001b[1;33m\u001b[0m\u001b[0m\n",
      "\u001b[1;32m~\\AppData\\Roaming\\Python\\Python38\\site-packages\\networkx\\drawing\\nx_pylab.py\u001b[0m in \u001b[0;36mdraw_networkx\u001b[1;34m(G, pos, arrows, with_labels, **kwds)\u001b[0m\n\u001b[0;32m    278\u001b[0m \u001b[1;33m\u001b[0m\u001b[0m\n\u001b[0;32m    279\u001b[0m     \u001b[0mnode_collection\u001b[0m \u001b[1;33m=\u001b[0m \u001b[0mdraw_networkx_nodes\u001b[0m\u001b[1;33m(\u001b[0m\u001b[0mG\u001b[0m\u001b[1;33m,\u001b[0m \u001b[0mpos\u001b[0m\u001b[1;33m,\u001b[0m \u001b[1;33m**\u001b[0m\u001b[0mkwds\u001b[0m\u001b[1;33m)\u001b[0m\u001b[1;33m\u001b[0m\u001b[1;33m\u001b[0m\u001b[0m\n\u001b[1;32m--> 280\u001b[1;33m     \u001b[0medge_collection\u001b[0m \u001b[1;33m=\u001b[0m \u001b[0mdraw_networkx_edges\u001b[0m\u001b[1;33m(\u001b[0m\u001b[0mG\u001b[0m\u001b[1;33m,\u001b[0m \u001b[0mpos\u001b[0m\u001b[1;33m,\u001b[0m \u001b[0marrows\u001b[0m\u001b[1;33m=\u001b[0m\u001b[0marrows\u001b[0m\u001b[1;33m,\u001b[0m \u001b[1;33m**\u001b[0m\u001b[0mkwds\u001b[0m\u001b[1;33m)\u001b[0m\u001b[1;33m\u001b[0m\u001b[1;33m\u001b[0m\u001b[0m\n\u001b[0m\u001b[0;32m    281\u001b[0m     \u001b[1;32mif\u001b[0m \u001b[0mwith_labels\u001b[0m\u001b[1;33m:\u001b[0m\u001b[1;33m\u001b[0m\u001b[1;33m\u001b[0m\u001b[0m\n\u001b[0;32m    282\u001b[0m         \u001b[0mdraw_networkx_labels\u001b[0m\u001b[1;33m(\u001b[0m\u001b[0mG\u001b[0m\u001b[1;33m,\u001b[0m \u001b[0mpos\u001b[0m\u001b[1;33m,\u001b[0m \u001b[1;33m**\u001b[0m\u001b[0mkwds\u001b[0m\u001b[1;33m)\u001b[0m\u001b[1;33m\u001b[0m\u001b[1;33m\u001b[0m\u001b[0m\n",
      "\u001b[1;32m~\\AppData\\Roaming\\Python\\Python38\\site-packages\\networkx\\drawing\\nx_pylab.py\u001b[0m in \u001b[0;36mdraw_networkx_edges\u001b[1;34m(G, pos, edgelist, width, edge_color, style, alpha, arrowstyle, arrowsize, edge_cmap, edge_vmin, edge_vmax, ax, arrows, label, node_size, nodelist, node_shape, connectionstyle, **kwds)\u001b[0m\n\u001b[0;32m    577\u001b[0m     \u001b[0medge_pos\u001b[0m \u001b[1;33m=\u001b[0m \u001b[0mnp\u001b[0m\u001b[1;33m.\u001b[0m\u001b[0masarray\u001b[0m\u001b[1;33m(\u001b[0m\u001b[1;33m[\u001b[0m\u001b[1;33m(\u001b[0m\u001b[0mpos\u001b[0m\u001b[1;33m[\u001b[0m\u001b[0me\u001b[0m\u001b[1;33m[\u001b[0m\u001b[1;36m0\u001b[0m\u001b[1;33m]\u001b[0m\u001b[1;33m]\u001b[0m\u001b[1;33m,\u001b[0m \u001b[0mpos\u001b[0m\u001b[1;33m[\u001b[0m\u001b[0me\u001b[0m\u001b[1;33m[\u001b[0m\u001b[1;36m1\u001b[0m\u001b[1;33m]\u001b[0m\u001b[1;33m]\u001b[0m\u001b[1;33m)\u001b[0m \u001b[1;32mfor\u001b[0m \u001b[0me\u001b[0m \u001b[1;32min\u001b[0m \u001b[0medgelist\u001b[0m\u001b[1;33m]\u001b[0m\u001b[1;33m)\u001b[0m\u001b[1;33m\u001b[0m\u001b[1;33m\u001b[0m\u001b[0m\n\u001b[0;32m    578\u001b[0m \u001b[1;33m\u001b[0m\u001b[0m\n\u001b[1;32m--> 579\u001b[1;33m     \u001b[1;32mif\u001b[0m \u001b[1;32mnot\u001b[0m \u001b[0mcb\u001b[0m\u001b[1;33m.\u001b[0m\u001b[0miterable\u001b[0m\u001b[1;33m(\u001b[0m\u001b[0mwidth\u001b[0m\u001b[1;33m)\u001b[0m\u001b[1;33m:\u001b[0m\u001b[1;33m\u001b[0m\u001b[1;33m\u001b[0m\u001b[0m\n\u001b[0m\u001b[0;32m    580\u001b[0m         \u001b[0mlw\u001b[0m \u001b[1;33m=\u001b[0m \u001b[1;33m(\u001b[0m\u001b[0mwidth\u001b[0m\u001b[1;33m,\u001b[0m\u001b[1;33m)\u001b[0m\u001b[1;33m\u001b[0m\u001b[1;33m\u001b[0m\u001b[0m\n\u001b[0;32m    581\u001b[0m     \u001b[1;32melse\u001b[0m\u001b[1;33m:\u001b[0m\u001b[1;33m\u001b[0m\u001b[1;33m\u001b[0m\u001b[0m\n",
      "\u001b[1;31mAttributeError\u001b[0m: module 'matplotlib.cbook' has no attribute 'iterable'"
     ]
    },
    {
     "data": {
      "image/png": "[encoded data removed]",
      "text/plain": [
       "<Figure size 432x288 with 1 Axes>"
      ]
     },
     "metadata": {},
     "output_type": "display_data"
    }
   ],
   "source": [
    "import networkx as nx\n",
    "\n",
    "# To create an empty undirected graph\n",
    "G = nx.Graph()\n",
    "\n",
    "# To add a node\n",
    "G.add_node(1)\n",
    "G.add_node(2)\n",
    "G.add_node(3)\n",
    "G.add_node(4)\n",
    "G.add_node(5)\n",
    "G.add_node(6)\n",
    "G.add_node(7)\n",
    "G.add_node(8)\n",
    "G.add_node(9)\n",
    "\n",
    "# To add all edges with one command\n",
    "edges = [(1, 2), (1, 6), (2, 3), (2, 4), (2, 6), \n",
    "         (3, 4), (3, 5), (4, 8), (4, 9), (6, 7)]\n",
    "  \n",
    "G.add_edges_from(edges)\n",
    "nx.draw_networkx(G, with_labels = True)\n",
    "  \n",
    "print(\"Total number of nodes: \", int(G.number_of_nodes()))\n",
    "print(\"Total number of edges: \", int(G.number_of_edges()))\n",
    "print(\"List of all nodes: \", list(G.nodes()))\n",
    "print(\"List of all edges: \", list(G.edges(data = True)))\n",
    "print(\"Degree for all nodes: \", dict(G.degree()))\n",
    "  \n",
    "print(\"Total number of self-loops: \", int(G.number_of_selfloops()))\n",
    "print(\"List of all nodes with self-loops: \",\n",
    "             list(G.nodes_with_selfloops()))\n",
    "  \n",
    "print(\"List of all nodes we can go to in a single step from node 2: \",\n",
    "                                                 list(G.neighbors(2)))"
   ]
  },
  {
   "cell_type": "markdown",
   "id": "b0163dce",
   "metadata": {
    "hidden": true
   },
   "source": [
    "[networkx shows random_state_index is incorrect](https://stackoverflow.com/questions/66920533/networkx-shows-random-state-index-is-incorrect)\n",
    "\n",
    "> It looks like the issue MAY be due to a new release of the decorator module. See here: \n",
    "> [Error in random_state decorator with decorator 5.0.0 version #4718](https://github.com/networkx/networkx/issues/4718)\n",
    "\n",
    "> This worked for me:\n",
    "> ```\n",
    "> pip install --user decorator==4.3.0 # (ignore waring for availability of newer version)\n",
    "> \n",
    "> pip install --user networkx==2.3\n",
    "> ```\n",
    "\n",
    "The problem is resolved if you update the latest decorator 5.0.9 version (June 2021)"
   ]
  },
  {
   "cell_type": "code",
   "execution_count": null,
   "id": "102ffbdc",
   "metadata": {
    "hidden": true
   },
   "outputs": [],
   "source": [
    "!pip install --user decorator==4.3.0\n",
    "\n",
    "!pip install --user networkx==2.3"
   ]
  },
  {
   "cell_type": "markdown",
   "id": "5e281746",
   "metadata": {
    "heading_collapsed": true,
    "hidden": true
   },
   "source": [
    "## Creating Weighted undirected Graph –\n",
    "\n",
    "Add list of all edges along with assorted weights –"
   ]
  },
  {
   "cell_type": "code",
   "execution_count": null,
   "id": "0e69ba10",
   "metadata": {
    "hidden": true
   },
   "outputs": [],
   "source": [
    "import networkx as nx\n",
    "G = nx.Graph()\n",
    "  \n",
    "edges = [(1, 2, 19), (1, 6, 15), (2, 3, 6), (2, 4, 10), \n",
    "         (2, 6, 22), (3, 4, 51), (3, 5, 14), (4, 8, 20),\n",
    "         (4, 9, 42), (6, 7, 30)]\n",
    "  \n",
    "G.add_weighted_edges_from(edges)\n",
    "nx.draw_networkx(G, with_labels = True)"
   ]
  },
  {
   "cell_type": "markdown",
   "id": "d579f523",
   "metadata": {
    "hidden": true
   },
   "source": [
    "We can load the edges from an Edge List, which needs to be saved in a `.txt` format (eg. `edge_list.txt`),\n",
    "rf. [networkx.readwrite.edgelist.read_edgelist](https://networkx.org/documentation/stable/reference/readwrite/generated/networkx.readwrite.edgelist.read_edgelist.html).\n",
    "\n",
    "First, export the edges:"
   ]
  },
  {
   "cell_type": "code",
   "execution_count": null,
   "id": "96320e85",
   "metadata": {
    "hidden": true
   },
   "outputs": [],
   "source": [
    "nx.write_edgelist(G, \"test.edgelist\")"
   ]
  },
  {
   "cell_type": "code",
   "execution_count": null,
   "id": "e888cf31",
   "metadata": {
    "hidden": true
   },
   "outputs": [],
   "source": [
    "fh = open(\"test.edgelist\", \"rb\")\n",
    "Gread = nx.read_edgelist(fh)\n",
    "fh.close()\n",
    "nx.draw_networkx(Gread, with_labels = True)"
   ]
  },
  {
   "cell_type": "code",
   "execution_count": null,
   "id": "5564840f",
   "metadata": {
    "hidden": true
   },
   "outputs": [],
   "source": [
    "Gread = nx.read_edgelist(\"test.edgelist\", nodetype=int)\n",
    "nx.draw_networkx(Gread, with_labels = True)"
   ]
  },
  {
   "cell_type": "code",
   "execution_count": null,
   "id": "874b18ca",
   "metadata": {
    "hidden": true
   },
   "outputs": [],
   "source": [
    "Gread = nx.read_edgelist(\"test.edgelist\", create_using=nx.DiGraph)\n",
    "nx.draw_networkx(Gread, with_labels = True)"
   ]
  },
  {
   "cell_type": "markdown",
   "id": "0e5d5cf8",
   "metadata": {
    "heading_collapsed": true,
    "hidden": true
   },
   "source": [
    "## Edge list can also be read via a Pandas Dataframe –"
   ]
  },
  {
   "cell_type": "code",
   "execution_count": null,
   "id": "1d618f56",
   "metadata": {
    "hidden": true
   },
   "outputs": [],
   "source": [
    "edge_list=\"\"\"\\\n",
    "Kolkata Mumbai 2031\n",
    "Mumbai Pune 155\n",
    "Mumbai Goa 571\n",
    "Kolkata Delhi 1492\n",
    "Kolkata Bhubaneshwar 444\n",
    "Mumbai Delhi 1424\n",
    "Delhi Chandigarh 243\n",
    "Delhi Surat 1208\n",
    "Kolkata Hyderabad 1495\n",
    "Hyderabad Chennai 626\n",
    "Chennai Thiruvananthapuram 773\n",
    "Thiruvananthapuram Hyderabad 1299\n",
    "Kolkata Varanasi 679\n",
    "Delhi Varanasi 821\n",
    "Mumbai Bangalore 984\n",
    "Chennai Bangalore 347\n",
    "Hyderabad Bangalore 575\n",
    "Kolkata Guwahati 1031\n",
    "\"\"\"\n",
    "# print(edge_list)\n",
    "with open('edge_list.txt', 'a') as f:\n",
    "    f.write(edge_list)"
   ]
  },
  {
   "cell_type": "markdown",
   "id": "d16d2d82",
   "metadata": {
    "hidden": true
   },
   "source": [
    "Now, we can add the edges via an Edge List, which needs to be saved in a `.txt` format (eg. `edge_list.txt`)"
   ]
  },
  {
   "cell_type": "code",
   "execution_count": null,
   "id": "71e29c3e",
   "metadata": {
    "hidden": true
   },
   "outputs": [],
   "source": [
    "import pandas as pd\n",
    "  \n",
    "df = pd.read_csv('edge_list.txt', delim_whitespace = True, \n",
    "                   header = None, names =['n1', 'n2', 'weight'])\n",
    "  \n",
    "G = nx.from_pandas_edgelist(df, 'n1', 'n2', edge_attr ='weight')\n",
    "  \n",
    "# The Graph diagram does not show the edge weights. \n",
    "# However, we can get the weights by printing all the\n",
    "# edges along with the weights by the command below\n",
    "print(list(G.edges(data = True)))"
   ]
  },
  {
   "cell_type": "markdown",
   "id": "6666e767",
   "metadata": {
    "hidden": true
   },
   "source": [
    "We would now explore the different visualization techniques of a Graph.\n",
    "\n",
    "For this, We’ve created a Dataset of various Indian cities and the distances between them and saved it in a `.txt` file, `edge_list.txt`."
   ]
  },
  {
   "cell_type": "markdown",
   "id": "dace9d51",
   "metadata": {
    "hidden": true
   },
   "source": [
    "Now, we will make a Graph by the following code. We will also add a node attribute to all the cities which will be the population of each city."
   ]
  },
  {
   "cell_type": "code",
   "execution_count": null,
   "id": "3d66cdcb",
   "metadata": {
    "hidden": true
   },
   "outputs": [],
   "source": [
    "import networkx as nx\n",
    "  \n",
    "G = nx.read_weighted_edgelist('edge_list.txt', delimiter =\" \")\n",
    "  \n",
    "population = {\n",
    "        'Kolkata' : 4486679,\n",
    "        'Delhi' : 11007835,\n",
    "        'Mumbai' : 12442373,\n",
    "        'Guwahati' : 957352,\n",
    "        'Bangalore' : 8436675,\n",
    "        'Pune' : 3124458,\n",
    "        'Hyderabad' : 6809970,\n",
    "        'Chennai' : 4681087,\n",
    "        'Thiruvananthapuram' : 460468,\n",
    "        'Bhubaneshwar' : 837737,\n",
    "        'Varanasi' : 1198491,\n",
    "        'Surat' : 4467797,\n",
    "        'Goa' : 40017,\n",
    "        'Chandigarh' : 961587\n",
    "        }\n",
    "  \n",
    "# We have to set the population attribute for each of the 14 nodes\n",
    "for i in list(G.nodes()):\n",
    "    G.nodes[i]['population'] = population[i]\n",
    "  \n",
    "nx.draw_networkx(G, with_label = True)\n",
    "# This line allows us to visualize the Graph"
   ]
  },
  {
   "cell_type": "markdown",
   "id": "dc13d52f",
   "metadata": {
    "hidden": true
   },
   "source": [
    "But, we can customize the Network to provide more information visually by following these steps:\n",
    "\n",
    "1. The size of the node is proportional to the population of the city.\n",
    "1. The intensity of colour of the node is directly proportional to the degree of the node.\n",
    "1. The width of the edge is directly proportional to the weight of the edge, in this case, the distance between the cities."
   ]
  },
  {
   "cell_type": "code",
   "execution_count": null,
   "id": "0ba3e414",
   "metadata": {
    "hidden": true
   },
   "outputs": [],
   "source": [
    "# fixing the size of the figure\n",
    "plt.figure(figsize =(10, 7))\n",
    "  \n",
    "node_color = [G.degree(v) for v in G]\n",
    "# node colour is a list of degrees of nodes\n",
    "  \n",
    "node_size = [0.0005 * nx.get_node_attributes(G, 'population')[v] for v in G]\n",
    "# size of node is a list of population of cities\n",
    "  \n",
    "edge_width = [0.0015 * G[u][v]['weight'] for u, v in G.edges()]\n",
    "# width of edge is a list of weight of edges\n",
    "  \n",
    "nx.draw_networkx(G, node_size = node_size, \n",
    "                 node_color = node_color, alpha = 0.7,\n",
    "                 with_labels = True, width = edge_width,\n",
    "                 edge_color ='.4', cmap = plt.cm.Blues)\n",
    "  \n",
    "plt.axis('off')\n",
    "plt.tight_layout();"
   ]
  },
  {
   "cell_type": "markdown",
   "id": "86f3edd9",
   "metadata": {
    "hidden": true
   },
   "source": [
    "We can see in the above code, we have specified the layout type as tight. You can find the different layout techniques and try a few of them as shown in the code below:"
   ]
  },
  {
   "cell_type": "code",
   "execution_count": null,
   "id": "50a54d9c",
   "metadata": {
    "hidden": true
   },
   "outputs": [],
   "source": [
    "print(\"The various layout options are:\")\n",
    "print([x for x in nx.__dir__() if x.endswith('_layout')])\n",
    "# prints out list of all different layout options\n",
    "  \n",
    "node_color = [G.degree(v) for v in G]\n",
    "node_size = [0.0005 * nx.get_node_attributes(G, 'population')[v] for v in G]\n",
    "edge_width = [0.0015 * G[u][v]['weight'] for u, v in G.edges()]\n",
    "  \n",
    "plt.figure(figsize =(10, 9))\n",
    "pos = nx.random_layout(G)\n",
    "print(\"Random Layout:\")\n",
    "  \n",
    "# demonstrating random layout\n",
    "nx.draw_networkx(G, pos, node_size = node_size, \n",
    "                 node_color = node_color, alpha = 0.7, \n",
    "                 with_labels = True, width = edge_width,\n",
    "                 edge_color ='.4', cmap = plt.cm.Blues)\n",
    "  \n",
    "  \n",
    "plt.figure(figsize =(10, 9))\n",
    "pos = nx.circular_layout(G)\n",
    "print(\"Circular Layout\")\n",
    "  \n",
    "# demonstrating circular layout\n",
    "nx.draw_networkx(G, pos, node_size = node_size, \n",
    "                 node_color = node_color, alpha = 0.7, \n",
    "                 with_labels = True, width = edge_width, \n",
    "                 edge_color ='.4', cmap = plt.cm.Blues)"
   ]
  },
  {
   "cell_type": "markdown",
   "id": "aea75ac7",
   "metadata": {
    "hidden": true
   },
   "source": [
    "Networkx allows us to create a Path Graph, i.e. a straight line connecting a number of nodes in the following manner:"
   ]
  },
  {
   "cell_type": "code",
   "execution_count": null,
   "id": "3f579b40",
   "metadata": {
    "hidden": true
   },
   "outputs": [],
   "source": [
    "G2 = nx.path_graph(5)\n",
    "nx.draw_networkx(G2, with_labels = True)"
   ]
  },
  {
   "cell_type": "markdown",
   "id": "b4da2d40",
   "metadata": {
    "hidden": true
   },
   "source": [
    "We can rename the nodes –"
   ]
  },
  {
   "cell_type": "code",
   "execution_count": null,
   "id": "36bcedbc",
   "metadata": {
    "hidden": true
   },
   "outputs": [],
   "source": [
    "G2 = nx.path_graph(5)\n",
    "  \n",
    "new = {0:\"Germany\", 1:\"Austria\", 2:\"France\", 3:\"Poland\", 4:\"Italy\"}\n",
    "G2 = nx.relabel_nodes(G2, new)\n",
    "nx.draw_networkx(G2, with_labels = True)"
   ]
  },
  {
   "cell_type": "markdown",
   "id": "33b8ef28",
   "metadata": {
    "heading_collapsed": true,
    "hidden": true
   },
   "source": [
    "## Creating Directed Graph –"
   ]
  },
  {
   "cell_type": "markdown",
   "id": "70e9212e",
   "metadata": {
    "hidden": true
   },
   "source": [
    "Networkx allows us to work with Directed Graphs. Their creation, adding of nodes, edges etc. are exactly similar to that of an undirected graph as discussed [here](#NetworkX-:-Python-software-package-for-study-of-complex-networks).\n",
    "\n",
    "The following code shows the basic operations on a Directed graph."
   ]
  },
  {
   "cell_type": "code",
   "execution_count": null,
   "id": "41b547f7",
   "metadata": {
    "hidden": true
   },
   "outputs": [],
   "source": [
    "import networkx as nx\n",
    "G = nx.DiGraph()\n",
    "G.add_edges_from([(1, 1), (1, 7), (2, 1), (2, 2), (2, 3), \n",
    "                  (2, 6), (3, 5), (4, 3), (5, 4), (5, 8),\n",
    "                  (5, 9), (6, 4), (7, 2), (7, 6), (8, 7)])\n",
    "  \n",
    "plt.figure(figsize =(9, 9))\n",
    "nx.draw_networkx(G, with_label = True, node_color ='green')\n",
    "  \n",
    "# getting different graph attributes\n",
    "print(\"Total number of nodes: \", int(G.number_of_nodes()))\n",
    "print(\"Total number of edges: \", int(G.number_of_edges()))\n",
    "print(\"List of all nodes: \", list(G.nodes()))\n",
    "print(\"List of all edges: \", list(G.edges()))\n",
    "print(\"In-degree for all nodes: \", dict(G.in_degree()))\n",
    "print(\"Out degree for all nodes: \", dict(G.out_degree))\n",
    "  \n",
    "print(\"Total number of self-loops: \", int(G.number_of_selfloops()))\n",
    "print(\"List of all nodes with self-loops: \",\n",
    "             list(G.nodes_with_selfloops()))\n",
    "  \n",
    "print(\"List of all nodes we can go to in a single step from node 2: \",\n",
    "                                                list(G.successors(2)))\n",
    "  \n",
    "print(\"List of all nodes from which we can go to node 2 in a single step: \",\n",
    "                                                    list(G.predecessors(2)))"
   ]
  },
  {
   "cell_type": "markdown",
   "id": "28b3dc84",
   "metadata": {
    "hidden": true
   },
   "source": [
    "Now, we will show the basic operations for a MultiGraph. Networkx allows us to create both directed and undirected Multigraphs. A Multigraph is a Graph where multiple parallel edges can connect the same nodes.\n",
    "For example, let us create a network of 10 people, A, B, C, D, E, F, G, H, I and J. They have four different relations among them namely Friend, Co-worker, Family and Neighbour. A relation between two people isn’t restricted to a single kind.\n",
    "\n",
    "But the visualization of Multigraph in Networkx is not clear. It fails to show multiple edges separately and these edges overlap."
   ]
  },
  {
   "cell_type": "code",
   "execution_count": null,
   "id": "15c3948e",
   "metadata": {
    "hidden": true
   },
   "outputs": [],
   "source": [
    "import networkx as nx\n",
    "import matplotlib.pyplot as plt\n",
    "  \n",
    "G = nx.MultiGraph()\n",
    "relations = [('A', 'B', 'neighbour'), ('A', 'B', 'friend'), ('B', 'C', 'coworker'),\n",
    "             ('C', 'F', 'coworker'), ('C', 'F', 'friend'), ('F', 'G', 'coworker'),\n",
    "             ('F', 'G', 'family'), ('C', 'E', 'friend'), ('E', 'D', 'family'),\n",
    "             ('E', 'I', 'coworker'), ('E', 'I', 'neighbour'), ('I', 'J', 'coworker'),\n",
    "             ('E', 'J', 'friend'), ('E', 'H', 'coworker')]\n",
    "  \n",
    "for i in relations:\n",
    "    G.add_edge(i[0], i[1], relation = i[2])\n",
    "      \n",
    "plt.figure(figsize =(9, 9))\n",
    "nx.draw_networkx(G, with_label = True)\n",
    "  \n",
    "# getting various graph properties\n",
    "print(\"Total number of nodes: \", int(G.number_of_nodes()))\n",
    "print(\"Total number of edges: \", int(G.number_of_edges()))\n",
    "print(\"List of all nodes: \", list(G.nodes()))\n",
    "print(\"List of all edges: \", list(G.edges(data = True)))\n",
    "print(\"Degree for all nodes: \", dict(G.degree()))\n",
    "print(\"Total number of self-loops: \", int(G.number_of_selfloops()))\n",
    "print(\"List of all nodes with self-loops: \", list(G.nodes_with_selfloops()))\n",
    "print(\"List of all nodes we can go to in a single step from node E: \", list(G.neighbors(\"E\")))"
   ]
  },
  {
   "cell_type": "markdown",
   "id": "d9a08194",
   "metadata": {
    "hidden": true
   },
   "source": [
    "Similarly, a Multi Directed Graph can be created by using"
   ]
  },
  {
   "cell_type": "code",
   "execution_count": null,
   "id": "6d88d03d",
   "metadata": {
    "hidden": true
   },
   "outputs": [],
   "source": [
    "G = nx.MultiDiGraph()"
   ]
  },
  {
   "cell_type": "markdown",
   "id": "2cb159a7",
   "metadata": {
    "heading_collapsed": true
   },
   "source": [
    "# [Python | Visualize graphs generated in NetworkX using Matplotlib](https://www.geeksforgeeks.org/python-visualize-graphs-generated-in-networkx-using-matplotlib/?ref=lbp)"
   ]
  },
  {
   "cell_type": "markdown",
   "id": "af5e1bd4",
   "metadata": {
    "hidden": true
   },
   "source": [
    "Prerequisites: Generating Graph using Network X, Matplotlib Intro\n",
    "In this article, we will be discussing how to plot a graph generated by NetworkX in Python using Matplotlib.\n",
    "**NetworkX** is not a graph visualizing package but basic drawing with Matplotlib is included in the software package.\n",
    "\n",
    "**Step 1 :** Import networkx and matplotlib.pyplot in the project file. "
   ]
  },
  {
   "cell_type": "code",
   "execution_count": null,
   "id": "bdee1d68",
   "metadata": {
    "hidden": true
   },
   "outputs": [],
   "source": [
    "# importing networkx\n",
    "import networkx as nx\n",
    " \n",
    "# importing matplotlib.pyplot\n",
    "import matplotlib.pyplot as plt"
   ]
  },
  {
   "cell_type": "markdown",
   "id": "5886f099",
   "metadata": {
    "hidden": true
   },
   "source": [
    "**Step 2 :** Generate a graph using networkx. \n",
    "\n",
    "**Step 3 :** Now use draw() function of networkx.drawing to draw the graph. \n",
    "\n",
    "**Step 4 :** Use savefig(“filename.png”) function of matplotlib.pyplot to save the drawing of graph in filename.png file.\n",
    "\n",
    "Below is the Python code:  "
   ]
  },
  {
   "cell_type": "code",
   "execution_count": null,
   "id": "8c3c0b69",
   "metadata": {
    "hidden": true
   },
   "outputs": [],
   "source": [
    "# importing networkx\n",
    "import networkx as nx\n",
    "# importing matplotlib.pyplot\n",
    "import matplotlib.pyplot as plt\n",
    " \n",
    "g = nx.Graph()\n",
    " \n",
    "g.add_edge(1, 2)\n",
    "g.add_edge(2, 3)\n",
    "g.add_edge(3, 4)\n",
    "g.add_edge(1, 4)\n",
    "g.add_edge(1, 5)\n",
    " \n",
    "nx.draw(g)\n",
    "plt.savefig(\"filename.png\")"
   ]
  },
  {
   "cell_type": "markdown",
   "id": "22e11651",
   "metadata": {
    "hidden": true
   },
   "source": [
    "To add numbering in the node add one argument `with_labels=True` in `draw()` function.  "
   ]
  },
  {
   "cell_type": "code",
   "execution_count": null,
   "id": "d1855a77",
   "metadata": {
    "hidden": true
   },
   "outputs": [],
   "source": [
    "# importing networkx\n",
    "import networkx as nx\n",
    "# importing matplotlib.pyplot\n",
    "import matplotlib.pyplot as plt\n",
    " \n",
    "g = nx.Graph()\n",
    " \n",
    "g.add_edge(1, 2)\n",
    "g.add_edge(2, 3)\n",
    "g.add_edge(3, 4)\n",
    "g.add_edge(1, 4)\n",
    "g.add_edge(1, 5)\n",
    " \n",
    "nx.draw(g, with_labels = True)\n",
    "plt.savefig(\"filename.png\")"
   ]
  },
  {
   "cell_type": "markdown",
   "id": "26991ae5",
   "metadata": {
    "hidden": true
   },
   "source": [
    "Different graph types and plotting can be done using networkx drawing and matplotlib. "
   ]
  },
  {
   "cell_type": "markdown",
   "id": "071e2280",
   "metadata": {
    "hidden": true
   },
   "source": [
    "**Note\\*\\* :** Here **keywords** is referred to optional keywords that we can mention use to format the graph plotting. Some of the general graph layouts are :  \n",
    "\n",
    "1. **draw_circular(G, keywords)** : This gives circular layout of the graph G.\n",
    "1. **draw_planar(G, keywords)** :] This gives a planar layout of a planar networkx graph G.\n",
    "1. **draw_random(G, keywords)** : This gives a random layout of the graph G.\n",
    "1. **draw_spectral(G, keywords)** : This gives a spectral 2D layout of the graph G.\n",
    "1. **draw_spring(G, keywords)** : This gives a spring layout of the graph G.\n",
    "1. **draw_shell(G, keywords)** : This gives a shell layout of the graph G. "
   ]
  },
  {
   "cell_type": "markdown",
   "id": "f8a6370c",
   "metadata": {
    "hidden": true
   },
   "source": [
    "**Example :**"
   ]
  },
  {
   "cell_type": "code",
   "execution_count": null,
   "id": "23b4595d",
   "metadata": {
    "hidden": true
   },
   "outputs": [],
   "source": [
    "# importing networkx\n",
    "import networkx as nx\n",
    "# importing matplotlib.pyplot\n",
    "import matplotlib.pyplot as plt\n",
    " \n",
    "g = nx.Graph()\n",
    " \n",
    "g.add_edge(1, 2)\n",
    "g.add_edge(2, 3)\n",
    "g.add_edge(3, 4)\n",
    "g.add_edge(1, 4)\n",
    "g.add_edge(1, 5)\n",
    "g.add_edge(5, 6)\n",
    "g.add_edge(5, 7)\n",
    "g.add_edge(4, 8)\n",
    "g.add_edge(3, 8)\n",
    " \n",
    "# drawing in circular layout\n",
    "nx.draw_circular(g, with_labels = True)\n",
    "plt.savefig(\"filename1.png\")\n",
    " \n",
    "# clearing the current plot\n",
    "plt.clf()\n",
    " \n",
    "# drawing in planar layout\n",
    "nx.draw_planar(g, with_labels = True)\n",
    "plt.savefig(\"filename2.png\")\n",
    " \n",
    "# clearing the current plot\n",
    "plt.clf()\n",
    " \n",
    "# drawing in random layout\n",
    "nx.draw_random(g, with_labels = True)\n",
    "plt.savefig(\"filename3.png\")\n",
    " \n",
    "# clearing the current plot\n",
    "plt.clf()\n",
    " \n",
    "# drawing in spectral layout\n",
    "nx.draw_spectral(g, with_labels = True)\n",
    "plt.savefig(\"filename4.png\")\n",
    " \n",
    "# clearing the current plot\n",
    "plt.clf()\n",
    " \n",
    "# drawing in spring layout\n",
    "nx.draw_spring(g, with_labels = True)\n",
    "plt.savefig(\"filename5.png\")\n",
    " \n",
    "# clearing the current plot\n",
    "plt.clf()\n",
    " \n",
    "# drawing in shell layout\n",
    "nx.draw_shell(g, with_labels = True)\n",
    "plt.savefig(\"filename6.png\")\n",
    " \n",
    "# clearing the current plot\n",
    "plt.clf()"
   ]
  },
  {
   "cell_type": "markdown",
   "id": "51ebde1b",
   "metadata": {
    "heading_collapsed": true
   },
   "source": [
    "# [Visualize Graphs in Python](https://www.geeksforgeeks.org/visualize-graphs-in-python/?ref=lbp)"
   ]
  },
  {
   "cell_type": "markdown",
   "id": "3b81ba30",
   "metadata": {
    "hidden": true
   },
   "source": [
    "**Prerequisites:** [Graph Data Structure And Algorithms](https://www.geeksforgeeks.org/graph-data-structure-and-algorithms/)\n",
    "\n",
    "A [Graph](https://www.geeksforgeeks.org/graph-data-structure-and-algorithms/) is a non-linear data structure consisting of nodes and edges. The nodes are sometimes also referred to as vertices and the edges are lines or arcs that connect any two nodes in the graph.\n",
    "\n",
    "In this tutorial we are going to visualize undirected Graphs in Python with the help of **networkx** library."
   ]
  },
  {
   "cell_type": "markdown",
   "id": "d0b14197",
   "metadata": {
    "hidden": true
   },
   "source": [
    "**Installation:**\n",
    "\n",
    "To install this module type the below command in the terminal."
   ]
  },
  {
   "cell_type": "code",
   "execution_count": null,
   "id": "7d660e7d",
   "metadata": {
    "hidden": true
   },
   "outputs": [],
   "source": [
    "# pip install networkx"
   ]
  },
  {
   "cell_type": "markdown",
   "id": "68a39dad",
   "metadata": {
    "hidden": true
   },
   "source": [
    "Below is the implementation."
   ]
  },
  {
   "cell_type": "code",
   "execution_count": null,
   "id": "8ef33f9c",
   "metadata": {
    "hidden": true
   },
   "outputs": [],
   "source": [
    "# First networkx library is imported \n",
    "# along with matplotlib\n",
    "import networkx as nx\n",
    "import matplotlib.pyplot as plt\n",
    "   \n",
    "  \n",
    "# Defining a Class\n",
    "class GraphVisualization:\n",
    "   \n",
    "    def __init__(self):\n",
    "          \n",
    "        # visual is a list which stores all \n",
    "        # the set of edges that constitutes a\n",
    "        # graph\n",
    "        self.visual = []\n",
    "          \n",
    "    # addEdge function inputs the vertices of an\n",
    "    # edge and appends it to the visual list\n",
    "    def addEdge(self, a, b):\n",
    "        temp = [a, b]\n",
    "        self.visual.append(temp)\n",
    "          \n",
    "    # In visualize function G is an object of\n",
    "    # class Graph given by networkx G.add_edges_from(visual)\n",
    "    # creates a graph with a given list\n",
    "    # nx.draw_networkx(G) - plots the graph\n",
    "    # plt.show() - displays the graph\n",
    "    def visualize(self):\n",
    "        G = nx.Graph()\n",
    "        G.add_edges_from(self.visual)\n",
    "        nx.draw_networkx(G)\n",
    "        plt.show()\n",
    "  \n",
    "# Driver code\n",
    "G = GraphVisualization()\n",
    "G.addEdge(0, 2)\n",
    "G.addEdge(1, 2)\n",
    "G.addEdge(1, 3)\n",
    "G.addEdge(5, 3)\n",
    "G.addEdge(3, 4)\n",
    "G.addEdge(1, 0)\n",
    "G.visualize()"
   ]
  },
  {
   "cell_type": "markdown",
   "id": "a715514f",
   "metadata": {
    "heading_collapsed": true
   },
   "source": [
    "# [Graph Plotting in Python | Set 1](https://www.geeksforgeeks.org/graph-plotting-in-python-set-1/?ref=lbp)"
   ]
  },
  {
   "cell_type": "markdown",
   "id": "148f4d5e",
   "metadata": {
    "hidden": true
   },
   "source": [
    "This series will introduce you to graphing in python with [Matplotlib](https://matplotlib.org/), which is arguably the most popular graphing and data visualization library for Python.\n",
    "\n",
    "**Installation**\n",
    "\n",
    "The easiest way to install matplotlib is to use pip. Type following command in terminal: "
   ]
  },
  {
   "cell_type": "code",
   "execution_count": null,
   "id": "57eebc17",
   "metadata": {
    "hidden": true
   },
   "outputs": [],
   "source": [
    "# pip install matplotlib"
   ]
  },
  {
   "cell_type": "markdown",
   "id": "0eeb1ecb",
   "metadata": {
    "hidden": true
   },
   "source": [
    "OR, you can download it from here and install it manually. "
   ]
  },
  {
   "cell_type": "markdown",
   "id": "46d32d16",
   "metadata": {
    "heading_collapsed": true,
    "hidden": true
   },
   "source": [
    "## Getting started (Plotting a line)"
   ]
  },
  {
   "cell_type": "code",
   "execution_count": null,
   "id": "5479c8fb",
   "metadata": {
    "hidden": true
   },
   "outputs": [],
   "source": [
    "# importing the required module\n",
    "import matplotlib.pyplot as plt\n",
    " \n",
    "# x axis values\n",
    "x = [1,2,3]\n",
    "# corresponding y axis values\n",
    "y = [2,4,1]\n",
    " \n",
    "# plotting the points\n",
    "plt.plot(x, y)\n",
    " \n",
    "# naming the x axis\n",
    "plt.xlabel('x - axis')\n",
    "# naming the y axis\n",
    "plt.ylabel('y - axis')\n",
    " \n",
    "# giving a title to my graph\n",
    "plt.title('My first graph!')\n",
    " \n",
    "# function to show the plot\n",
    "plt.show()"
   ]
  },
  {
   "cell_type": "markdown",
   "id": "2686be3d",
   "metadata": {
    "hidden": true
   },
   "source": [
    "The code seems self-explanatory. Following steps were followed: \n",
    "\n",
    "* Define the x-axis and corresponding y-axis values as lists.\n",
    "* Plot them on canvas using **.plot()** function.\n",
    "* Give a name to x-axis and y-axis using **.xlabel()** and **.ylabel()** functions.\n",
    "* Give a title to your plot using **.title()** function.\n",
    "* Finally, to view your plot, we use **.show()** function.\n"
   ]
  },
  {
   "cell_type": "markdown",
   "id": "b815d334",
   "metadata": {
    "heading_collapsed": true,
    "hidden": true
   },
   "source": [
    "## Plotting two or more lines on same plot"
   ]
  },
  {
   "cell_type": "code",
   "execution_count": null,
   "id": "63941a1f",
   "metadata": {
    "hidden": true
   },
   "outputs": [],
   "source": [
    "import matplotlib.pyplot as plt\n",
    " \n",
    "# line 1 points\n",
    "x1 = [1,2,3]\n",
    "y1 = [2,4,1]\n",
    "# plotting the line 1 points\n",
    "plt.plot(x1, y1, label = \"line 1\")\n",
    " \n",
    "# line 2 points\n",
    "x2 = [1,2,3]\n",
    "y2 = [4,1,3]\n",
    "# plotting the line 2 points\n",
    "plt.plot(x2, y2, label = \"line 2\")\n",
    " \n",
    "# naming the x axis\n",
    "plt.xlabel('x - axis')\n",
    "# naming the y axis\n",
    "plt.ylabel('y - axis')\n",
    "# giving a title to my graph\n",
    "plt.title('Two lines on same graph!')\n",
    " \n",
    "# show a legend on the plot\n",
    "plt.legend()\n",
    " \n",
    "# function to show the plot\n",
    "plt.show()"
   ]
  },
  {
   "cell_type": "markdown",
   "id": "0bff966e",
   "metadata": {
    "hidden": true
   },
   "source": [
    "* Here, we plot two lines on the same graph. We differentiate between them by giving them a name(**label**) which is passed as an argument of the .plot() function.\n",
    "* The small rectangular box giving information about the type of line and its color is called a legend. We can add a legend to our plot using **.legend()** function."
   ]
  },
  {
   "cell_type": "markdown",
   "id": "0379c7b2",
   "metadata": {
    "heading_collapsed": true,
    "hidden": true
   },
   "source": [
    "## Customization of Plots"
   ]
  },
  {
   "cell_type": "markdown",
   "id": "d9d1b9b9",
   "metadata": {
    "hidden": true
   },
   "source": [
    "Here, we discuss some elementary customizations applicable to almost any plot."
   ]
  },
  {
   "cell_type": "code",
   "execution_count": null,
   "id": "88a4f85f",
   "metadata": {
    "hidden": true
   },
   "outputs": [],
   "source": [
    "import matplotlib.pyplot as plt\n",
    " \n",
    "# x axis values\n",
    "x = [1,2,3,4,5,6]\n",
    "# corresponding y axis values\n",
    "y = [2,4,1,5,2,6]\n",
    " \n",
    "# plotting the points\n",
    "plt.plot(x, y, color='green', linestyle='dashed', linewidth = 3,\n",
    "         marker='o', markerfacecolor='blue', markersize=12)\n",
    " \n",
    "# setting x and y axis range\n",
    "plt.ylim(1,8)\n",
    "plt.xlim(1,8)\n",
    " \n",
    "# naming the x axis\n",
    "plt.xlabel('x - axis')\n",
    "# naming the y axis\n",
    "plt.ylabel('y - axis')\n",
    " \n",
    "# giving a title to my graph\n",
    "plt.title('Some cool customizations!')\n",
    " \n",
    "# function to show the plot\n",
    "plt.show()"
   ]
  },
  {
   "cell_type": "markdown",
   "id": "b1cdde84",
   "metadata": {
    "hidden": true
   },
   "source": [
    "As you can see, we have done several customizations like \n",
    "\n",
    "* setting the line-width, line-style, line-color.\n",
    "* setting the marker, marker’s face color, marker’s size.\n",
    "* overriding the x and y-axis range. If overriding is not done, pyplot module uses the auto-scale feature to set the axis range and scale."
   ]
  },
  {
   "cell_type": "markdown",
   "id": "4b2b673d",
   "metadata": {
    "heading_collapsed": true,
    "hidden": true
   },
   "source": [
    "##  Bar Chart"
   ]
  },
  {
   "cell_type": "code",
   "execution_count": null,
   "id": "5f8762e3",
   "metadata": {
    "hidden": true
   },
   "outputs": [],
   "source": [
    "import matplotlib.pyplot as plt\n",
    " \n",
    "# x-coordinates of left sides of bars\n",
    "left = [1, 2, 3, 4, 5]\n",
    " \n",
    "# heights of bars\n",
    "height = [10, 24, 36, 40, 5]\n",
    " \n",
    "# labels for bars\n",
    "tick_label = ['one', 'two', 'three', 'four', 'five']\n",
    " \n",
    "# plotting a bar chart\n",
    "plt.bar(left, height, tick_label = tick_label,\n",
    "        width = 0.8, color = ['red', 'green'])\n",
    " \n",
    "# naming the x-axis\n",
    "plt.xlabel('x - axis')\n",
    "# naming the y-axis\n",
    "plt.ylabel('y - axis')\n",
    "# plot title\n",
    "plt.title('My bar chart!')\n",
    " \n",
    "# function to show the plot\n",
    "plt.show()"
   ]
  },
  {
   "cell_type": "markdown",
   "id": "65ccf46c",
   "metadata": {
    "hidden": true
   },
   "source": [
    "* Here, we use **plt.bar()** function to plot a bar chart.\n",
    "* $x$-coordinates of the left side of bars are passed along with the heights of bars.\n",
    "* you can also give some names to x-axis coordinates by defining **tick_labels**"
   ]
  },
  {
   "cell_type": "markdown",
   "id": "77047b9e",
   "metadata": {
    "heading_collapsed": true,
    "hidden": true
   },
   "source": [
    "## Histogram"
   ]
  },
  {
   "cell_type": "code",
   "execution_count": null,
   "id": "dba8cea9",
   "metadata": {
    "hidden": true
   },
   "outputs": [],
   "source": [
    "import matplotlib.pyplot as plt\n",
    " \n",
    "# frequencies\n",
    "ages = [2,5,70,40,30,45,50,45,43,40,44,\n",
    "        60,7,13,57,18,90,77,32,21,20,40]\n",
    " \n",
    "# setting the ranges and no. of intervals\n",
    "range = (0, 100)\n",
    "bins = 10 \n",
    " \n",
    "# plotting a histogram\n",
    "plt.hist(ages, bins, range, color = 'green',\n",
    "        histtype = 'bar', rwidth = 0.8)\n",
    " \n",
    "# x-axis label\n",
    "plt.xlabel('age')\n",
    "# frequency label\n",
    "plt.ylabel('No. of people')\n",
    "# plot title\n",
    "plt.title('My histogram')\n",
    " \n",
    "# function to show the plot\n",
    "plt.show()"
   ]
  },
  {
   "cell_type": "markdown",
   "id": "46930fd4",
   "metadata": {
    "hidden": true
   },
   "source": [
    "* Here, we use **plt.hist()** function to plot a histogram.\n",
    "* frequencies are passed as the **ages** list.\n",
    "* The range could be set by defining a tuple containing min and max values.\n",
    "* The next step is to “**bin**” the range of values—that is, divide the entire range of values into a series of intervals—and then count how many values fall into each interval. Here we have defined **bins** = 10. So, there are a total of 100/10 = 10 intervals."
   ]
  },
  {
   "cell_type": "markdown",
   "id": "022d407f",
   "metadata": {
    "heading_collapsed": true,
    "hidden": true
   },
   "source": [
    "## Scatter plot"
   ]
  },
  {
   "cell_type": "code",
   "execution_count": null,
   "id": "95547925",
   "metadata": {
    "hidden": true
   },
   "outputs": [],
   "source": [
    "import matplotlib.pyplot as plt\n",
    " \n",
    "# x-axis values\n",
    "x = [1,2,3,4,5,6,7,8,9,10]\n",
    "# y-axis values\n",
    "y = [2,4,5,7,6,8,9,11,12,12]\n",
    " \n",
    "# plotting points as a scatter plot\n",
    "plt.scatter(x, y, label= \"stars\", color= \"green\",\n",
    "            marker= \"*\", s=30)\n",
    " \n",
    "# x-axis label\n",
    "plt.xlabel('x - axis')\n",
    "# frequency label\n",
    "plt.ylabel('y - axis')\n",
    "# plot title\n",
    "plt.title('My scatter plot!')\n",
    "# showing legend\n",
    "plt.legend()\n",
    " \n",
    "# function to show the plot\n",
    "plt.show()"
   ]
  },
  {
   "cell_type": "markdown",
   "id": "dd1a268c",
   "metadata": {
    "hidden": true
   },
   "source": [
    "* Here, we use **plt.scatter()** function to plot a scatter plot.\n",
    "* As a line, we define x and corresponding y-axis values here as well.\n",
    "* **marker** argument is used to set the character to use as a marker. Its size can be defined using the s parameter."
   ]
  },
  {
   "cell_type": "markdown",
   "id": "b5389bea",
   "metadata": {
    "heading_collapsed": true,
    "hidden": true
   },
   "source": [
    "## Pie-chart"
   ]
  },
  {
   "cell_type": "code",
   "execution_count": null,
   "id": "24834114",
   "metadata": {
    "hidden": true
   },
   "outputs": [],
   "source": [
    "import matplotlib.pyplot as plt\n",
    " \n",
    "# defining labels\n",
    "activities = ['eat', 'sleep', 'work', 'play']\n",
    " \n",
    "# portion covered by each label\n",
    "slices = [3, 7, 8, 6]\n",
    " \n",
    "# color for each label\n",
    "colors = ['r', 'y', 'g', 'b']\n",
    " \n",
    "# plotting the pie chart\n",
    "plt.pie(slices, labels = activities, colors=colors,\n",
    "        startangle=90, shadow = True, explode = (0, 0, 0.1, 0),\n",
    "        radius = 1.2, autopct = '%1.1f%%')\n",
    " \n",
    "# plotting legend\n",
    "plt.legend()\n",
    " \n",
    "# showing the plot\n",
    "plt.show()"
   ]
  },
  {
   "cell_type": "markdown",
   "id": "3e674e37",
   "metadata": {
    "hidden": true
   },
   "source": [
    "* Here, we plot a pie chart by using **plt.pie()** method.\n",
    "* First of all, we define the **labels** using a list called **activities**.\n",
    "* Then, a portion of each label can be defined using another list called **slices**.\n",
    "* Color for each label is defined using a list called **colors**.\n",
    "* **shadow = True** will show a shadow beneath each label in pie chart.\n",
    "* **startangle** rotates the start of the pie chart by given degrees counterclockwise from the x-axis.\n",
    "* **explode** is used to set the fraction of radius with which we offset each wedge.\n",
    "* **autopct** is used to format the value of each label. Here, we have set it to show the percentage value only upto 1 decimal place."
   ]
  },
  {
   "cell_type": "markdown",
   "id": "f6df28c3",
   "metadata": {
    "heading_collapsed": true,
    "hidden": true
   },
   "source": [
    "## Plotting curves of given equation\n",
    "\n"
   ]
  },
  {
   "cell_type": "code",
   "execution_count": null,
   "id": "d2c8e0b8",
   "metadata": {
    "hidden": true
   },
   "outputs": [],
   "source": [
    "# importing the required modules\n",
    "import matplotlib.pyplot as plt\n",
    "import numpy as np\n",
    " \n",
    "# setting the x - coordinates\n",
    "x = np.arange(0, 2*(np.pi), 0.1)\n",
    "# setting the corresponding y - coordinates\n",
    "y = np.sin(x)\n",
    " \n",
    "# plotting the points\n",
    "plt.plot(x, y)\n",
    " \n",
    "# function to show the plot\n",
    "plt.show()"
   ]
  },
  {
   "cell_type": "markdown",
   "id": "b3de4c19",
   "metadata": {
    "hidden": true
   },
   "source": [
    "Here, we use **NumPy** which is a general-purpose array-processing package in python. \n",
    " \n",
    "\n",
    "* To set the x-axis values, we use the **np.arange()** method in which the first two arguments are for range and the third one for step-wise increment. The result is a NumPy array.\n",
    "* To get corresponding y-axis values, we simply use the predefined **np.sin()** method on the NumPy array.\n",
    "* Finally, we plot the points by passing x and y arrays to the **plt.plot()** function.\n",
    "\n",
    "So, in this part, we discussed various types of plots we can create in matplotlib. There are more plots that haven’t been covered but the most significant ones are discussed here – "
   ]
  },
  {
   "cell_type": "markdown",
   "id": "9e0c306d",
   "metadata": {
    "heading_collapsed": true
   },
   "source": [
    "# [Graph Plotting in Python | Set 2](https://www.geeksforgeeks.org/graph-plotting-python-set-2/?ref=lbp)"
   ]
  },
  {
   "cell_type": "markdown",
   "id": "7f4d86b7",
   "metadata": {
    "heading_collapsed": true,
    "hidden": true
   },
   "source": [
    "## Subplots"
   ]
  },
  {
   "cell_type": "markdown",
   "id": "316594c2",
   "metadata": {
    "hidden": true
   },
   "source": [
    "Subplots are required when we want to show two or more plots in same figure. We can do it in two ways using two slightly different methods."
   ]
  },
  {
   "cell_type": "markdown",
   "id": "3e265e4b",
   "metadata": {
    "heading_collapsed": true,
    "hidden": true
   },
   "source": [
    "### Method 1"
   ]
  },
  {
   "cell_type": "code",
   "execution_count": null,
   "id": "e8f6f1c7",
   "metadata": {
    "hidden": true
   },
   "outputs": [],
   "source": [
    "# importing required modules\n",
    "import matplotlib.pyplot as plt\n",
    "import numpy as np\n",
    " \n",
    "# function to generate coordinates\n",
    "def create_plot(ptype):\n",
    "    # setting the x-axis values\n",
    "    x = np.arange(-10, 10, 0.01)\n",
    "     \n",
    "    # setting the y-axis values\n",
    "    if ptype == 'linear':\n",
    "        y = x\n",
    "    elif ptype == 'quadratic':\n",
    "        y = x**2\n",
    "    elif ptype == 'cubic':\n",
    "        y = x**3\n",
    "    elif ptype == 'quartic':\n",
    "        y = x**4\n",
    "             \n",
    "    return(x, y)\n",
    " \n",
    "# setting a style to use\n",
    "plt.style.use('fivethirtyeight')\n",
    " \n",
    "# create a figure\n",
    "fig = plt.figure()\n",
    " \n",
    "# define subplots and their positions in figure\n",
    "plt1 = fig.add_subplot(221)\n",
    "plt2 = fig.add_subplot(222)\n",
    "plt3 = fig.add_subplot(223)\n",
    "plt4 = fig.add_subplot(224)\n",
    " \n",
    "# plotting points on each subplot\n",
    "x, y = create_plot('linear')\n",
    "plt1.plot(x, y, color ='r')\n",
    "plt1.set_title('$y_1 = x$')\n",
    " \n",
    "x, y = create_plot('quadratic')\n",
    "plt2.plot(x, y, color ='b')\n",
    "plt2.set_title('$y_2 = x^2$')\n",
    " \n",
    "x, y = create_plot('cubic')\n",
    "plt3.plot(x, y, color ='g')\n",
    "plt3.set_title('$y_3 = x^3$')\n",
    " \n",
    "x, y = create_plot('quartic')\n",
    "plt4.plot(x, y, color ='k')\n",
    "plt4.set_title('$y_4 = x^4$')\n",
    " \n",
    "# adjusting space between subplots\n",
    "fig.subplots_adjust(hspace=.5,wspace=0.5)\n",
    " \n",
    "# function to show the plot\n",
    "plt.show()"
   ]
  },
  {
   "cell_type": "markdown",
   "id": "ea4aa73a",
   "metadata": {
    "hidden": true
   },
   "source": [
    "Let us go through this program step by step: \n",
    "```\n",
    "plt.style.use('fivethirtyeight')\n",
    "```\n",
    "* The styling of plots can be configured by setting different styles available or setting your own. You can learn more about this feature [here](http://matplotlib.org/users/style_sheets.html)\n",
    "```\n",
    "fig = plt.figure()\n",
    "```\n",
    "* Figure acts as a top level container for all plot elements. So, we define a figure as **fig** which will contain all our subplots.\n",
    "```\n",
    "plt1 = fig.add_subplot(221)\n",
    "plt2 = fig.add_subplot(222)\n",
    "plt3 = fig.add_subplot(223)\n",
    "plt4 = fig.add_subplot(224)\n",
    "```\n",
    "* Here we use fig.add_subplot method to define subplots and their positions. The function prototype is like this: \n",
    "```\n",
    "add_subplot(nrows, ncols, plot_number)\n",
    "```\n",
    "* If a subplot is applied to a figure, the figure will be notionally split into ‘nrows’ * ‘ncols’ sub-axes. The parameter ‘plot_number’ identifies the subplot that the function call has to create. ‘plot_number’ can range from 1 to a maximum of ‘nrows’ * ‘ncols’.<br>\n",
    "If the values of the three parameters are less than 10, the function subplot can be called with one int parameter, where the hundreds represent ‘nrows’, the tens represent ‘ncols’ and the units represent ‘plot_number’. This means: Instead of subplot(2, 3, 4) we can write subplot(234).<br>\n",
    "This figure will make it clear that how positions are specified: \n",
    "\n",
    "<img src=\"https://media.geeksforgeeks.org/wp-content/cdn-uploads/20210722193312/sub11.png\">\n",
    "\n",
    "```\n",
    "x, y = create_plot('linear')\n",
    "plt1.plot(x, y, color ='r')\n",
    "plt1.set_title('$y_1 = x$')\n",
    "```\n",
    "\n",
    "* Next, we plot our points on each subplot. First, we generate x and y axis coordinates using create_plot function by specifying the type of curve we want. <br>\n",
    "Then, we plot those points on our subplot using .plot method. Title of subplot is set by using set_title method. Using $ at starting and end of the title text will ensure that ‘_'(underscore) is read as a subscript and ‘^’ is read as a superscript.\n",
    "\n",
    "```\n",
    "fig.subplots_adjust(hspace=.5,wspace=0.5)\n",
    "```\n",
    "\n",
    "* This is another utility method which creates space between subplots.\n",
    "\n",
    "```\n",
    "plt.show()\n",
    "```\n",
    "\n",
    "* In the end, we call plt.show() method which will show the current figure."
   ]
  },
  {
   "cell_type": "markdown",
   "id": "96d08c49",
   "metadata": {
    "heading_collapsed": true,
    "hidden": true
   },
   "source": [
    "### Method 2"
   ]
  },
  {
   "cell_type": "code",
   "execution_count": null,
   "id": "3c671791",
   "metadata": {
    "hidden": true,
    "scrolled": true
   },
   "outputs": [],
   "source": [
    "# importing required modules\n",
    "import matplotlib.pyplot as plt\n",
    "import numpy as np\n",
    " \n",
    "# function to generate coordinates\n",
    "def create_plot(ptype):\n",
    "    # setting the x-axis values\n",
    "    x = np.arange(0, 5, 0.01)\n",
    "     \n",
    "    # setting y-axis values\n",
    "    if ptype == 'sin':\n",
    "        # a sine wave\n",
    "        y = np.sin(2*np.pi*x)\n",
    "    elif ptype == 'exp':\n",
    "        # negative exponential function\n",
    "        y = np.exp(-x)\n",
    "    elif ptype == 'hybrid':\n",
    "        # a damped sine wave\n",
    "        y = (np.sin(2*np.pi*x))*(np.exp(-x))\n",
    "             \n",
    "    return(x, y)\n",
    " \n",
    "# setting a style to use\n",
    "plt.style.use('ggplot')\n",
    " \n",
    "# defining subplots and their positions\n",
    "plt1 = plt.subplot2grid((11,1), (0,0), rowspan = 3, colspan = 1)\n",
    "plt2 = plt.subplot2grid((11,1), (4,0), rowspan = 3, colspan = 1)\n",
    "plt3 = plt.subplot2grid((11,1), (8,0), rowspan = 3, colspan = 1)\n",
    " \n",
    "# plotting points on each subplot\n",
    "x, y = create_plot('sin')\n",
    "plt1.plot(x, y, label = 'sine wave', color ='b')\n",
    "x, y = create_plot('exp')\n",
    "plt2.plot(x, y, label = 'negative exponential', color = 'r')\n",
    "x, y = create_plot('hybrid')\n",
    "plt3.plot(x, y, label = 'damped sine wave', color = 'g')\n",
    " \n",
    "# show legends of each subplot\n",
    "plt1.legend()\n",
    "plt2.legend()\n",
    "plt3.legend()\n",
    " \n",
    "# function to show plot\n",
    "plt.show()"
   ]
  },
  {
   "cell_type": "markdown",
   "id": "9deab1d2",
   "metadata": {
    "hidden": true
   },
   "source": [
    "Let us go through important parts of this program as well: \n",
    "\n",
    "```\n",
    "plt1 = plt.subplot2grid((11,1), (0,0), rowspan = 3, colspan = 1)\n",
    "plt2 = plt.subplot2grid((11,1), (4,0), rowspan = 3, colspan = 1)\n",
    "plt3 = plt.subplot2grid((11,1), (8,0), rowspan = 3, colspan = 1)\n",
    "```\n",
    "* subplot2grid is similar to “pyplot.subplot” but uses 0-based indexing and let subplot to occupy multiple cells. \n",
    "Let us try to understand the arguments of the subplot2grid method: \n",
    "    1. argument 1 : geometry of the grid \n",
    "    2. argument 2: location of the subplot in the grid \n",
    "    3. argument 3: (rowspan) No. of rows covered by subplot. \n",
    "    4. argument 4: (colspan) No. of columns covered by subplot.\n",
    "This figure will make this concept more clear:\n",
    "\n",
    "<img src=\"https://media.geeksforgeeks.org/wp-content/cdn-uploads/20210722193421/sub4.png\">\n",
    "\n",
    "* In our example, each subplot spans over 3 rows and 1 column with two empty rows (row no. 4,8) .\n",
    "\n",
    "```\n",
    "x, y = create_plot('sin')\n",
    "plt1.plot(x, y, label = 'sine wave', color ='b')\n",
    "```\n",
    "\n",
    "* Nothing special in this part as the syntax to plot points on a subplot remains same.\n",
    "\n",
    "```\n",
    "plt1.legend()\n",
    "```\n",
    "\n",
    "* This will show the label of the subplot on the figure.\n",
    "\n",
    "```\n",
    "plt.show()\n",
    "```\n",
    "\n",
    "* Finally, we call the plt.show() function to show the current plot.\n",
    "\n",
    "**Note:** After going through the above two examples, we can infer that one should use **subplot()** method when the plots are of uniform size where as **subplot2grid()** method should be preferred when we want more flexibility on position and sizes of our subplots. "
   ]
  },
  {
   "cell_type": "markdown",
   "id": "033ece10",
   "metadata": {
    "heading_collapsed": true,
    "hidden": true
   },
   "source": [
    "## 3-D plotting"
   ]
  },
  {
   "cell_type": "markdown",
   "id": "c593a867",
   "metadata": {
    "hidden": true
   },
   "source": [
    "We can easily plot 3-D figures in matplotlib. Now, we discuss some important and commonly used 3-D plots. "
   ]
  },
  {
   "cell_type": "markdown",
   "id": "8de46bcc",
   "metadata": {
    "heading_collapsed": true,
    "hidden": true
   },
   "source": [
    "### Plotting points"
   ]
  },
  {
   "cell_type": "code",
   "execution_count": 137,
   "id": "6a70a988",
   "metadata": {
    "hidden": true
   },
   "outputs": [
    {
     "data": {
      "image/png": "[encoded data removed]",
      "text/plain": [
       "<Figure size 432x288 with 1 Axes>"
      ]
     },
     "metadata": {},
     "output_type": "display_data"
    }
   ],
   "source": [
    "from mpl_toolkits.mplot3d import axes3d\n",
    "import matplotlib.pyplot as plt\n",
    "from matplotlib import style\n",
    "import numpy as np\n",
    " \n",
    "# setting a custom style to use\n",
    "style.use('ggplot')\n",
    " \n",
    "# create a new figure for plotting\n",
    "fig = plt.figure()\n",
    " \n",
    "# create a new subplot on our figure\n",
    "# and set projection as 3d\n",
    "ax1 = fig.add_subplot(111, projection='3d')\n",
    " \n",
    "# defining x, y, z co-ordinates\n",
    "x = np.random.randint(0, 10, size = 20)\n",
    "y = np.random.randint(0, 10, size = 20)\n",
    "z = np.random.randint(0, 10, size = 20)\n",
    " \n",
    "# plotting the points on subplot\n",
    "ax1.scatter(x, y, z, c = 'm', marker = 'o')\n",
    " \n",
    "# setting labels for the axes\n",
    "ax1.set_xlabel('x-axis')\n",
    "ax1.set_ylabel('y-axis')\n",
    "ax1.set_zlabel('z-axis')\n",
    " \n",
    "# function to show the plot\n",
    "plt.show()"
   ]
  },
  {
   "cell_type": "markdown",
   "id": "5bd51685",
   "metadata": {
    "hidden": true
   },
   "source": [
    "* Let us try to understand some important aspects of this code now. \n",
    "```\n",
    "from mpl_toolkits.mplot3d import axes3d\n",
    "```\n",
    "* This is the module required to plot on 3-D space. \n",
    "```\n",
    "ax1 = fig.add_subplot(111, projection='3d')\n",
    "```\n",
    "* ere, we create a subplot on our figure and set projection argument as 3d. \n",
    "```\n",
    "ax1.scatter(x, y, z, c = 'm', marker = 'o')\n",
    "```\n",
    "* Now we use **.scatter()** function to plot the points in XYZ plane."
   ]
  },
  {
   "cell_type": "markdown",
   "id": "21a06c8d",
   "metadata": {
    "heading_collapsed": true,
    "hidden": true
   },
   "source": [
    "### Plotting lines"
   ]
  },
  {
   "cell_type": "code",
   "execution_count": 138,
   "id": "6b289445",
   "metadata": {
    "hidden": true
   },
   "outputs": [
    {
     "data": {
      "image/png": "[encoded data removed]",
      "text/plain": [
       "<Figure size 432x288 with 1 Axes>"
      ]
     },
     "metadata": {},
     "output_type": "display_data"
    }
   ],
   "source": [
    "# importing required modules\n",
    "from mpl_toolkits.mplot3d import axes3d\n",
    "import matplotlib.pyplot as plt\n",
    "from matplotlib import style\n",
    "import numpy as np\n",
    " \n",
    "# setting a custom style to use\n",
    "style.use('ggplot')\n",
    " \n",
    "# create a new figure for plotting\n",
    "fig = plt.figure()\n",
    " \n",
    "# create a new subplot on our figure\n",
    "ax1 = fig.add_subplot(111, projection='3d')\n",
    " \n",
    "# defining x, y, z co-ordinates\n",
    "x = np.random.randint(0, 10, size = 5)\n",
    "y = np.random.randint(0, 10, size = 5)\n",
    "z = np.random.randint(0, 10, size = 5)\n",
    " \n",
    "# plotting the points on subplot\n",
    "# ax1.plot_wireframe(x,y,z)\n",
    "ax1.plot_trisurf(x,y,z)\n",
    " \n",
    "# setting the labels\n",
    "ax1.set_xlabel('x-axis')\n",
    "ax1.set_ylabel('y-axis')\n",
    "ax1.set_zlabel('z-axis')\n",
    " \n",
    "plt.show()"
   ]
  },
  {
   "cell_type": "markdown",
   "id": "20b16670",
   "metadata": {
    "hidden": true
   },
   "source": [
    "**CAVEAT**\n",
    "1. [Why Z has to be 2-dimensional for 3d plotting in matplotlib](https://stackoverflow.com/questions/53246874/why-z-has-to-be-2-dimensional-for-3d-plotting-in-matplotlib/53248136)\n",
    "1. [plotting 3D surface using python: raise ValueError(\"Argument Z must be 2-dimensional.\") matplotlib [duplicate]](https://stackoverflow.com/questions/51574861/plotting-3d-surface-using-python-raise-valueerrorargument-z-must-be-2-dimensi)\n"
   ]
  },
  {
   "cell_type": "markdown",
   "id": "a14fb163",
   "metadata": {
    "hidden": true
   },
   "source": [
    "* The main difference in this program with previous one is: \n",
    "```\n",
    "ax1.plot_wireframe(x,y,z)\n",
    "```\n",
    "* We used **.plot_wireframe()** method to plot lines over a given set of 3-D points."
   ]
  },
  {
   "cell_type": "markdown",
   "id": "b387d8de",
   "metadata": {
    "heading_collapsed": true,
    "hidden": true
   },
   "source": [
    "### Plotting Bars"
   ]
  },
  {
   "cell_type": "code",
   "execution_count": 139,
   "id": "2c343e4f",
   "metadata": {
    "hidden": true
   },
   "outputs": [
    {
     "data": {
      "image/png": "[encoded data removed]",
      "text/plain": [
       "<Figure size 432x288 with 1 Axes>"
      ]
     },
     "metadata": {},
     "output_type": "display_data"
    }
   ],
   "source": [
    "# importing required modules\n",
    "from mpl_toolkits.mplot3d import axes3d\n",
    "import matplotlib.pyplot as plt\n",
    "from matplotlib import style\n",
    "import numpy as np\n",
    " \n",
    "# setting a custom style to use\n",
    "style.use('ggplot')\n",
    " \n",
    "# create a new figure for plotting\n",
    "fig = plt.figure()\n",
    " \n",
    "# create a new subplot on our figure\n",
    "ax1 = fig.add_subplot(111, projection='3d')\n",
    " \n",
    "# defining x, y, z co-ordinates for bar position\n",
    "x = [1,2,3,4,5,6,7,8,9,10]\n",
    "y = [4,3,1,6,5,3,7,5,3,7]\n",
    "z = np.zeros(10)\n",
    " \n",
    "# size of bars\n",
    "dx = np.ones(10)              # length along x-axis\n",
    "dy = np.ones(10)              # length along y-axs\n",
    "dz = [1,3,4,2,6,7,5,5,10,9]   # height of bar\n",
    " \n",
    "# setting color scheme\n",
    "color = []\n",
    "for h in dz:\n",
    "    if h > 5:\n",
    "        color.append('r')\n",
    "    else:\n",
    "        color.append('b')\n",
    " \n",
    "# plotting the bars\n",
    "ax1.bar3d(x, y, z, dx, dy, dz, color = color)\n",
    " \n",
    "# setting axes labels\n",
    "ax1.set_xlabel('x-axis')\n",
    "ax1.set_ylabel('y-axis')\n",
    "ax1.set_zlabel('z-axis')\n",
    " \n",
    "plt.show()"
   ]
  },
  {
   "cell_type": "markdown",
   "id": "58d9ef54",
   "metadata": {
    "hidden": true
   },
   "source": [
    "* Let us go through important aspects of this program: \n",
    "```\n",
    "x = [1,2,3,4,5,6,7,8,9,10]\n",
    "y = [4,3,1,6,5,3,7,5,3,7]\n",
    "z = np.zeros(10)\n",
    "```\n",
    "* Here, we define the base positions of bars. Setting z = 0 means all bars start from XY plane. \n",
    "```\n",
    "dx = np.ones(10)              # length along x-axis\n",
    "dy = np.ones(10)              # length along y-axs\n",
    "dz = [1,3,4,2,6,7,5,5,10,9]   # height of bar\n",
    "```\n",
    "* dx, dy, dz denote the size of bar. Consider he bar as a cuboid, then dx, dy, dz are its expansions along x, y, z axis respectively. \n",
    "```\n",
    "for h in dz:\n",
    "    if h > 5:\n",
    "        color.append('r')\n",
    "    else:\n",
    "        color.append('b')\n",
    "```\n",
    "* Here, we set the color for each bar as a list. The color scheme is red for bars with height greater than 5 and blue otherwise. \n",
    "```\n",
    "ax1.bar3d(x, y, z, dx, dy, dz, color = color)\n",
    "```\n",
    "* Finally, to plot the bars, we use **.bar3d()** function."
   ]
  },
  {
   "cell_type": "markdown",
   "id": "5de94ca3",
   "metadata": {
    "heading_collapsed": true,
    "hidden": true
   },
   "source": [
    "### Plotting curves"
   ]
  },
  {
   "cell_type": "code",
   "execution_count": 140,
   "id": "7e6dc8fa",
   "metadata": {
    "hidden": true
   },
   "outputs": [
    {
     "data": {
      "image/png": "[encoded data removed]",
      "text/plain": [
       "<Figure size 432x288 with 1 Axes>"
      ]
     },
     "metadata": {},
     "output_type": "display_data"
    }
   ],
   "source": [
    "# importing required modules\n",
    "from mpl_toolkits.mplot3d import axes3d\n",
    "import matplotlib.pyplot as plt\n",
    "from matplotlib import style\n",
    "import numpy as np\n",
    " \n",
    "# setting a custom style to use\n",
    "style.use('ggplot')\n",
    " \n",
    "# create a new figure for plotting\n",
    "fig = plt.figure()\n",
    " \n",
    "# create a new subplot on our figure\n",
    "ax1 = fig.add_subplot(111, projection='3d')\n",
    " \n",
    "# get points for a mesh grid\n",
    "u, v = np.mgrid[0:2*np.pi:200j, 0:np.pi:100j]\n",
    " \n",
    "# setting x, y, z co-ordinates\n",
    "x=np.cos(u)*np.sin(v)\n",
    "y=np.sin(u)*np.sin(v)\n",
    "z=np.cos(v)\n",
    " \n",
    "# plotting the curve\n",
    "ax1.plot_wireframe(x, y, z, rstride = 5, cstride = 5, linewidth = 1)\n",
    " \n",
    "plt.show()"
   ]
  },
  {
   "cell_type": "markdown",
   "id": "5a3383b5",
   "metadata": {
    "hidden": true
   },
   "source": [
    "* Here, we plotted a sphere as a mesh grid. <br>\n",
    "Let us go through some important parts: \n",
    "\n",
    "```\n",
    "u, v = np.mgrid[0:2*np.pi:200j, 0:np.pi:100j]\n",
    "```\n",
    "\n",
    "* We use np.mgrid in order to get points so that we can create a mesh. <br>\n",
    "You can read more about this here. \n",
    "\n",
    "```\n",
    "x=np.cos(u)*np.sin(v)\n",
    "y=np.sin(u)*np.sin(v)\n",
    "z=np.cos(v)\n",
    "```\n",
    "\n",
    "* This is nothing but the parametric equation of a sphere. \n",
    "\n",
    "```\n",
    "ax1.plot_wireframe(x, y, z, rstride = 5, cstride = 5, linewidth = 1)\n",
    "```\n",
    "\n",
    "* Agan, we use **.plot_wireframe()** method. Here, **rstride** and **cstride** arguments can be used to set how much dense our mesh must be."
   ]
  },
  {
   "cell_type": "markdown",
   "id": "28d425f1",
   "metadata": {
    "heading_collapsed": true
   },
   "source": [
    "# [Graph Plotting in Python | Set 3](https://www.geeksforgeeks.org/graph-plotting-python-set-3/?ref=lbp)"
   ]
  },
  {
   "cell_type": "markdown",
   "id": "0bc2b92a",
   "metadata": {
    "hidden": true
   },
   "source": [
    "Matplotlib is a pretty extensive library which supports **Animations** of graphs as well. The animation tools center around the **matplotlib.animation** base class, which provides a framework around which the animation functionality is built. The main interfaces are **TimedAnimation** and **FuncAnimation** and out of the two, **FuncAnimation** is the most convenient one to use."
   ]
  },
  {
   "cell_type": "markdown",
   "id": "122042e5",
   "metadata": {
    "heading_collapsed": true,
    "hidden": true
   },
   "source": [
    "## Installation:"
   ]
  },
  {
   "cell_type": "markdown",
   "id": "4965488f",
   "metadata": {
    "hidden": true
   },
   "source": [
    "* **Matplotlib**: Refer to [Graph Plotting in Python | Set 1](#Graph-Plotting-in-Python-|-Set-1)\n",
    "* **Numpy**: You can install numpy module using following pip command:\n",
    "pip install numpy\n",
    "* **FFMPEG**: It is required only for saving the animation as a video. The executable can be downloaded from [here](https://ffmpeg.org/download.html)."
   ]
  },
  {
   "cell_type": "markdown",
   "id": "6aac2d88",
   "metadata": {
    "heading_collapsed": true,
    "hidden": true
   },
   "source": [
    "## Implementation of a Growing Coil:"
   ]
  },
  {
   "cell_type": "code",
   "execution_count": null,
   "id": "6b5f33dd",
   "metadata": {
    "hidden": true
   },
   "outputs": [],
   "source": [
    "# importing required modules\n",
    "import matplotlib.pyplot as plt\n",
    "import matplotlib.animation as animation\n",
    "import numpy as np\n",
    "  \n",
    "# create a figure, axis and plot element\n",
    "fig = plt.figure()\n",
    "ax = plt.axes(xlim=(-50, 50), ylim=(-50, 50))\n",
    "line, = ax.plot([], [], lw=2)\n",
    "  \n",
    "# initialization function\n",
    "def init():\n",
    "    # creating an empty plot/frame\n",
    "    line.set_data([], [])\n",
    "    return line,\n",
    "  \n",
    "# lists to store x and y axis points\n",
    "xdata, ydata = [], []\n",
    "  \n",
    "# animation function\n",
    "def animate(i):\n",
    "    # t is a parameter\n",
    "    t = 0.1*i\n",
    "      \n",
    "    # x, y values to be plotted\n",
    "    x = t*np.sin(t)\n",
    "    y = t*np.cos(t)\n",
    "      \n",
    "    # appending new points to x, y axes points list\n",
    "    xdata.append(x)\n",
    "    ydata.append(y)\n",
    "      \n",
    "    # set/update the x and y axes data\n",
    "    line.set_data(xdata, ydata)\n",
    "      \n",
    "    # return line object\n",
    "    return line,\n",
    "      \n",
    "# setting a title for the plot\n",
    "plt.title('A growing coil!')\n",
    "# hiding the axis details\n",
    "plt.axis('off')\n",
    "  \n",
    "# call the animator    \n",
    "anim = animation.FuncAnimation(fig, animate, init_func=init,\n",
    "                               frames=500, interval=20, blit=True)\n",
    "  \n",
    "# save the animation as mp4 video file\n",
    "anim.save('animated_coil.mp4', writer = 'ffmpeg', fps = 30)\n",
    "  \n",
    "# show the plot\n",
    "plt.show()"
   ]
  },
  {
   "cell_type": "markdown",
   "id": "f44cab87",
   "metadata": {
    "hidden": true
   },
   "source": [
    "Now, let us try to understand the code in pieces:\n",
    "\n",
    "* ```\n",
    "fig = plt.figure()\n",
    "ax = plt.axes(xlim=(-50, 50), ylim=(-50, 50))\n",
    "line, = ax.plot([], [], lw=2)\n",
    "```\n",
    "Here, we first create a figure, i.e a top level container for all our subplots.\n",
    "Then we create an axes element **ax** which acts as a subplot. The range/limit for x and y axis are also defined while creating the axes element.<br>\n",
    "Finally, we create the plot element, named as **line**. Initially, the x and y axis points have been defined as empty lists and line-width **(lw)** has been set as 2.\n",
    "* ```\n",
    "def init():\n",
    "    line.set_data([], [])\n",
    "    return line,\n",
    "```\n",
    "Now, we declare a initialization function, **init**. This function is called by animator to create the first frame.\n",
    "* ```\n",
    "def animate(i):\n",
    "    # t is a parameter\n",
    "    t = 0.1*i\n",
    "    \n",
    "    # x, y values to be plotted\n",
    "    x = t*np.sin(t)\n",
    "    y = t*np.cos(t)\n",
    "    \n",
    "    # appending new points to x, y axes points list\n",
    "    xdata.append(x)\n",
    "    ydata.append(y)\n",
    "    \n",
    "    # set/update the x and y axes data\n",
    "    line.set_data(xdata, ydata)\n",
    "    \n",
    "    # return line object\n",
    "    return line,\n",
    "```\n",
    "This is the most important function of above program. **animate()** function is called again and again by the animator to create each frame. The number of times this function will be called is determined by number of frames, which is passed as **frames** argument to animator.\n",
    " **animate()** function takes the index of ith frame as argument.\n",
    "```\n",
    "t = 0.1*i\n",
    "```\n",
    "Here, we cleverly use the index of current frame as a parameter!\n",
    "```\n",
    "x = t*np.sin(t)\n",
    "y = t*np.cos(t)\n",
    "```\n",
    "Now, since we have the parameter t, we can easily plot any parametric equation. For example, here, we are plotting a spiral using its parametric equation.\n",
    "```\n",
    "line.set_data(xdata, ydata)\n",
    "return line,\n",
    "```\n",
    "Finally, we use **set_data()** function to set x and y data and then return plot object, **line**.\n",
    "* ```\n",
    "anim = animation.FuncAnimation(fig, animate, init_func=init,\n",
    "                               frames=500, interval=20, blit=True)\n",
    "```\n",
    "Now, we create the FuncAnimation object, **anim**. It takes various arguments explained below:\n",
    "\n",
    "**fig** : figure to be plotted.\n",
    "\n",
    "**animate** : the function to be called repeatedly for each frame.\n",
    "\n",
    "**init_func** : function used to draw a clear frame. It is called once before the first frame.\n",
    "\n",
    "**frames** : number of frames. (Note: frames can also be an iterable or generator.)\n",
    "\n",
    "**interval** : duration between frames ( in milliseconds)\n",
    "\n",
    "**blit** : setting blit=True means that only those parts will be drawn, which have changed.\n",
    "* ```\n",
    "anim.save('animated_coil.mp4', writer = 'ffmpeg', fps = 30)\n",
    "```\n",
    "Now, we save the animator object as a video file using **save()** function. You will need a movie writer for saving the animation video. In this example, we have used FFMPEG movie writer. So, **writer** is set as ‘ffmpeg’.<br>\n",
    " **fps** stands for frame per second.\n"
   ]
  },
  {
   "cell_type": "markdown",
   "id": "1d5ebd81",
   "metadata": {
    "heading_collapsed": true,
    "hidden": true
   },
   "source": [
    "## Example of a Rotating Star"
   ]
  },
  {
   "cell_type": "markdown",
   "id": "d95df4ac",
   "metadata": {
    "hidden": true
   },
   "source": [
    "This example shows how one can make a rotating curve by applying some simple mathematics!"
   ]
  },
  {
   "cell_type": "code",
   "execution_count": null,
   "id": "97ccec7e",
   "metadata": {
    "hidden": true
   },
   "outputs": [],
   "source": [
    "# importing required modules\n",
    "import matplotlib.pyplot as plt\n",
    "import matplotlib.animation as animation\n",
    "import numpy as np\n",
    "  \n",
    "# create a figure, axis and plot element\n",
    "fig = plt.figure()\n",
    "ax = plt.axes(xlim=(-25, 25), ylim=(-25, 25))\n",
    "line, = ax.plot([], [], lw=2)\n",
    "  \n",
    "# initialization function\n",
    "def init():\n",
    "    # creating an empty plot/frame\n",
    "    line.set_data([], [])\n",
    "    return line,\n",
    "  \n",
    "# set of points for a star (could be any curve)\n",
    "p = np.arange(0, 4*np.pi, 0.1)\n",
    "x = 12*np.cos(p) + 8*np.cos(1.5*p)\n",
    "y = 12*np.sin(p) - 8*np.sin(1.5*p)\n",
    "  \n",
    "# animation function\n",
    "def animate(i):\n",
    "    # t is a parameter\n",
    "    t = 0.1*i\n",
    "      \n",
    "    # x, y values to be plotted\n",
    "    X = x*np.cos(t) - y*np.sin(t)\n",
    "    Y = y*np.cos(t) + x*np.sin(t)\n",
    "      \n",
    "    # set/update the x and y axes data\n",
    "    line.set_data(X, Y)\n",
    "      \n",
    "    # return line object\n",
    "    return line,\n",
    "      \n",
    "# setting a title for the plot\n",
    "plt.title('A rotating star!')\n",
    "# hiding the axis details\n",
    "plt.axis('off')\n",
    "  \n",
    "# call the animator    \n",
    "anim = animation.FuncAnimation(fig, animate, init_func=init,\n",
    "                               frames=100, interval=100, blit=True)\n",
    "  \n",
    "# save the animation as mp4 video file\n",
    "anim.save('basic_animation.mp4', writer = 'ffmpeg', fps = 10)\n",
    "  \n",
    "# show the plot\n",
    "plt.show()"
   ]
  },
  {
   "cell_type": "markdown",
   "id": "531c7ff0",
   "metadata": {
    "hidden": true
   },
   "source": [
    "Here, we have used some simple mathematics to rotate a given curve.\n",
    "\n",
    "* The star shape is obtained by putting $k = 2.5$ and $0<t<4\\cdot\\pi$ in the parametric equation<br>given below:\n",
    "$\n",
    "\\begin{align}\n",
    "x & = (a-b)\\cdot\\cos t + b\\cdot\\cos\\left(t\\cdot\\left(\\frac{a}{b}-1\\right)\\right) \\\\\n",
    "y & = (a-b)\\cdot\\sin t - b\\cdot\\sin\\left(t\\cdot\\left(\\frac{a}{b}-1\\right)\\right) \\\\\n",
    "z & = \\frac{a}{b}\n",
    "\\end{align}\n",
    "$\n",
    "The same has been applied here:\n",
    "```\n",
    "p = np.arange(0, 4*np.pi, 0.1)\n",
    "x = 12*np.cos(p) + 8*np.cos(1.5*p)\n",
    "y = 12*np.sin(p) - 8*np.sin(1.5*p)\n",
    "```\n",
    "* Now, in each frame, we rotate the star curve using concept of rotation in complex numbers. Let $x, y$ be two ordinates. Then after rotation by angle theta, the new ordinates are:\n",
    "$\n",
    "\\begin{align}\n",
    " x &= x\\cos \\theta - y\\sin \\theta    \\\\\n",
    " y &=  x\\sin \\theta + y\\cos \\theta   \n",
    "\\end{align}\n",
    "$\n",
    "The same has been applied here:\n",
    "```\n",
    "X = x*np.cos(t) - y*np.sin(t)\n",
    "Y = y*np.cos(t) + x*np.sin(t)\n",
    "```\n",
    "\n",
    "All in all, animations are a great tool to create amazing stuff and many more things can be created using them.\n",
    "\n",
    "So, this was how animated plots can be generated and saved using Matplotlib."
   ]
  },
  {
   "cell_type": "markdown",
   "id": "a1b41ac9",
   "metadata": {
    "heading_collapsed": true
   },
   "source": [
    "# [Plotting graph using Seaborn | Python](https://www.geeksforgeeks.org/plotting-graph-using-seaborn-python/?ref=lbp)"
   ]
  },
  {
   "cell_type": "markdown",
   "id": "3c52fbe6",
   "metadata": {
    "hidden": true
   },
   "source": [
    "This article will introduce you to graphing in Python with Seaborn, which is the most popular statistical visualization library in Python."
   ]
  },
  {
   "cell_type": "markdown",
   "id": "c1fda6ff",
   "metadata": {
    "hidden": true
   },
   "source": [
    "**Installation:** The easiest way to install seaborn is to use pip. Type following command in terminal:  "
   ]
  },
  {
   "cell_type": "code",
   "execution_count": null,
   "id": "d438f6ae",
   "metadata": {
    "hidden": true
   },
   "outputs": [],
   "source": [
    "# !pip install seaborn"
   ]
  },
  {
   "cell_type": "markdown",
   "id": "cdebc4b8",
   "metadata": {
    "hidden": true
   },
   "source": [
    "OR, you can download it from [here](https://pypi.python.org/pypi/seaborn) (on PyPI) and install it manually.  "
   ]
  },
  {
   "cell_type": "markdown",
   "id": "ac19feb9",
   "metadata": {
    "heading_collapsed": true,
    "hidden": true
   },
   "source": [
    "#### Plotting categorical scatter plots with Seaborn <a class=\"tocSkip\">"
   ]
  },
  {
   "cell_type": "markdown",
   "id": "aae7cc67",
   "metadata": {
    "heading_collapsed": true,
    "hidden": true
   },
   "source": [
    "## Stripplot"
   ]
  },
  {
   "cell_type": "code",
   "execution_count": null,
   "id": "0cb56116",
   "metadata": {
    "hidden": true
   },
   "outputs": [],
   "source": [
    "# Python program to illustrate\n",
    "# Plotting categorical scatter\n",
    "# plots with Seaborn\n",
    " \n",
    "# importing the required module\n",
    "import matplotlib.pyplot as plt\n",
    "import seaborn as sns\n",
    " \n",
    "# x axis values\n",
    "x =['sun', 'mon', 'fri', 'sat', 'tue', 'wed', 'thu']\n",
    " \n",
    "# y axis values\n",
    "y =[5, 6.7, 4, 6, 2, 4.9, 1.8]\n",
    " \n",
    "# plotting strip plot with seaborn\n",
    "ax = sns.stripplot(x, y);\n",
    " \n",
    "# giving labels to x-axis and y-axis\n",
    "ax.set(xlabel ='Days', ylabel ='Amount_spend')\n",
    " \n",
    "# giving title to the plot\n",
    "plt.title('My first graph');\n",
    " \n",
    "# function to show plot\n",
    "plt.show()"
   ]
  },
  {
   "cell_type": "markdown",
   "id": "607c8a0c",
   "metadata": {
    "hidden": true
   },
   "source": [
    "**Explanation:** This is the one kind of scatter plot of categorical data with the help of seaborn.  \n",
    "\n",
    "* Categorical data is represented on the x-axis and values correspond to them represented through the $y$-axis.\n",
    "* **.striplot()** function is used to define the type of the plot and to plot them on canvas using.\n",
    "* **.set()** function is used to set labels of x-axis and y-aixs.\n",
    "* **.title()** function is used to give a title to the graph.\n",
    "* To view plot we use **.show()** function."
   ]
  },
  {
   "cell_type": "markdown",
   "id": "e8d79886",
   "metadata": {
    "heading_collapsed": true,
    "hidden": true
   },
   "source": [
    "#### Stripplot using inbuilt data-set given in seaborn: <a class=\"tocSkip\">"
   ]
  },
  {
   "cell_type": "code",
   "execution_count": null,
   "id": "2679fe3d",
   "metadata": {
    "hidden": true
   },
   "outputs": [],
   "source": [
    "# Python program to illustrate\n",
    "# Stripplot using inbuilt data-set\n",
    "# given in seaborn\n",
    " \n",
    "# importing the required module\n",
    "import matplotlib.pyplot as plt\n",
    "import seaborn as sns\n",
    " \n",
    "# use to set style of background of plot\n",
    "sns.set(style=\"whitegrid\")\n",
    " \n",
    "# loading data-set\n",
    "iris = sns.load_dataset('iris')\n",
    " \n",
    "# plotting strip plot with seaborn\n",
    "# deciding the attributes of dataset on\n",
    "# which plot should be made\n",
    "ax = sns.stripplot(x='species', y='sepal_length', data=iris)\n",
    " \n",
    "# giving title to the plot\n",
    "plt.title('Graph')\n",
    " \n",
    "# function to show plot\n",
    "plt.show()"
   ]
  },
  {
   "cell_type": "markdown",
   "id": "15e63b98",
   "metadata": {
    "hidden": true
   },
   "source": [
    "**Explanation:** This is the one kind of scatter plot of categorical data with the help of seaborn.  \n",
    "\n",
    "* **iris** is the dataset already present in seaborn module for use.\n",
    "* We use **.load_dataset()** function in order to load the data.We can also load any other file by giving the path and name of the file in the argument.\n",
    "* **.set(style=”whitegrid”)** function here is also use to define the background of plot.We can use **“darkgrid”** instead of whitegrid if we want the dark-colored background.\n",
    "* In **.stripplot()** function we have to define which attribute of the dataset to be on the $x$-axis and which attribute of the dataset should on $y$-axis. **data = iris** means attributes which we define earlier should be taken from the given data.\n",
    "* We can also draw this plot with matplotlib but the problem with matplotlib is its default parameters. The reason why Seaborn is so great with DataFrames is, for example, labels from DataFrames are automatically propagated to plots or other data structures as you see in the above figure column name **species** comes on the $x$-axis and column name **stepal_length** comes on the $y$-axis, that is not possible with matplotlib. We have to explicitly define the labels of the x-axis and $y$-axis."
   ]
  },
  {
   "cell_type": "markdown",
   "id": "894f446d",
   "metadata": {
    "heading_collapsed": true,
    "hidden": true
   },
   "source": [
    "## Swarmplot "
   ]
  },
  {
   "cell_type": "code",
   "execution_count": null,
   "id": "16216ec0",
   "metadata": {
    "hidden": true
   },
   "outputs": [],
   "source": [
    "# Python program to illustrate\n",
    "# plotting using Swarmplot\n",
    " \n",
    "# importing the required module\n",
    "import matplotlib.pyplot as plt\n",
    "import seaborn as sns\n",
    " \n",
    "# use to set style of background of plot\n",
    "sns.set(style=\"whitegrid\")\n",
    " \n",
    "# loading data-set\n",
    "iris = sns.load_dataset('iris')\n",
    " \n",
    "# plotting strip plot with seaborn\n",
    "# deciding the attributes of dataset on\n",
    "# which plot should be made\n",
    "ax = sns.swarmplot(x='species', y='sepal_length', data=iris)\n",
    " \n",
    "# giving title to the plot\n",
    "plt.title('Graph')\n",
    " \n",
    "# function to show plot\n",
    "plt.show()"
   ]
  },
  {
   "cell_type": "markdown",
   "id": "db79b5be",
   "metadata": {
    "hidden": true
   },
   "source": [
    "**Explanation:**\n",
    "This is very much similar to stripplot but the only difference is that it does not allow overlapping of markers. It causes jittering in the markers of the plot so that graph can easily be read without information loss as seen in the above plot. \n",
    "\n",
    "* We use **.swarmplot()** function to plot swarn plot.\n",
    "* Another difference that we can notice in Seaborn and Matplotlib is that working with DataFrames doesn’t go quite as smoothly with Matplotlib, which can be annoying if we doing exploratory analysis with Pandas. And that’s exactly what Seaborn does easily, the plotting functions operate on DataFrames and arrays that contain a whole dataset."
   ]
  },
  {
   "cell_type": "markdown",
   "id": "0b6aa383",
   "metadata": {
    "hidden": true
   },
   "source": [
    "**Note:** If we want we can also change the representation of data on a particular axis. "
   ]
  },
  {
   "cell_type": "markdown",
   "id": "f60d2c7d",
   "metadata": {
    "hidden": true
   },
   "source": [
    "**Example:**"
   ]
  },
  {
   "cell_type": "code",
   "execution_count": null,
   "id": "1c9f16a1",
   "metadata": {
    "hidden": true
   },
   "outputs": [],
   "source": [
    "# importing the required module\n",
    "import matplotlib.pyplot as plt\n",
    "import seaborn as sns\n",
    " \n",
    "# use to set style of background of plot\n",
    "sns.set(style=\"whitegrid\")\n",
    " \n",
    "# loading data-set\n",
    "iris = sns.load_dataset('iris')\n",
    " \n",
    "# plotting strip plot with seaborn\n",
    "# deciding the attributes of dataset on\n",
    "# which plot should be made\n",
    "ax = sns.swarmplot(x='sepal_length', y='species', data=iris)\n",
    " \n",
    " \n",
    "# giving title to the plot\n",
    "plt.title('Graph')\n",
    " \n",
    "# function to show plot\n",
    "plt.show()"
   ]
  },
  {
   "cell_type": "markdown",
   "id": "4fcdeded",
   "metadata": {
    "hidden": true
   },
   "source": [
    "The same can be done in striplot. At last, we can say that Seaborn is an extended version of matplotlib which tries to make a well-defined set of hard things easy."
   ]
  },
  {
   "cell_type": "markdown",
   "id": "1bf6ad02",
   "metadata": {
    "heading_collapsed": true,
    "hidden": true
   },
   "source": [
    "## Barplot"
   ]
  },
  {
   "cell_type": "markdown",
   "id": "15c6ce36",
   "metadata": {
    "hidden": true
   },
   "source": [
    "A **barplot** is basically used to aggregate the categorical data according to some methods and by default it’s the mean. It can also be understood as a visualization of the group by action. To use this plot we choose a categorical column for the $x$-axis and a numerical column for the $y$-axis, and we see that it creates a plot taking a mean per categorical column."
   ]
  },
  {
   "cell_type": "markdown",
   "id": "e7486dd8",
   "metadata": {
    "hidden": true
   },
   "source": [
    "**Syntax:**"
   ]
  },
  {
   "cell_type": "markdown",
   "id": "c76e6460",
   "metadata": {
    "hidden": true
   },
   "source": [
    "```\n",
    "barplot([x, y, hue, data, order, hue_order, …])\n",
    "```"
   ]
  },
  {
   "cell_type": "code",
   "execution_count": null,
   "id": "cea63fa7",
   "metadata": {
    "hidden": true
   },
   "outputs": [],
   "source": [
    "# import the seaborn library\n",
    "import seaborn as sns\n",
    " \n",
    "# reading the dataset\n",
    "df = sns.load_dataset('tips')\n",
    " \n",
    "# change the estimator from mean to\n",
    "# standard deviation\n",
    "sns.barplot(x ='sex', y ='total_bill', data = df, \n",
    "            palette ='plasma')"
   ]
  },
  {
   "cell_type": "markdown",
   "id": "3c8aff50",
   "metadata": {
    "hidden": true
   },
   "source": [
    "**Explanation:**\n",
    "Looking at the plot we can say that the average total_bill for the male is more than compared to the female.\n",
    "\n",
    "* Palette is used to set the color of the plot\n",
    "* The estimator is used as a statistical function for estimation within each categorical bin."
   ]
  },
  {
   "cell_type": "markdown",
   "id": "4bbc1921",
   "metadata": {
    "heading_collapsed": true,
    "hidden": true
   },
   "source": [
    "## Countplot"
   ]
  },
  {
   "cell_type": "markdown",
   "id": "bb38a2ae",
   "metadata": {
    "hidden": true
   },
   "source": [
    "A countplot basically counts the categories and returns a count of their occurrences. It is one of the simplest plots provided by the seaborn library."
   ]
  },
  {
   "cell_type": "markdown",
   "id": "59226a98",
   "metadata": {
    "hidden": true
   },
   "source": [
    "**Syntax:**"
   ]
  },
  {
   "cell_type": "markdown",
   "id": "5bad538a",
   "metadata": {
    "hidden": true
   },
   "source": [
    "```\n",
    "countplot([x, y, hue, data, order, …])\n",
    "```"
   ]
  },
  {
   "cell_type": "code",
   "execution_count": null,
   "id": "f82d366b",
   "metadata": {
    "hidden": true
   },
   "outputs": [],
   "source": [
    "# import the seaborn library\n",
    "import seaborn as sns\n",
    " \n",
    "# reading the dataset\n",
    "df = sns.load_dataset('tips')\n",
    " \n",
    "sns.countplot(x ='sex', data = df)"
   ]
  },
  {
   "cell_type": "markdown",
   "id": "fed402ae",
   "metadata": {
    "hidden": true
   },
   "source": [
    "**Explanation:**"
   ]
  },
  {
   "cell_type": "markdown",
   "id": "77172f39",
   "metadata": {
    "hidden": true
   },
   "source": [
    "Looking at the plot we can say that the number of males is more than the number of females in the dataset. As it only returns the count based on a categorical column, we need to specify only the x parameter."
   ]
  },
  {
   "cell_type": "markdown",
   "id": "36e039ae",
   "metadata": {
    "heading_collapsed": true,
    "hidden": true
   },
   "source": [
    "## Boxplot"
   ]
  },
  {
   "cell_type": "markdown",
   "id": "aa49b5d2",
   "metadata": {
    "hidden": true
   },
   "source": [
    "**Box Plot** is the visual representation of the depicting groups of numerical data through their quartiles. Boxplot is also used to detect the outlier in the data set."
   ]
  },
  {
   "cell_type": "markdown",
   "id": "e483e517",
   "metadata": {
    "hidden": true
   },
   "source": [
    "**Syntax:**"
   ]
  },
  {
   "cell_type": "markdown",
   "id": "f5e8342d",
   "metadata": {
    "hidden": true
   },
   "source": [
    "```\n",
    "boxplot([x, y, hue, data, order, hue_order, …])\n",
    "```"
   ]
  },
  {
   "cell_type": "code",
   "execution_count": 141,
   "id": "74a6493d",
   "metadata": {
    "hidden": true
   },
   "outputs": [
    {
     "data": {
      "text/plain": [
       "<AxesSubplot:xlabel='day', ylabel='total_bill'>"
      ]
     },
     "execution_count": 141,
     "metadata": {},
     "output_type": "execute_result"
    },
    {
     "data": {
      "image/png": "[encoded data removed]",
      "text/plain": [
       "<Figure size 432x288 with 1 Axes>"
      ]
     },
     "metadata": {},
     "output_type": "display_data"
    }
   ],
   "source": [
    "# import the seaborn library\n",
    "import seaborn as sns\n",
    " \n",
    "# reading the dataset\n",
    "df = sns.load_dataset('tips')\n",
    " \n",
    "sns.boxplot(x='day', y='total_bill', data=df, hue='smoker')"
   ]
  },
  {
   "cell_type": "markdown",
   "id": "30e2f9f7",
   "metadata": {
    "hidden": true
   },
   "source": [
    "**Explanation:**"
   ]
  },
  {
   "cell_type": "markdown",
   "id": "5af37222",
   "metadata": {
    "hidden": true
   },
   "source": [
    "$x$ takes the categorical column and $y$ is a numerical column. Hence we can see the total bill spent each day.” hue” parameter is used to further add a categorical separation. By looking at the plot we can say that the people who do not smoke had a higher bill on Friday as compared to the people who smoked."
   ]
  },
  {
   "cell_type": "markdown",
   "id": "75f47f93",
   "metadata": {
    "heading_collapsed": true,
    "hidden": true
   },
   "source": [
    "## Violinplot"
   ]
  },
  {
   "cell_type": "markdown",
   "id": "5e24453d",
   "metadata": {
    "hidden": true
   },
   "source": [
    "It is similar to the boxplot except that it provides a higher, more advanced visualization and uses the kernel density estimation to give a better description about the data distribution."
   ]
  },
  {
   "cell_type": "markdown",
   "id": "58f1fd9d",
   "metadata": {
    "hidden": true
   },
   "source": [
    "**Syntax:**"
   ]
  },
  {
   "cell_type": "markdown",
   "id": "37ff5d87",
   "metadata": {
    "hidden": true
   },
   "source": [
    "```\n",
    "violinplot([x, y, hue, data, order, …])\n",
    "```"
   ]
  },
  {
   "cell_type": "code",
   "execution_count": 142,
   "id": "553e5934",
   "metadata": {
    "hidden": true
   },
   "outputs": [
    {
     "data": {
      "text/plain": [
       "<AxesSubplot:xlabel='day', ylabel='total_bill'>"
      ]
     },
     "execution_count": 142,
     "metadata": {},
     "output_type": "execute_result"
    },
    {
     "data": {
      "image/png": "[encoded data removed]",
      "text/plain": [
       "<Figure size 432x288 with 1 Axes>"
      ]
     },
     "metadata": {},
     "output_type": "display_data"
    }
   ],
   "source": [
    "# import the seaborn library\n",
    "import seaborn as sns\n",
    " \n",
    "# reading the dataset\n",
    "df = sns.load_dataset('tips')\n",
    "sns.violinplot(x='day', y='total_bill', data=df,\n",
    "               hue='sex', split=True)"
   ]
  },
  {
   "cell_type": "markdown",
   "id": "300eb990",
   "metadata": {
    "hidden": true
   },
   "source": [
    "**Explanation:**"
   ]
  },
  {
   "cell_type": "markdown",
   "id": "b5ca198e",
   "metadata": {
    "hidden": true
   },
   "source": [
    "* `hue` is used to separate the data further using the sex category\n",
    "* setting `split=True` will draw half of a violin for each level. This can make it easier to directly compare the distributions."
   ]
  },
  {
   "cell_type": "markdown",
   "id": "ff7aa811",
   "metadata": {
    "heading_collapsed": true,
    "hidden": true
   },
   "source": [
    "## Stripplot"
   ]
  },
  {
   "cell_type": "markdown",
   "id": "5b9aa1ea",
   "metadata": {
    "hidden": true
   },
   "source": [
    "It basically creates a scatter plot based on the category."
   ]
  },
  {
   "cell_type": "markdown",
   "id": "995401e2",
   "metadata": {
    "hidden": true
   },
   "source": [
    "**Syntax:**"
   ]
  },
  {
   "cell_type": "markdown",
   "id": "d14f95c9",
   "metadata": {
    "hidden": true
   },
   "source": [
    "```\n",
    "stripplot([x, y, hue, data, order, …])\n",
    "```"
   ]
  },
  {
   "cell_type": "code",
   "execution_count": 143,
   "id": "325c8cb8",
   "metadata": {
    "hidden": true
   },
   "outputs": [
    {
     "data": {
      "text/plain": [
       "<AxesSubplot:xlabel='day', ylabel='total_bill'>"
      ]
     },
     "execution_count": 143,
     "metadata": {},
     "output_type": "execute_result"
    },
    {
     "data": {
      "image/png": "[encoded data removed]",
      "text/plain": [
       "<Figure size 432x288 with 1 Axes>"
      ]
     },
     "metadata": {},
     "output_type": "display_data"
    }
   ],
   "source": [
    "# import the seaborn library\n",
    "import seaborn as sns\n",
    " \n",
    "# reading the dataset\n",
    "df = sns.load_dataset('tips')\n",
    "sns.stripplot(x='day', y='total_bill', data=df,\n",
    "              jitter=True, hue='smoker', dodge=True)"
   ]
  },
  {
   "cell_type": "markdown",
   "id": "3719af4b",
   "metadata": {
    "hidden": true
   },
   "source": [
    "**Explanation:**"
   ]
  },
  {
   "cell_type": "markdown",
   "id": "167a7770",
   "metadata": {
    "hidden": true
   },
   "source": [
    "* One problem with strip plot is that you can’t really tell which points are stacked on top of each other and hence we use the jitter parameter to add some random noise.\n",
    "* `jitter` parameter is used to add an amount of jitter (only along the categorical axis) which can be useful when you have many points and they overlap so that it is easier to see the distribution.\n",
    "* `hue` is used to provide an additional categorical separation\n",
    "* setting `split=True` is used to draw separate strip plots based on the category specified by the hue parameter."
   ]
  },
  {
   "cell_type": "markdown",
   "id": "cb33761f",
   "metadata": {
    "heading_collapsed": true
   },
   "source": [
    "# [Box plot visualization with Pandas and Seaborn](https://www.geeksforgeeks.org/box-plot-visualization-with-pandas-and-seaborn/?ref=lbp)"
   ]
  },
  {
   "cell_type": "markdown",
   "id": "6b13879a",
   "metadata": {
    "hidden": true
   },
   "source": [
    "_**Box Plot**_ is the visual representation of the depicting groups of numerical data through their quartiles. Boxplot is also used for detect the outlier in data set. It captures the summary of the data efficiently with a simple box and whiskers and allows us to compare easily across groups. Boxplot summarizes a sample data using 25th, 50th and 75th percentiles. These percentiles are also known as the lower quartile, median and upper quartile.\n",
    "\n",
    "A box plot consist of 5 things."
   ]
  },
  {
   "cell_type": "markdown",
   "id": "cb71698e",
   "metadata": {
    "hidden": true
   },
   "source": [
    "* Minimum\n",
    "* First Quartile or 25%\n",
    "* Median (Second Quartile) or 50%\n",
    "* Third Quartile or 75%\n",
    "* Maximum"
   ]
  },
  {
   "cell_type": "markdown",
   "id": "6024a8c0",
   "metadata": {
    "hidden": true
   },
   "source": [
    "To download the dataset used, click [here](https://media.geeksforgeeks.org/wp-content/uploads/tips.csv)."
   ]
  },
  {
   "cell_type": "markdown",
   "id": "e324dadc",
   "metadata": {
    "heading_collapsed": true,
    "hidden": true
   },
   "source": [
    "#### Draw the box plot with Pandas: <a class=\"tocSkip\">"
   ]
  },
  {
   "cell_type": "markdown",
   "id": "a46c197c",
   "metadata": {
    "hidden": true
   },
   "source": [
    "One way to plot boxplot using pandas [dataframe](#Python-|-Pandas-DataFrame) is to use `boxplot()` function that is part of pandas library."
   ]
  },
  {
   "cell_type": "code",
   "execution_count": null,
   "id": "ebb4929e",
   "metadata": {
    "hidden": true
   },
   "outputs": [],
   "source": [
    "# import the required library \n",
    "import numpy as np \n",
    "import pandas as pd \n",
    "import matplotlib.pyplot as plt \n",
    "%matplotlib inline\n",
    "  \n",
    "  \n",
    "# load the dataset\n",
    "df = pd.read_csv(\"https://media.geeksforgeeks.org/wp-content/uploads/tips.csv\")\n",
    "  \n",
    "# display 5 rows of dataset\n",
    "df.head()   "
   ]
  },
  {
   "cell_type": "markdown",
   "id": "4cc2088c",
   "metadata": {
    "hidden": true
   },
   "source": [
    "Boxplot of `days` with respect `total_bill`."
   ]
  },
  {
   "cell_type": "code",
   "execution_count": null,
   "id": "1fb3f53d",
   "metadata": {
    "hidden": true
   },
   "outputs": [],
   "source": [
    "df.boxplot(by ='day', column =['total_bill'], grid = False)"
   ]
  },
  {
   "cell_type": "markdown",
   "id": "d26bc19b",
   "metadata": {
    "hidden": true
   },
   "source": [
    "Boxplot of `size` with respect `tip`."
   ]
  },
  {
   "cell_type": "code",
   "execution_count": null,
   "id": "e7d76ec4",
   "metadata": {
    "hidden": true
   },
   "outputs": [],
   "source": [
    "df.boxplot(by ='size', column =['tip'], grid = False)"
   ]
  },
  {
   "cell_type": "markdown",
   "id": "de361ea1",
   "metadata": {
    "heading_collapsed": true,
    "hidden": true
   },
   "source": [
    "#### Draw the box plot using seaborn library: <a class=\"tocSkip\">"
   ]
  },
  {
   "cell_type": "markdown",
   "id": "d5f17558",
   "metadata": {
    "hidden": true
   },
   "source": [
    "**Syntax:**\n",
    "\n",
    "*seaborn.boxplot(x=None, y=None, hue=None, data=None, order=None, hue_order=None, orient=None, color=None, palette=None, saturation=0.75, width=0.8, dodge=True, fliersize=5, linewidth=None, whis=1.5, notch=False, ax=None, \\*\\*kwargs)*\n",
    "\n",
    "**Parameters:**\n",
    "\n",
    "**x** = feature of dataset<br>\n",
    "**y** = feature of dataset<br>\n",
    "**hue** = feature of dataset<br>\n",
    "**data** = dataframe or full dataset<br>\n",
    "**color** = color name\n",
    "\n",
    "Let’s see how to create the box plot through seaborn library.\n",
    "\n",
    "Information about “tips” dataset."
   ]
  },
  {
   "cell_type": "code",
   "execution_count": null,
   "id": "526896c5",
   "metadata": {
    "hidden": true
   },
   "outputs": [],
   "source": [
    "# load the dataset\n",
    "tips = sns.load_dataset('tips')\n",
    "  \n",
    "tips.head()"
   ]
  },
  {
   "cell_type": "markdown",
   "id": "ac14236b",
   "metadata": {
    "hidden": true
   },
   "source": [
    "Boxplot of `days` with respect `total_bill`."
   ]
  },
  {
   "cell_type": "code",
   "execution_count": null,
   "id": "08060ee2",
   "metadata": {
    "hidden": true
   },
   "outputs": [],
   "source": [
    "# Draw a vertical boxplot grouped \n",
    "# by a categorical variable:\n",
    "sns.set_style(\"whitegrid\")\n",
    "  \n",
    "sns.boxplot(x = 'day', y = 'total_bill', data = tips)"
   ]
  },
  {
   "cell_type": "markdown",
   "id": "931b07af",
   "metadata": {
    "hidden": true
   },
   "source": [
    "Boxplot of `size` with respect `tip`."
   ]
  },
  {
   "cell_type": "code",
   "execution_count": null,
   "id": "3126dbe5",
   "metadata": {
    "hidden": true
   },
   "outputs": [],
   "source": [
    "sns.boxplot(x = 'size', y = 'tip', data = tips)"
   ]
  },
  {
   "cell_type": "markdown",
   "id": "7e8143c8",
   "metadata": {
    "heading_collapsed": true
   },
   "source": [
    "# [Box Plot in Python using Matplotlib](https://www.geeksforgeeks.org/box-plot-in-python-using-matplotlib/?ref=lbp)"
   ]
  },
  {
   "cell_type": "markdown",
   "id": "9977556f",
   "metadata": {
    "hidden": true
   },
   "source": [
    "A **Box Plot** is also known as **Whisker plot** is created to display the summary of the set of data values having properties like minimum, first quartile, median, third quartile and maximum. In the box plot, a box is created from the first quartile to the third quartile, a vertical line is also there which goes through the box at the median. Here x-axis denotes the data to be plotted while the y-axis shows the frequency distribution."
   ]
  },
  {
   "cell_type": "markdown",
   "id": "d895ac8a",
   "metadata": {
    "heading_collapsed": true,
    "hidden": true
   },
   "source": [
    "## Creating Box Plot"
   ]
  },
  {
   "cell_type": "markdown",
   "id": "6f8a5f4b",
   "metadata": {
    "hidden": true
   },
   "source": [
    "The [matplotlib.pyplot](https://www.geeksforgeeks.org/pyplot-in-matplotlib/) module of matplotlib library provides `boxplot()` function with the help of which we can create box plots."
   ]
  },
  {
   "cell_type": "markdown",
   "id": "5560e928",
   "metadata": {
    "hidden": true
   },
   "source": [
    "**Syntax:**"
   ]
  },
  {
   "cell_type": "markdown",
   "id": "fb939c3c",
   "metadata": {
    "hidden": true
   },
   "source": [
    "```\n",
    "matplotlib.pyplot.boxplot(data, notch=None, vert=None, patch_artist=None, widths=None)\n",
    "```"
   ]
  },
  {
   "cell_type": "markdown",
   "id": "76c92655",
   "metadata": {
    "hidden": true
   },
   "source": [
    "**Parameters:**"
   ]
  },
  {
   "cell_type": "markdown",
   "id": "a48a784b",
   "metadata": {
    "hidden": true
   },
   "source": [
    "| Attribute | Value |\n",
    "| --- | --- |\n",
    "| data | array or sequence of array to be plotted |\n",
    "| notch | optional parameter accepts boolean values |\n",
    "| vert | optional parameter accepts boolean values false and true for horizontal and vertical plot respectively |\n",
    "| bootstrap | optional parameter accepts int specifies intervals around notched boxplots |\n",
    "| usermedians | optional parameter accepts array or sequence of array dimension compatible with data |\n",
    "| positions | optional parameter accepts array and sets the position of boxes |\n",
    "| widths | optional parameter accepts array and sets the width of boxes |\n",
    "| patch_artist | optional parameter having boolean values |\n",
    "| labels | sequence of strings sets label for each dataset |\n",
    "| meanline | optional having boolean value try to render meanline as full width of box |\n",
    "| order | optional parameter sets the order of the boxplot |"
   ]
  },
  {
   "cell_type": "markdown",
   "id": "9f6875ab",
   "metadata": {
    "hidden": true
   },
   "source": [
    "The data values given to the `ax.boxplot()` method can be a Numpy array or Python list or Tuple of arrays. Let us create the box plot by using `numpy.random.normal()` to create some random data, it takes mean, standard deviation, and the desired number of values as arguments."
   ]
  },
  {
   "cell_type": "markdown",
   "id": "1951944c",
   "metadata": {
    "heading_collapsed": true,
    "hidden": true
   },
   "source": [
    "### Example: <a class=\"tocSkip\">"
   ]
  },
  {
   "cell_type": "code",
   "execution_count": null,
   "id": "1984f9b0",
   "metadata": {
    "hidden": true
   },
   "outputs": [],
   "source": [
    "# Import libraries\n",
    "import matplotlib.pyplot as plt\n",
    "import numpy as np\n",
    " \n",
    " \n",
    "# Creating dataset\n",
    "np.random.seed(10)\n",
    "data = np.random.normal(100, 20, 200)\n",
    " \n",
    "fig = plt.figure(figsize =(10, 7))\n",
    " \n",
    "# Creating plot\n",
    "plt.boxplot(data)\n",
    " \n",
    "# show plot\n",
    "plt.show()"
   ]
  },
  {
   "cell_type": "markdown",
   "id": "16572359",
   "metadata": {
    "heading_collapsed": true,
    "hidden": true
   },
   "source": [
    "## Customizing Box Plot"
   ]
  },
  {
   "cell_type": "markdown",
   "id": "fcf1fb3b",
   "metadata": {
    "hidden": true
   },
   "source": [
    "The `matplotlib.pyplot.boxplot()` provides endless customization possibilities to the box plot. The notch = True attribute creates the notch format to the box plot, patch_artist = True fills the boxplot with colors, we can set different colors to different boxes.The vert = 0 attribute creates horizontal box plot. labels takes same dimensions as the number data sets."
   ]
  },
  {
   "cell_type": "markdown",
   "id": "8447cf7e",
   "metadata": {
    "heading_collapsed": true,
    "hidden": true
   },
   "source": [
    "### Example 1: <a class=\"tocSkip\">"
   ]
  },
  {
   "cell_type": "code",
   "execution_count": null,
   "id": "76db7cbe",
   "metadata": {
    "hidden": true
   },
   "outputs": [],
   "source": [
    "# Import libraries\n",
    "import matplotlib.pyplot as plt\n",
    "import numpy as np\n",
    " \n",
    " \n",
    "# Creating dataset\n",
    "np.random.seed(10)\n",
    " \n",
    "data_1 = np.random.normal(100, 10, 200)\n",
    "data_2 = np.random.normal(90, 20, 200)\n",
    "data_3 = np.random.normal(80, 30, 200)\n",
    "data_4 = np.random.normal(70, 40, 200)\n",
    "data = [data_1, data_2, data_3, data_4]\n",
    " \n",
    "fig = plt.figure(figsize =(10, 7))\n",
    " \n",
    "# Creating axes instance\n",
    "ax = fig.add_axes([0, 0, 1, 1])\n",
    " \n",
    "# Creating plot\n",
    "bp = ax.boxplot(data)\n",
    " \n",
    "# show plot\n",
    "plt.show()"
   ]
  },
  {
   "cell_type": "markdown",
   "id": "df47eb91",
   "metadata": {
    "heading_collapsed": true,
    "hidden": true
   },
   "source": [
    "### Example 2: <a class=\"tocSkip\">"
   ]
  },
  {
   "cell_type": "markdown",
   "id": "55256c2e",
   "metadata": {
    "hidden": true
   },
   "source": [
    "Let’s try to modify the above plot with some of the customizations: "
   ]
  },
  {
   "cell_type": "code",
   "execution_count": null,
   "id": "39017681",
   "metadata": {
    "hidden": true
   },
   "outputs": [],
   "source": [
    "# Import libraries\n",
    "import matplotlib.pyplot as plt\n",
    "import numpy as np\n",
    " \n",
    "# Creating dataset\n",
    "np.random.seed(10)\n",
    "data_1 = np.random.normal(100, 10, 200)\n",
    "data_2 = np.random.normal(90, 20, 200)\n",
    "data_3 = np.random.normal(80, 30, 200)\n",
    "data_4 = np.random.normal(70, 40, 200)\n",
    "data = [data_1, data_2, data_3, data_4]\n",
    " \n",
    "fig = plt.figure(figsize =(10, 7))\n",
    "ax = fig.add_subplot(111)\n",
    " \n",
    "# Creating axes instance\n",
    "bp = ax.boxplot(data, patch_artist = True,\n",
    "                notch ='True', vert = 0)\n",
    " \n",
    "colors = ['#0000FF', '#00FF00',\n",
    "          '#FFFF00', '#FF00FF']\n",
    " \n",
    "for patch, color in zip(bp['boxes'], colors):\n",
    "    patch.set_facecolor(color)\n",
    " \n",
    "# changing color and linewidth of\n",
    "# whiskers\n",
    "for whisker in bp['whiskers']:\n",
    "    whisker.set(color ='#8B008B',\n",
    "                linewidth = 1.5,\n",
    "                linestyle =\":\")\n",
    " \n",
    "# changing color and linewidth of\n",
    "# caps\n",
    "for cap in bp['caps']:\n",
    "    cap.set(color ='#8B008B',\n",
    "            linewidth = 2)\n",
    " \n",
    "# changing color and linewidth of\n",
    "# medians\n",
    "for median in bp['medians']:\n",
    "    median.set(color ='red',\n",
    "               linewidth = 3)\n",
    " \n",
    "# changing style of fliers\n",
    "for flier in bp['fliers']:\n",
    "    flier.set(marker ='D',\n",
    "              color ='#e7298a',\n",
    "              alpha = 0.5)\n",
    "     \n",
    "# x-axis labels\n",
    "ax.set_yticklabels(['data_1', 'data_2',\n",
    "                    'data_3', 'data_4'])\n",
    " \n",
    "# Adding title\n",
    "plt.title(\"Customized box plot\")\n",
    " \n",
    "# Removing top axes and right axes\n",
    "# ticks\n",
    "ax.get_xaxis().tick_bottom()\n",
    "ax.get_yaxis().tick_left()\n",
    "     \n",
    "# show plot\n",
    "plt.show(bp)"
   ]
  },
  {
   "cell_type": "markdown",
   "id": "b9cad81b",
   "metadata": {
    "heading_collapsed": true
   },
   "source": [
    "# [How to get column names in Pandas dataframe](https://www.geeksforgeeks.org/how-to-get-column-names-in-pandas-dataframe/?ref=lbp)"
   ]
  },
  {
   "cell_type": "markdown",
   "id": "ca82ec80",
   "metadata": {
    "hidden": true
   },
   "source": [
    "While analyzing the real datasets which are often very huge in size, we might need to get the column names in order to perform some certain operations.\n",
    "\n",
    "Let’s discuss how to get column names in [Pandas dataframe](#Python-|-Pandas-DataFrame)."
   ]
  },
  {
   "cell_type": "markdown",
   "id": "5b720373",
   "metadata": {
    "hidden": true
   },
   "source": [
    "First, let’s create a simple dataframe with [nba.csv](https://media.geeksforgeeks.org/wp-content/uploads/nba.csv) file. "
   ]
  },
  {
   "cell_type": "code",
   "execution_count": null,
   "id": "2a7c34a4",
   "metadata": {
    "hidden": true
   },
   "outputs": [],
   "source": [
    "# Import pandas package \n",
    "import pandas as pd \n",
    "\n",
    "# making data frame \n",
    "path_to_nba_csv = \"https://media.geeksforgeeks.org/wp-content/uploads/nba.csv\"\n",
    "data = pd.read_csv(path_to_nba_csv) \n",
    "\n",
    "# calling head() method  \n",
    "# storing in new variable \n",
    "data_top = data.head() \n",
    "    \n",
    "# display \n",
    "data_top "
   ]
  },
  {
   "cell_type": "markdown",
   "id": "6791068b",
   "metadata": {
    "hidden": true
   },
   "source": [
    "Now let’s try to get the columns name from above dataset."
   ]
  },
  {
   "cell_type": "markdown",
   "id": "94e03a8e",
   "metadata": {
    "heading_collapsed": true,
    "hidden": true
   },
   "source": [
    "## Method #1: Simply iterating over columns  <a class=\"tocSkip\">"
   ]
  },
  {
   "cell_type": "code",
   "execution_count": null,
   "id": "da70826d",
   "metadata": {
    "hidden": true
   },
   "outputs": [],
   "source": [
    "# Import pandas package \n",
    "import pandas as pd \n",
    "    \n",
    "# making data frame \n",
    "data = pd.read_csv(path_to_nba_csv) \n",
    "  \n",
    "# iterating the columns\n",
    "for col in data.columns:\n",
    "    print(col)"
   ]
  },
  {
   "cell_type": "markdown",
   "id": "f5456863",
   "metadata": {
    "heading_collapsed": true,
    "hidden": true
   },
   "source": [
    "## Method #2: Using columns with dataframe object <a class=\"tocSkip\">"
   ]
  },
  {
   "cell_type": "code",
   "execution_count": null,
   "id": "1ad16d0c",
   "metadata": {
    "hidden": true
   },
   "outputs": [],
   "source": [
    "# Import pandas package \n",
    "import pandas as pd \n",
    "    \n",
    "# making data frame \n",
    "data = pd.read_csv(path_to_nba_csv) \n",
    "    \n",
    "# list(data) or\n",
    "list(data.columns)"
   ]
  },
  {
   "cell_type": "markdown",
   "id": "3f451a9a",
   "metadata": {
    "heading_collapsed": true,
    "hidden": true
   },
   "source": [
    "## Method #3: column.values method returs an array of index. <a class=\"tocSkip\">"
   ]
  },
  {
   "cell_type": "code",
   "execution_count": null,
   "id": "807a50af",
   "metadata": {
    "hidden": true
   },
   "outputs": [],
   "source": [
    "# Import pandas package \n",
    "import pandas as pd \n",
    "    \n",
    "# making data frame \n",
    "data = pd.read_csv(path_to_nba_csv) \n",
    "    \n",
    "list(data.columns.values)"
   ]
  },
  {
   "cell_type": "markdown",
   "id": "b5d7c31e",
   "metadata": {
    "heading_collapsed": true,
    "hidden": true
   },
   "source": [
    "## Method #4: Using tolist() method with values with given the list of columns. <a class=\"tocSkip\">"
   ]
  },
  {
   "cell_type": "code",
   "execution_count": null,
   "id": "a4e84009",
   "metadata": {
    "hidden": true
   },
   "outputs": [],
   "source": [
    "# Import pandas package \n",
    "import pandas as pd \n",
    "    \n",
    "# making data frame \n",
    "data = pd.read_csv(path_to_nba_csv) \n",
    "    \n",
    "list(data.columns.values.tolist())"
   ]
  },
  {
   "cell_type": "markdown",
   "id": "8357ddda",
   "metadata": {
    "heading_collapsed": true,
    "hidden": true
   },
   "source": [
    "## Method #5: Using sorted() method <a class=\"tocSkip\">"
   ]
  },
  {
   "cell_type": "markdown",
   "id": "ac98db21",
   "metadata": {
    "hidden": true
   },
   "source": [
    "`Sorted()` method will return the list of columns sorted in alphabetical order."
   ]
  },
  {
   "cell_type": "code",
   "execution_count": null,
   "id": "cd20ea9b",
   "metadata": {
    "hidden": true
   },
   "outputs": [],
   "source": [
    "# Import pandas package \n",
    "import pandas as pd \n",
    "    \n",
    "# making data frame \n",
    "data = pd.read_csv(path_to_nba_csv) \n",
    "    \n",
    "# using sorted() method\n",
    "sorted(data)"
   ]
  },
  {
   "cell_type": "markdown",
   "id": "35dfac52",
   "metadata": {
    "heading_collapsed": true
   },
   "source": [
    "# [Python | Pandas dataframe.groupby()](https://www.geeksforgeeks.org/python-pandas-dataframe-groupby/?ref=lbp)"
   ]
  },
  {
   "cell_type": "markdown",
   "id": "fef0967d",
   "metadata": {
    "hidden": true
   },
   "source": [
    "Python is a great language for doing data analysis, primarily because of the fantastic ecosystem of data-centric python packages. **Pandas** is one of those packages and makes importing and analyzing data much easier.\n",
    "\n",
    "[Pandas groupby](#Pandas-GroupBy) is used for grouping the data according to the categories and apply a function to the categories. It also helps to aggregate data efficiently."
   ]
  },
  {
   "cell_type": "markdown",
   "id": "fbc2fa7e",
   "metadata": {
    "hidden": true
   },
   "source": [
    "Pandas `dataframe.groupby()` function is used to split the data into groups based on some criteria. pandas objects can be split on any of their axes. The abstract definition of grouping is to provide a mapping of labels to group names."
   ]
  },
  {
   "cell_type": "markdown",
   "id": "dd978569",
   "metadata": {
    "hidden": true
   },
   "source": [
    "\n",
    "| **Syntax:** | `DataFrame.groupby(by=None, axis=0, level=None, as_index=True, sort=True, group_keys=True, squeeze=False, **kwargs)`  |\n",
    "| --- | --- |\n",
    "| **Parameters :** | |\n",
    "| **by :** | mapping, function, str, or iterable |\n",
    "| **axis :** | int, default 0.    |\n",
    "| **level :** | If the axis is a MultiIndex (hierarchical), group by a particular level or levels |\n",
    "| **as_index :** | For aggregated output, return object with group labels as the index. Only relevant for DataFrame input. as_index=False is effectively “SQL-style” grouped output |\n",
    "| **sort :** | Sort group keys. Get better performance by turning this off. |\n",
    "|  | **Note** this does not influence the order of observations within each group. groupby preserves the order of rows within each group. |\n",
    "| **group_keys :** | When calling apply, add group keys to index to identify pieces |\n",
    "| **squeeze :** | Reduce the dimensionality of the return type if possible, otherwise return a consistent type |\n",
    "| **Returns :** | GroupBy object |\n"
   ]
  },
  {
   "cell_type": "markdown",
   "id": "ac470a6d",
   "metadata": {
    "hidden": true
   },
   "source": [
    "For link to CSV file Used in Code, click [here](https://media.geeksforgeeks.org/wp-content/uploads/nba.csv)"
   ]
  },
  {
   "cell_type": "markdown",
   "id": "0b4f03a2",
   "metadata": {
    "heading_collapsed": true,
    "hidden": true
   },
   "source": [
    "## Example #1: Use groupby() function to group the data based on the “Team”. <a class=\"tocSkip\">"
   ]
  },
  {
   "cell_type": "code",
   "execution_count": null,
   "id": "d1c113f8",
   "metadata": {
    "hidden": true
   },
   "outputs": [],
   "source": [
    "# importing pandas as pd\n",
    "import pandas as pd\n",
    "  \n",
    "# Creating the dataframe \n",
    "df = pd.read_csv(\"https://media.geeksforgeeks.org/wp-content/uploads/nba.csv\")\n",
    "  \n",
    "# Print the dataframe\n",
    "df"
   ]
  },
  {
   "cell_type": "markdown",
   "id": "b31025bf",
   "metadata": {
    "hidden": true
   },
   "source": [
    "Now apply the `groupby()` function."
   ]
  },
  {
   "cell_type": "code",
   "execution_count": null,
   "id": "2f18d713",
   "metadata": {
    "hidden": true
   },
   "outputs": [],
   "source": [
    "# applying groupby() function to\n",
    "# group the data on team value.\n",
    "gk = df.groupby('Team')\n",
    "  \n",
    "# Let's print the first entries\n",
    "# in all the groups formed.\n",
    "gk.first()"
   ]
  },
  {
   "cell_type": "markdown",
   "id": "32894c3b",
   "metadata": {
    "hidden": true
   },
   "source": [
    "Let’s print the value contained any one of group. For that use the name of the team. We use the function `get_group()` to find the entries contained in any of the groups."
   ]
  },
  {
   "cell_type": "code",
   "execution_count": null,
   "id": "ffe7bc70",
   "metadata": {
    "hidden": true
   },
   "outputs": [],
   "source": [
    "# Finding the values contained in the \"Boston Celtics\" group\n",
    "gk.get_group('Boston Celtics')"
   ]
  },
  {
   "cell_type": "markdown",
   "id": "851da373",
   "metadata": {
    "heading_collapsed": true,
    "hidden": true
   },
   "source": [
    "## Example #2: Use groupby() function to form groups based on more than one category (i.e. Use more than one column to perform the splitting). <a class=\"tocSkip\">"
   ]
  },
  {
   "cell_type": "code",
   "execution_count": null,
   "id": "b27be9a5",
   "metadata": {
    "hidden": true
   },
   "outputs": [],
   "source": [
    "# importing pandas as pd\n",
    "import pandas as pd\n",
    "  \n",
    "# Creating the dataframe \n",
    "df = pd.read_csv(\"https://media.geeksforgeeks.org/wp-content/uploads/nba.csv\")\n",
    "  \n",
    "# First grouping based on \"Team\"\n",
    "# Within each team we are grouping based on \"Position\"\n",
    "gkk = df.groupby(['Team', 'Position'])\n",
    "  \n",
    "# Print the first value in each group\n",
    "gkk.first()"
   ]
  },
  {
   "cell_type": "markdown",
   "id": "5ad8c7f9",
   "metadata": {
    "hidden": true
   },
   "source": [
    "`groupby()` is a very powerful function with a lot of variations. It makes the task of splitting the dataframe over some criteria really easy and efficient."
   ]
  },
  {
   "cell_type": "markdown",
   "id": "bd5a68b0",
   "metadata": {
    "heading_collapsed": true
   },
   "source": [
    "# [Adding new column to existing DataFrame in Pandas](https://www.geeksforgeeks.org/adding-new-column-to-existing-dataframe-in-pandas/?ref=leftbar-rightbar)"
   ]
  },
  {
   "cell_type": "markdown",
   "id": "bdf6f059",
   "metadata": {
    "hidden": true
   },
   "source": [
    "Let’s discuss how to add new columns to the existing DataFrame in Pandas. There are multiple ways we can do this task."
   ]
  },
  {
   "cell_type": "markdown",
   "id": "40345222",
   "metadata": {
    "heading_collapsed": true,
    "hidden": true
   },
   "source": [
    "## Method #1: By declaring a new list as a column.  <a class=\"tocSkip\">"
   ]
  },
  {
   "cell_type": "code",
   "execution_count": null,
   "id": "c8be7b4b",
   "metadata": {
    "hidden": true
   },
   "outputs": [],
   "source": [
    "# Import pandas package\n",
    "import pandas as pd\n",
    " \n",
    "# Define a dictionary containing Students data\n",
    "data = {'Name': ['Jai', 'Princi', 'Gaurav', 'Anuj'],\n",
    "        'Height': [5.1, 6.2, 5.1, 5.2],\n",
    "        'Qualification': ['Msc', 'MA', 'Msc', 'Msc']}\n",
    " \n",
    "# Convert the dictionary into DataFrame\n",
    "df = pd.DataFrame(data)\n",
    " \n",
    "# Declare a list that is to be converted into a column\n",
    "address = ['Delhi', 'Bangalore', 'Chennai', 'Patna']\n",
    " \n",
    "# Using 'Address' as the column name\n",
    "# and equating it to the list\n",
    "df['Address'] = address\n",
    " \n",
    "# Observe the result\n",
    "df"
   ]
  },
  {
   "cell_type": "markdown",
   "id": "f607e85f",
   "metadata": {
    "heading_collapsed": true,
    "hidden": true
   },
   "source": [
    "## Method #2: By using [DataFrame.insert()](https://www.geeksforgeeks.org/python-pandas-dataframe-insert/)   <a class=\"tocSkip\">"
   ]
  },
  {
   "cell_type": "markdown",
   "id": "b0e1fc27",
   "metadata": {
    "hidden": true
   },
   "source": [
    "It gives the freedom to add a column at any position we like and not just at the end. It also provides different options for inserting the column values."
   ]
  },
  {
   "cell_type": "code",
   "execution_count": null,
   "id": "e4500554",
   "metadata": {
    "hidden": true
   },
   "outputs": [],
   "source": [
    "# Import pandas package\n",
    "import pandas as pd\n",
    " \n",
    "# Define a dictionary containing Students data\n",
    "data = {'Name': ['Jai', 'Princi', 'Gaurav', 'Anuj'],\n",
    "        'Height': [5.1, 6.2, 5.1, 5.2],\n",
    "        'Qualification': ['Msc', 'MA', 'Msc', 'Msc']}\n",
    " \n",
    "# Convert the dictionary into DataFrame\n",
    "df = pd.DataFrame(data)\n",
    " \n",
    "# Using DataFrame.insert() to add a column\n",
    "df.insert(2, \"Age\", [21, 23, 24, 21], True)\n",
    " \n",
    "# Observe the result\n",
    "df"
   ]
  },
  {
   "cell_type": "markdown",
   "id": "7aa83da3",
   "metadata": {
    "heading_collapsed": true,
    "hidden": true
   },
   "source": [
    "## Method #3: Using [Dataframe.assign()](https://www.geeksforgeeks.org/python-pandas-dataframe-assign/) method  <a class=\"tocSkip\">"
   ]
  },
  {
   "cell_type": "markdown",
   "id": "3b3fa3ef",
   "metadata": {
    "hidden": true
   },
   "source": [
    "This method will create a new dataframe with a new column added to the old dataframe."
   ]
  },
  {
   "cell_type": "code",
   "execution_count": null,
   "id": "101d9273",
   "metadata": {
    "hidden": true
   },
   "outputs": [],
   "source": [
    "# Import pandas package\n",
    "import pandas as pd\n",
    "  \n",
    "# Define a dictionary containing Students data\n",
    "data = {'Name': ['Jai', 'Princi', 'Gaurav', 'Anuj'],\n",
    "        'Height': [5.1, 6.2, 5.1, 5.2],\n",
    "        'Qualification': ['Msc', 'MA', 'Msc', 'Msc']}\n",
    "  \n",
    "  \n",
    "# Convert the dictionary into DataFrame\n",
    "df = pd.DataFrame(data)\n",
    " \n",
    "# Using 'Address' as the column name and equating it to the list\n",
    "df2 = df.assign(address = ['Delhi', 'Bangalore', 'Chennai', 'Patna'])\n",
    "  \n",
    "# Observe the result\n",
    "df2"
   ]
  },
  {
   "cell_type": "markdown",
   "id": "91f2e7e5",
   "metadata": {
    "heading_collapsed": true,
    "hidden": true
   },
   "source": [
    "## Method #4: By using a dictionary   <a class=\"tocSkip\">"
   ]
  },
  {
   "cell_type": "markdown",
   "id": "0d6b7702",
   "metadata": {
    "hidden": true
   },
   "source": [
    "We can use a Python dictionary to add a new column in pandas DataFrame. Use an existing column as the key values and their respective values will be the values for a new column. "
   ]
  },
  {
   "cell_type": "code",
   "execution_count": null,
   "id": "ae6ccedf",
   "metadata": {
    "hidden": true
   },
   "outputs": [],
   "source": [
    "# Import pandas package\n",
    "import pandas as pd\n",
    " \n",
    "# Define a dictionary containing Students data\n",
    "data = {'Name': ['Jai', 'Princi', 'Gaurav', 'Anuj'],\n",
    "        'Height': [5.1, 6.2, 5.1, 5.2],\n",
    "        'Qualification': ['Msc', 'MA', 'Msc', 'Msc']}\n",
    " \n",
    "# Define a dictionary with key values of\n",
    "# an existing column and their respective\n",
    "# value pairs as the # values for our new column.\n",
    "address = {'Delhi': 'Jai', 'Bangalore': 'Princi',\n",
    "           'Patna': 'Gaurav', 'Chennai': 'Anuj'}\n",
    " \n",
    "# Convert the dictionary into DataFrame\n",
    "df = pd.DataFrame(data)\n",
    " \n",
    "# Provide 'Address' as the column name\n",
    "df['Address'] = address\n",
    " \n",
    "# Observe the output\n",
    "df"
   ]
  },
  {
   "cell_type": "markdown",
   "id": "4470bbcd",
   "metadata": {
    "heading_collapsed": true
   },
   "source": [
    "# [Python map() function](https://www.geeksforgeeks.org/python-map-function/?ref=leftbar-rightbar)"
   ]
  },
  {
   "cell_type": "markdown",
   "id": "3ac71356",
   "metadata": {
    "hidden": true
   },
   "source": [
    "`map()` function returns a map object(which is an iterator) of the results after applying the given function to each item of a given iterable (list, tuple etc.)\n",
    "\n",
    "| **Syntax:** | `map(fun, iter)`  |\n",
    "| --- | --- |\n",
    "| **Parameters :** | |\n",
    "| **fun :** | A function to which map passes each element of given iterable. |\n",
    "| **iter :** | An iterable which is to be mapped.    |\n",
    "| **Returns :** | Returns a list of the results after applying the given function |\n",
    "|               | to each item of a given iterable (list, tuple etc.) |\n"
   ]
  },
  {
   "cell_type": "markdown",
   "id": "a00d3e99",
   "metadata": {
    "hidden": true
   },
   "source": [
    "**NOTE :** The returned value from `map()` (map object) then can be passed to functions like `list()` (to create a list), `set()` (to create a set) ."
   ]
  },
  {
   "cell_type": "markdown",
   "id": "57d21260",
   "metadata": {
    "heading_collapsed": true,
    "hidden": true
   },
   "source": [
    "## CODE 1 <a class=\"tocSkip\">"
   ]
  },
  {
   "cell_type": "code",
   "execution_count": null,
   "id": "54776577",
   "metadata": {
    "hidden": true
   },
   "outputs": [],
   "source": [
    "# Python program to demonstrate working\n",
    "# of map.\n",
    "  \n",
    "# Return double of n\n",
    "def addition(n):\n",
    "    return n + n\n",
    "  \n",
    "# We double all numbers using map()\n",
    "numbers = (1, 2, 3, 4)\n",
    "result = map(addition, numbers)\n",
    "print(list(result))"
   ]
  },
  {
   "cell_type": "markdown",
   "id": "a1663260",
   "metadata": {
    "heading_collapsed": true,
    "hidden": true
   },
   "source": [
    "## CODE 2 <a class=\"tocSkip\">"
   ]
  },
  {
   "cell_type": "markdown",
   "id": "da33f031",
   "metadata": {
    "hidden": true
   },
   "source": [
    "We can also use [lambda expressions](https://www.geeksforgeeks.org/python-lambda-anonymous-functions-filter-map-reduce/) with map to achieve above result."
   ]
  },
  {
   "cell_type": "code",
   "execution_count": null,
   "id": "294571eb",
   "metadata": {
    "hidden": true
   },
   "outputs": [],
   "source": [
    "# Double all numbers using map and lambda\n",
    "  \n",
    "numbers = (1, 2, 3, 4)\n",
    "result = map(lambda x: x + x, numbers)\n",
    "print(list(result))"
   ]
  },
  {
   "cell_type": "markdown",
   "id": "e26961cc",
   "metadata": {
    "heading_collapsed": true,
    "hidden": true
   },
   "source": [
    "## CODE 3 <a class=\"tocSkip\">"
   ]
  },
  {
   "cell_type": "code",
   "execution_count": null,
   "id": "0ac67571",
   "metadata": {
    "hidden": true
   },
   "outputs": [],
   "source": [
    "# Add two lists using map and lambda\n",
    "  \n",
    "numbers1 = [1, 2, 3]\n",
    "numbers2 = [4, 5, 6]\n",
    "  \n",
    "result = map(lambda x, y: x + y, numbers1, numbers2)\n",
    "print(list(result))"
   ]
  },
  {
   "cell_type": "markdown",
   "id": "74f143c4",
   "metadata": {
    "heading_collapsed": true,
    "hidden": true
   },
   "source": [
    "## CODE 4 <a class=\"tocSkip\">"
   ]
  },
  {
   "cell_type": "code",
   "execution_count": null,
   "id": "3a3a86b0",
   "metadata": {
    "hidden": true
   },
   "outputs": [],
   "source": [
    "# List of strings\n",
    "l = ['sat', 'bat', 'cat', 'mat']\n",
    "  \n",
    "# map() can listify the list of strings individually\n",
    "test = list(map(list, l))\n",
    "print(test)"
   ]
  },
  {
   "cell_type": "markdown",
   "id": "76524814",
   "metadata": {
    "heading_collapsed": true
   },
   "source": [
    "# [Taking input in Python](https://www.geeksforgeeks.org/taking-input-in-python/?ref=leftbar-rightbar)"
   ]
  },
  {
   "cell_type": "markdown",
   "id": "c6e8fbb3",
   "metadata": {
    "hidden": true
   },
   "source": [
    "Developers often have a need to interact with users, either to get data or to provide some sort of result. Most programs today use a dialog box as a way of asking the user to provide some type of input. While Python provides us with two inbuilt functions to read the input from the keyboard."
   ]
  },
  {
   "cell_type": "markdown",
   "id": "0cb78235",
   "metadata": {
    "hidden": true
   },
   "source": [
    "* input ( prompt )\n",
    "* raw_input ( prompt )"
   ]
  },
  {
   "cell_type": "markdown",
   "id": "2e699737",
   "metadata": {
    "hidden": true
   },
   "source": [
    "## input ( ) :  <a class=\"tocSkip\">"
   ]
  },
  {
   "cell_type": "markdown",
   "id": "de1543e0",
   "metadata": {
    "hidden": true
   },
   "source": [
    "This function first takes the input from the user and then evaluates the expression, which means Python automatically identifies whether user entered a string or a number or list. If the input provided is not correct then either syntax error or exception is raised by python. For example –"
   ]
  },
  {
   "cell_type": "code",
   "execution_count": null,
   "id": "d37ed03f",
   "metadata": {
    "hidden": true
   },
   "outputs": [],
   "source": [
    "# Python program showing \n",
    "# a use of input()\n",
    "  \n",
    "val = input(\"Enter your value: \")\n",
    "print(val)"
   ]
  },
  {
   "cell_type": "markdown",
   "id": "5ddad79a",
   "metadata": {
    "hidden": true
   },
   "source": [
    "**How the input function works in Python :**\n",
    "\n",
    "* When `input()` function executes program flow will be stopped until the user has given an input.\n",
    "* The text or message display on the output screen to ask a user to enter input value is optional i.e. the prompt, will be printed on the screen is optional.\n",
    "* Whatever you enter as input, input function convert it into a string. if you enter an integer value still `input()` function convert it into a string. You need to explicitly convert it into an integer in your code using typecasting."
   ]
  },
  {
   "cell_type": "markdown",
   "id": "2ea90bcf",
   "metadata": {
    "hidden": true
   },
   "source": [
    "**Code**"
   ]
  },
  {
   "cell_type": "code",
   "execution_count": null,
   "id": "f4ca271f",
   "metadata": {
    "hidden": true
   },
   "outputs": [],
   "source": [
    "# Program to check input \n",
    "# type in Python\n",
    "  \n",
    "num = input (\"Enter number :\")\n",
    "print(num)\n",
    "name1 = input(\"Enter name : \")\n",
    "print(name1)\n",
    "  \n",
    "# Printing type of input value\n",
    "print (\"type of number\", type(num))\n",
    "print (\"type of name\", type(name1))"
   ]
  },
  {
   "cell_type": "markdown",
   "id": "c698c4e9",
   "metadata": {
    "hidden": true
   },
   "source": [
    "## raw_input ( ) : <a class=\"tocSkip\">"
   ]
  },
  {
   "cell_type": "markdown",
   "id": "73df2852",
   "metadata": {
    "hidden": true
   },
   "source": [
    "This function works in older version (like Python 2.x). This function takes exactly what is typed from the keyboard, convert it to string and then return it to the variable in which we want to store. For example –"
   ]
  },
  {
   "cell_type": "code",
   "execution_count": null,
   "id": "1a47cb6b",
   "metadata": {
    "hidden": true
   },
   "outputs": [],
   "source": [
    "# Python program showing \n",
    "# a use of raw_input()\n",
    "  \n",
    "g = raw_input(\"Enter your name : \")\n",
    "print g"
   ]
  },
  {
   "cell_type": "markdown",
   "id": "28f76d4d",
   "metadata": {
    "hidden": true
   },
   "source": [
    "Here, $g$ is a variable which will get the string value, typed by user during the execution of program. Typing of data for the `raw_input()` function is terminated by enter key. We can use `raw_input()` to enter numeric data also. In that case we use typecasting.For more details on typecasting refer [this](https://www.geeksforgeeks.org/taking-input-from-console-in-python/)."
   ]
  },
  {
   "cell_type": "markdown",
   "id": "010533cb",
   "metadata": {
    "heading_collapsed": true
   },
   "source": [
    "# [Iterate over a list in Python](https://www.geeksforgeeks.org/iterate-over-a-list-in-python/?ref=leftbar-rightbar)"
   ]
  },
  {
   "cell_type": "markdown",
   "id": "29e2d746",
   "metadata": {
    "hidden": true
   },
   "source": [
    "[List](https://www.geeksforgeeks.org/python-list/) is equivalent to arrays in other languages, with the extra benefit of being dynamic in size. In Python, the list is a type of container in Data Structures, which is used to store multiple data at the same time. Unlike Sets, lists in Python are ordered and have a definite count.\n",
    "\n",
    "There are multiple ways to iterate over a list in Python. Let’s see all the different ways to iterate over a list in Python, and performance comparison between them.\n"
   ]
  },
  {
   "cell_type": "markdown",
   "id": "0b61f0d8",
   "metadata": {
    "heading_collapsed": true,
    "hidden": true
   },
   "source": [
    "## Method #1: Using For loop  <a class=\"tocSkip\">"
   ]
  },
  {
   "cell_type": "code",
   "execution_count": null,
   "id": "7fa89f57",
   "metadata": {
    "hidden": true
   },
   "outputs": [],
   "source": [
    "# Python3 code to iterate over a list\n",
    "list = [1, 3, 5, 7, 9]\n",
    "  \n",
    "# Using for loop\n",
    "for i in list:\n",
    "    print(i)\n",
    "\n",
    "del list"
   ]
  },
  {
   "cell_type": "markdown",
   "id": "253d24d5",
   "metadata": {
    "heading_collapsed": true,
    "hidden": true
   },
   "source": [
    "## Method #2: For loop and range()    <a class=\"tocSkip\">"
   ]
  },
  {
   "cell_type": "markdown",
   "id": "90063886",
   "metadata": {
    "hidden": true
   },
   "source": [
    "In case we want to use the traditional for loop which iterates from number $x$ to number $y$.  "
   ]
  },
  {
   "cell_type": "code",
   "execution_count": null,
   "id": "ca13a31a",
   "metadata": {
    "hidden": true,
    "scrolled": true
   },
   "outputs": [],
   "source": [
    "# Python3 code to iterate over a list\n",
    "ls = [1, 3, 5, 7, 9]\n",
    "  \n",
    "# getting length of list\n",
    "length = len(ls)\n",
    "\n",
    "# Iterating the index\n",
    "# same as 'for i in range(len(list))'\n",
    "for i in range(length):\n",
    "    print(ls[i])"
   ]
  },
  {
   "cell_type": "markdown",
   "id": "8549dd6c",
   "metadata": {
    "heading_collapsed": true
   },
   "source": [
    "# [Python program to convert a list to string](https://www.geeksforgeeks.org/python-program-to-convert-a-list-to-string/?ref=leftbar-rightbar)"
   ]
  },
  {
   "cell_type": "markdown",
   "id": "a9b8e8fd",
   "metadata": {
    "hidden": true
   },
   "source": [
    "Given a list, write a Python program to convert the given list to string.\n",
    "\n",
    "There are various situation we might encounter when a list is given and we convert it to string. For example, conversion to string from the list of string or the list of integer."
   ]
  },
  {
   "cell_type": "markdown",
   "id": "58df457e",
   "metadata": {
    "hidden": true
   },
   "source": [
    "**Example:**\n",
    "\n",
    "```\n",
    "Input: ['Geeks', 'for', 'Geeks']\n",
    "Output: Geeks for Geeks\n",
    "\n",
    "Input: ['I', 'want', 4, 'apples', 'and', 18, 'bananas']\n",
    "Output: I want 4 apples and 18 bananas\n",
    "```"
   ]
  },
  {
   "cell_type": "markdown",
   "id": "e73d8ff6",
   "metadata": {
    "hidden": true
   },
   "source": [
    "Let’s see various ways we can convert the list to string."
   ]
  },
  {
   "cell_type": "markdown",
   "id": "518899e3",
   "metadata": {
    "heading_collapsed": true,
    "hidden": true
   },
   "source": [
    "## Method #1: Using For loop  <a class=\"tocSkip\">"
   ]
  },
  {
   "cell_type": "markdown",
   "id": "41a45acc",
   "metadata": {
    "hidden": true
   },
   "source": [
    "Iterate through the list and keep adding the element for every index in some empty string."
   ]
  },
  {
   "cell_type": "code",
   "execution_count": null,
   "id": "aff7d10f",
   "metadata": {
    "hidden": true
   },
   "outputs": [],
   "source": [
    "# Python program to convert a list to string\n",
    "    \n",
    "# Function to convert  \n",
    "def listToString(s): \n",
    "    \n",
    "    # initialize an empty string\n",
    "    str1 = \"\" \n",
    "    \n",
    "    # traverse in the string  \n",
    "    for ele in s: \n",
    "        str1 += ele  \n",
    "    \n",
    "    # return string  \n",
    "    return str1 \n",
    "        \n",
    "        \n",
    "# Driver code    \n",
    "s = ['Geeks', 'for', 'Geeks']\n",
    "print(listToString(s)) "
   ]
  },
  {
   "cell_type": "markdown",
   "id": "f5578e43",
   "metadata": {
    "heading_collapsed": true,
    "hidden": true
   },
   "source": [
    "## Method #2: Using .join() method  <a class=\"tocSkip\">"
   ]
  },
  {
   "cell_type": "code",
   "execution_count": null,
   "id": "fa31306c",
   "metadata": {
    "hidden": true
   },
   "outputs": [],
   "source": [
    "# Python program to convert a list\n",
    "# to string using join() function\n",
    "    \n",
    "# Function to convert  \n",
    "def listToString(s): \n",
    "    \n",
    "    # initialize an empty string\n",
    "    str1 = \" \" \n",
    "    \n",
    "    # return string  \n",
    "    return (str1.join(s))\n",
    "        \n",
    "        \n",
    "# Driver code    \n",
    "s = ['Geeks', 'for', 'Geeks']\n",
    "print(listToString(s)) "
   ]
  },
  {
   "cell_type": "markdown",
   "id": "c7fff7d9",
   "metadata": {
    "hidden": true
   },
   "source": [
    "##   <a class=\"tocSkip\">"
   ]
  },
  {
   "cell_type": "markdown",
   "id": "f0255e15",
   "metadata": {
    "hidden": true
   },
   "source": [
    "But what if the list contains both string and integer as its element. In those cases, above code won’t work. We need to convert it to string while adding to string."
   ]
  },
  {
   "cell_type": "markdown",
   "id": "0d08aff0",
   "metadata": {
    "heading_collapsed": true,
    "hidden": true
   },
   "source": [
    "## Method #3: Using list comprehension  <a class=\"tocSkip\">"
   ]
  },
  {
   "cell_type": "code",
   "execution_count": 144,
   "id": "57084439",
   "metadata": {
    "hidden": true
   },
   "outputs": [
    {
     "name": "stdout",
     "output_type": "stream",
     "text": [
      "I want 4 apples and 18 bananas\n"
     ]
    }
   ],
   "source": [
    "# Python program to convert a list\n",
    "# to string using list comprehension\n",
    "   \n",
    "s = ['I', 'want', 4, 'apples', 'and', 18, 'bananas']\n",
    "  \n",
    "# using list comprehension\n",
    "listToStr = ' '.join([str(elem) for elem in s])\n",
    "  \n",
    "print(listToStr) "
   ]
  },
  {
   "cell_type": "markdown",
   "id": "ac52ee6d",
   "metadata": {
    "heading_collapsed": true,
    "hidden": true
   },
   "source": [
    "## Method #4: Using map() <a class=\"tocSkip\">"
   ]
  },
  {
   "cell_type": "markdown",
   "id": "62dd5739",
   "metadata": {
    "hidden": true
   },
   "source": [
    "Use `map()` method for mapping `str` (for converting elements in list to string) with given iterator, the list."
   ]
  },
  {
   "cell_type": "code",
   "execution_count": null,
   "id": "b5f4d99f",
   "metadata": {
    "hidden": true
   },
   "outputs": [],
   "source": [
    "# Python program to convert a list\n",
    "# to string using list comprehension\n",
    "   \n",
    "s = ['I', 'want', 4, 'apples', 'and', 18, 'bananas']\n",
    "  \n",
    "# using list comprehension\n",
    "listToStr = ' '.join(map(str, s))\n",
    "  \n",
    "print(listToStr) "
   ]
  }
 ],
 "metadata": {
  "jupytext": {
   "formats": "ipynb,auto:light,md"
  },
  "kernelspec": {
   "display_name": "Python 3",
   "language": "python",
   "name": "python3"
  },
  "language_info": {
   "codemirror_mode": {
    "name": "ipython",
    "version": 3
   },
   "file_extension": ".py",
   "mimetype": "text/x-python",
   "name": "python",
   "nbconvert_exporter": "python",
   "pygments_lexer": "ipython3",
   "version": "3.8.8"
  },
  "setTimeout": 200,
  "toc": {
   "base_numbering": 1,
   "nav_menu": {
    "height": "758px",
    "width": "421px"
   },
   "number_sections": true,
   "sideBar": true,
   "skip_h1_title": false,
   "title_cell": "Table of Contents",
   "title_sidebar": "Contents",
   "toc_cell": false,
   "toc_position": {
    "height": "calc(100% - 180px)",
    "left": "10px",
    "top": "150px",
    "width": "383.977px"
   },
   "toc_section_display": true,
   "toc_window_display": true
  }
 },
 "nbformat": 4,
 "nbformat_minor": 5
}
